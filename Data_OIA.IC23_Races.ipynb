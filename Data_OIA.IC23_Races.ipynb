{
 "cells": [
  {
   "cell_type": "code",
   "execution_count": 137,
   "metadata": {},
   "outputs": [],
   "source": [
    "from datascience import*"
   ]
  },
  {
   "cell_type": "code",
   "execution_count": 138,
   "metadata": {},
   "outputs": [],
   "source": [
    "import numpy as np"
   ]
  },
  {
   "cell_type": "code",
   "execution_count": 139,
   "metadata": {},
   "outputs": [],
   "source": [
    "%matplotlib inline\n",
    "import matplotlib.pyplot as plots\n",
    "plots.style.use('fivethirtyeight')"
   ]
  },
  {
   "cell_type": "code",
   "execution_count": 140,
   "metadata": {},
   "outputs": [
    {
     "data": {
      "text/html": [
       "<table border=\"1\" class=\"dataframe\">\n",
       "    <thead>\n",
       "        <tr>\n",
       "            <th>Year</th> <th>Term</th> <th>Course</th> <th>Section</th> <th>Cross listing 1</th> <th>Cross listing 2</th> <th>Cross listing 3</th> <th>Gender</th> <th>Age</th> <th>Student Status</th> <th>Major </th> <th>College </th> <th>Race</th> <th>Ethnicity</th> <th>Citizenship</th> <th>Residency</th>\n",
       "        </tr>\n",
       "    </thead>\n",
       "    <tbody>\n",
       "        <tr>\n",
       "            <td>2020</td> <td>Fall</td> <td>ANSC101</td> <td>0101   </td> <td>nan            </td> <td>nan            </td> <td>nan            </td> <td>Female</td> <td>nan </td> <td>Undergraduate </td> <td>ANIMAL SCI  </td> <td>AGNR    </td> <td>Asian                    </td> <td>Hispanic No</td> <td>nan        </td> <td>nan      </td>\n",
       "        </tr>\n",
       "    </tbody>\n",
       "        <tr>\n",
       "            <td>2020</td> <td>Fall</td> <td>ANSC101</td> <td>0101   </td> <td>nan            </td> <td>nan            </td> <td>nan            </td> <td>Female</td> <td>nan </td> <td>Undergraduate </td> <td>ANIMAL SCI  </td> <td>AGNR    </td> <td>Asian                    </td> <td>Hispanic No</td> <td>nan        </td> <td>nan      </td>\n",
       "        </tr>\n",
       "    </tbody>\n",
       "        <tr>\n",
       "            <td>2020</td> <td>Fall</td> <td>ANSC101</td> <td>0101   </td> <td>nan            </td> <td>nan            </td> <td>nan            </td> <td>Female</td> <td>nan </td> <td>Undergraduate </td> <td>ANIMAL SCI  </td> <td>AGNR    </td> <td>Asian                    </td> <td>Hispanic No</td> <td>nan        </td> <td>nan      </td>\n",
       "        </tr>\n",
       "    </tbody>\n",
       "        <tr>\n",
       "            <td>2020</td> <td>Fall</td> <td>ANSC101</td> <td>0101   </td> <td>nan            </td> <td>nan            </td> <td>nan            </td> <td>Female</td> <td>nan </td> <td>Undergraduate </td> <td>ANIMAL SCI  </td> <td>AGNR    </td> <td>Asian                    </td> <td>Hispanic No</td> <td>nan        </td> <td>nan      </td>\n",
       "        </tr>\n",
       "    </tbody>\n",
       "        <tr>\n",
       "            <td>2020</td> <td>Fall</td> <td>ANSC101</td> <td>0101   </td> <td>nan            </td> <td>nan            </td> <td>nan            </td> <td>Female</td> <td>nan </td> <td>Undergraduate </td> <td>ANIMAL SCI  </td> <td>AGNR    </td> <td>Asian                    </td> <td>Hispanic No</td> <td>nan        </td> <td>nan      </td>\n",
       "        </tr>\n",
       "    </tbody>\n",
       "        <tr>\n",
       "            <td>2020</td> <td>Fall</td> <td>ANSC101</td> <td>0101   </td> <td>nan            </td> <td>nan            </td> <td>nan            </td> <td>Male  </td> <td>nan </td> <td>Undergraduate </td> <td>AGST ENVHORT</td> <td>AGNR    </td> <td>Asian                    </td> <td>Hispanic No</td> <td>nan        </td> <td>nan      </td>\n",
       "        </tr>\n",
       "    </tbody>\n",
       "        <tr>\n",
       "            <td>2020</td> <td>Fall</td> <td>ANSC101</td> <td>0101   </td> <td>nan            </td> <td>nan            </td> <td>nan            </td> <td>Male  </td> <td>nan </td> <td>Undergraduate </td> <td>ANIMAL SCI  </td> <td>AGNR    </td> <td>Asian                    </td> <td>Hispanic No</td> <td>nan        </td> <td>nan      </td>\n",
       "        </tr>\n",
       "    </tbody>\n",
       "        <tr>\n",
       "            <td>2020</td> <td>Fall</td> <td>ANSC101</td> <td>0101   </td> <td>nan            </td> <td>nan            </td> <td>nan            </td> <td>Male  </td> <td>nan </td> <td>Undergraduate </td> <td>ANIMAL SCI  </td> <td>AGNR    </td> <td>Asian                    </td> <td>Hispanic No</td> <td>nan        </td> <td>nan      </td>\n",
       "        </tr>\n",
       "    </tbody>\n",
       "        <tr>\n",
       "            <td>2020</td> <td>Fall</td> <td>ANSC101</td> <td>0101   </td> <td>nan            </td> <td>nan            </td> <td>nan            </td> <td>Female</td> <td>nan </td> <td>Undergraduate </td> <td>ANIMAL SCI  </td> <td>AGNR    </td> <td>Black or African American</td> <td>Hispanic No</td> <td>nan        </td> <td>nan      </td>\n",
       "        </tr>\n",
       "    </tbody>\n",
       "        <tr>\n",
       "            <td>2020</td> <td>Fall</td> <td>ANSC101</td> <td>0101   </td> <td>nan            </td> <td>nan            </td> <td>nan            </td> <td>Female</td> <td>nan </td> <td>Undergraduate </td> <td>PLSC BIOL   </td> <td>AGNR    </td> <td>Black or African American</td> <td>Hispanic No</td> <td>nan        </td> <td>nan      </td>\n",
       "        </tr>\n",
       "    </tbody>\n",
       "</table>\n",
       "<p>... (523 rows omitted)</p>"
      ],
      "text/plain": [
       "Year | Term | Course  | Section | Cross listing 1 | Cross listing 2 | Cross listing 3 | Gender | Age  | Student Status | Major        | College  | Race                      | Ethnicity   | Citizenship | Residency\n",
       "2020 | Fall | ANSC101 | 0101    | nan             | nan             | nan             | Female | nan  | Undergraduate  | ANIMAL SCI   | AGNR     | Asian                     | Hispanic No | nan         | nan\n",
       "2020 | Fall | ANSC101 | 0101    | nan             | nan             | nan             | Female | nan  | Undergraduate  | ANIMAL SCI   | AGNR     | Asian                     | Hispanic No | nan         | nan\n",
       "2020 | Fall | ANSC101 | 0101    | nan             | nan             | nan             | Female | nan  | Undergraduate  | ANIMAL SCI   | AGNR     | Asian                     | Hispanic No | nan         | nan\n",
       "2020 | Fall | ANSC101 | 0101    | nan             | nan             | nan             | Female | nan  | Undergraduate  | ANIMAL SCI   | AGNR     | Asian                     | Hispanic No | nan         | nan\n",
       "2020 | Fall | ANSC101 | 0101    | nan             | nan             | nan             | Female | nan  | Undergraduate  | ANIMAL SCI   | AGNR     | Asian                     | Hispanic No | nan         | nan\n",
       "2020 | Fall | ANSC101 | 0101    | nan             | nan             | nan             | Male   | nan  | Undergraduate  | AGST ENVHORT | AGNR     | Asian                     | Hispanic No | nan         | nan\n",
       "2020 | Fall | ANSC101 | 0101    | nan             | nan             | nan             | Male   | nan  | Undergraduate  | ANIMAL SCI   | AGNR     | Asian                     | Hispanic No | nan         | nan\n",
       "2020 | Fall | ANSC101 | 0101    | nan             | nan             | nan             | Male   | nan  | Undergraduate  | ANIMAL SCI   | AGNR     | Asian                     | Hispanic No | nan         | nan\n",
       "2020 | Fall | ANSC101 | 0101    | nan             | nan             | nan             | Female | nan  | Undergraduate  | ANIMAL SCI   | AGNR     | Black or African American | Hispanic No | nan         | nan\n",
       "2020 | Fall | ANSC101 | 0101    | nan             | nan             | nan             | Female | nan  | Undergraduate  | PLSC BIOL    | AGNR     | Black or African American | Hispanic No | nan         | nan\n",
       "... (523 rows omitted)"
      ]
     },
     "execution_count": 140,
     "metadata": {},
     "output_type": "execute_result"
    }
   ],
   "source": [
    "tbl_1 = Table.read_table('../data/Data_OIA.xlsx - Fall 2020.csv')\n",
    "tbl_1"
   ]
  },
  {
   "cell_type": "code",
   "execution_count": 141,
   "metadata": {},
   "outputs": [
    {
     "data": {
      "text/html": [
       "<table border=\"1\" class=\"dataframe\">\n",
       "    <thead>\n",
       "        <tr>\n",
       "            <th>Year</th> <th>Term</th> <th>Course</th> <th>Section</th> <th>Cross listing 1</th> <th>Cross listing 2</th> <th>Cross listing 3</th> <th>Gender</th> <th>Age</th> <th>Student Status</th> <th>Major </th> <th>College </th> <th>Race</th> <th>Ethnicity</th> <th>Citizenship</th> <th>Residency</th>\n",
       "        </tr>\n",
       "    </thead>\n",
       "    <tbody>\n",
       "        <tr>\n",
       "            <td>2020</td> <td>Fall</td> <td>ANSC101</td> <td>0101   </td> <td>nan            </td> <td>nan            </td> <td>nan            </td> <td>Female</td> <td>nan </td> <td>Undergraduate </td> <td>ANIMAL SCI  </td> <td>AGNR    </td> <td>Black or African American</td> <td>Hispanic No</td> <td>nan        </td> <td>nan      </td>\n",
       "        </tr>\n",
       "    </tbody>\n",
       "        <tr>\n",
       "            <td>2020</td> <td>Fall</td> <td>ANSC101</td> <td>0101   </td> <td>nan            </td> <td>nan            </td> <td>nan            </td> <td>Female</td> <td>nan </td> <td>Undergraduate </td> <td>PLSC BIOL   </td> <td>AGNR    </td> <td>Black or African American</td> <td>Hispanic No</td> <td>nan        </td> <td>nan      </td>\n",
       "        </tr>\n",
       "    </tbody>\n",
       "        <tr>\n",
       "            <td>2020</td> <td>Fall</td> <td>ANSC101</td> <td>0101   </td> <td>nan            </td> <td>nan            </td> <td>nan            </td> <td>Female</td> <td>nan </td> <td>Undergraduate </td> <td>COM-AGRI-VET</td> <td>AGNR    </td> <td>Black or African American</td> <td>Hispanic No</td> <td>nan        </td> <td>nan      </td>\n",
       "        </tr>\n",
       "    </tbody>\n",
       "        <tr>\n",
       "            <td>2020</td> <td>Fall</td> <td>ANSC101</td> <td>0101   </td> <td>nan            </td> <td>nan            </td> <td>nan            </td> <td>Female</td> <td>nan </td> <td>Undergraduate </td> <td>ANIMAL SCI  </td> <td>AGNR    </td> <td>Black or African American</td> <td>Hispanic No</td> <td>nan        </td> <td>nan      </td>\n",
       "        </tr>\n",
       "    </tbody>\n",
       "        <tr>\n",
       "            <td>2020</td> <td>Fall</td> <td>ANSC101</td> <td>0101   </td> <td>nan            </td> <td>nan            </td> <td>nan            </td> <td>Female</td> <td>nan </td> <td>Undergraduate </td> <td>ANIMAL SCI  </td> <td>AGNR    </td> <td>Black or African American</td> <td>Hispanic No</td> <td>nan        </td> <td>nan      </td>\n",
       "        </tr>\n",
       "    </tbody>\n",
       "        <tr>\n",
       "            <td>2020</td> <td>Fall</td> <td>ANSC101</td> <td>0101   </td> <td>nan            </td> <td>nan            </td> <td>nan            </td> <td>Female</td> <td>nan </td> <td>Undergraduate </td> <td>ANIMAL SCI  </td> <td>AGNR    </td> <td>Black or African American</td> <td>Hispanic No</td> <td>nan        </td> <td>nan      </td>\n",
       "        </tr>\n",
       "    </tbody>\n",
       "        <tr>\n",
       "            <td>2020</td> <td>Fall</td> <td>ANSC101</td> <td>0101   </td> <td>nan            </td> <td>nan            </td> <td>nan            </td> <td>Female</td> <td>nan </td> <td>Undergraduate </td> <td>ANIMAL SCI  </td> <td>AGNR    </td> <td>Black or African American</td> <td>Hispanic No</td> <td>nan        </td> <td>nan      </td>\n",
       "        </tr>\n",
       "    </tbody>\n",
       "        <tr>\n",
       "            <td>2020</td> <td>Fall</td> <td>ANSC101</td> <td>0101   </td> <td>nan            </td> <td>nan            </td> <td>nan            </td> <td>Female</td> <td>nan </td> <td>Undergraduate </td> <td>COM-AGRI-VET</td> <td>AGNR    </td> <td>Black or African American</td> <td>Hispanic No</td> <td>nan        </td> <td>nan      </td>\n",
       "        </tr>\n",
       "    </tbody>\n",
       "        <tr>\n",
       "            <td>2020</td> <td>Fall</td> <td>ANSC101</td> <td>0101   </td> <td>nan            </td> <td>nan            </td> <td>nan            </td> <td>Female</td> <td>nan </td> <td>Undergraduate </td> <td>COM-AGRI-VET</td> <td>AGNR    </td> <td>Black or African American</td> <td>Hispanic No</td> <td>nan        </td> <td>nan      </td>\n",
       "        </tr>\n",
       "    </tbody>\n",
       "        <tr>\n",
       "            <td>2020</td> <td>Fall</td> <td>ANSC101</td> <td>0101   </td> <td>nan            </td> <td>nan            </td> <td>nan            </td> <td>Female</td> <td>nan </td> <td>Undergraduate </td> <td>ANIMAL SCI  </td> <td>AGNR    </td> <td>Black or African American</td> <td>Hispanic No</td> <td>nan        </td> <td>nan      </td>\n",
       "        </tr>\n",
       "    </tbody>\n",
       "</table>\n",
       "<p>... (59 rows omitted)</p>"
      ],
      "text/plain": [
       "Year | Term | Course  | Section | Cross listing 1 | Cross listing 2 | Cross listing 3 | Gender | Age  | Student Status | Major        | College  | Race                      | Ethnicity   | Citizenship | Residency\n",
       "2020 | Fall | ANSC101 | 0101    | nan             | nan             | nan             | Female | nan  | Undergraduate  | ANIMAL SCI   | AGNR     | Black or African American | Hispanic No | nan         | nan\n",
       "2020 | Fall | ANSC101 | 0101    | nan             | nan             | nan             | Female | nan  | Undergraduate  | PLSC BIOL    | AGNR     | Black or African American | Hispanic No | nan         | nan\n",
       "2020 | Fall | ANSC101 | 0101    | nan             | nan             | nan             | Female | nan  | Undergraduate  | COM-AGRI-VET | AGNR     | Black or African American | Hispanic No | nan         | nan\n",
       "2020 | Fall | ANSC101 | 0101    | nan             | nan             | nan             | Female | nan  | Undergraduate  | ANIMAL SCI   | AGNR     | Black or African American | Hispanic No | nan         | nan\n",
       "2020 | Fall | ANSC101 | 0101    | nan             | nan             | nan             | Female | nan  | Undergraduate  | ANIMAL SCI   | AGNR     | Black or African American | Hispanic No | nan         | nan\n",
       "2020 | Fall | ANSC101 | 0101    | nan             | nan             | nan             | Female | nan  | Undergraduate  | ANIMAL SCI   | AGNR     | Black or African American | Hispanic No | nan         | nan\n",
       "2020 | Fall | ANSC101 | 0101    | nan             | nan             | nan             | Female | nan  | Undergraduate  | ANIMAL SCI   | AGNR     | Black or African American | Hispanic No | nan         | nan\n",
       "2020 | Fall | ANSC101 | 0101    | nan             | nan             | nan             | Female | nan  | Undergraduate  | COM-AGRI-VET | AGNR     | Black or African American | Hispanic No | nan         | nan\n",
       "2020 | Fall | ANSC101 | 0101    | nan             | nan             | nan             | Female | nan  | Undergraduate  | COM-AGRI-VET | AGNR     | Black or African American | Hispanic No | nan         | nan\n",
       "2020 | Fall | ANSC101 | 0101    | nan             | nan             | nan             | Female | nan  | Undergraduate  | ANIMAL SCI   | AGNR     | Black or African American | Hispanic No | nan         | nan\n",
       "... (59 rows omitted)"
      ]
     },
     "execution_count": 141,
     "metadata": {},
     "output_type": "execute_result"
    }
   ],
   "source": [
    "African_American_F20 =tbl_1.where(\"Race\", are.equal_to(\"Black or African American\"))\n",
    "African_American_F20"
   ]
  },
  {
   "cell_type": "code",
   "execution_count": 142,
   "metadata": {},
   "outputs": [
    {
     "data": {
      "text/plain": [
       "69"
      ]
     },
     "execution_count": 142,
     "metadata": {},
     "output_type": "execute_result"
    }
   ],
   "source": [
    "AA_F20_Enrollment= African_American_F20.num_rows\n",
    "AA_F20_Enrollment"
   ]
  },
  {
   "cell_type": "markdown",
   "metadata": {},
   "source": [
    "69 total African American Students Enrolled in Fall 2020"
   ]
  },
  {
   "cell_type": "code",
   "execution_count": 143,
   "metadata": {},
   "outputs": [
    {
     "data": {
      "text/html": [
       "<table border=\"1\" class=\"dataframe\">\n",
       "    <thead>\n",
       "        <tr>\n",
       "            <th>Year</th> <th>Term</th> <th>Course</th> <th>Section</th> <th>Cross listing 1</th> <th>Cross listing 2</th> <th>Cross listing 3</th> <th>Gender</th> <th>Age</th> <th>Student Status</th> <th>Major </th> <th>College </th> <th>Race</th> <th>Ethnicity</th> <th>Citizenship</th> <th>Residency</th>\n",
       "        </tr>\n",
       "    </thead>\n",
       "    <tbody>\n",
       "        <tr>\n",
       "            <td>2020</td> <td>Fall</td> <td>ANSC101</td> <td>0101   </td> <td>nan            </td> <td>nan            </td> <td>nan            </td> <td>Female</td> <td>nan </td> <td>Undergraduate </td> <td>ANIMAL SCI  </td> <td>AGNR    </td> <td>Asian</td> <td>Hispanic No</td> <td>nan        </td> <td>nan      </td>\n",
       "        </tr>\n",
       "    </tbody>\n",
       "        <tr>\n",
       "            <td>2020</td> <td>Fall</td> <td>ANSC101</td> <td>0101   </td> <td>nan            </td> <td>nan            </td> <td>nan            </td> <td>Female</td> <td>nan </td> <td>Undergraduate </td> <td>ANIMAL SCI  </td> <td>AGNR    </td> <td>Asian</td> <td>Hispanic No</td> <td>nan        </td> <td>nan      </td>\n",
       "        </tr>\n",
       "    </tbody>\n",
       "        <tr>\n",
       "            <td>2020</td> <td>Fall</td> <td>ANSC101</td> <td>0101   </td> <td>nan            </td> <td>nan            </td> <td>nan            </td> <td>Female</td> <td>nan </td> <td>Undergraduate </td> <td>ANIMAL SCI  </td> <td>AGNR    </td> <td>Asian</td> <td>Hispanic No</td> <td>nan        </td> <td>nan      </td>\n",
       "        </tr>\n",
       "    </tbody>\n",
       "        <tr>\n",
       "            <td>2020</td> <td>Fall</td> <td>ANSC101</td> <td>0101   </td> <td>nan            </td> <td>nan            </td> <td>nan            </td> <td>Female</td> <td>nan </td> <td>Undergraduate </td> <td>ANIMAL SCI  </td> <td>AGNR    </td> <td>Asian</td> <td>Hispanic No</td> <td>nan        </td> <td>nan      </td>\n",
       "        </tr>\n",
       "    </tbody>\n",
       "        <tr>\n",
       "            <td>2020</td> <td>Fall</td> <td>ANSC101</td> <td>0101   </td> <td>nan            </td> <td>nan            </td> <td>nan            </td> <td>Female</td> <td>nan </td> <td>Undergraduate </td> <td>ANIMAL SCI  </td> <td>AGNR    </td> <td>Asian</td> <td>Hispanic No</td> <td>nan        </td> <td>nan      </td>\n",
       "        </tr>\n",
       "    </tbody>\n",
       "        <tr>\n",
       "            <td>2020</td> <td>Fall</td> <td>ANSC101</td> <td>0101   </td> <td>nan            </td> <td>nan            </td> <td>nan            </td> <td>Male  </td> <td>nan </td> <td>Undergraduate </td> <td>AGST ENVHORT</td> <td>AGNR    </td> <td>Asian</td> <td>Hispanic No</td> <td>nan        </td> <td>nan      </td>\n",
       "        </tr>\n",
       "    </tbody>\n",
       "        <tr>\n",
       "            <td>2020</td> <td>Fall</td> <td>ANSC101</td> <td>0101   </td> <td>nan            </td> <td>nan            </td> <td>nan            </td> <td>Male  </td> <td>nan </td> <td>Undergraduate </td> <td>ANIMAL SCI  </td> <td>AGNR    </td> <td>Asian</td> <td>Hispanic No</td> <td>nan        </td> <td>nan      </td>\n",
       "        </tr>\n",
       "    </tbody>\n",
       "        <tr>\n",
       "            <td>2020</td> <td>Fall</td> <td>ANSC101</td> <td>0101   </td> <td>nan            </td> <td>nan            </td> <td>nan            </td> <td>Male  </td> <td>nan </td> <td>Undergraduate </td> <td>ANIMAL SCI  </td> <td>AGNR    </td> <td>Asian</td> <td>Hispanic No</td> <td>nan        </td> <td>nan      </td>\n",
       "        </tr>\n",
       "    </tbody>\n",
       "        <tr>\n",
       "            <td>2020</td> <td>Fall</td> <td>ANSC101</td> <td>0101   </td> <td>nan            </td> <td>nan            </td> <td>nan            </td> <td>Female</td> <td>nan </td> <td>Undergraduate </td> <td>CRIM-JUSTICE</td> <td>BSOS    </td> <td>Asian</td> <td>Hispanic No</td> <td>nan        </td> <td>nan      </td>\n",
       "        </tr>\n",
       "    </tbody>\n",
       "        <tr>\n",
       "            <td>2020</td> <td>Fall</td> <td>ANSC101</td> <td>0101   </td> <td>nan            </td> <td>nan            </td> <td>nan            </td> <td>Female</td> <td>nan </td> <td>Undergraduate </td> <td>COMPUTER SCI</td> <td>CMNS    </td> <td>Asian</td> <td>Hispanic No</td> <td>nan        </td> <td>nan      </td>\n",
       "        </tr>\n",
       "    </tbody>\n",
       "</table>\n",
       "<p>... (70 rows omitted)</p>"
      ],
      "text/plain": [
       "Year | Term | Course  | Section | Cross listing 1 | Cross listing 2 | Cross listing 3 | Gender | Age  | Student Status | Major        | College  | Race  | Ethnicity   | Citizenship | Residency\n",
       "2020 | Fall | ANSC101 | 0101    | nan             | nan             | nan             | Female | nan  | Undergraduate  | ANIMAL SCI   | AGNR     | Asian | Hispanic No | nan         | nan\n",
       "2020 | Fall | ANSC101 | 0101    | nan             | nan             | nan             | Female | nan  | Undergraduate  | ANIMAL SCI   | AGNR     | Asian | Hispanic No | nan         | nan\n",
       "2020 | Fall | ANSC101 | 0101    | nan             | nan             | nan             | Female | nan  | Undergraduate  | ANIMAL SCI   | AGNR     | Asian | Hispanic No | nan         | nan\n",
       "2020 | Fall | ANSC101 | 0101    | nan             | nan             | nan             | Female | nan  | Undergraduate  | ANIMAL SCI   | AGNR     | Asian | Hispanic No | nan         | nan\n",
       "2020 | Fall | ANSC101 | 0101    | nan             | nan             | nan             | Female | nan  | Undergraduate  | ANIMAL SCI   | AGNR     | Asian | Hispanic No | nan         | nan\n",
       "2020 | Fall | ANSC101 | 0101    | nan             | nan             | nan             | Male   | nan  | Undergraduate  | AGST ENVHORT | AGNR     | Asian | Hispanic No | nan         | nan\n",
       "2020 | Fall | ANSC101 | 0101    | nan             | nan             | nan             | Male   | nan  | Undergraduate  | ANIMAL SCI   | AGNR     | Asian | Hispanic No | nan         | nan\n",
       "2020 | Fall | ANSC101 | 0101    | nan             | nan             | nan             | Male   | nan  | Undergraduate  | ANIMAL SCI   | AGNR     | Asian | Hispanic No | nan         | nan\n",
       "2020 | Fall | ANSC101 | 0101    | nan             | nan             | nan             | Female | nan  | Undergraduate  | CRIM-JUSTICE | BSOS     | Asian | Hispanic No | nan         | nan\n",
       "2020 | Fall | ANSC101 | 0101    | nan             | nan             | nan             | Female | nan  | Undergraduate  | COMPUTER SCI | CMNS     | Asian | Hispanic No | nan         | nan\n",
       "... (70 rows omitted)"
      ]
     },
     "execution_count": 143,
     "metadata": {},
     "output_type": "execute_result"
    }
   ],
   "source": [
    "Asian_F20 = tbl_1. where(\"Race\", are.equal_to(\"Asian\"))\n",
    "Asian_F20"
   ]
  },
  {
   "cell_type": "code",
   "execution_count": 144,
   "metadata": {},
   "outputs": [
    {
     "data": {
      "text/plain": [
       "80"
      ]
     },
     "execution_count": 144,
     "metadata": {},
     "output_type": "execute_result"
    }
   ],
   "source": [
    "A_F20_Enrollment = Asian_F20.num_rows\n",
    "A_F20_Enrollment"
   ]
  },
  {
   "cell_type": "markdown",
   "metadata": {},
   "source": [
    "80 total Asian students enrolled in Fall 2020"
   ]
  },
  {
   "cell_type": "code",
   "execution_count": 145,
   "metadata": {},
   "outputs": [
    {
     "data": {
      "text/html": [
       "<table border=\"1\" class=\"dataframe\">\n",
       "    <thead>\n",
       "        <tr>\n",
       "            <th>Year</th> <th>Term</th> <th>Course</th> <th>Section</th> <th>Cross listing 1</th> <th>Cross listing 2</th> <th>Cross listing 3</th> <th>Gender</th> <th>Age</th> <th>Student Status</th> <th>Major </th> <th>College </th> <th>Race</th> <th>Ethnicity</th> <th>Citizenship</th> <th>Residency</th>\n",
       "        </tr>\n",
       "    </thead>\n",
       "    <tbody>\n",
       "        <tr>\n",
       "            <td>2020</td> <td>Fall</td> <td>ANSC101</td> <td>0101   </td> <td>nan            </td> <td>nan            </td> <td>nan            </td> <td>Female</td> <td>nan </td> <td>Undergraduate </td> <td>ANIMAL SCI  </td> <td>AGNR    </td> <td>Hispanic</td> <td>Hispanic Yes</td> <td>nan        </td> <td>nan      </td>\n",
       "        </tr>\n",
       "    </tbody>\n",
       "        <tr>\n",
       "            <td>2020</td> <td>Fall</td> <td>ANSC101</td> <td>0101   </td> <td>nan            </td> <td>nan            </td> <td>nan            </td> <td>Female</td> <td>nan </td> <td>Undergraduate </td> <td>AG BUS MGMT </td> <td>AGNR    </td> <td>Hispanic</td> <td>Hispanic Yes</td> <td>nan        </td> <td>nan      </td>\n",
       "        </tr>\n",
       "    </tbody>\n",
       "        <tr>\n",
       "            <td>2020</td> <td>Fall</td> <td>ANSC101</td> <td>0101   </td> <td>nan            </td> <td>nan            </td> <td>nan            </td> <td>Female</td> <td>nan </td> <td>Undergraduate </td> <td>ANIMAL SCI  </td> <td>AGNR    </td> <td>Hispanic</td> <td>Hispanic Yes</td> <td>nan        </td> <td>nan      </td>\n",
       "        </tr>\n",
       "    </tbody>\n",
       "        <tr>\n",
       "            <td>2020</td> <td>Fall</td> <td>ANSC101</td> <td>0101   </td> <td>nan            </td> <td>nan            </td> <td>nan            </td> <td>Female</td> <td>nan </td> <td>Undergraduate </td> <td>COM-AGRI-VET</td> <td>AGNR    </td> <td>Hispanic</td> <td>Hispanic Yes</td> <td>nan        </td> <td>nan      </td>\n",
       "        </tr>\n",
       "    </tbody>\n",
       "        <tr>\n",
       "            <td>2020</td> <td>Fall</td> <td>ANSC101</td> <td>0101   </td> <td>nan            </td> <td>nan            </td> <td>nan            </td> <td>Female</td> <td>nan </td> <td>Undergraduate </td> <td>SUSTAIN AG  </td> <td>AGNR    </td> <td>Hispanic</td> <td>Hispanic Yes</td> <td>nan        </td> <td>nan      </td>\n",
       "        </tr>\n",
       "    </tbody>\n",
       "        <tr>\n",
       "            <td>2020</td> <td>Fall</td> <td>ANSC101</td> <td>0101   </td> <td>nan            </td> <td>nan            </td> <td>nan            </td> <td>Female</td> <td>nan </td> <td>Undergraduate </td> <td>AG BUS MGMT </td> <td>AGNR    </td> <td>Hispanic</td> <td>Hispanic Yes</td> <td>nan        </td> <td>nan      </td>\n",
       "        </tr>\n",
       "    </tbody>\n",
       "        <tr>\n",
       "            <td>2020</td> <td>Fall</td> <td>ANSC101</td> <td>0101   </td> <td>nan            </td> <td>nan            </td> <td>nan            </td> <td>Female</td> <td>nan </td> <td>Undergraduate </td> <td>AG BUS MGMT </td> <td>AGNR    </td> <td>Hispanic</td> <td>Hispanic Yes</td> <td>nan        </td> <td>nan      </td>\n",
       "        </tr>\n",
       "    </tbody>\n",
       "        <tr>\n",
       "            <td>2020</td> <td>Fall</td> <td>ANSC101</td> <td>0101   </td> <td>nan            </td> <td>nan            </td> <td>nan            </td> <td>Female</td> <td>nan </td> <td>Undergraduate </td> <td>ANIMAL SCI  </td> <td>AGNR    </td> <td>Hispanic</td> <td>Hispanic Yes</td> <td>nan        </td> <td>nan      </td>\n",
       "        </tr>\n",
       "    </tbody>\n",
       "        <tr>\n",
       "            <td>2020</td> <td>Fall</td> <td>ANSC101</td> <td>0101   </td> <td>nan            </td> <td>nan            </td> <td>nan            </td> <td>Female</td> <td>nan </td> <td>Undergraduate </td> <td>COM-AGRI-VET</td> <td>AGNR    </td> <td>Hispanic</td> <td>Hispanic Yes</td> <td>nan        </td> <td>nan      </td>\n",
       "        </tr>\n",
       "    </tbody>\n",
       "        <tr>\n",
       "            <td>2020</td> <td>Fall</td> <td>ANSC101</td> <td>0101   </td> <td>nan            </td> <td>nan            </td> <td>nan            </td> <td>Female</td> <td>nan </td> <td>Undergraduate </td> <td>COM-AGRI-VET</td> <td>AGNR    </td> <td>Hispanic</td> <td>Hispanic Yes</td> <td>nan        </td> <td>nan      </td>\n",
       "        </tr>\n",
       "    </tbody>\n",
       "</table>\n",
       "<p>... (66 rows omitted)</p>"
      ],
      "text/plain": [
       "Year | Term | Course  | Section | Cross listing 1 | Cross listing 2 | Cross listing 3 | Gender | Age  | Student Status | Major        | College  | Race     | Ethnicity    | Citizenship | Residency\n",
       "2020 | Fall | ANSC101 | 0101    | nan             | nan             | nan             | Female | nan  | Undergraduate  | ANIMAL SCI   | AGNR     | Hispanic | Hispanic Yes | nan         | nan\n",
       "2020 | Fall | ANSC101 | 0101    | nan             | nan             | nan             | Female | nan  | Undergraduate  | AG BUS MGMT  | AGNR     | Hispanic | Hispanic Yes | nan         | nan\n",
       "2020 | Fall | ANSC101 | 0101    | nan             | nan             | nan             | Female | nan  | Undergraduate  | ANIMAL SCI   | AGNR     | Hispanic | Hispanic Yes | nan         | nan\n",
       "2020 | Fall | ANSC101 | 0101    | nan             | nan             | nan             | Female | nan  | Undergraduate  | COM-AGRI-VET | AGNR     | Hispanic | Hispanic Yes | nan         | nan\n",
       "2020 | Fall | ANSC101 | 0101    | nan             | nan             | nan             | Female | nan  | Undergraduate  | SUSTAIN AG   | AGNR     | Hispanic | Hispanic Yes | nan         | nan\n",
       "2020 | Fall | ANSC101 | 0101    | nan             | nan             | nan             | Female | nan  | Undergraduate  | AG BUS MGMT  | AGNR     | Hispanic | Hispanic Yes | nan         | nan\n",
       "2020 | Fall | ANSC101 | 0101    | nan             | nan             | nan             | Female | nan  | Undergraduate  | AG BUS MGMT  | AGNR     | Hispanic | Hispanic Yes | nan         | nan\n",
       "2020 | Fall | ANSC101 | 0101    | nan             | nan             | nan             | Female | nan  | Undergraduate  | ANIMAL SCI   | AGNR     | Hispanic | Hispanic Yes | nan         | nan\n",
       "2020 | Fall | ANSC101 | 0101    | nan             | nan             | nan             | Female | nan  | Undergraduate  | COM-AGRI-VET | AGNR     | Hispanic | Hispanic Yes | nan         | nan\n",
       "2020 | Fall | ANSC101 | 0101    | nan             | nan             | nan             | Female | nan  | Undergraduate  | COM-AGRI-VET | AGNR     | Hispanic | Hispanic Yes | nan         | nan\n",
       "... (66 rows omitted)"
      ]
     },
     "execution_count": 145,
     "metadata": {},
     "output_type": "execute_result"
    }
   ],
   "source": [
    "Hispanic_F20 = tbl_1.where(\"Race\", are.equal_to(\"Hispanic\"))\n",
    "Hispanic_F20"
   ]
  },
  {
   "cell_type": "code",
   "execution_count": 146,
   "metadata": {},
   "outputs": [
    {
     "data": {
      "text/plain": [
       "76"
      ]
     },
     "execution_count": 146,
     "metadata": {},
     "output_type": "execute_result"
    }
   ],
   "source": [
    "H_F20_Enrollment = Hispanic_F20.num_rows\n",
    "H_F20_Enrollment"
   ]
  },
  {
   "cell_type": "markdown",
   "metadata": {},
   "source": [
    "76 Hispanic students enrolled in Fall 2020"
   ]
  },
  {
   "cell_type": "code",
   "execution_count": 147,
   "metadata": {},
   "outputs": [
    {
     "data": {
      "text/html": [
       "<table border=\"1\" class=\"dataframe\">\n",
       "    <thead>\n",
       "        <tr>\n",
       "            <th>Year</th> <th>Term</th> <th>Course</th> <th>Section</th> <th>Cross listing 1</th> <th>Cross listing 2</th> <th>Cross listing 3</th> <th>Gender</th> <th>Age</th> <th>Student Status</th> <th>Major </th> <th>College </th> <th>Race</th> <th>Ethnicity</th> <th>Citizenship</th> <th>Residency</th>\n",
       "        </tr>\n",
       "    </thead>\n",
       "    <tbody>\n",
       "        <tr>\n",
       "            <td>2020</td> <td>Fall</td> <td>ANSC101</td> <td>0101   </td> <td>nan            </td> <td>nan            </td> <td>nan            </td> <td>Female</td> <td>nan </td> <td>Undergraduate </td> <td>ANIMAL SCI  </td> <td>AGNR    </td> <td>White</td> <td>Hispanic No</td> <td>nan        </td> <td>nan      </td>\n",
       "        </tr>\n",
       "    </tbody>\n",
       "        <tr>\n",
       "            <td>2020</td> <td>Fall</td> <td>ANSC101</td> <td>0101   </td> <td>nan            </td> <td>nan            </td> <td>nan            </td> <td>Female</td> <td>nan </td> <td>Undergraduate </td> <td>ANIMAL SCI  </td> <td>AGNR    </td> <td>White</td> <td>Hispanic No</td> <td>nan        </td> <td>nan      </td>\n",
       "        </tr>\n",
       "    </tbody>\n",
       "        <tr>\n",
       "            <td>2020</td> <td>Fall</td> <td>ANSC101</td> <td>0101   </td> <td>nan            </td> <td>nan            </td> <td>nan            </td> <td>Female</td> <td>nan </td> <td>Undergraduate </td> <td>ANIMAL SCI  </td> <td>AGNR    </td> <td>White</td> <td>Hispanic No</td> <td>nan        </td> <td>nan      </td>\n",
       "        </tr>\n",
       "    </tbody>\n",
       "        <tr>\n",
       "            <td>2020</td> <td>Fall</td> <td>ANSC101</td> <td>0101   </td> <td>nan            </td> <td>nan            </td> <td>nan            </td> <td>Female</td> <td>nan </td> <td>Undergraduate </td> <td>AGST ENVHORT</td> <td>AGNR    </td> <td>White</td> <td>Hispanic No</td> <td>nan        </td> <td>nan      </td>\n",
       "        </tr>\n",
       "    </tbody>\n",
       "        <tr>\n",
       "            <td>2020</td> <td>Fall</td> <td>ANSC101</td> <td>0101   </td> <td>nan            </td> <td>nan            </td> <td>nan            </td> <td>Female</td> <td>nan </td> <td>Undergraduate </td> <td>ANIMAL SCI  </td> <td>AGNR    </td> <td>White</td> <td>Hispanic No</td> <td>nan        </td> <td>nan      </td>\n",
       "        </tr>\n",
       "    </tbody>\n",
       "        <tr>\n",
       "            <td>2020</td> <td>Fall</td> <td>ANSC101</td> <td>0101   </td> <td>nan            </td> <td>nan            </td> <td>nan            </td> <td>Female</td> <td>nan </td> <td>Undergraduate </td> <td>ANIMAL SCI  </td> <td>AGNR    </td> <td>White</td> <td>Hispanic No</td> <td>nan        </td> <td>nan      </td>\n",
       "        </tr>\n",
       "    </tbody>\n",
       "        <tr>\n",
       "            <td>2020</td> <td>Fall</td> <td>ANSC101</td> <td>0101   </td> <td>nan            </td> <td>nan            </td> <td>nan            </td> <td>Female</td> <td>nan </td> <td>Undergraduate </td> <td>ANIMAL SCI  </td> <td>AGNR    </td> <td>White</td> <td>Hispanic No</td> <td>nan        </td> <td>nan      </td>\n",
       "        </tr>\n",
       "    </tbody>\n",
       "        <tr>\n",
       "            <td>2020</td> <td>Fall</td> <td>ANSC101</td> <td>0101   </td> <td>nan            </td> <td>nan            </td> <td>nan            </td> <td>Female</td> <td>nan </td> <td>Undergraduate </td> <td>ANIMAL SCI  </td> <td>AGNR    </td> <td>White</td> <td>Hispanic No</td> <td>nan        </td> <td>nan      </td>\n",
       "        </tr>\n",
       "    </tbody>\n",
       "        <tr>\n",
       "            <td>2020</td> <td>Fall</td> <td>ANSC101</td> <td>0101   </td> <td>nan            </td> <td>nan            </td> <td>nan            </td> <td>Female</td> <td>nan </td> <td>Undergraduate </td> <td>ANIMAL SCI  </td> <td>AGNR    </td> <td>White</td> <td>Hispanic No</td> <td>nan        </td> <td>nan      </td>\n",
       "        </tr>\n",
       "    </tbody>\n",
       "        <tr>\n",
       "            <td>2020</td> <td>Fall</td> <td>ANSC101</td> <td>0101   </td> <td>nan            </td> <td>nan            </td> <td>nan            </td> <td>Female</td> <td>nan </td> <td>Undergraduate </td> <td>AG BUS MGMT </td> <td>AGNR    </td> <td>White</td> <td>Hispanic No</td> <td>nan        </td> <td>nan      </td>\n",
       "        </tr>\n",
       "    </tbody>\n",
       "</table>\n",
       "<p>... (256 rows omitted)</p>"
      ],
      "text/plain": [
       "Year | Term | Course  | Section | Cross listing 1 | Cross listing 2 | Cross listing 3 | Gender | Age  | Student Status | Major        | College  | Race  | Ethnicity   | Citizenship | Residency\n",
       "2020 | Fall | ANSC101 | 0101    | nan             | nan             | nan             | Female | nan  | Undergraduate  | ANIMAL SCI   | AGNR     | White | Hispanic No | nan         | nan\n",
       "2020 | Fall | ANSC101 | 0101    | nan             | nan             | nan             | Female | nan  | Undergraduate  | ANIMAL SCI   | AGNR     | White | Hispanic No | nan         | nan\n",
       "2020 | Fall | ANSC101 | 0101    | nan             | nan             | nan             | Female | nan  | Undergraduate  | ANIMAL SCI   | AGNR     | White | Hispanic No | nan         | nan\n",
       "2020 | Fall | ANSC101 | 0101    | nan             | nan             | nan             | Female | nan  | Undergraduate  | AGST ENVHORT | AGNR     | White | Hispanic No | nan         | nan\n",
       "2020 | Fall | ANSC101 | 0101    | nan             | nan             | nan             | Female | nan  | Undergraduate  | ANIMAL SCI   | AGNR     | White | Hispanic No | nan         | nan\n",
       "2020 | Fall | ANSC101 | 0101    | nan             | nan             | nan             | Female | nan  | Undergraduate  | ANIMAL SCI   | AGNR     | White | Hispanic No | nan         | nan\n",
       "2020 | Fall | ANSC101 | 0101    | nan             | nan             | nan             | Female | nan  | Undergraduate  | ANIMAL SCI   | AGNR     | White | Hispanic No | nan         | nan\n",
       "2020 | Fall | ANSC101 | 0101    | nan             | nan             | nan             | Female | nan  | Undergraduate  | ANIMAL SCI   | AGNR     | White | Hispanic No | nan         | nan\n",
       "2020 | Fall | ANSC101 | 0101    | nan             | nan             | nan             | Female | nan  | Undergraduate  | ANIMAL SCI   | AGNR     | White | Hispanic No | nan         | nan\n",
       "2020 | Fall | ANSC101 | 0101    | nan             | nan             | nan             | Female | nan  | Undergraduate  | AG BUS MGMT  | AGNR     | White | Hispanic No | nan         | nan\n",
       "... (256 rows omitted)"
      ]
     },
     "execution_count": 147,
     "metadata": {},
     "output_type": "execute_result"
    }
   ],
   "source": [
    "White_F20 = tbl_1.where(\"Race\", are.equal_to(\"White\"))\n",
    "White_F20"
   ]
  },
  {
   "cell_type": "code",
   "execution_count": 148,
   "metadata": {},
   "outputs": [
    {
     "data": {
      "text/plain": [
       "266"
      ]
     },
     "execution_count": 148,
     "metadata": {},
     "output_type": "execute_result"
    }
   ],
   "source": [
    "W_F20_Enrollment = White_F20.num_rows\n",
    "W_F20_Enrollment"
   ]
  },
  {
   "cell_type": "markdown",
   "metadata": {},
   "source": [
    "266 White students enrolled in Fall 2020"
   ]
  },
  {
   "cell_type": "code",
   "execution_count": 149,
   "metadata": {},
   "outputs": [
    {
     "data": {
      "text/html": [
       "<table border=\"1\" class=\"dataframe\">\n",
       "    <thead>\n",
       "        <tr>\n",
       "            <th>Year</th> <th>Term</th> <th>Course</th> <th>Section</th> <th>Cross listing 1</th> <th>Cross listing 2</th> <th>Cross listing 3</th> <th>Gender</th> <th>Age</th> <th>Student Status</th> <th>Major </th> <th>College </th> <th>Race</th> <th>Ethnicity</th> <th>Citizenship</th> <th>Residency</th>\n",
       "        </tr>\n",
       "    </thead>\n",
       "    <tbody>\n",
       "        <tr>\n",
       "            <td>2021</td> <td>Winter</td> <td>ARTH369D</td> <td>GC01   </td> <td>nan            </td> <td>nan            </td> <td>nan            </td> <td>Female</td> <td>39  </td> <td>Undergraduate </td> <td>ART HISTORY</td> <td>ARHU    </td> <td>White      </td> <td>Hispanic No     </td> <td>US Citizen </td> <td>Resident    </td>\n",
       "        </tr>\n",
       "    </tbody>\n",
       "        <tr>\n",
       "            <td>2021</td> <td>Winter</td> <td>CLAS308G</td> <td>GC01   </td> <td>nan            </td> <td>nan            </td> <td>nan            </td> <td>Male  </td> <td>25  </td> <td>Undergraduate </td> <td>PHILOSOPHY </td> <td>ARHU    </td> <td>Asian      </td> <td>Hispanic No     </td> <td>US Citizen </td> <td>Resident    </td>\n",
       "        </tr>\n",
       "    </tbody>\n",
       "        <tr>\n",
       "            <td>2021</td> <td>Winter</td> <td>CLAS308G</td> <td>GC01   </td> <td>nan            </td> <td>nan            </td> <td>nan            </td> <td>Female</td> <td>20  </td> <td>Undergraduate </td> <td>JOURNALISM </td> <td>JOUR    </td> <td>White      </td> <td>Hispanic No     </td> <td>US Citizen </td> <td>Resident    </td>\n",
       "        </tr>\n",
       "    </tbody>\n",
       "        <tr>\n",
       "            <td>2021</td> <td>Winter</td> <td>CLAS308G</td> <td>GC01   </td> <td>nan            </td> <td>nan            </td> <td>nan            </td> <td>Male  </td> <td>20  </td> <td>Undergraduate </td> <td>CLASSICS   </td> <td>ARHU    </td> <td>Two or More</td> <td>Hispanic No     </td> <td>US Citizen </td> <td>Resident    </td>\n",
       "        </tr>\n",
       "    </tbody>\n",
       "        <tr>\n",
       "            <td>2021</td> <td>Winter</td> <td>CLAS308G</td> <td>GC01   </td> <td>nan            </td> <td>nan            </td> <td>nan            </td> <td>Female</td> <td>20  </td> <td>Undergraduate </td> <td>COMP ENGIN </td> <td>ENGR    </td> <td>Asian      </td> <td>Hispanic No     </td> <td>US Citizen </td> <td>Resident    </td>\n",
       "        </tr>\n",
       "    </tbody>\n",
       "        <tr>\n",
       "            <td>2021</td> <td>Winter</td> <td>CLAS308G</td> <td>GC01   </td> <td>nan            </td> <td>nan            </td> <td>nan            </td> <td>Male  </td> <td>19  </td> <td>Undergraduate </td> <td>PHYSICS    </td> <td>CMNS    </td> <td>White      </td> <td>Hispanic No     </td> <td>US Citizen </td> <td>Resident    </td>\n",
       "        </tr>\n",
       "    </tbody>\n",
       "        <tr>\n",
       "            <td>2021</td> <td>Winter</td> <td>CLAS308G</td> <td>GC01   </td> <td>nan            </td> <td>nan            </td> <td>nan            </td> <td>Male  </td> <td>20  </td> <td>Undergraduate </td> <td>CLASSICS   </td> <td>ARHU    </td> <td>White      </td> <td>Hispanic No     </td> <td>US Citizen </td> <td>Non-resident</td>\n",
       "        </tr>\n",
       "    </tbody>\n",
       "        <tr>\n",
       "            <td>2021</td> <td>Winter</td> <td>CLAS308G</td> <td>GC01   </td> <td>nan            </td> <td>nan            </td> <td>nan            </td> <td>Female</td> <td>25  </td> <td>Undergraduate </td> <td>HISTORY    </td> <td>ARHU    </td> <td>Unknown    </td> <td>Hispanic Unknown</td> <td>US Citizen </td> <td>Resident    </td>\n",
       "        </tr>\n",
       "    </tbody>\n",
       "        <tr>\n",
       "            <td>2021</td> <td>Winter</td> <td>CLAS308G</td> <td>GC01   </td> <td>nan            </td> <td>nan            </td> <td>nan            </td> <td>Female</td> <td>31  </td> <td>Undergraduate </td> <td>CLASSICS   </td> <td>ARHU    </td> <td>Hispanic   </td> <td>Hispanic Yes    </td> <td>US Citizen </td> <td>Military    </td>\n",
       "        </tr>\n",
       "    </tbody>\n",
       "        <tr>\n",
       "            <td>2021</td> <td>Winter</td> <td>ENGL391 </td> <td>GC01   </td> <td>nan            </td> <td>nan            </td> <td>nan            </td> <td>Male  </td> <td>23  </td> <td>Undergraduate </td> <td>PUB POLICY </td> <td>PLCY    </td> <td>White      </td> <td>Hispanic No     </td> <td>US Citizen </td> <td>Resident    </td>\n",
       "        </tr>\n",
       "    </tbody>\n",
       "</table>\n",
       "<p>... (48 rows omitted)</p>"
      ],
      "text/plain": [
       "Year | Term   | Course   | Section | Cross listing 1 | Cross listing 2 | Cross listing 3 | Gender | Age  | Student Status | Major       | College  | Race        | Ethnicity        | Citizenship | Residency\n",
       "2021 | Winter | ARTH369D | GC01    | nan             | nan             | nan             | Female | 39   | Undergraduate  | ART HISTORY | ARHU     | White       | Hispanic No      | US Citizen  | Resident\n",
       "2021 | Winter | CLAS308G | GC01    | nan             | nan             | nan             | Male   | 25   | Undergraduate  | PHILOSOPHY  | ARHU     | Asian       | Hispanic No      | US Citizen  | Resident\n",
       "2021 | Winter | CLAS308G | GC01    | nan             | nan             | nan             | Female | 20   | Undergraduate  | JOURNALISM  | JOUR     | White       | Hispanic No      | US Citizen  | Resident\n",
       "2021 | Winter | CLAS308G | GC01    | nan             | nan             | nan             | Male   | 20   | Undergraduate  | CLASSICS    | ARHU     | Two or More | Hispanic No      | US Citizen  | Resident\n",
       "2021 | Winter | CLAS308G | GC01    | nan             | nan             | nan             | Female | 20   | Undergraduate  | COMP ENGIN  | ENGR     | Asian       | Hispanic No      | US Citizen  | Resident\n",
       "2021 | Winter | CLAS308G | GC01    | nan             | nan             | nan             | Male   | 19   | Undergraduate  | PHYSICS     | CMNS     | White       | Hispanic No      | US Citizen  | Resident\n",
       "2021 | Winter | CLAS308G | GC01    | nan             | nan             | nan             | Male   | 20   | Undergraduate  | CLASSICS    | ARHU     | White       | Hispanic No      | US Citizen  | Non-resident\n",
       "2021 | Winter | CLAS308G | GC01    | nan             | nan             | nan             | Female | 25   | Undergraduate  | HISTORY     | ARHU     | Unknown     | Hispanic Unknown | US Citizen  | Resident\n",
       "2021 | Winter | CLAS308G | GC01    | nan             | nan             | nan             | Female | 31   | Undergraduate  | CLASSICS    | ARHU     | Hispanic    | Hispanic Yes     | US Citizen  | Military\n",
       "2021 | Winter | ENGL391  | GC01    | nan             | nan             | nan             | Male   | 23   | Undergraduate  | PUB POLICY  | PLCY     | White       | Hispanic No      | US Citizen  | Resident\n",
       "... (48 rows omitted)"
      ]
     },
     "execution_count": 149,
     "metadata": {},
     "output_type": "execute_result"
    }
   ],
   "source": [
    "tbl_2 = Table.read_table('../data/Data_OIA.xlsx - Winter 2021.csv')\n",
    "tbl_2"
   ]
  },
  {
   "cell_type": "code",
   "execution_count": 150,
   "metadata": {},
   "outputs": [
    {
     "data": {
      "text/html": [
       "<table border=\"1\" class=\"dataframe\">\n",
       "    <thead>\n",
       "        <tr>\n",
       "            <th>Year</th> <th>Term</th> <th>Course</th> <th>Section</th> <th>Cross listing 1</th> <th>Cross listing 2</th> <th>Cross listing 3</th> <th>Gender</th> <th>Age</th> <th>Student Status</th> <th>Major </th> <th>College </th> <th>Race</th> <th>Ethnicity</th> <th>Citizenship</th> <th>Residency</th>\n",
       "        </tr>\n",
       "    </thead>\n",
       "    <tbody>\n",
       "        <tr>\n",
       "            <td>2021</td> <td>Winter</td> <td>ENGL391 </td> <td>GC01   </td> <td>nan            </td> <td>nan            </td> <td>nan            </td> <td>Male  </td> <td>23  </td> <td>Undergraduate </td> <td>CRIM-JUSTICE</td> <td>BSOS    </td> <td>Black or African American</td> <td>Hispanic No</td> <td>Perm Resdnt</td> <td>Resident    </td>\n",
       "        </tr>\n",
       "    </tbody>\n",
       "        <tr>\n",
       "            <td>2021</td> <td>Winter</td> <td>ENGL391 </td> <td>GC01   </td> <td>nan            </td> <td>nan            </td> <td>nan            </td> <td>Female</td> <td>20  </td> <td>Undergraduate </td> <td>BIO SCI:PHNB</td> <td>CMNS    </td> <td>Black or African American</td> <td>Hispanic No</td> <td>US Citizen </td> <td>Resident    </td>\n",
       "        </tr>\n",
       "    </tbody>\n",
       "        <tr>\n",
       "            <td>2021</td> <td>Winter</td> <td>ENGL391 </td> <td>GC01   </td> <td>nan            </td> <td>nan            </td> <td>nan            </td> <td>Male  </td> <td>23  </td> <td>Undergraduate </td> <td>PHILOSOPHY  </td> <td>ARHU    </td> <td>Black or African American</td> <td>Hispanic No</td> <td>US Citizen </td> <td>Non-resident</td>\n",
       "        </tr>\n",
       "    </tbody>\n",
       "        <tr>\n",
       "            <td>2021</td> <td>Winter</td> <td>ENGL391 </td> <td>GC02   </td> <td>nan            </td> <td>nan            </td> <td>nan            </td> <td>Female</td> <td>21  </td> <td>Undergraduate </td> <td>GVPT INTLREL</td> <td>BSOS    </td> <td>Black or African American</td> <td>Hispanic No</td> <td>US Citizen </td> <td>Resident    </td>\n",
       "        </tr>\n",
       "    </tbody>\n",
       "        <tr>\n",
       "            <td>2021</td> <td>Winter</td> <td>HONR338B</td> <td>GC01   </td> <td>LARC300        </td> <td>HONR348N       </td> <td>nan            </td> <td>Female</td> <td>20  </td> <td>Undergraduate </td> <td>ENGR-ELEC   </td> <td>ENGR    </td> <td>Black or African American</td> <td>Hispanic No</td> <td>US Citizen </td> <td>Resident    </td>\n",
       "        </tr>\n",
       "    </tbody>\n",
       "        <tr>\n",
       "            <td>2021</td> <td>Winter</td> <td>LARC489N</td> <td>GC01   </td> <td>nan            </td> <td>nan            </td> <td>nan            </td> <td>Male  </td> <td>25  </td> <td>Undergraduate </td> <td>LNDSCPE ARCH</td> <td>AGNR    </td> <td>Black or African American</td> <td>Hispanic No</td> <td>Perm Resdnt</td> <td>Resident    </td>\n",
       "        </tr>\n",
       "    </tbody>\n",
       "</table>"
      ],
      "text/plain": [
       "Year | Term   | Course   | Section | Cross listing 1 | Cross listing 2 | Cross listing 3 | Gender | Age  | Student Status | Major        | College  | Race                      | Ethnicity   | Citizenship | Residency\n",
       "2021 | Winter | ENGL391  | GC01    | nan             | nan             | nan             | Male   | 23   | Undergraduate  | CRIM-JUSTICE | BSOS     | Black or African American | Hispanic No | Perm Resdnt | Resident\n",
       "2021 | Winter | ENGL391  | GC01    | nan             | nan             | nan             | Female | 20   | Undergraduate  | BIO SCI:PHNB | CMNS     | Black or African American | Hispanic No | US Citizen  | Resident\n",
       "2021 | Winter | ENGL391  | GC01    | nan             | nan             | nan             | Male   | 23   | Undergraduate  | PHILOSOPHY   | ARHU     | Black or African American | Hispanic No | US Citizen  | Non-resident\n",
       "2021 | Winter | ENGL391  | GC02    | nan             | nan             | nan             | Female | 21   | Undergraduate  | GVPT INTLREL | BSOS     | Black or African American | Hispanic No | US Citizen  | Resident\n",
       "2021 | Winter | HONR338B | GC01    | LARC300         | HONR348N        | nan             | Female | 20   | Undergraduate  | ENGR-ELEC    | ENGR     | Black or African American | Hispanic No | US Citizen  | Resident\n",
       "2021 | Winter | LARC489N | GC01    | nan             | nan             | nan             | Male   | 25   | Undergraduate  | LNDSCPE ARCH | AGNR     | Black or African American | Hispanic No | Perm Resdnt | Resident"
      ]
     },
     "execution_count": 150,
     "metadata": {},
     "output_type": "execute_result"
    }
   ],
   "source": [
    "African_American_W21 = tbl_2.where(\"Race\", are.equal_to(\"Black or African American\"))\n",
    "African_American_W21"
   ]
  },
  {
   "cell_type": "code",
   "execution_count": 151,
   "metadata": {},
   "outputs": [
    {
     "data": {
      "text/plain": [
       "6"
      ]
     },
     "execution_count": 151,
     "metadata": {},
     "output_type": "execute_result"
    }
   ],
   "source": [
    "AA_W21 = African_American_W21.num_rows\n",
    "AA_W21"
   ]
  },
  {
   "cell_type": "markdown",
   "metadata": {},
   "source": [
    "6 African American Students enrolled in Winter 2021"
   ]
  },
  {
   "cell_type": "code",
   "execution_count": 152,
   "metadata": {},
   "outputs": [
    {
     "data": {
      "text/html": [
       "<table border=\"1\" class=\"dataframe\">\n",
       "    <thead>\n",
       "        <tr>\n",
       "            <th>Year</th> <th>Term</th> <th>Course</th> <th>Section</th> <th>Cross listing 1</th> <th>Cross listing 2</th> <th>Cross listing 3</th> <th>Gender</th> <th>Age</th> <th>Student Status</th> <th>Major </th> <th>College </th> <th>Race</th> <th>Ethnicity</th> <th>Citizenship</th> <th>Residency</th>\n",
       "        </tr>\n",
       "    </thead>\n",
       "    <tbody>\n",
       "        <tr>\n",
       "            <td>2021</td> <td>Winter</td> <td>CLAS308G</td> <td>GC01   </td> <td>nan            </td> <td>nan            </td> <td>nan            </td> <td>Male  </td> <td>25  </td> <td>Undergraduate </td> <td>PHILOSOPHY  </td> <td>ARHU    </td> <td>Asian</td> <td>Hispanic No</td> <td>US Citizen </td> <td>Resident </td>\n",
       "        </tr>\n",
       "    </tbody>\n",
       "        <tr>\n",
       "            <td>2021</td> <td>Winter</td> <td>CLAS308G</td> <td>GC01   </td> <td>nan            </td> <td>nan            </td> <td>nan            </td> <td>Female</td> <td>20  </td> <td>Undergraduate </td> <td>COMP ENGIN  </td> <td>ENGR    </td> <td>Asian</td> <td>Hispanic No</td> <td>US Citizen </td> <td>Resident </td>\n",
       "        </tr>\n",
       "    </tbody>\n",
       "        <tr>\n",
       "            <td>2021</td> <td>Winter</td> <td>ENGL391 </td> <td>GC01   </td> <td>nan            </td> <td>nan            </td> <td>nan            </td> <td>Male  </td> <td>22  </td> <td>Undergraduate </td> <td>LTSC UNDECID</td> <td>LTSC    </td> <td>Asian</td> <td>Hispanic No</td> <td>US Citizen </td> <td>Resident </td>\n",
       "        </tr>\n",
       "    </tbody>\n",
       "        <tr>\n",
       "            <td>2021</td> <td>Winter</td> <td>ENGL391 </td> <td>GC01   </td> <td>nan            </td> <td>nan            </td> <td>nan            </td> <td>Female</td> <td>20  </td> <td>Undergraduate </td> <td>ED-ELEM-PRE </td> <td>EDUC    </td> <td>Asian</td> <td>Hispanic No</td> <td>US Citizen </td> <td>Resident </td>\n",
       "        </tr>\n",
       "    </tbody>\n",
       "        <tr>\n",
       "            <td>2021</td> <td>Winter</td> <td>ENGL391 </td> <td>GC02   </td> <td>nan            </td> <td>nan            </td> <td>nan            </td> <td>Male  </td> <td>23  </td> <td>Undergraduate </td> <td>INFO SCI    </td> <td>INFO    </td> <td>Asian</td> <td>Hispanic No</td> <td>US Citizen </td> <td>Resident </td>\n",
       "        </tr>\n",
       "    </tbody>\n",
       "        <tr>\n",
       "            <td>2021</td> <td>Winter</td> <td>ENGL391 </td> <td>GC02   </td> <td>nan            </td> <td>nan            </td> <td>nan            </td> <td>Male  </td> <td>22  </td> <td>Undergraduate </td> <td>BIO SCI:PHNB</td> <td>CMNS    </td> <td>Asian</td> <td>Hispanic No</td> <td>US Citizen </td> <td>Resident </td>\n",
       "        </tr>\n",
       "    </tbody>\n",
       "        <tr>\n",
       "            <td>2021</td> <td>Winter</td> <td>HONR338B</td> <td>GC01   </td> <td>LARC300        </td> <td>HONR348N       </td> <td>nan            </td> <td>Female</td> <td>22  </td> <td>Undergraduate </td> <td>ART HISTORY </td> <td>ARHU    </td> <td>Asian</td> <td>Hispanic No</td> <td>US Citizen </td> <td>Resident </td>\n",
       "        </tr>\n",
       "    </tbody>\n",
       "        <tr>\n",
       "            <td>2021</td> <td>Winter</td> <td>HONR338B</td> <td>GC01   </td> <td>LARC300        </td> <td>HONR348N       </td> <td>nan            </td> <td>Female</td> <td>20  </td> <td>Undergraduate </td> <td>MGMT        </td> <td>BMGT    </td> <td>Asian</td> <td>Hispanic No</td> <td>US Citizen </td> <td>Resident </td>\n",
       "        </tr>\n",
       "    </tbody>\n",
       "        <tr>\n",
       "            <td>2021</td> <td>Winter</td> <td>LARC489N</td> <td>GC01   </td> <td>nan            </td> <td>nan            </td> <td>nan            </td> <td>Female</td> <td>24  </td> <td>Undergraduate </td> <td>LNDSCPE ARCH</td> <td>AGNR    </td> <td>Asian</td> <td>Hispanic No</td> <td>US Citizen </td> <td>Resident </td>\n",
       "        </tr>\n",
       "    </tbody>\n",
       "</table>"
      ],
      "text/plain": [
       "Year | Term   | Course   | Section | Cross listing 1 | Cross listing 2 | Cross listing 3 | Gender | Age  | Student Status | Major        | College  | Race  | Ethnicity   | Citizenship | Residency\n",
       "2021 | Winter | CLAS308G | GC01    | nan             | nan             | nan             | Male   | 25   | Undergraduate  | PHILOSOPHY   | ARHU     | Asian | Hispanic No | US Citizen  | Resident\n",
       "2021 | Winter | CLAS308G | GC01    | nan             | nan             | nan             | Female | 20   | Undergraduate  | COMP ENGIN   | ENGR     | Asian | Hispanic No | US Citizen  | Resident\n",
       "2021 | Winter | ENGL391  | GC01    | nan             | nan             | nan             | Male   | 22   | Undergraduate  | LTSC UNDECID | LTSC     | Asian | Hispanic No | US Citizen  | Resident\n",
       "2021 | Winter | ENGL391  | GC01    | nan             | nan             | nan             | Female | 20   | Undergraduate  | ED-ELEM-PRE  | EDUC     | Asian | Hispanic No | US Citizen  | Resident\n",
       "2021 | Winter | ENGL391  | GC02    | nan             | nan             | nan             | Male   | 23   | Undergraduate  | INFO SCI     | INFO     | Asian | Hispanic No | US Citizen  | Resident\n",
       "2021 | Winter | ENGL391  | GC02    | nan             | nan             | nan             | Male   | 22   | Undergraduate  | BIO SCI:PHNB | CMNS     | Asian | Hispanic No | US Citizen  | Resident\n",
       "2021 | Winter | HONR338B | GC01    | LARC300         | HONR348N        | nan             | Female | 22   | Undergraduate  | ART HISTORY  | ARHU     | Asian | Hispanic No | US Citizen  | Resident\n",
       "2021 | Winter | HONR338B | GC01    | LARC300         | HONR348N        | nan             | Female | 20   | Undergraduate  | MGMT         | BMGT     | Asian | Hispanic No | US Citizen  | Resident\n",
       "2021 | Winter | LARC489N | GC01    | nan             | nan             | nan             | Female | 24   | Undergraduate  | LNDSCPE ARCH | AGNR     | Asian | Hispanic No | US Citizen  | Resident"
      ]
     },
     "execution_count": 152,
     "metadata": {},
     "output_type": "execute_result"
    }
   ],
   "source": [
    "Asian_W21 = tbl_2.where(\"Race\", are.equal_to(\"Asian\"))\n",
    "Asian_W21"
   ]
  },
  {
   "cell_type": "code",
   "execution_count": 153,
   "metadata": {},
   "outputs": [
    {
     "data": {
      "text/plain": [
       "9"
      ]
     },
     "execution_count": 153,
     "metadata": {},
     "output_type": "execute_result"
    }
   ],
   "source": [
    "A_W21 = Asian_W21.num_rows\n",
    "A_W21"
   ]
  },
  {
   "cell_type": "markdown",
   "metadata": {},
   "source": [
    "9 Asian students enrolled in Winter 2021"
   ]
  },
  {
   "cell_type": "code",
   "execution_count": 154,
   "metadata": {},
   "outputs": [
    {
     "data": {
      "text/html": [
       "<table border=\"1\" class=\"dataframe\">\n",
       "    <thead>\n",
       "        <tr>\n",
       "            <th>Year</th> <th>Term</th> <th>Course</th> <th>Section</th> <th>Cross listing 1</th> <th>Cross listing 2</th> <th>Cross listing 3</th> <th>Gender</th> <th>Age</th> <th>Student Status</th> <th>Major </th> <th>College </th> <th>Race</th> <th>Ethnicity</th> <th>Citizenship</th> <th>Residency</th>\n",
       "        </tr>\n",
       "    </thead>\n",
       "    <tbody>\n",
       "        <tr>\n",
       "            <td>2021</td> <td>Winter</td> <td>CLAS308G</td> <td>GC01   </td> <td>nan            </td> <td>nan            </td> <td>nan            </td> <td>Female</td> <td>31  </td> <td>Undergraduate </td> <td>CLASSICS    </td> <td>ARHU    </td> <td>Hispanic</td> <td>Hispanic Yes</td> <td>US Citizen </td> <td>Military    </td>\n",
       "        </tr>\n",
       "    </tbody>\n",
       "        <tr>\n",
       "            <td>2021</td> <td>Winter</td> <td>ENGL391 </td> <td>GC01   </td> <td>nan            </td> <td>nan            </td> <td>nan            </td> <td>Male  </td> <td>24  </td> <td>Undergraduate </td> <td>ENGLISH     </td> <td>ARHU    </td> <td>Hispanic</td> <td>Hispanic Yes</td> <td>US Citizen </td> <td>Resident    </td>\n",
       "        </tr>\n",
       "    </tbody>\n",
       "        <tr>\n",
       "            <td>2021</td> <td>Winter</td> <td>ENGL391 </td> <td>GC01   </td> <td>nan            </td> <td>nan            </td> <td>nan            </td> <td>Female</td> <td>22  </td> <td>Undergraduate </td> <td>PSYCH BS    </td> <td>BSOS    </td> <td>Hispanic</td> <td>Hispanic Yes</td> <td>US Citizen </td> <td>Resident    </td>\n",
       "        </tr>\n",
       "    </tbody>\n",
       "        <tr>\n",
       "            <td>2021</td> <td>Winter</td> <td>ENGL391 </td> <td>GC02   </td> <td>nan            </td> <td>nan            </td> <td>nan            </td> <td>Female</td> <td>24  </td> <td>Undergraduate </td> <td>GVPT INTLREL</td> <td>BSOS    </td> <td>Hispanic</td> <td>Hispanic Yes</td> <td>US Citizen </td> <td>Resident    </td>\n",
       "        </tr>\n",
       "    </tbody>\n",
       "        <tr>\n",
       "            <td>2021</td> <td>Winter</td> <td>HONR338B</td> <td>GC01   </td> <td>LARC300        </td> <td>HONR348N       </td> <td>nan            </td> <td>Male  </td> <td>21  </td> <td>Undergraduate </td> <td>PHYSICS     </td> <td>CMNS    </td> <td>Hispanic</td> <td>Hispanic Yes</td> <td>US Citizen </td> <td>Non-resident</td>\n",
       "        </tr>\n",
       "    </tbody>\n",
       "        <tr>\n",
       "            <td>2021</td> <td>Winter</td> <td>HONR338B</td> <td>GC01   </td> <td>LARC300        </td> <td>HONR348N       </td> <td>nan            </td> <td>Female</td> <td>19  </td> <td>Undergraduate </td> <td>ENGR-ELEC   </td> <td>ENGR    </td> <td>Hispanic</td> <td>Hispanic Yes</td> <td>US Citizen </td> <td>Resident    </td>\n",
       "        </tr>\n",
       "    </tbody>\n",
       "</table>"
      ],
      "text/plain": [
       "Year | Term   | Course   | Section | Cross listing 1 | Cross listing 2 | Cross listing 3 | Gender | Age  | Student Status | Major        | College  | Race     | Ethnicity    | Citizenship | Residency\n",
       "2021 | Winter | CLAS308G | GC01    | nan             | nan             | nan             | Female | 31   | Undergraduate  | CLASSICS     | ARHU     | Hispanic | Hispanic Yes | US Citizen  | Military\n",
       "2021 | Winter | ENGL391  | GC01    | nan             | nan             | nan             | Male   | 24   | Undergraduate  | ENGLISH      | ARHU     | Hispanic | Hispanic Yes | US Citizen  | Resident\n",
       "2021 | Winter | ENGL391  | GC01    | nan             | nan             | nan             | Female | 22   | Undergraduate  | PSYCH BS     | BSOS     | Hispanic | Hispanic Yes | US Citizen  | Resident\n",
       "2021 | Winter | ENGL391  | GC02    | nan             | nan             | nan             | Female | 24   | Undergraduate  | GVPT INTLREL | BSOS     | Hispanic | Hispanic Yes | US Citizen  | Resident\n",
       "2021 | Winter | HONR338B | GC01    | LARC300         | HONR348N        | nan             | Male   | 21   | Undergraduate  | PHYSICS      | CMNS     | Hispanic | Hispanic Yes | US Citizen  | Non-resident\n",
       "2021 | Winter | HONR338B | GC01    | LARC300         | HONR348N        | nan             | Female | 19   | Undergraduate  | ENGR-ELEC    | ENGR     | Hispanic | Hispanic Yes | US Citizen  | Resident"
      ]
     },
     "execution_count": 154,
     "metadata": {},
     "output_type": "execute_result"
    }
   ],
   "source": [
    "Hispanic_W21 = tbl_2.where(\"Race\", are.equal_to(\"Hispanic\"))\n",
    "Hispanic_W21"
   ]
  },
  {
   "cell_type": "code",
   "execution_count": 155,
   "metadata": {},
   "outputs": [
    {
     "data": {
      "text/plain": [
       "6"
      ]
     },
     "execution_count": 155,
     "metadata": {},
     "output_type": "execute_result"
    }
   ],
   "source": [
    "H_W21 = Hispanic_W21.num_rows\n",
    "H_W21"
   ]
  },
  {
   "cell_type": "markdown",
   "metadata": {},
   "source": [
    "6 Hispanic Students Enrolled in Winter 2021"
   ]
  },
  {
   "cell_type": "code",
   "execution_count": 156,
   "metadata": {},
   "outputs": [
    {
     "data": {
      "text/html": [
       "<table border=\"1\" class=\"dataframe\">\n",
       "    <thead>\n",
       "        <tr>\n",
       "            <th>Year</th> <th>Term</th> <th>Course</th> <th>Section</th> <th>Cross listing 1</th> <th>Cross listing 2</th> <th>Cross listing 3</th> <th>Gender</th> <th>Age</th> <th>Student Status</th> <th>Major </th> <th>College </th> <th>Race</th> <th>Ethnicity</th> <th>Citizenship</th> <th>Residency</th>\n",
       "        </tr>\n",
       "    </thead>\n",
       "    <tbody>\n",
       "        <tr>\n",
       "            <td>2021</td> <td>Winter</td> <td>ARTH369D</td> <td>GC01   </td> <td>nan            </td> <td>nan            </td> <td>nan            </td> <td>Female</td> <td>39  </td> <td>Undergraduate </td> <td>ART HISTORY </td> <td>ARHU    </td> <td>White</td> <td>Hispanic No</td> <td>US Citizen </td> <td>Resident    </td>\n",
       "        </tr>\n",
       "    </tbody>\n",
       "        <tr>\n",
       "            <td>2021</td> <td>Winter</td> <td>CLAS308G</td> <td>GC01   </td> <td>nan            </td> <td>nan            </td> <td>nan            </td> <td>Female</td> <td>20  </td> <td>Undergraduate </td> <td>JOURNALISM  </td> <td>JOUR    </td> <td>White</td> <td>Hispanic No</td> <td>US Citizen </td> <td>Resident    </td>\n",
       "        </tr>\n",
       "    </tbody>\n",
       "        <tr>\n",
       "            <td>2021</td> <td>Winter</td> <td>CLAS308G</td> <td>GC01   </td> <td>nan            </td> <td>nan            </td> <td>nan            </td> <td>Male  </td> <td>19  </td> <td>Undergraduate </td> <td>PHYSICS     </td> <td>CMNS    </td> <td>White</td> <td>Hispanic No</td> <td>US Citizen </td> <td>Resident    </td>\n",
       "        </tr>\n",
       "    </tbody>\n",
       "        <tr>\n",
       "            <td>2021</td> <td>Winter</td> <td>CLAS308G</td> <td>GC01   </td> <td>nan            </td> <td>nan            </td> <td>nan            </td> <td>Male  </td> <td>20  </td> <td>Undergraduate </td> <td>CLASSICS    </td> <td>ARHU    </td> <td>White</td> <td>Hispanic No</td> <td>US Citizen </td> <td>Non-resident</td>\n",
       "        </tr>\n",
       "    </tbody>\n",
       "        <tr>\n",
       "            <td>2021</td> <td>Winter</td> <td>ENGL391 </td> <td>GC01   </td> <td>nan            </td> <td>nan            </td> <td>nan            </td> <td>Male  </td> <td>23  </td> <td>Undergraduate </td> <td>PUB POLICY  </td> <td>PLCY    </td> <td>White</td> <td>Hispanic No</td> <td>US Citizen </td> <td>Resident    </td>\n",
       "        </tr>\n",
       "    </tbody>\n",
       "        <tr>\n",
       "            <td>2021</td> <td>Winter</td> <td>ENGL391 </td> <td>GC01   </td> <td>nan            </td> <td>nan            </td> <td>nan            </td> <td>Male  </td> <td>21  </td> <td>Undergraduate </td> <td>OM BA       </td> <td>BMGT    </td> <td>White</td> <td>Hispanic No</td> <td>US Citizen </td> <td>Resident    </td>\n",
       "        </tr>\n",
       "    </tbody>\n",
       "        <tr>\n",
       "            <td>2021</td> <td>Winter</td> <td>ENGL391 </td> <td>GC01   </td> <td>nan            </td> <td>nan            </td> <td>nan            </td> <td>Female</td> <td>20  </td> <td>Undergraduate </td> <td>BIO SCI:GENB</td> <td>CMNS    </td> <td>White</td> <td>Hispanic No</td> <td>US Citizen </td> <td>Non-resident</td>\n",
       "        </tr>\n",
       "    </tbody>\n",
       "        <tr>\n",
       "            <td>2021</td> <td>Winter</td> <td>ENGL391 </td> <td>GC01   </td> <td>nan            </td> <td>nan            </td> <td>nan            </td> <td>Male  </td> <td>20  </td> <td>Undergraduate </td> <td>MATHEMATICS </td> <td>CMNS    </td> <td>White</td> <td>Hispanic No</td> <td>US Citizen </td> <td>Resident    </td>\n",
       "        </tr>\n",
       "    </tbody>\n",
       "        <tr>\n",
       "            <td>2021</td> <td>Winter</td> <td>ENGL391 </td> <td>GC01   </td> <td>nan            </td> <td>nan            </td> <td>nan            </td> <td>Female</td> <td>20  </td> <td>Undergraduate </td> <td>HISTORY     </td> <td>ARHU    </td> <td>White</td> <td>Hispanic No</td> <td>US Citizen </td> <td>Resident    </td>\n",
       "        </tr>\n",
       "    </tbody>\n",
       "        <tr>\n",
       "            <td>2021</td> <td>Winter</td> <td>ENGL391 </td> <td>GC01   </td> <td>nan            </td> <td>nan            </td> <td>nan            </td> <td>Female</td> <td>22  </td> <td>Undergraduate </td> <td>THEATRE     </td> <td>ARHU    </td> <td>White</td> <td>Hispanic No</td> <td>US Citizen </td> <td>Resident    </td>\n",
       "        </tr>\n",
       "    </tbody>\n",
       "</table>\n",
       "<p>... (20 rows omitted)</p>"
      ],
      "text/plain": [
       "Year | Term   | Course   | Section | Cross listing 1 | Cross listing 2 | Cross listing 3 | Gender | Age  | Student Status | Major        | College  | Race  | Ethnicity   | Citizenship | Residency\n",
       "2021 | Winter | ARTH369D | GC01    | nan             | nan             | nan             | Female | 39   | Undergraduate  | ART HISTORY  | ARHU     | White | Hispanic No | US Citizen  | Resident\n",
       "2021 | Winter | CLAS308G | GC01    | nan             | nan             | nan             | Female | 20   | Undergraduate  | JOURNALISM   | JOUR     | White | Hispanic No | US Citizen  | Resident\n",
       "2021 | Winter | CLAS308G | GC01    | nan             | nan             | nan             | Male   | 19   | Undergraduate  | PHYSICS      | CMNS     | White | Hispanic No | US Citizen  | Resident\n",
       "2021 | Winter | CLAS308G | GC01    | nan             | nan             | nan             | Male   | 20   | Undergraduate  | CLASSICS     | ARHU     | White | Hispanic No | US Citizen  | Non-resident\n",
       "2021 | Winter | ENGL391  | GC01    | nan             | nan             | nan             | Male   | 23   | Undergraduate  | PUB POLICY   | PLCY     | White | Hispanic No | US Citizen  | Resident\n",
       "2021 | Winter | ENGL391  | GC01    | nan             | nan             | nan             | Male   | 21   | Undergraduate  | OM BA        | BMGT     | White | Hispanic No | US Citizen  | Resident\n",
       "2021 | Winter | ENGL391  | GC01    | nan             | nan             | nan             | Female | 20   | Undergraduate  | BIO SCI:GENB | CMNS     | White | Hispanic No | US Citizen  | Non-resident\n",
       "2021 | Winter | ENGL391  | GC01    | nan             | nan             | nan             | Male   | 20   | Undergraduate  | MATHEMATICS  | CMNS     | White | Hispanic No | US Citizen  | Resident\n",
       "2021 | Winter | ENGL391  | GC01    | nan             | nan             | nan             | Female | 20   | Undergraduate  | HISTORY      | ARHU     | White | Hispanic No | US Citizen  | Resident\n",
       "2021 | Winter | ENGL391  | GC01    | nan             | nan             | nan             | Female | 22   | Undergraduate  | THEATRE      | ARHU     | White | Hispanic No | US Citizen  | Resident\n",
       "... (20 rows omitted)"
      ]
     },
     "execution_count": 156,
     "metadata": {},
     "output_type": "execute_result"
    }
   ],
   "source": [
    "White_W21 = tbl_2.where(\"Race\", are.equal_to(\"White\"))\n",
    "White_W21"
   ]
  },
  {
   "cell_type": "code",
   "execution_count": 157,
   "metadata": {},
   "outputs": [
    {
     "data": {
      "text/plain": [
       "30"
      ]
     },
     "execution_count": 157,
     "metadata": {},
     "output_type": "execute_result"
    }
   ],
   "source": [
    "W_W21 = White_W21.num_rows\n",
    "W_W21"
   ]
  },
  {
   "cell_type": "markdown",
   "metadata": {},
   "source": [
    "30 white students enrolled in Winter 2021"
   ]
  },
  {
   "cell_type": "code",
   "execution_count": 158,
   "metadata": {},
   "outputs": [
    {
     "data": {
      "text/html": [
       "<table border=\"1\" class=\"dataframe\">\n",
       "    <thead>\n",
       "        <tr>\n",
       "            <th>Year</th> <th>Term</th> <th>Course</th> <th>Section</th> <th>Cross listing 1</th> <th>Cross listing 2</th> <th>Cross listing 3</th> <th>Gender</th> <th>Age</th> <th>Student Status</th> <th>Major </th> <th>College </th> <th>Race</th> <th>Ethnicity</th> <th>Citizenship</th> <th>Residency</th>\n",
       "        </tr>\n",
       "    </thead>\n",
       "    <tbody>\n",
       "        <tr>\n",
       "            <td>2021</td> <td>Spring</td> <td>ARCH601</td> <td>0101   </td> <td>nan            </td> <td>nan            </td> <td>nan            </td> <td>Female</td> <td>24  </td> <td>Graduate      </td> <td>ARCHITECTURE</td> <td>ARCH    </td> <td>Hispanic                 </td> <td>Hispanic Yes    </td> <td>US Citizen </td> <td>Resident    </td>\n",
       "        </tr>\n",
       "    </tbody>\n",
       "        <tr>\n",
       "            <td>2021</td> <td>Spring</td> <td>ARCH601</td> <td>0101   </td> <td>nan            </td> <td>nan            </td> <td>nan            </td> <td>Female</td> <td>24  </td> <td>Graduate      </td> <td>ARCH/COMM PL</td> <td>ARCH    </td> <td>Hispanic                 </td> <td>Hispanic Yes    </td> <td>Perm Resdnt</td> <td>Resident    </td>\n",
       "        </tr>\n",
       "    </tbody>\n",
       "        <tr>\n",
       "            <td>2021</td> <td>Spring</td> <td>ARCH601</td> <td>0101   </td> <td>nan            </td> <td>nan            </td> <td>nan            </td> <td>Male  </td> <td>22  </td> <td>Graduate      </td> <td>ARCHITECTURE</td> <td>ARCH    </td> <td>White                    </td> <td>Hispanic No     </td> <td>US Citizen </td> <td>Resident    </td>\n",
       "        </tr>\n",
       "    </tbody>\n",
       "        <tr>\n",
       "            <td>2021</td> <td>Spring</td> <td>ARCH601</td> <td>0101   </td> <td>nan            </td> <td>nan            </td> <td>nan            </td> <td>Female</td> <td>22  </td> <td>Graduate      </td> <td>ARCHITECTURE</td> <td>ARCH    </td> <td>Hispanic                 </td> <td>Hispanic Yes    </td> <td>US Citizen </td> <td>Resident    </td>\n",
       "        </tr>\n",
       "    </tbody>\n",
       "        <tr>\n",
       "            <td>2021</td> <td>Spring</td> <td>ARCH601</td> <td>0101   </td> <td>nan            </td> <td>nan            </td> <td>nan            </td> <td>Female</td> <td>22  </td> <td>Graduate      </td> <td>ARCHITECTURE</td> <td>ARCH    </td> <td>White                    </td> <td>Hispanic No     </td> <td>US Citizen </td> <td>Resident    </td>\n",
       "        </tr>\n",
       "    </tbody>\n",
       "        <tr>\n",
       "            <td>2021</td> <td>Spring</td> <td>ARCH601</td> <td>0101   </td> <td>nan            </td> <td>nan            </td> <td>nan            </td> <td>Female</td> <td>22  </td> <td>Graduate      </td> <td>ARCHITECTURE</td> <td>ARCH    </td> <td>Black or African American</td> <td>Hispanic No     </td> <td>US Citizen </td> <td>Resident    </td>\n",
       "        </tr>\n",
       "    </tbody>\n",
       "        <tr>\n",
       "            <td>2021</td> <td>Spring</td> <td>ARCH601</td> <td>0101   </td> <td>nan            </td> <td>nan            </td> <td>nan            </td> <td>Female</td> <td>27  </td> <td>Graduate      </td> <td>ARCHITECTURE</td> <td>ARCH    </td> <td>Hispanic                 </td> <td>Hispanic Yes    </td> <td>US Citizen </td> <td>Resident    </td>\n",
       "        </tr>\n",
       "    </tbody>\n",
       "        <tr>\n",
       "            <td>2021</td> <td>Spring</td> <td>ARCH601</td> <td>0101   </td> <td>nan            </td> <td>nan            </td> <td>nan            </td> <td>Female</td> <td>42  </td> <td>Graduate      </td> <td>ARCHITECTURE</td> <td>ARCH    </td> <td>Asian                    </td> <td>Hispanic No     </td> <td>US Citizen </td> <td>Resident    </td>\n",
       "        </tr>\n",
       "    </tbody>\n",
       "        <tr>\n",
       "            <td>2021</td> <td>Spring</td> <td>ARCH601</td> <td>0101   </td> <td>nan            </td> <td>nan            </td> <td>nan            </td> <td>Male  </td> <td>31  </td> <td>Graduate      </td> <td>HISPRES/ARCH</td> <td>ARCH    </td> <td>Unknown                  </td> <td>Hispanic Unknown</td> <td>US Citizen </td> <td>Non-resident</td>\n",
       "        </tr>\n",
       "    </tbody>\n",
       "        <tr>\n",
       "            <td>2021</td> <td>Spring</td> <td>ARCH601</td> <td>0101   </td> <td>nan            </td> <td>nan            </td> <td>nan            </td> <td>Female</td> <td>36  </td> <td>Graduate      </td> <td>ARCHITECTURE</td> <td>ARCH    </td> <td>Two or More              </td> <td>Hispanic No     </td> <td>US Citizen </td> <td>Resident    </td>\n",
       "        </tr>\n",
       "    </tbody>\n",
       "</table>\n",
       "<p>... (449 rows omitted)</p>"
      ],
      "text/plain": [
       "Year | Term   | Course  | Section | Cross listing 1 | Cross listing 2 | Cross listing 3 | Gender | Age  | Student Status | Major        | College  | Race                      | Ethnicity        | Citizenship | Residency\n",
       "2021 | Spring | ARCH601 | 0101    | nan             | nan             | nan             | Female | 24   | Graduate       | ARCHITECTURE | ARCH     | Hispanic                  | Hispanic Yes     | US Citizen  | Resident\n",
       "2021 | Spring | ARCH601 | 0101    | nan             | nan             | nan             | Female | 24   | Graduate       | ARCH/COMM PL | ARCH     | Hispanic                  | Hispanic Yes     | Perm Resdnt | Resident\n",
       "2021 | Spring | ARCH601 | 0101    | nan             | nan             | nan             | Male   | 22   | Graduate       | ARCHITECTURE | ARCH     | White                     | Hispanic No      | US Citizen  | Resident\n",
       "2021 | Spring | ARCH601 | 0101    | nan             | nan             | nan             | Female | 22   | Graduate       | ARCHITECTURE | ARCH     | Hispanic                  | Hispanic Yes     | US Citizen  | Resident\n",
       "2021 | Spring | ARCH601 | 0101    | nan             | nan             | nan             | Female | 22   | Graduate       | ARCHITECTURE | ARCH     | White                     | Hispanic No      | US Citizen  | Resident\n",
       "2021 | Spring | ARCH601 | 0101    | nan             | nan             | nan             | Female | 22   | Graduate       | ARCHITECTURE | ARCH     | Black or African American | Hispanic No      | US Citizen  | Resident\n",
       "2021 | Spring | ARCH601 | 0101    | nan             | nan             | nan             | Female | 27   | Graduate       | ARCHITECTURE | ARCH     | Hispanic                  | Hispanic Yes     | US Citizen  | Resident\n",
       "2021 | Spring | ARCH601 | 0101    | nan             | nan             | nan             | Female | 42   | Graduate       | ARCHITECTURE | ARCH     | Asian                     | Hispanic No      | US Citizen  | Resident\n",
       "2021 | Spring | ARCH601 | 0101    | nan             | nan             | nan             | Male   | 31   | Graduate       | HISPRES/ARCH | ARCH     | Unknown                   | Hispanic Unknown | US Citizen  | Non-resident\n",
       "2021 | Spring | ARCH601 | 0101    | nan             | nan             | nan             | Female | 36   | Graduate       | ARCHITECTURE | ARCH     | Two or More               | Hispanic No      | US Citizen  | Resident\n",
       "... (449 rows omitted)"
      ]
     },
     "execution_count": 158,
     "metadata": {},
     "output_type": "execute_result"
    }
   ],
   "source": [
    "tbl_3 = Table.read_table('../data/Data_OIA.xlsx - Spring 2021.csv')\n",
    "tbl_3"
   ]
  },
  {
   "cell_type": "code",
   "execution_count": 159,
   "metadata": {},
   "outputs": [
    {
     "data": {
      "text/html": [
       "<table border=\"1\" class=\"dataframe\">\n",
       "    <thead>\n",
       "        <tr>\n",
       "            <th>Year</th> <th>Term</th> <th>Course</th> <th>Section</th> <th>Cross listing 1</th> <th>Cross listing 2</th> <th>Cross listing 3</th> <th>Gender</th> <th>Age</th> <th>Student Status</th> <th>Major </th> <th>College </th> <th>Race</th> <th>Ethnicity</th> <th>Citizenship</th> <th>Residency</th>\n",
       "        </tr>\n",
       "    </thead>\n",
       "    <tbody>\n",
       "        <tr>\n",
       "            <td>2021</td> <td>Spring</td> <td>ARCH601</td> <td>0101   </td> <td>nan            </td> <td>nan            </td> <td>nan            </td> <td>Female</td> <td>22  </td> <td>Graduate      </td> <td>ARCHITECTURE</td> <td>ARCH    </td> <td>Black or African American</td> <td>Hispanic No</td> <td>US Citizen     </td> <td>Resident                      </td>\n",
       "        </tr>\n",
       "    </tbody>\n",
       "        <tr>\n",
       "            <td>2021</td> <td>Spring</td> <td>AREC360</td> <td>0101   </td> <td>nan            </td> <td>nan            </td> <td>nan            </td> <td>Female</td> <td>21  </td> <td>Undergraduate </td> <td>BIO SCI:PHNB</td> <td>CMNS    </td> <td>Black or African American</td> <td>Hispanic No</td> <td>Perm Resdnt    </td> <td>Resident                      </td>\n",
       "        </tr>\n",
       "    </tbody>\n",
       "        <tr>\n",
       "            <td>2021</td> <td>Spring</td> <td>BIOE461</td> <td>0101   </td> <td>nan            </td> <td>nan            </td> <td>nan            </td> <td>Female</td> <td>24  </td> <td>Undergraduate </td> <td>BIO ENGR    </td> <td>ENGR    </td> <td>Black or African American</td> <td>Hispanic No</td> <td>US Citizen     </td> <td>Resident                      </td>\n",
       "        </tr>\n",
       "    </tbody>\n",
       "        <tr>\n",
       "            <td>2021</td> <td>Spring</td> <td>BIOE461</td> <td>0101   </td> <td>nan            </td> <td>nan            </td> <td>nan            </td> <td>Male  </td> <td>23  </td> <td>Undergraduate </td> <td>BIO ENGR    </td> <td>ENGR    </td> <td>Black or African American</td> <td>Hispanic No</td> <td>Deferred Action</td> <td>USM Nonresident Tuition Exempt</td>\n",
       "        </tr>\n",
       "    </tbody>\n",
       "        <tr>\n",
       "            <td>2021</td> <td>Spring</td> <td>BIOE461</td> <td>0101   </td> <td>nan            </td> <td>nan            </td> <td>nan            </td> <td>Female</td> <td>21  </td> <td>Undergraduate </td> <td>BIO ENGR    </td> <td>ENGR    </td> <td>Black or African American</td> <td>Hispanic No</td> <td>Asylee         </td> <td>Resident                      </td>\n",
       "        </tr>\n",
       "    </tbody>\n",
       "        <tr>\n",
       "            <td>2021</td> <td>Spring</td> <td>BIOE461</td> <td>0101   </td> <td>nan            </td> <td>nan            </td> <td>nan            </td> <td>Male  </td> <td>20  </td> <td>Undergraduate </td> <td>BIO ENGR    </td> <td>ENGR    </td> <td>Black or African American</td> <td>Hispanic No</td> <td>US Citizen     </td> <td>Resident                      </td>\n",
       "        </tr>\n",
       "    </tbody>\n",
       "        <tr>\n",
       "            <td>2021</td> <td>Spring</td> <td>BIOE461</td> <td>0101   </td> <td>nan            </td> <td>nan            </td> <td>nan            </td> <td>Female</td> <td>21  </td> <td>Undergraduate </td> <td>BIO ENGR    </td> <td>ENGR    </td> <td>Black or African American</td> <td>Hispanic No</td> <td>Perm Resdnt    </td> <td>Non-resident                  </td>\n",
       "        </tr>\n",
       "    </tbody>\n",
       "        <tr>\n",
       "            <td>2021</td> <td>Spring</td> <td>BIOE461</td> <td>0101   </td> <td>nan            </td> <td>nan            </td> <td>nan            </td> <td>Female</td> <td>21  </td> <td>Undergraduate </td> <td>BIO ENGR    </td> <td>ENGR    </td> <td>Black or African American</td> <td>Hispanic No</td> <td>US Citizen     </td> <td>Resident                      </td>\n",
       "        </tr>\n",
       "    </tbody>\n",
       "        <tr>\n",
       "            <td>2021</td> <td>Spring</td> <td>BIOE461</td> <td>0101   </td> <td>nan            </td> <td>nan            </td> <td>nan            </td> <td>Female</td> <td>20  </td> <td>Undergraduate </td> <td>BIO ENGR    </td> <td>ENGR    </td> <td>Black or African American</td> <td>Hispanic No</td> <td>US Citizen     </td> <td>Resident                      </td>\n",
       "        </tr>\n",
       "    </tbody>\n",
       "        <tr>\n",
       "            <td>2021</td> <td>Spring</td> <td>BIOE461</td> <td>0101   </td> <td>nan            </td> <td>nan            </td> <td>nan            </td> <td>Female</td> <td>28  </td> <td>Undergraduate </td> <td>BIO ENGR    </td> <td>ENGR    </td> <td>Black or African American</td> <td>Hispanic No</td> <td>Perm Resdnt    </td> <td>Resident                      </td>\n",
       "        </tr>\n",
       "    </tbody>\n",
       "</table>\n",
       "<p>... (59 rows omitted)</p>"
      ],
      "text/plain": [
       "Year | Term   | Course  | Section | Cross listing 1 | Cross listing 2 | Cross listing 3 | Gender | Age  | Student Status | Major        | College  | Race                      | Ethnicity   | Citizenship     | Residency\n",
       "2021 | Spring | ARCH601 | 0101    | nan             | nan             | nan             | Female | 22   | Graduate       | ARCHITECTURE | ARCH     | Black or African American | Hispanic No | US Citizen      | Resident\n",
       "2021 | Spring | AREC360 | 0101    | nan             | nan             | nan             | Female | 21   | Undergraduate  | BIO SCI:PHNB | CMNS     | Black or African American | Hispanic No | Perm Resdnt     | Resident\n",
       "2021 | Spring | BIOE461 | 0101    | nan             | nan             | nan             | Female | 24   | Undergraduate  | BIO ENGR     | ENGR     | Black or African American | Hispanic No | US Citizen      | Resident\n",
       "2021 | Spring | BIOE461 | 0101    | nan             | nan             | nan             | Male   | 23   | Undergraduate  | BIO ENGR     | ENGR     | Black or African American | Hispanic No | Deferred Action | USM Nonresident Tuition Exempt\n",
       "2021 | Spring | BIOE461 | 0101    | nan             | nan             | nan             | Female | 21   | Undergraduate  | BIO ENGR     | ENGR     | Black or African American | Hispanic No | Asylee          | Resident\n",
       "2021 | Spring | BIOE461 | 0101    | nan             | nan             | nan             | Male   | 20   | Undergraduate  | BIO ENGR     | ENGR     | Black or African American | Hispanic No | US Citizen      | Resident\n",
       "2021 | Spring | BIOE461 | 0101    | nan             | nan             | nan             | Female | 21   | Undergraduate  | BIO ENGR     | ENGR     | Black or African American | Hispanic No | Perm Resdnt     | Non-resident\n",
       "2021 | Spring | BIOE461 | 0101    | nan             | nan             | nan             | Female | 21   | Undergraduate  | BIO ENGR     | ENGR     | Black or African American | Hispanic No | US Citizen      | Resident\n",
       "2021 | Spring | BIOE461 | 0101    | nan             | nan             | nan             | Female | 20   | Undergraduate  | BIO ENGR     | ENGR     | Black or African American | Hispanic No | US Citizen      | Resident\n",
       "2021 | Spring | BIOE461 | 0101    | nan             | nan             | nan             | Female | 28   | Undergraduate  | BIO ENGR     | ENGR     | Black or African American | Hispanic No | Perm Resdnt     | Resident\n",
       "... (59 rows omitted)"
      ]
     },
     "execution_count": 159,
     "metadata": {},
     "output_type": "execute_result"
    }
   ],
   "source": [
    "African_American_SP21 = tbl_3.where(\"Race\", are.equal_to(\"Black or African American\"))\n",
    "African_American_SP21"
   ]
  },
  {
   "cell_type": "code",
   "execution_count": 160,
   "metadata": {},
   "outputs": [
    {
     "data": {
      "text/plain": [
       "69"
      ]
     },
     "execution_count": 160,
     "metadata": {},
     "output_type": "execute_result"
    }
   ],
   "source": [
    "AA_SP21 = African_American_SP21.num_rows\n",
    "AA_SP21"
   ]
  },
  {
   "cell_type": "markdown",
   "metadata": {},
   "source": [
    "69 African American Students enrolled in Spring 2021"
   ]
  },
  {
   "cell_type": "code",
   "execution_count": 161,
   "metadata": {},
   "outputs": [
    {
     "data": {
      "text/html": [
       "<table border=\"1\" class=\"dataframe\">\n",
       "    <thead>\n",
       "        <tr>\n",
       "            <th>Year</th> <th>Term</th> <th>Course</th> <th>Section</th> <th>Cross listing 1</th> <th>Cross listing 2</th> <th>Cross listing 3</th> <th>Gender</th> <th>Age</th> <th>Student Status</th> <th>Major </th> <th>College </th> <th>Race</th> <th>Ethnicity</th> <th>Citizenship</th> <th>Residency</th>\n",
       "        </tr>\n",
       "    </thead>\n",
       "    <tbody>\n",
       "        <tr>\n",
       "            <td>2021</td> <td>Spring</td> <td>ARCH601</td> <td>0101   </td> <td>nan            </td> <td>nan            </td> <td>nan            </td> <td>Female</td> <td>42  </td> <td>Graduate      </td> <td>ARCHITECTURE</td> <td>ARCH    </td> <td>Asian</td> <td>Hispanic No</td> <td>US Citizen </td> <td>Resident </td>\n",
       "        </tr>\n",
       "    </tbody>\n",
       "        <tr>\n",
       "            <td>2021</td> <td>Spring</td> <td>AREC360</td> <td>0101   </td> <td>nan            </td> <td>nan            </td> <td>nan            </td> <td>Male  </td> <td>21  </td> <td>Undergraduate </td> <td>BIO SCI:PHNB</td> <td>CMNS    </td> <td>Asian</td> <td>Hispanic No</td> <td>US Citizen </td> <td>Resident </td>\n",
       "        </tr>\n",
       "    </tbody>\n",
       "        <tr>\n",
       "            <td>2021</td> <td>Spring</td> <td>AREC360</td> <td>0101   </td> <td>nan            </td> <td>nan            </td> <td>nan            </td> <td>Female</td> <td>19  </td> <td>Undergraduate </td> <td>SOCIOLOGY   </td> <td>BSOS    </td> <td>Asian</td> <td>Hispanic No</td> <td>US Citizen </td> <td>Resident </td>\n",
       "        </tr>\n",
       "    </tbody>\n",
       "        <tr>\n",
       "            <td>2021</td> <td>Spring</td> <td>BIOE461</td> <td>0101   </td> <td>nan            </td> <td>nan            </td> <td>nan            </td> <td>Female</td> <td>21  </td> <td>Undergraduate </td> <td>BIO ENGR    </td> <td>ENGR    </td> <td>Asian</td> <td>Hispanic No</td> <td>US Citizen </td> <td>Resident </td>\n",
       "        </tr>\n",
       "    </tbody>\n",
       "        <tr>\n",
       "            <td>2021</td> <td>Spring</td> <td>BIOE461</td> <td>0101   </td> <td>nan            </td> <td>nan            </td> <td>nan            </td> <td>Male  </td> <td>21  </td> <td>Undergraduate </td> <td>BIO ENGR    </td> <td>ENGR    </td> <td>Asian</td> <td>Hispanic No</td> <td>US Citizen </td> <td>Resident </td>\n",
       "        </tr>\n",
       "    </tbody>\n",
       "        <tr>\n",
       "            <td>2021</td> <td>Spring</td> <td>BIOE461</td> <td>0101   </td> <td>nan            </td> <td>nan            </td> <td>nan            </td> <td>Female</td> <td>22  </td> <td>Undergraduate </td> <td>BIO ENGR    </td> <td>ENGR    </td> <td>Asian</td> <td>Hispanic No</td> <td>US Citizen </td> <td>Resident </td>\n",
       "        </tr>\n",
       "    </tbody>\n",
       "        <tr>\n",
       "            <td>2021</td> <td>Spring</td> <td>BIOE461</td> <td>0101   </td> <td>nan            </td> <td>nan            </td> <td>nan            </td> <td>Male  </td> <td>21  </td> <td>Undergraduate </td> <td>BIO ENGR    </td> <td>ENGR    </td> <td>Asian</td> <td>Hispanic No</td> <td>US Citizen </td> <td>Resident </td>\n",
       "        </tr>\n",
       "    </tbody>\n",
       "        <tr>\n",
       "            <td>2021</td> <td>Spring</td> <td>BIOE461</td> <td>0101   </td> <td>nan            </td> <td>nan            </td> <td>nan            </td> <td>Male  </td> <td>21  </td> <td>Undergraduate </td> <td>BIO ENGR    </td> <td>ENGR    </td> <td>Asian</td> <td>Hispanic No</td> <td>US Citizen </td> <td>Resident </td>\n",
       "        </tr>\n",
       "    </tbody>\n",
       "        <tr>\n",
       "            <td>2021</td> <td>Spring</td> <td>BIOE461</td> <td>0101   </td> <td>nan            </td> <td>nan            </td> <td>nan            </td> <td>Male  </td> <td>22  </td> <td>Undergraduate </td> <td>BIO ENGR    </td> <td>ENGR    </td> <td>Asian</td> <td>Hispanic No</td> <td>US Citizen </td> <td>Resident </td>\n",
       "        </tr>\n",
       "    </tbody>\n",
       "        <tr>\n",
       "            <td>2021</td> <td>Spring</td> <td>BIOE461</td> <td>0101   </td> <td>nan            </td> <td>nan            </td> <td>nan            </td> <td>Male  </td> <td>21  </td> <td>Undergraduate </td> <td>BIO ENGR    </td> <td>ENGR    </td> <td>Asian</td> <td>Hispanic No</td> <td>Perm Resdnt</td> <td>Resident </td>\n",
       "        </tr>\n",
       "    </tbody>\n",
       "</table>\n",
       "<p>... (80 rows omitted)</p>"
      ],
      "text/plain": [
       "Year | Term   | Course  | Section | Cross listing 1 | Cross listing 2 | Cross listing 3 | Gender | Age  | Student Status | Major        | College  | Race  | Ethnicity   | Citizenship | Residency\n",
       "2021 | Spring | ARCH601 | 0101    | nan             | nan             | nan             | Female | 42   | Graduate       | ARCHITECTURE | ARCH     | Asian | Hispanic No | US Citizen  | Resident\n",
       "2021 | Spring | AREC360 | 0101    | nan             | nan             | nan             | Male   | 21   | Undergraduate  | BIO SCI:PHNB | CMNS     | Asian | Hispanic No | US Citizen  | Resident\n",
       "2021 | Spring | AREC360 | 0101    | nan             | nan             | nan             | Female | 19   | Undergraduate  | SOCIOLOGY    | BSOS     | Asian | Hispanic No | US Citizen  | Resident\n",
       "2021 | Spring | BIOE461 | 0101    | nan             | nan             | nan             | Female | 21   | Undergraduate  | BIO ENGR     | ENGR     | Asian | Hispanic No | US Citizen  | Resident\n",
       "2021 | Spring | BIOE461 | 0101    | nan             | nan             | nan             | Male   | 21   | Undergraduate  | BIO ENGR     | ENGR     | Asian | Hispanic No | US Citizen  | Resident\n",
       "2021 | Spring | BIOE461 | 0101    | nan             | nan             | nan             | Female | 22   | Undergraduate  | BIO ENGR     | ENGR     | Asian | Hispanic No | US Citizen  | Resident\n",
       "2021 | Spring | BIOE461 | 0101    | nan             | nan             | nan             | Male   | 21   | Undergraduate  | BIO ENGR     | ENGR     | Asian | Hispanic No | US Citizen  | Resident\n",
       "2021 | Spring | BIOE461 | 0101    | nan             | nan             | nan             | Male   | 21   | Undergraduate  | BIO ENGR     | ENGR     | Asian | Hispanic No | US Citizen  | Resident\n",
       "2021 | Spring | BIOE461 | 0101    | nan             | nan             | nan             | Male   | 22   | Undergraduate  | BIO ENGR     | ENGR     | Asian | Hispanic No | US Citizen  | Resident\n",
       "2021 | Spring | BIOE461 | 0101    | nan             | nan             | nan             | Male   | 21   | Undergraduate  | BIO ENGR     | ENGR     | Asian | Hispanic No | Perm Resdnt | Resident\n",
       "... (80 rows omitted)"
      ]
     },
     "execution_count": 161,
     "metadata": {},
     "output_type": "execute_result"
    }
   ],
   "source": [
    "Asian_SP21 = tbl_3.where(\"Race\", are.equal_to(\"Asian\"))\n",
    "Asian_SP21"
   ]
  },
  {
   "cell_type": "code",
   "execution_count": 162,
   "metadata": {},
   "outputs": [
    {
     "data": {
      "text/plain": [
       "90"
      ]
     },
     "execution_count": 162,
     "metadata": {},
     "output_type": "execute_result"
    }
   ],
   "source": [
    "A_SP21 = Asian_SP21.num_rows\n",
    "A_SP21"
   ]
  },
  {
   "cell_type": "markdown",
   "metadata": {},
   "source": [
    "90 Asian Students enrolled in Spring 2021"
   ]
  },
  {
   "cell_type": "code",
   "execution_count": 163,
   "metadata": {},
   "outputs": [
    {
     "data": {
      "text/html": [
       "<table border=\"1\" class=\"dataframe\">\n",
       "    <thead>\n",
       "        <tr>\n",
       "            <th>Year</th> <th>Term</th> <th>Course</th> <th>Section</th> <th>Cross listing 1</th> <th>Cross listing 2</th> <th>Cross listing 3</th> <th>Gender</th> <th>Age</th> <th>Student Status</th> <th>Major </th> <th>College </th> <th>Race</th> <th>Ethnicity</th> <th>Citizenship</th> <th>Residency</th>\n",
       "        </tr>\n",
       "    </thead>\n",
       "    <tbody>\n",
       "        <tr>\n",
       "            <td>2021</td> <td>Spring</td> <td>ARCH601</td> <td>0101   </td> <td>nan            </td> <td>nan            </td> <td>nan            </td> <td>Female</td> <td>24  </td> <td>Graduate      </td> <td>ARCHITECTURE</td> <td>ARCH    </td> <td>Hispanic</td> <td>Hispanic Yes</td> <td>US Citizen </td> <td>Resident    </td>\n",
       "        </tr>\n",
       "    </tbody>\n",
       "        <tr>\n",
       "            <td>2021</td> <td>Spring</td> <td>ARCH601</td> <td>0101   </td> <td>nan            </td> <td>nan            </td> <td>nan            </td> <td>Female</td> <td>24  </td> <td>Graduate      </td> <td>ARCH/COMM PL</td> <td>ARCH    </td> <td>Hispanic</td> <td>Hispanic Yes</td> <td>Perm Resdnt</td> <td>Resident    </td>\n",
       "        </tr>\n",
       "    </tbody>\n",
       "        <tr>\n",
       "            <td>2021</td> <td>Spring</td> <td>ARCH601</td> <td>0101   </td> <td>nan            </td> <td>nan            </td> <td>nan            </td> <td>Female</td> <td>22  </td> <td>Graduate      </td> <td>ARCHITECTURE</td> <td>ARCH    </td> <td>Hispanic</td> <td>Hispanic Yes</td> <td>US Citizen </td> <td>Resident    </td>\n",
       "        </tr>\n",
       "    </tbody>\n",
       "        <tr>\n",
       "            <td>2021</td> <td>Spring</td> <td>ARCH601</td> <td>0101   </td> <td>nan            </td> <td>nan            </td> <td>nan            </td> <td>Female</td> <td>27  </td> <td>Graduate      </td> <td>ARCHITECTURE</td> <td>ARCH    </td> <td>Hispanic</td> <td>Hispanic Yes</td> <td>US Citizen </td> <td>Resident    </td>\n",
       "        </tr>\n",
       "    </tbody>\n",
       "        <tr>\n",
       "            <td>2021</td> <td>Spring</td> <td>ARCH601</td> <td>0101   </td> <td>nan            </td> <td>nan            </td> <td>nan            </td> <td>Female</td> <td>23  </td> <td>Graduate      </td> <td>ARCHITECTURE</td> <td>ARCH    </td> <td>Hispanic</td> <td>Hispanic Yes</td> <td>US Citizen </td> <td>Resident    </td>\n",
       "        </tr>\n",
       "    </tbody>\n",
       "        <tr>\n",
       "            <td>2021</td> <td>Spring</td> <td>AREC360</td> <td>0101   </td> <td>nan            </td> <td>nan            </td> <td>nan            </td> <td>Female</td> <td>20  </td> <td>Undergraduate </td> <td>GVPT INTLREL</td> <td>BSOS    </td> <td>Hispanic</td> <td>Hispanic Yes</td> <td>US Citizen </td> <td>Non-resident</td>\n",
       "        </tr>\n",
       "    </tbody>\n",
       "        <tr>\n",
       "            <td>2021</td> <td>Spring</td> <td>BIOE461</td> <td>0101   </td> <td>nan            </td> <td>nan            </td> <td>nan            </td> <td>Male  </td> <td>21  </td> <td>Undergraduate </td> <td>BIO ENGR    </td> <td>ENGR    </td> <td>Hispanic</td> <td>Hispanic Yes</td> <td>US Citizen </td> <td>Resident    </td>\n",
       "        </tr>\n",
       "    </tbody>\n",
       "        <tr>\n",
       "            <td>2021</td> <td>Spring</td> <td>BIOE461</td> <td>0101   </td> <td>nan            </td> <td>nan            </td> <td>nan            </td> <td>Male  </td> <td>20  </td> <td>Undergraduate </td> <td>BIO ENGR    </td> <td>ENGR    </td> <td>Hispanic</td> <td>Hispanic Yes</td> <td>US Citizen </td> <td>Resident    </td>\n",
       "        </tr>\n",
       "    </tbody>\n",
       "        <tr>\n",
       "            <td>2021</td> <td>Spring</td> <td>BIOE461</td> <td>0101   </td> <td>nan            </td> <td>nan            </td> <td>nan            </td> <td>Male  </td> <td>20  </td> <td>Undergraduate </td> <td>BIO ENGR    </td> <td>ENGR    </td> <td>Hispanic</td> <td>Hispanic Yes</td> <td>US Citizen </td> <td>Resident    </td>\n",
       "        </tr>\n",
       "    </tbody>\n",
       "        <tr>\n",
       "            <td>2021</td> <td>Spring</td> <td>BIOE461</td> <td>0101   </td> <td>nan            </td> <td>nan            </td> <td>nan            </td> <td>Male  </td> <td>50  </td> <td>Undergraduate </td> <td>BIO ENGR    </td> <td>ENGR    </td> <td>Hispanic</td> <td>Hispanic Yes</td> <td>US Citizen </td> <td>Resident    </td>\n",
       "        </tr>\n",
       "    </tbody>\n",
       "</table>\n",
       "<p>... (52 rows omitted)</p>"
      ],
      "text/plain": [
       "Year | Term   | Course  | Section | Cross listing 1 | Cross listing 2 | Cross listing 3 | Gender | Age  | Student Status | Major        | College  | Race     | Ethnicity    | Citizenship | Residency\n",
       "2021 | Spring | ARCH601 | 0101    | nan             | nan             | nan             | Female | 24   | Graduate       | ARCHITECTURE | ARCH     | Hispanic | Hispanic Yes | US Citizen  | Resident\n",
       "2021 | Spring | ARCH601 | 0101    | nan             | nan             | nan             | Female | 24   | Graduate       | ARCH/COMM PL | ARCH     | Hispanic | Hispanic Yes | Perm Resdnt | Resident\n",
       "2021 | Spring | ARCH601 | 0101    | nan             | nan             | nan             | Female | 22   | Graduate       | ARCHITECTURE | ARCH     | Hispanic | Hispanic Yes | US Citizen  | Resident\n",
       "2021 | Spring | ARCH601 | 0101    | nan             | nan             | nan             | Female | 27   | Graduate       | ARCHITECTURE | ARCH     | Hispanic | Hispanic Yes | US Citizen  | Resident\n",
       "2021 | Spring | ARCH601 | 0101    | nan             | nan             | nan             | Female | 23   | Graduate       | ARCHITECTURE | ARCH     | Hispanic | Hispanic Yes | US Citizen  | Resident\n",
       "2021 | Spring | AREC360 | 0101    | nan             | nan             | nan             | Female | 20   | Undergraduate  | GVPT INTLREL | BSOS     | Hispanic | Hispanic Yes | US Citizen  | Non-resident\n",
       "2021 | Spring | BIOE461 | 0101    | nan             | nan             | nan             | Male   | 21   | Undergraduate  | BIO ENGR     | ENGR     | Hispanic | Hispanic Yes | US Citizen  | Resident\n",
       "2021 | Spring | BIOE461 | 0101    | nan             | nan             | nan             | Male   | 20   | Undergraduate  | BIO ENGR     | ENGR     | Hispanic | Hispanic Yes | US Citizen  | Resident\n",
       "2021 | Spring | BIOE461 | 0101    | nan             | nan             | nan             | Male   | 20   | Undergraduate  | BIO ENGR     | ENGR     | Hispanic | Hispanic Yes | US Citizen  | Resident\n",
       "2021 | Spring | BIOE461 | 0101    | nan             | nan             | nan             | Male   | 50   | Undergraduate  | BIO ENGR     | ENGR     | Hispanic | Hispanic Yes | US Citizen  | Resident\n",
       "... (52 rows omitted)"
      ]
     },
     "execution_count": 163,
     "metadata": {},
     "output_type": "execute_result"
    }
   ],
   "source": [
    "Hispanic_SP21 = tbl_3.where(\"Race\", are.equal_to(\"Hispanic\"))\n",
    "Hispanic_SP21"
   ]
  },
  {
   "cell_type": "code",
   "execution_count": 164,
   "metadata": {},
   "outputs": [
    {
     "data": {
      "text/plain": [
       "62"
      ]
     },
     "execution_count": 164,
     "metadata": {},
     "output_type": "execute_result"
    }
   ],
   "source": [
    "H_SP21 = Hispanic_SP21.num_rows\n",
    "H_SP21"
   ]
  },
  {
   "cell_type": "markdown",
   "metadata": {},
   "source": [
    "62 Hispanic students enrolled in Spring 2021"
   ]
  },
  {
   "cell_type": "code",
   "execution_count": 165,
   "metadata": {},
   "outputs": [
    {
     "data": {
      "text/html": [
       "<table border=\"1\" class=\"dataframe\">\n",
       "    <thead>\n",
       "        <tr>\n",
       "            <th>Year</th> <th>Term</th> <th>Course</th> <th>Section</th> <th>Cross listing 1</th> <th>Cross listing 2</th> <th>Cross listing 3</th> <th>Gender</th> <th>Age</th> <th>Student Status</th> <th>Major </th> <th>College </th> <th>Race</th> <th>Ethnicity</th> <th>Citizenship</th> <th>Residency</th>\n",
       "        </tr>\n",
       "    </thead>\n",
       "    <tbody>\n",
       "        <tr>\n",
       "            <td>2021</td> <td>Spring</td> <td>ARCH601</td> <td>0101   </td> <td>nan            </td> <td>nan            </td> <td>nan            </td> <td>Male  </td> <td>22  </td> <td>Graduate      </td> <td>ARCHITECTURE</td> <td>ARCH    </td> <td>White</td> <td>Hispanic No</td> <td>US Citizen </td> <td>Resident                      </td>\n",
       "        </tr>\n",
       "    </tbody>\n",
       "        <tr>\n",
       "            <td>2021</td> <td>Spring</td> <td>ARCH601</td> <td>0101   </td> <td>nan            </td> <td>nan            </td> <td>nan            </td> <td>Female</td> <td>22  </td> <td>Graduate      </td> <td>ARCHITECTURE</td> <td>ARCH    </td> <td>White</td> <td>Hispanic No</td> <td>US Citizen </td> <td>Resident                      </td>\n",
       "        </tr>\n",
       "    </tbody>\n",
       "        <tr>\n",
       "            <td>2021</td> <td>Spring</td> <td>AREC360</td> <td>0101   </td> <td>nan            </td> <td>nan            </td> <td>nan            </td> <td>Female</td> <td>19  </td> <td>Undergraduate </td> <td>ENV S&P-PLTC</td> <td>BSOS    </td> <td>White</td> <td>Hispanic No</td> <td>US Citizen </td> <td>Resident                      </td>\n",
       "        </tr>\n",
       "    </tbody>\n",
       "        <tr>\n",
       "            <td>2021</td> <td>Spring</td> <td>AREC360</td> <td>0101   </td> <td>nan            </td> <td>nan            </td> <td>nan            </td> <td>Female</td> <td>19  </td> <td>Undergraduate </td> <td>ANIMAL SCI  </td> <td>AGNR    </td> <td>White</td> <td>Hispanic No</td> <td>US Citizen </td> <td>Resident                      </td>\n",
       "        </tr>\n",
       "    </tbody>\n",
       "        <tr>\n",
       "            <td>2021</td> <td>Spring</td> <td>AREC360</td> <td>0101   </td> <td>nan            </td> <td>nan            </td> <td>nan            </td> <td>Female</td> <td>20  </td> <td>Undergraduate </td> <td>GOVT & POLIT</td> <td>BSOS    </td> <td>White</td> <td>Hispanic No</td> <td>US Citizen </td> <td>Resident                      </td>\n",
       "        </tr>\n",
       "    </tbody>\n",
       "        <tr>\n",
       "            <td>2021</td> <td>Spring</td> <td>AREC360</td> <td>0101   </td> <td>nan            </td> <td>nan            </td> <td>nan            </td> <td>Female</td> <td>20  </td> <td>Undergraduate </td> <td>ARCH        </td> <td>ARCH    </td> <td>White</td> <td>Hispanic No</td> <td>US Citizen </td> <td>Resident                      </td>\n",
       "        </tr>\n",
       "    </tbody>\n",
       "        <tr>\n",
       "            <td>2021</td> <td>Spring</td> <td>AREC360</td> <td>0101   </td> <td>nan            </td> <td>nan            </td> <td>nan            </td> <td>Female</td> <td>19  </td> <td>Undergraduate </td> <td>PSYCH BS    </td> <td>BSOS    </td> <td>White</td> <td>Hispanic No</td> <td>US Citizen </td> <td>Resident                      </td>\n",
       "        </tr>\n",
       "    </tbody>\n",
       "        <tr>\n",
       "            <td>2021</td> <td>Spring</td> <td>AREC360</td> <td>0101   </td> <td>nan            </td> <td>nan            </td> <td>nan            </td> <td>Female</td> <td>18  </td> <td>Undergraduate </td> <td>PLSC BIOL   </td> <td>AGNR    </td> <td>White</td> <td>Hispanic No</td> <td>US Citizen </td> <td>Resident                      </td>\n",
       "        </tr>\n",
       "    </tbody>\n",
       "        <tr>\n",
       "            <td>2021</td> <td>Spring</td> <td>AREC360</td> <td>0101   </td> <td>nan            </td> <td>nan            </td> <td>nan            </td> <td>Female</td> <td>18  </td> <td>Undergraduate </td> <td>BTAA MSU    </td> <td>SPEC    </td> <td>White</td> <td>Hispanic No</td> <td>US Citizen </td> <td>Resident except for admissions</td>\n",
       "        </tr>\n",
       "    </tbody>\n",
       "        <tr>\n",
       "            <td>2021</td> <td>Spring</td> <td>BIOE461</td> <td>0101   </td> <td>nan            </td> <td>nan            </td> <td>nan            </td> <td>Male  </td> <td>23  </td> <td>Undergraduate </td> <td>BIO ENGR    </td> <td>ENGR    </td> <td>White</td> <td>Hispanic No</td> <td>US Citizen </td> <td>Resident                      </td>\n",
       "        </tr>\n",
       "    </tbody>\n",
       "</table>\n",
       "<p>... (187 rows omitted)</p>"
      ],
      "text/plain": [
       "Year | Term   | Course  | Section | Cross listing 1 | Cross listing 2 | Cross listing 3 | Gender | Age  | Student Status | Major        | College  | Race  | Ethnicity   | Citizenship | Residency\n",
       "2021 | Spring | ARCH601 | 0101    | nan             | nan             | nan             | Male   | 22   | Graduate       | ARCHITECTURE | ARCH     | White | Hispanic No | US Citizen  | Resident\n",
       "2021 | Spring | ARCH601 | 0101    | nan             | nan             | nan             | Female | 22   | Graduate       | ARCHITECTURE | ARCH     | White | Hispanic No | US Citizen  | Resident\n",
       "2021 | Spring | AREC360 | 0101    | nan             | nan             | nan             | Female | 19   | Undergraduate  | ENV S&P-PLTC | BSOS     | White | Hispanic No | US Citizen  | Resident\n",
       "2021 | Spring | AREC360 | 0101    | nan             | nan             | nan             | Female | 19   | Undergraduate  | ANIMAL SCI   | AGNR     | White | Hispanic No | US Citizen  | Resident\n",
       "2021 | Spring | AREC360 | 0101    | nan             | nan             | nan             | Female | 20   | Undergraduate  | GOVT & POLIT | BSOS     | White | Hispanic No | US Citizen  | Resident\n",
       "2021 | Spring | AREC360 | 0101    | nan             | nan             | nan             | Female | 20   | Undergraduate  | ARCH         | ARCH     | White | Hispanic No | US Citizen  | Resident\n",
       "2021 | Spring | AREC360 | 0101    | nan             | nan             | nan             | Female | 19   | Undergraduate  | PSYCH BS     | BSOS     | White | Hispanic No | US Citizen  | Resident\n",
       "2021 | Spring | AREC360 | 0101    | nan             | nan             | nan             | Female | 18   | Undergraduate  | PLSC BIOL    | AGNR     | White | Hispanic No | US Citizen  | Resident\n",
       "2021 | Spring | AREC360 | 0101    | nan             | nan             | nan             | Female | 18   | Undergraduate  | BTAA MSU     | SPEC     | White | Hispanic No | US Citizen  | Resident except for admissions\n",
       "2021 | Spring | BIOE461 | 0101    | nan             | nan             | nan             | Male   | 23   | Undergraduate  | BIO ENGR     | ENGR     | White | Hispanic No | US Citizen  | Resident\n",
       "... (187 rows omitted)"
      ]
     },
     "execution_count": 165,
     "metadata": {},
     "output_type": "execute_result"
    }
   ],
   "source": [
    "White_SP21 = tbl_3.where(\"Race\", are.equal_to(\"White\"))\n",
    "White_SP21"
   ]
  },
  {
   "cell_type": "code",
   "execution_count": 166,
   "metadata": {},
   "outputs": [
    {
     "data": {
      "text/plain": [
       "197"
      ]
     },
     "execution_count": 166,
     "metadata": {},
     "output_type": "execute_result"
    }
   ],
   "source": [
    "W_SP21= White_SP21.num_rows\n",
    "W_SP21"
   ]
  },
  {
   "cell_type": "markdown",
   "metadata": {},
   "source": [
    "197 white students enrolled in Spring 2021"
   ]
  },
  {
   "cell_type": "code",
   "execution_count": 167,
   "metadata": {},
   "outputs": [
    {
     "data": {
      "text/html": [
       "<table border=\"1\" class=\"dataframe\">\n",
       "    <thead>\n",
       "        <tr>\n",
       "            <th>Year</th> <th>Term</th> <th>Course</th> <th>Section</th> <th>Cross listing 1</th> <th>Cross listing 2</th> <th>Cross listing 3</th> <th>Gender</th> <th>Age</th> <th>Student Status</th> <th>Major </th> <th>College </th> <th>Race</th> <th>Ethnicity</th> <th>Citizenship</th> <th>Residency</th>\n",
       "        </tr>\n",
       "    </thead>\n",
       "    <tbody>\n",
       "        <tr>\n",
       "            <td>2021</td> <td>Summer</td> <td>CCJS458C</td> <td>GC01   </td> <td>MLAW358A       </td> <td>nan            </td> <td>nan            </td> <td>Female</td> <td>20  </td> <td>Undergraduate </td> <td>CRIM-JUSTICE</td> <td>BSOS    </td> <td>Asian                    </td> <td>Hispanic No </td> <td>nan        </td> <td>Non-resident</td>\n",
       "        </tr>\n",
       "    </tbody>\n",
       "        <tr>\n",
       "            <td>2021</td> <td>Summer</td> <td>CCJS458C</td> <td>GC01   </td> <td>MLAW358A       </td> <td>nan            </td> <td>nan            </td> <td>Female</td> <td>21  </td> <td>Undergraduate </td> <td>CRIM-JUSTICE</td> <td>BSOS    </td> <td>White                    </td> <td>Hispanic No </td> <td>nan        </td> <td>Non-resident</td>\n",
       "        </tr>\n",
       "    </tbody>\n",
       "        <tr>\n",
       "            <td>2021</td> <td>Summer</td> <td>CCJS458C</td> <td>GC01   </td> <td>MLAW358A       </td> <td>nan            </td> <td>nan            </td> <td>Male  </td> <td>23  </td> <td>Undergraduate </td> <td>CRIM-JUSTICE</td> <td>BSOS    </td> <td>White                    </td> <td>Hispanic No </td> <td>nan        </td> <td>Non-resident</td>\n",
       "        </tr>\n",
       "    </tbody>\n",
       "        <tr>\n",
       "            <td>2021</td> <td>Summer</td> <td>CCJS458C</td> <td>GC01   </td> <td>MLAW358A       </td> <td>nan            </td> <td>nan            </td> <td>Female</td> <td>21  </td> <td>Undergraduate </td> <td>CRIM-JUSTICE</td> <td>BSOS    </td> <td>Black or African American</td> <td>Hispanic No </td> <td>nan        </td> <td>Resident    </td>\n",
       "        </tr>\n",
       "    </tbody>\n",
       "        <tr>\n",
       "            <td>2021</td> <td>Summer</td> <td>CCJS458C</td> <td>GC01   </td> <td>MLAW358A       </td> <td>nan            </td> <td>nan            </td> <td>Female</td> <td>21  </td> <td>Undergraduate </td> <td>CRIM-JUSTICE</td> <td>BSOS    </td> <td>Hispanic                 </td> <td>Hispanic Yes</td> <td>nan        </td> <td>Resident    </td>\n",
       "        </tr>\n",
       "    </tbody>\n",
       "        <tr>\n",
       "            <td>2021</td> <td>Summer</td> <td>CCJS458C</td> <td>GC01   </td> <td>MLAW358A       </td> <td>nan            </td> <td>nan            </td> <td>Female</td> <td>26  </td> <td>Undergraduate </td> <td>CRIM-JUSTICE</td> <td>BSOS    </td> <td>Hispanic                 </td> <td>Hispanic Yes</td> <td>nan        </td> <td>Resident    </td>\n",
       "        </tr>\n",
       "    </tbody>\n",
       "        <tr>\n",
       "            <td>2021</td> <td>Summer</td> <td>CCJS458C</td> <td>GC01   </td> <td>MLAW358A       </td> <td>nan            </td> <td>nan            </td> <td>Female</td> <td>22  </td> <td>Undergraduate </td> <td>CRIM-JUSTICE</td> <td>BSOS    </td> <td>Hispanic                 </td> <td>Hispanic Yes</td> <td>nan        </td> <td>Resident    </td>\n",
       "        </tr>\n",
       "    </tbody>\n",
       "        <tr>\n",
       "            <td>2021</td> <td>Summer</td> <td>CCJS458C</td> <td>GC01   </td> <td>MLAW358A       </td> <td>nan            </td> <td>nan            </td> <td>Male  </td> <td>36  </td> <td>Undergraduate </td> <td>CRIM-JUSTICE</td> <td>BSOS    </td> <td>White                    </td> <td>Hispanic No </td> <td>nan        </td> <td>Resident    </td>\n",
       "        </tr>\n",
       "    </tbody>\n",
       "        <tr>\n",
       "            <td>2021</td> <td>Summer</td> <td>CCJS458C</td> <td>GC01   </td> <td>MLAW358A       </td> <td>nan            </td> <td>nan            </td> <td>Female</td> <td>24  </td> <td>Undergraduate </td> <td>PUB POLICY  </td> <td>PLCY    </td> <td>Black or African American</td> <td>Hispanic No </td> <td>nan        </td> <td>Resident    </td>\n",
       "        </tr>\n",
       "    </tbody>\n",
       "        <tr>\n",
       "            <td>2021</td> <td>Summer</td> <td>CCJS458C</td> <td>GC01   </td> <td>MLAW358A       </td> <td>nan            </td> <td>nan            </td> <td>Female</td> <td>21  </td> <td>Undergraduate </td> <td>ACA ACH PROG</td> <td>UGST    </td> <td>Hispanic                 </td> <td>Hispanic Yes</td> <td>nan        </td> <td>Resident    </td>\n",
       "        </tr>\n",
       "    </tbody>\n",
       "</table>\n",
       "<p>... (54 rows omitted)</p>"
      ],
      "text/plain": [
       "Year | Term   | Course   | Section | Cross listing 1 | Cross listing 2 | Cross listing 3 | Gender | Age  | Student Status | Major        | College  | Race                      | Ethnicity    | Citizenship | Residency\n",
       "2021 | Summer | CCJS458C | GC01    | MLAW358A        | nan             | nan             | Female | 20   | Undergraduate  | CRIM-JUSTICE | BSOS     | Asian                     | Hispanic No  | nan         | Non-resident\n",
       "2021 | Summer | CCJS458C | GC01    | MLAW358A        | nan             | nan             | Female | 21   | Undergraduate  | CRIM-JUSTICE | BSOS     | White                     | Hispanic No  | nan         | Non-resident\n",
       "2021 | Summer | CCJS458C | GC01    | MLAW358A        | nan             | nan             | Male   | 23   | Undergraduate  | CRIM-JUSTICE | BSOS     | White                     | Hispanic No  | nan         | Non-resident\n",
       "2021 | Summer | CCJS458C | GC01    | MLAW358A        | nan             | nan             | Female | 21   | Undergraduate  | CRIM-JUSTICE | BSOS     | Black or African American | Hispanic No  | nan         | Resident\n",
       "2021 | Summer | CCJS458C | GC01    | MLAW358A        | nan             | nan             | Female | 21   | Undergraduate  | CRIM-JUSTICE | BSOS     | Hispanic                  | Hispanic Yes | nan         | Resident\n",
       "2021 | Summer | CCJS458C | GC01    | MLAW358A        | nan             | nan             | Female | 26   | Undergraduate  | CRIM-JUSTICE | BSOS     | Hispanic                  | Hispanic Yes | nan         | Resident\n",
       "2021 | Summer | CCJS458C | GC01    | MLAW358A        | nan             | nan             | Female | 22   | Undergraduate  | CRIM-JUSTICE | BSOS     | Hispanic                  | Hispanic Yes | nan         | Resident\n",
       "2021 | Summer | CCJS458C | GC01    | MLAW358A        | nan             | nan             | Male   | 36   | Undergraduate  | CRIM-JUSTICE | BSOS     | White                     | Hispanic No  | nan         | Resident\n",
       "2021 | Summer | CCJS458C | GC01    | MLAW358A        | nan             | nan             | Female | 24   | Undergraduate  | PUB POLICY   | PLCY     | Black or African American | Hispanic No  | nan         | Resident\n",
       "2021 | Summer | CCJS458C | GC01    | MLAW358A        | nan             | nan             | Female | 21   | Undergraduate  | ACA ACH PROG | UGST     | Hispanic                  | Hispanic Yes | nan         | Resident\n",
       "... (54 rows omitted)"
      ]
     },
     "execution_count": 167,
     "metadata": {},
     "output_type": "execute_result"
    }
   ],
   "source": [
    "tbl_4= Table.read_table('../data/Data_OIA.xlsx - Summer 2021.csv')\n",
    "tbl_4"
   ]
  },
  {
   "cell_type": "code",
   "execution_count": 168,
   "metadata": {},
   "outputs": [
    {
     "data": {
      "text/html": [
       "<table border=\"1\" class=\"dataframe\">\n",
       "    <thead>\n",
       "        <tr>\n",
       "            <th>Year</th> <th>Term</th> <th>Course</th> <th>Section</th> <th>Cross listing 1</th> <th>Cross listing 2</th> <th>Cross listing 3</th> <th>Gender</th> <th>Age</th> <th>Student Status</th> <th>Major </th> <th>College </th> <th>Race</th> <th>Ethnicity</th> <th>Citizenship</th> <th>Residency</th>\n",
       "        </tr>\n",
       "    </thead>\n",
       "    <tbody>\n",
       "        <tr>\n",
       "            <td>2021</td> <td>Summer</td> <td>CCJS458C</td> <td>GC01   </td> <td>MLAW358A       </td> <td>nan            </td> <td>nan            </td> <td>Female</td> <td>21  </td> <td>Undergraduate </td> <td>CRIM-JUSTICE</td> <td>BSOS    </td> <td>Black or African American</td> <td>Hispanic No</td> <td>nan        </td> <td>Resident </td>\n",
       "        </tr>\n",
       "    </tbody>\n",
       "        <tr>\n",
       "            <td>2021</td> <td>Summer</td> <td>CCJS458C</td> <td>GC01   </td> <td>MLAW358A       </td> <td>nan            </td> <td>nan            </td> <td>Female</td> <td>24  </td> <td>Undergraduate </td> <td>PUB POLICY  </td> <td>PLCY    </td> <td>Black or African American</td> <td>Hispanic No</td> <td>nan        </td> <td>Resident </td>\n",
       "        </tr>\n",
       "    </tbody>\n",
       "        <tr>\n",
       "            <td>2021</td> <td>Summer</td> <td>ENGL391 </td> <td>GC01   </td> <td>nan            </td> <td>nan            </td> <td>nan            </td> <td>Male  </td> <td>23  </td> <td>Undergraduate </td> <td>GEOLOGY     </td> <td>CMNS    </td> <td>Black or African American</td> <td>Hispanic No</td> <td>nan        </td> <td>Resident </td>\n",
       "        </tr>\n",
       "    </tbody>\n",
       "        <tr>\n",
       "            <td>2021</td> <td>Summer</td> <td>ENGL391 </td> <td>GC01   </td> <td>nan            </td> <td>nan            </td> <td>nan            </td> <td>Male  </td> <td>21  </td> <td>Undergraduate </td> <td>INFO SCI    </td> <td>INFO    </td> <td>Black or African American</td> <td>Hispanic No</td> <td>nan        </td> <td>Resident </td>\n",
       "        </tr>\n",
       "    </tbody>\n",
       "        <tr>\n",
       "            <td>2021</td> <td>Summer</td> <td>ENGL391 </td> <td>GC01   </td> <td>nan            </td> <td>nan            </td> <td>nan            </td> <td>Female</td> <td>21  </td> <td>Undergraduate </td> <td>KINESIOLOGY </td> <td>SPHL    </td> <td>Black or African American</td> <td>Hispanic No</td> <td>nan        </td> <td>Resident </td>\n",
       "        </tr>\n",
       "    </tbody>\n",
       "        <tr>\n",
       "            <td>2021</td> <td>Summer</td> <td>FMSC286 </td> <td>GC01   </td> <td>nan            </td> <td>nan            </td> <td>nan            </td> <td>Female</td> <td>20  </td> <td>Undergraduate </td> <td>PUB HLTH SCI</td> <td>SPHL    </td> <td>Black or African American</td> <td>Hispanic No</td> <td>nan        </td> <td>Resident </td>\n",
       "        </tr>\n",
       "    </tbody>\n",
       "        <tr>\n",
       "            <td>2021</td> <td>Summer</td> <td>HIST328I</td> <td>GC01   </td> <td>WMST379L       </td> <td>LASC348A       </td> <td>nan            </td> <td>Female</td> <td>22  </td> <td>Undergraduate </td> <td>ENGLISH     </td> <td>ARHU    </td> <td>Black or African American</td> <td>Hispanic No</td> <td>nan        </td> <td>Resident </td>\n",
       "        </tr>\n",
       "    </tbody>\n",
       "        <tr>\n",
       "            <td>2021</td> <td>Summer</td> <td>MIEH607 </td> <td>WB11   </td> <td>nan            </td> <td>nan            </td> <td>nan            </td> <td>Female</td> <td>35  </td> <td>Graduate      </td> <td>MPH PHPP    </td> <td>SPHL    </td> <td>Black or African American</td> <td>Hispanic No</td> <td>nan        </td> <td>Resident </td>\n",
       "        </tr>\n",
       "    </tbody>\n",
       "</table>"
      ],
      "text/plain": [
       "Year | Term   | Course   | Section | Cross listing 1 | Cross listing 2 | Cross listing 3 | Gender | Age  | Student Status | Major        | College  | Race                      | Ethnicity   | Citizenship | Residency\n",
       "2021 | Summer | CCJS458C | GC01    | MLAW358A        | nan             | nan             | Female | 21   | Undergraduate  | CRIM-JUSTICE | BSOS     | Black or African American | Hispanic No | nan         | Resident\n",
       "2021 | Summer | CCJS458C | GC01    | MLAW358A        | nan             | nan             | Female | 24   | Undergraduate  | PUB POLICY   | PLCY     | Black or African American | Hispanic No | nan         | Resident\n",
       "2021 | Summer | ENGL391  | GC01    | nan             | nan             | nan             | Male   | 23   | Undergraduate  | GEOLOGY      | CMNS     | Black or African American | Hispanic No | nan         | Resident\n",
       "2021 | Summer | ENGL391  | GC01    | nan             | nan             | nan             | Male   | 21   | Undergraduate  | INFO SCI     | INFO     | Black or African American | Hispanic No | nan         | Resident\n",
       "2021 | Summer | ENGL391  | GC01    | nan             | nan             | nan             | Female | 21   | Undergraduate  | KINESIOLOGY  | SPHL     | Black or African American | Hispanic No | nan         | Resident\n",
       "2021 | Summer | FMSC286  | GC01    | nan             | nan             | nan             | Female | 20   | Undergraduate  | PUB HLTH SCI | SPHL     | Black or African American | Hispanic No | nan         | Resident\n",
       "2021 | Summer | HIST328I | GC01    | WMST379L        | LASC348A        | nan             | Female | 22   | Undergraduate  | ENGLISH      | ARHU     | Black or African American | Hispanic No | nan         | Resident\n",
       "2021 | Summer | MIEH607  | WB11    | nan             | nan             | nan             | Female | 35   | Graduate       | MPH PHPP     | SPHL     | Black or African American | Hispanic No | nan         | Resident"
      ]
     },
     "execution_count": 168,
     "metadata": {},
     "output_type": "execute_result"
    }
   ],
   "source": [
    "African_American_S21 = tbl_4.where(\"Race\", are.equal_to(\"Black or African American\"))\n",
    "African_American_S21"
   ]
  },
  {
   "cell_type": "code",
   "execution_count": 169,
   "metadata": {},
   "outputs": [
    {
     "data": {
      "text/plain": [
       "8"
      ]
     },
     "execution_count": 169,
     "metadata": {},
     "output_type": "execute_result"
    }
   ],
   "source": [
    "AA_S21 = African_American_S21.num_rows\n",
    "AA_S21"
   ]
  },
  {
   "cell_type": "markdown",
   "metadata": {},
   "source": [
    "8 African American Students enrolled in Summer 2021"
   ]
  },
  {
   "cell_type": "code",
   "execution_count": 170,
   "metadata": {},
   "outputs": [
    {
     "data": {
      "text/html": [
       "<table border=\"1\" class=\"dataframe\">\n",
       "    <thead>\n",
       "        <tr>\n",
       "            <th>Year</th> <th>Term</th> <th>Course</th> <th>Section</th> <th>Cross listing 1</th> <th>Cross listing 2</th> <th>Cross listing 3</th> <th>Gender</th> <th>Age</th> <th>Student Status</th> <th>Major </th> <th>College </th> <th>Race</th> <th>Ethnicity</th> <th>Citizenship</th> <th>Residency</th>\n",
       "        </tr>\n",
       "    </thead>\n",
       "    <tbody>\n",
       "        <tr>\n",
       "            <td>2021</td> <td>Summer</td> <td>CCJS458C</td> <td>GC01   </td> <td>MLAW358A       </td> <td>nan            </td> <td>nan            </td> <td>Female</td> <td>20  </td> <td>Undergraduate </td> <td>CRIM-JUSTICE</td> <td>BSOS    </td> <td>Asian</td> <td>Hispanic No</td> <td>nan        </td> <td>Non-resident</td>\n",
       "        </tr>\n",
       "    </tbody>\n",
       "        <tr>\n",
       "            <td>2021</td> <td>Summer</td> <td>ENGL409M</td> <td>GC01   </td> <td>THET428E       </td> <td>nan            </td> <td>nan            </td> <td>Female</td> <td>20  </td> <td>Undergraduate </td> <td>ENGLISH     </td> <td>ARHU    </td> <td>Asian</td> <td>Hispanic No</td> <td>nan        </td> <td>Resident    </td>\n",
       "        </tr>\n",
       "    </tbody>\n",
       "        <tr>\n",
       "            <td>2021</td> <td>Summer</td> <td>ENGL409M</td> <td>GC01   </td> <td>THET428E       </td> <td>nan            </td> <td>nan            </td> <td>Female</td> <td>20  </td> <td>Undergraduate </td> <td>PSYCHOLOGY  </td> <td>BSOS    </td> <td>Asian</td> <td>Hispanic No</td> <td>nan        </td> <td>Resident    </td>\n",
       "        </tr>\n",
       "    </tbody>\n",
       "        <tr>\n",
       "            <td>2021</td> <td>Summer</td> <td>ENGL409M</td> <td>GC01   </td> <td>THET428E       </td> <td>nan            </td> <td>nan            </td> <td>Female</td> <td>22  </td> <td>Undergraduate </td> <td>EDS-ENGL-PRE</td> <td>EDUC    </td> <td>Asian</td> <td>Hispanic No</td> <td>nan        </td> <td>Resident    </td>\n",
       "        </tr>\n",
       "    </tbody>\n",
       "        <tr>\n",
       "            <td>2021</td> <td>Summer</td> <td>FMSC286 </td> <td>GC01   </td> <td>nan            </td> <td>nan            </td> <td>nan            </td> <td>Female</td> <td>20  </td> <td>Undergraduate </td> <td>FINANCE     </td> <td>BMGT    </td> <td>Asian</td> <td>Hispanic No</td> <td>nan        </td> <td>Resident    </td>\n",
       "        </tr>\n",
       "    </tbody>\n",
       "        <tr>\n",
       "            <td>2021</td> <td>Summer</td> <td>FMSC286 </td> <td>GC01   </td> <td>nan            </td> <td>nan            </td> <td>nan            </td> <td>Female</td> <td>21  </td> <td>Undergraduate </td> <td>PUB HLTH SCI</td> <td>SPHL    </td> <td>Asian</td> <td>Hispanic No</td> <td>nan        </td> <td>Resident    </td>\n",
       "        </tr>\n",
       "    </tbody>\n",
       "        <tr>\n",
       "            <td>2021</td> <td>Summer</td> <td>LARC489A</td> <td>GC01   </td> <td>HONR338A       </td> <td>nan            </td> <td>nan            </td> <td>Female</td> <td>25  </td> <td>Graduate      </td> <td>MLA         </td> <td>AGNR    </td> <td>Asian</td> <td>Hispanic No</td> <td>nan        </td> <td>Non-resident</td>\n",
       "        </tr>\n",
       "    </tbody>\n",
       "        <tr>\n",
       "            <td>2021</td> <td>Summer</td> <td>LARC489A</td> <td>GC01   </td> <td>HONR338A       </td> <td>nan            </td> <td>nan            </td> <td>Male  </td> <td>23  </td> <td>Undergraduate </td> <td>LNDSCPE ARCH</td> <td>AGNR    </td> <td>Asian</td> <td>Hispanic No</td> <td>nan        </td> <td>Resident    </td>\n",
       "        </tr>\n",
       "    </tbody>\n",
       "        <tr>\n",
       "            <td>2021</td> <td>Summer</td> <td>LARC489A</td> <td>GC01   </td> <td>HONR338A       </td> <td>nan            </td> <td>nan            </td> <td>Male  </td> <td>27  </td> <td>Undergraduate </td> <td>LNDSCPE ARCH</td> <td>AGNR    </td> <td>Asian</td> <td>Hispanic No</td> <td>nan        </td> <td>Resident    </td>\n",
       "        </tr>\n",
       "    </tbody>\n",
       "        <tr>\n",
       "            <td>2021</td> <td>Summer</td> <td>LARC489A</td> <td>GC01   </td> <td>HONR338A       </td> <td>nan            </td> <td>nan            </td> <td>Female</td> <td>21  </td> <td>Undergraduate </td> <td>ART STUDIO  </td> <td>ARHU    </td> <td>Asian</td> <td>Hispanic No</td> <td>nan        </td> <td>Resident    </td>\n",
       "        </tr>\n",
       "    </tbody>\n",
       "</table>\n",
       "<p>... (4 rows omitted)</p>"
      ],
      "text/plain": [
       "Year | Term   | Course   | Section | Cross listing 1 | Cross listing 2 | Cross listing 3 | Gender | Age  | Student Status | Major        | College  | Race  | Ethnicity   | Citizenship | Residency\n",
       "2021 | Summer | CCJS458C | GC01    | MLAW358A        | nan             | nan             | Female | 20   | Undergraduate  | CRIM-JUSTICE | BSOS     | Asian | Hispanic No | nan         | Non-resident\n",
       "2021 | Summer | ENGL409M | GC01    | THET428E        | nan             | nan             | Female | 20   | Undergraduate  | ENGLISH      | ARHU     | Asian | Hispanic No | nan         | Resident\n",
       "2021 | Summer | ENGL409M | GC01    | THET428E        | nan             | nan             | Female | 20   | Undergraduate  | PSYCHOLOGY   | BSOS     | Asian | Hispanic No | nan         | Resident\n",
       "2021 | Summer | ENGL409M | GC01    | THET428E        | nan             | nan             | Female | 22   | Undergraduate  | EDS-ENGL-PRE | EDUC     | Asian | Hispanic No | nan         | Resident\n",
       "2021 | Summer | FMSC286  | GC01    | nan             | nan             | nan             | Female | 20   | Undergraduate  | FINANCE      | BMGT     | Asian | Hispanic No | nan         | Resident\n",
       "2021 | Summer | FMSC286  | GC01    | nan             | nan             | nan             | Female | 21   | Undergraduate  | PUB HLTH SCI | SPHL     | Asian | Hispanic No | nan         | Resident\n",
       "2021 | Summer | LARC489A | GC01    | HONR338A        | nan             | nan             | Female | 25   | Graduate       | MLA          | AGNR     | Asian | Hispanic No | nan         | Non-resident\n",
       "2021 | Summer | LARC489A | GC01    | HONR338A        | nan             | nan             | Male   | 23   | Undergraduate  | LNDSCPE ARCH | AGNR     | Asian | Hispanic No | nan         | Resident\n",
       "2021 | Summer | LARC489A | GC01    | HONR338A        | nan             | nan             | Male   | 27   | Undergraduate  | LNDSCPE ARCH | AGNR     | Asian | Hispanic No | nan         | Resident\n",
       "2021 | Summer | LARC489A | GC01    | HONR338A        | nan             | nan             | Female | 21   | Undergraduate  | ART STUDIO   | ARHU     | Asian | Hispanic No | nan         | Resident\n",
       "... (4 rows omitted)"
      ]
     },
     "execution_count": 170,
     "metadata": {},
     "output_type": "execute_result"
    }
   ],
   "source": [
    "Asian_S21 = tbl_4.where(\"Race\", are.equal_to(\"Asian\"))\n",
    "Asian_S21"
   ]
  },
  {
   "cell_type": "code",
   "execution_count": 171,
   "metadata": {},
   "outputs": [
    {
     "data": {
      "text/plain": [
       "14"
      ]
     },
     "execution_count": 171,
     "metadata": {},
     "output_type": "execute_result"
    }
   ],
   "source": [
    "A_S21= Asian_S21.num_rows\n",
    "A_S21"
   ]
  },
  {
   "cell_type": "markdown",
   "metadata": {},
   "source": [
    "14 asian students enrolled in Summer 2021"
   ]
  },
  {
   "cell_type": "code",
   "execution_count": 172,
   "metadata": {},
   "outputs": [
    {
     "data": {
      "text/html": [
       "<table border=\"1\" class=\"dataframe\">\n",
       "    <thead>\n",
       "        <tr>\n",
       "            <th>Year</th> <th>Term</th> <th>Course</th> <th>Section</th> <th>Cross listing 1</th> <th>Cross listing 2</th> <th>Cross listing 3</th> <th>Gender</th> <th>Age</th> <th>Student Status</th> <th>Major </th> <th>College </th> <th>Race</th> <th>Ethnicity</th> <th>Citizenship</th> <th>Residency</th>\n",
       "        </tr>\n",
       "    </thead>\n",
       "    <tbody>\n",
       "        <tr>\n",
       "            <td>2021</td> <td>Summer</td> <td>CCJS458C</td> <td>GC01   </td> <td>MLAW358A       </td> <td>nan            </td> <td>nan            </td> <td>Female</td> <td>21  </td> <td>Undergraduate </td> <td>CRIM-JUSTICE</td> <td>BSOS    </td> <td>Hispanic</td> <td>Hispanic Yes</td> <td>nan        </td> <td>Resident </td>\n",
       "        </tr>\n",
       "    </tbody>\n",
       "        <tr>\n",
       "            <td>2021</td> <td>Summer</td> <td>CCJS458C</td> <td>GC01   </td> <td>MLAW358A       </td> <td>nan            </td> <td>nan            </td> <td>Female</td> <td>26  </td> <td>Undergraduate </td> <td>CRIM-JUSTICE</td> <td>BSOS    </td> <td>Hispanic</td> <td>Hispanic Yes</td> <td>nan        </td> <td>Resident </td>\n",
       "        </tr>\n",
       "    </tbody>\n",
       "        <tr>\n",
       "            <td>2021</td> <td>Summer</td> <td>CCJS458C</td> <td>GC01   </td> <td>MLAW358A       </td> <td>nan            </td> <td>nan            </td> <td>Female</td> <td>22  </td> <td>Undergraduate </td> <td>CRIM-JUSTICE</td> <td>BSOS    </td> <td>Hispanic</td> <td>Hispanic Yes</td> <td>nan        </td> <td>Resident </td>\n",
       "        </tr>\n",
       "    </tbody>\n",
       "        <tr>\n",
       "            <td>2021</td> <td>Summer</td> <td>CCJS458C</td> <td>GC01   </td> <td>MLAW358A       </td> <td>nan            </td> <td>nan            </td> <td>Female</td> <td>21  </td> <td>Undergraduate </td> <td>ACA ACH PROG</td> <td>UGST    </td> <td>Hispanic</td> <td>Hispanic Yes</td> <td>nan        </td> <td>Resident </td>\n",
       "        </tr>\n",
       "    </tbody>\n",
       "        <tr>\n",
       "            <td>2021</td> <td>Summer</td> <td>ENGL391 </td> <td>GC01   </td> <td>nan            </td> <td>nan            </td> <td>nan            </td> <td>Female</td> <td>32  </td> <td>Undergraduate </td> <td>CLASSICS    </td> <td>ARHU    </td> <td>Hispanic</td> <td>Hispanic Yes</td> <td>nan        </td> <td>Resident </td>\n",
       "        </tr>\n",
       "    </tbody>\n",
       "        <tr>\n",
       "            <td>2021</td> <td>Summer</td> <td>ENGL391 </td> <td>GC01   </td> <td>nan            </td> <td>nan            </td> <td>nan            </td> <td>Female</td> <td>22  </td> <td>Undergraduate </td> <td>ENGLISH     </td> <td>ARHU    </td> <td>Hispanic</td> <td>Hispanic Yes</td> <td>nan        </td> <td>Resident </td>\n",
       "        </tr>\n",
       "    </tbody>\n",
       "        <tr>\n",
       "            <td>2021</td> <td>Summer</td> <td>ENGL391 </td> <td>GC01   </td> <td>nan            </td> <td>nan            </td> <td>nan            </td> <td>Male  </td> <td>35  </td> <td>Undergraduate </td> <td>GVPT INTLREL</td> <td>BSOS    </td> <td>Hispanic</td> <td>Hispanic Yes</td> <td>nan        </td> <td>Resident </td>\n",
       "        </tr>\n",
       "    </tbody>\n",
       "        <tr>\n",
       "            <td>2021</td> <td>Summer</td> <td>ENGL391 </td> <td>GC01   </td> <td>nan            </td> <td>nan            </td> <td>nan            </td> <td>Female</td> <td>22  </td> <td>Undergraduate </td> <td>ED-CURR+INST</td> <td>EDUC    </td> <td>Hispanic</td> <td>Hispanic Yes</td> <td>nan        </td> <td>Resident </td>\n",
       "        </tr>\n",
       "    </tbody>\n",
       "        <tr>\n",
       "            <td>2021</td> <td>Summer</td> <td>ENGL409M</td> <td>GC01   </td> <td>THET428E       </td> <td>nan            </td> <td>nan            </td> <td>Female</td> <td>21  </td> <td>Undergraduate </td> <td>ENGLISH     </td> <td>ARHU    </td> <td>Hispanic</td> <td>Hispanic Yes</td> <td>nan        </td> <td>Resident </td>\n",
       "        </tr>\n",
       "    </tbody>\n",
       "        <tr>\n",
       "            <td>2021</td> <td>Summer</td> <td>ENGL409M</td> <td>GC01   </td> <td>THET428E       </td> <td>nan            </td> <td>nan            </td> <td>Male  </td> <td>22  </td> <td>Undergraduate </td> <td>ENGLISH     </td> <td>ARHU    </td> <td>Hispanic</td> <td>Hispanic Yes</td> <td>nan        </td> <td>Resident </td>\n",
       "        </tr>\n",
       "    </tbody>\n",
       "</table>\n",
       "<p>... (3 rows omitted)</p>"
      ],
      "text/plain": [
       "Year | Term   | Course   | Section | Cross listing 1 | Cross listing 2 | Cross listing 3 | Gender | Age  | Student Status | Major        | College  | Race     | Ethnicity    | Citizenship | Residency\n",
       "2021 | Summer | CCJS458C | GC01    | MLAW358A        | nan             | nan             | Female | 21   | Undergraduate  | CRIM-JUSTICE | BSOS     | Hispanic | Hispanic Yes | nan         | Resident\n",
       "2021 | Summer | CCJS458C | GC01    | MLAW358A        | nan             | nan             | Female | 26   | Undergraduate  | CRIM-JUSTICE | BSOS     | Hispanic | Hispanic Yes | nan         | Resident\n",
       "2021 | Summer | CCJS458C | GC01    | MLAW358A        | nan             | nan             | Female | 22   | Undergraduate  | CRIM-JUSTICE | BSOS     | Hispanic | Hispanic Yes | nan         | Resident\n",
       "2021 | Summer | CCJS458C | GC01    | MLAW358A        | nan             | nan             | Female | 21   | Undergraduate  | ACA ACH PROG | UGST     | Hispanic | Hispanic Yes | nan         | Resident\n",
       "2021 | Summer | ENGL391  | GC01    | nan             | nan             | nan             | Female | 32   | Undergraduate  | CLASSICS     | ARHU     | Hispanic | Hispanic Yes | nan         | Resident\n",
       "2021 | Summer | ENGL391  | GC01    | nan             | nan             | nan             | Female | 22   | Undergraduate  | ENGLISH      | ARHU     | Hispanic | Hispanic Yes | nan         | Resident\n",
       "2021 | Summer | ENGL391  | GC01    | nan             | nan             | nan             | Male   | 35   | Undergraduate  | GVPT INTLREL | BSOS     | Hispanic | Hispanic Yes | nan         | Resident\n",
       "2021 | Summer | ENGL391  | GC01    | nan             | nan             | nan             | Female | 22   | Undergraduate  | ED-CURR+INST | EDUC     | Hispanic | Hispanic Yes | nan         | Resident\n",
       "2021 | Summer | ENGL409M | GC01    | THET428E        | nan             | nan             | Female | 21   | Undergraduate  | ENGLISH      | ARHU     | Hispanic | Hispanic Yes | nan         | Resident\n",
       "2021 | Summer | ENGL409M | GC01    | THET428E        | nan             | nan             | Male   | 22   | Undergraduate  | ENGLISH      | ARHU     | Hispanic | Hispanic Yes | nan         | Resident\n",
       "... (3 rows omitted)"
      ]
     },
     "execution_count": 172,
     "metadata": {},
     "output_type": "execute_result"
    }
   ],
   "source": [
    "Hispanic_S21 = tbl_4.where(\"Race\", are.equal_to(\"Hispanic\"))\n",
    "Hispanic_S21"
   ]
  },
  {
   "cell_type": "code",
   "execution_count": 173,
   "metadata": {},
   "outputs": [
    {
     "data": {
      "text/plain": [
       "13"
      ]
     },
     "execution_count": 173,
     "metadata": {},
     "output_type": "execute_result"
    }
   ],
   "source": [
    "H_S21 = Hispanic_S21.num_rows\n",
    "H_S21"
   ]
  },
  {
   "cell_type": "markdown",
   "metadata": {},
   "source": [
    "13 hispanic students enrolled in Summer 2021"
   ]
  },
  {
   "cell_type": "code",
   "execution_count": 174,
   "metadata": {},
   "outputs": [
    {
     "data": {
      "text/html": [
       "<table border=\"1\" class=\"dataframe\">\n",
       "    <thead>\n",
       "        <tr>\n",
       "            <th>Year</th> <th>Term</th> <th>Course</th> <th>Section</th> <th>Cross listing 1</th> <th>Cross listing 2</th> <th>Cross listing 3</th> <th>Gender</th> <th>Age</th> <th>Student Status</th> <th>Major </th> <th>College </th> <th>Race</th> <th>Ethnicity</th> <th>Citizenship</th> <th>Residency</th>\n",
       "        </tr>\n",
       "    </thead>\n",
       "    <tbody>\n",
       "        <tr>\n",
       "            <td>2021</td> <td>Summer</td> <td>CCJS458C</td> <td>GC01   </td> <td>MLAW358A       </td> <td>nan            </td> <td>nan            </td> <td>Female</td> <td>21  </td> <td>Undergraduate </td> <td>CRIM-JUSTICE</td> <td>BSOS    </td> <td>White</td> <td>Hispanic No</td> <td>nan        </td> <td>Non-resident</td>\n",
       "        </tr>\n",
       "    </tbody>\n",
       "        <tr>\n",
       "            <td>2021</td> <td>Summer</td> <td>CCJS458C</td> <td>GC01   </td> <td>MLAW358A       </td> <td>nan            </td> <td>nan            </td> <td>Male  </td> <td>23  </td> <td>Undergraduate </td> <td>CRIM-JUSTICE</td> <td>BSOS    </td> <td>White</td> <td>Hispanic No</td> <td>nan        </td> <td>Non-resident</td>\n",
       "        </tr>\n",
       "    </tbody>\n",
       "        <tr>\n",
       "            <td>2021</td> <td>Summer</td> <td>CCJS458C</td> <td>GC01   </td> <td>MLAW358A       </td> <td>nan            </td> <td>nan            </td> <td>Male  </td> <td>36  </td> <td>Undergraduate </td> <td>CRIM-JUSTICE</td> <td>BSOS    </td> <td>White</td> <td>Hispanic No</td> <td>nan        </td> <td>Resident    </td>\n",
       "        </tr>\n",
       "    </tbody>\n",
       "        <tr>\n",
       "            <td>2021</td> <td>Summer</td> <td>ENGL391 </td> <td>GC01   </td> <td>nan            </td> <td>nan            </td> <td>nan            </td> <td>Female</td> <td>22  </td> <td>Undergraduate </td> <td>AGST EDUC   </td> <td>AGNR    </td> <td>White</td> <td>Hispanic No</td> <td>nan        </td> <td>Resident    </td>\n",
       "        </tr>\n",
       "    </tbody>\n",
       "        <tr>\n",
       "            <td>2021</td> <td>Summer</td> <td>ENGL391 </td> <td>GC01   </td> <td>nan            </td> <td>nan            </td> <td>nan            </td> <td>Male  </td> <td>26  </td> <td>Undergraduate </td> <td>PHILOSOPHY  </td> <td>ARHU    </td> <td>White</td> <td>Hispanic No</td> <td>nan        </td> <td>Resident    </td>\n",
       "        </tr>\n",
       "    </tbody>\n",
       "        <tr>\n",
       "            <td>2021</td> <td>Summer</td> <td>ENGL391 </td> <td>GC01   </td> <td>nan            </td> <td>nan            </td> <td>nan            </td> <td>Male  </td> <td>22  </td> <td>Undergraduate </td> <td>COMM        </td> <td>ARHU    </td> <td>White</td> <td>Hispanic No</td> <td>nan        </td> <td>Resident    </td>\n",
       "        </tr>\n",
       "    </tbody>\n",
       "        <tr>\n",
       "            <td>2021</td> <td>Summer</td> <td>ENGL391 </td> <td>GC01   </td> <td>nan            </td> <td>nan            </td> <td>nan            </td> <td>Male  </td> <td>25  </td> <td>Undergraduate </td> <td>HISTORY     </td> <td>ARHU    </td> <td>White</td> <td>Hispanic No</td> <td>nan        </td> <td>Resident    </td>\n",
       "        </tr>\n",
       "    </tbody>\n",
       "        <tr>\n",
       "            <td>2021</td> <td>Summer</td> <td>ENGL391 </td> <td>GC01   </td> <td>nan            </td> <td>nan            </td> <td>nan            </td> <td>Female</td> <td>20  </td> <td>Undergraduate </td> <td>PSYCH BS    </td> <td>BSOS    </td> <td>White</td> <td>Hispanic No</td> <td>nan        </td> <td>Resident    </td>\n",
       "        </tr>\n",
       "    </tbody>\n",
       "        <tr>\n",
       "            <td>2021</td> <td>Summer</td> <td>ENGL391 </td> <td>GC01   </td> <td>nan            </td> <td>nan            </td> <td>nan            </td> <td>Female</td> <td>21  </td> <td>Undergraduate </td> <td>CRIM-JUSTICE</td> <td>BSOS    </td> <td>White</td> <td>Hispanic No</td> <td>nan        </td> <td>Resident    </td>\n",
       "        </tr>\n",
       "    </tbody>\n",
       "        <tr>\n",
       "            <td>2021</td> <td>Summer</td> <td>ENGL391 </td> <td>GC01   </td> <td>nan            </td> <td>nan            </td> <td>nan            </td> <td>Male  </td> <td>33  </td> <td>Undergraduate </td> <td>GEO SCI GIS </td> <td>BSOS    </td> <td>White</td> <td>Hispanic No</td> <td>nan        </td> <td>Resident    </td>\n",
       "        </tr>\n",
       "    </tbody>\n",
       "</table>\n",
       "<p>... (15 rows omitted)</p>"
      ],
      "text/plain": [
       "Year | Term   | Course   | Section | Cross listing 1 | Cross listing 2 | Cross listing 3 | Gender | Age  | Student Status | Major        | College  | Race  | Ethnicity   | Citizenship | Residency\n",
       "2021 | Summer | CCJS458C | GC01    | MLAW358A        | nan             | nan             | Female | 21   | Undergraduate  | CRIM-JUSTICE | BSOS     | White | Hispanic No | nan         | Non-resident\n",
       "2021 | Summer | CCJS458C | GC01    | MLAW358A        | nan             | nan             | Male   | 23   | Undergraduate  | CRIM-JUSTICE | BSOS     | White | Hispanic No | nan         | Non-resident\n",
       "2021 | Summer | CCJS458C | GC01    | MLAW358A        | nan             | nan             | Male   | 36   | Undergraduate  | CRIM-JUSTICE | BSOS     | White | Hispanic No | nan         | Resident\n",
       "2021 | Summer | ENGL391  | GC01    | nan             | nan             | nan             | Female | 22   | Undergraduate  | AGST EDUC    | AGNR     | White | Hispanic No | nan         | Resident\n",
       "2021 | Summer | ENGL391  | GC01    | nan             | nan             | nan             | Male   | 26   | Undergraduate  | PHILOSOPHY   | ARHU     | White | Hispanic No | nan         | Resident\n",
       "2021 | Summer | ENGL391  | GC01    | nan             | nan             | nan             | Male   | 22   | Undergraduate  | COMM         | ARHU     | White | Hispanic No | nan         | Resident\n",
       "2021 | Summer | ENGL391  | GC01    | nan             | nan             | nan             | Male   | 25   | Undergraduate  | HISTORY      | ARHU     | White | Hispanic No | nan         | Resident\n",
       "2021 | Summer | ENGL391  | GC01    | nan             | nan             | nan             | Female | 20   | Undergraduate  | PSYCH BS     | BSOS     | White | Hispanic No | nan         | Resident\n",
       "2021 | Summer | ENGL391  | GC01    | nan             | nan             | nan             | Female | 21   | Undergraduate  | CRIM-JUSTICE | BSOS     | White | Hispanic No | nan         | Resident\n",
       "2021 | Summer | ENGL391  | GC01    | nan             | nan             | nan             | Male   | 33   | Undergraduate  | GEO SCI GIS  | BSOS     | White | Hispanic No | nan         | Resident\n",
       "... (15 rows omitted)"
      ]
     },
     "execution_count": 174,
     "metadata": {},
     "output_type": "execute_result"
    }
   ],
   "source": [
    "White_S21 = tbl_4.where(\"Race\", are.equal_to(\"White\"))\n",
    "White_S21"
   ]
  },
  {
   "cell_type": "code",
   "execution_count": 175,
   "metadata": {},
   "outputs": [
    {
     "data": {
      "text/plain": [
       "25"
      ]
     },
     "execution_count": 175,
     "metadata": {},
     "output_type": "execute_result"
    }
   ],
   "source": [
    "W_S21 = White_S21.num_rows\n",
    "W_S21"
   ]
  },
  {
   "cell_type": "markdown",
   "metadata": {},
   "source": [
    "25 white students enrolled in Summer 2021"
   ]
  },
  {
   "cell_type": "code",
   "execution_count": 176,
   "metadata": {},
   "outputs": [
    {
     "data": {
      "text/html": [
       "<table border=\"1\" class=\"dataframe\">\n",
       "    <thead>\n",
       "        <tr>\n",
       "            <th>Year</th> <th>Term</th> <th>Course</th> <th>Section</th> <th>Cross listing 1</th> <th>Cross listing 2</th> <th>Cross listing 3</th> <th>Gender</th> <th>Age</th> <th>Student Status</th> <th>Major </th> <th>College </th> <th>Race</th> <th>Ethnicity</th> <th>Citizenship</th> <th>Residency</th>\n",
       "        </tr>\n",
       "    </thead>\n",
       "    <tbody>\n",
       "        <tr>\n",
       "            <td>2021</td> <td>Fall</td> <td>ANSC243</td> <td>101    </td> <td>nan            </td> <td>nan            </td> <td>nan            </td> <td>Female</td> <td>27  </td> <td>Undergraduate </td> <td>ANIMAL SCI  </td> <td>AGNR    </td> <td>Two or More              </td> <td>Hispanic No     </td> <td>US Citizen </td> <td>Resident                      </td>\n",
       "        </tr>\n",
       "    </tbody>\n",
       "        <tr>\n",
       "            <td>2021</td> <td>Fall</td> <td>ANSC243</td> <td>101    </td> <td>nan            </td> <td>nan            </td> <td>nan            </td> <td>Female</td> <td>19  </td> <td>Undergraduate </td> <td>LTSC UNDECID</td> <td>LTSC    </td> <td>Hispanic                 </td> <td>Hispanic Yes    </td> <td>US Citizen </td> <td>Resident                      </td>\n",
       "        </tr>\n",
       "    </tbody>\n",
       "        <tr>\n",
       "            <td>2021</td> <td>Fall</td> <td>ANSC243</td> <td>101    </td> <td>nan            </td> <td>nan            </td> <td>nan            </td> <td>Male  </td> <td>31  </td> <td>Undergraduate </td> <td>LTSC        </td> <td>LTSC    </td> <td>Hispanic                 </td> <td>Hispanic Yes    </td> <td>US Citizen </td> <td>USM Military NonResident InSta</td>\n",
       "        </tr>\n",
       "    </tbody>\n",
       "        <tr>\n",
       "            <td>2021</td> <td>Fall</td> <td>ANSC243</td> <td>101    </td> <td>nan            </td> <td>nan            </td> <td>nan            </td> <td>Female</td> <td>21  </td> <td>Undergraduate </td> <td>ANIMAL SCI  </td> <td>AGNR    </td> <td>White                    </td> <td>Hispanic No     </td> <td>US Citizen </td> <td>Non-resident                  </td>\n",
       "        </tr>\n",
       "    </tbody>\n",
       "        <tr>\n",
       "            <td>2021</td> <td>Fall</td> <td>ANSC243</td> <td>101    </td> <td>nan            </td> <td>nan            </td> <td>nan            </td> <td>Male  </td> <td>20  </td> <td>Undergraduate </td> <td>COM-AGRI-VET</td> <td>AGNR    </td> <td>Unknown                  </td> <td>Hispanic Unknown</td> <td>US Citizen </td> <td>Resident                      </td>\n",
       "        </tr>\n",
       "    </tbody>\n",
       "        <tr>\n",
       "            <td>2021</td> <td>Fall</td> <td>ANSC243</td> <td>101    </td> <td>nan            </td> <td>nan            </td> <td>nan            </td> <td>Male  </td> <td>22  </td> <td>Undergraduate </td> <td>ANIMAL SCI  </td> <td>AGNR    </td> <td>White                    </td> <td>Hispanic No     </td> <td>US Citizen </td> <td>Non-resident                  </td>\n",
       "        </tr>\n",
       "    </tbody>\n",
       "        <tr>\n",
       "            <td>2021</td> <td>Fall</td> <td>ANSC243</td> <td>101    </td> <td>nan            </td> <td>nan            </td> <td>nan            </td> <td>Female</td> <td>20  </td> <td>Undergraduate </td> <td>LTSC UNDECID</td> <td>LTSC    </td> <td>Black or African American</td> <td>Hispanic No     </td> <td>US Citizen </td> <td>Resident                      </td>\n",
       "        </tr>\n",
       "    </tbody>\n",
       "        <tr>\n",
       "            <td>2021</td> <td>Fall</td> <td>ANSC243</td> <td>101    </td> <td>nan            </td> <td>nan            </td> <td>nan            </td> <td>Female</td> <td>21  </td> <td>Undergraduate </td> <td>LTSC        </td> <td>LTSC    </td> <td>Hispanic                 </td> <td>Hispanic Yes    </td> <td>US Citizen </td> <td>Resident                      </td>\n",
       "        </tr>\n",
       "    </tbody>\n",
       "        <tr>\n",
       "            <td>2021</td> <td>Fall</td> <td>ANSC243</td> <td>101    </td> <td>nan            </td> <td>nan            </td> <td>nan            </td> <td>Female</td> <td>21  </td> <td>Undergraduate </td> <td>LINGUISTICS </td> <td>ARHU    </td> <td>Asian                    </td> <td>Hispanic No     </td> <td>US Citizen </td> <td>Resident                      </td>\n",
       "        </tr>\n",
       "    </tbody>\n",
       "        <tr>\n",
       "            <td>2021</td> <td>Fall</td> <td>ANSC243</td> <td>101    </td> <td>nan            </td> <td>nan            </td> <td>nan            </td> <td>Female</td> <td>20  </td> <td>Undergraduate </td> <td>ANIMAL SCI  </td> <td>AGNR    </td> <td>White                    </td> <td>Hispanic No     </td> <td>US Citizen </td> <td>Non-resident                  </td>\n",
       "        </tr>\n",
       "    </tbody>\n",
       "</table>\n",
       "<p>... (279 rows omitted)</p>"
      ],
      "text/plain": [
       "Year | Term | Course  | Section | Cross listing 1 | Cross listing 2 | Cross listing 3 | Gender | Age  | Student Status | Major        | College  | Race                      | Ethnicity        | Citizenship | Residency\n",
       "2021 | Fall | ANSC243 | 101     | nan             | nan             | nan             | Female | 27   | Undergraduate  | ANIMAL SCI   | AGNR     | Two or More               | Hispanic No      | US Citizen  | Resident\n",
       "2021 | Fall | ANSC243 | 101     | nan             | nan             | nan             | Female | 19   | Undergraduate  | LTSC UNDECID | LTSC     | Hispanic                  | Hispanic Yes     | US Citizen  | Resident\n",
       "2021 | Fall | ANSC243 | 101     | nan             | nan             | nan             | Male   | 31   | Undergraduate  | LTSC         | LTSC     | Hispanic                  | Hispanic Yes     | US Citizen  | USM Military NonResident InSta\n",
       "2021 | Fall | ANSC243 | 101     | nan             | nan             | nan             | Female | 21   | Undergraduate  | ANIMAL SCI   | AGNR     | White                     | Hispanic No      | US Citizen  | Non-resident\n",
       "2021 | Fall | ANSC243 | 101     | nan             | nan             | nan             | Male   | 20   | Undergraduate  | COM-AGRI-VET | AGNR     | Unknown                   | Hispanic Unknown | US Citizen  | Resident\n",
       "2021 | Fall | ANSC243 | 101     | nan             | nan             | nan             | Male   | 22   | Undergraduate  | ANIMAL SCI   | AGNR     | White                     | Hispanic No      | US Citizen  | Non-resident\n",
       "2021 | Fall | ANSC243 | 101     | nan             | nan             | nan             | Female | 20   | Undergraduate  | LTSC UNDECID | LTSC     | Black or African American | Hispanic No      | US Citizen  | Resident\n",
       "2021 | Fall | ANSC243 | 101     | nan             | nan             | nan             | Female | 21   | Undergraduate  | LTSC         | LTSC     | Hispanic                  | Hispanic Yes     | US Citizen  | Resident\n",
       "2021 | Fall | ANSC243 | 101     | nan             | nan             | nan             | Female | 21   | Undergraduate  | LINGUISTICS  | ARHU     | Asian                     | Hispanic No      | US Citizen  | Resident\n",
       "2021 | Fall | ANSC243 | 101     | nan             | nan             | nan             | Female | 20   | Undergraduate  | ANIMAL SCI   | AGNR     | White                     | Hispanic No      | US Citizen  | Non-resident\n",
       "... (279 rows omitted)"
      ]
     },
     "execution_count": 176,
     "metadata": {},
     "output_type": "execute_result"
    }
   ],
   "source": [
    "tbl_5=Table.read_table('../data/Data_OIA.xlsx - Fall 2021.csv')\n",
    "tbl_5"
   ]
  },
  {
   "cell_type": "code",
   "execution_count": 177,
   "metadata": {},
   "outputs": [
    {
     "data": {
      "text/html": [
       "<table border=\"1\" class=\"dataframe\">\n",
       "    <thead>\n",
       "        <tr>\n",
       "            <th>Year</th> <th>Term</th> <th>Course</th> <th>Section</th> <th>Cross listing 1</th> <th>Cross listing 2</th> <th>Cross listing 3</th> <th>Gender</th> <th>Age</th> <th>Student Status</th> <th>Major </th> <th>College </th> <th>Race</th> <th>Ethnicity</th> <th>Citizenship</th> <th>Residency</th>\n",
       "        </tr>\n",
       "    </thead>\n",
       "    <tbody>\n",
       "        <tr>\n",
       "            <td>2021</td> <td>Fall</td> <td>ANSC243</td> <td>101    </td> <td>nan            </td> <td>nan            </td> <td>nan            </td> <td>Female</td> <td>20  </td> <td>Undergraduate </td> <td>LTSC UNDECID</td> <td>LTSC    </td> <td>Black or African American</td> <td>Hispanic No</td> <td>US Citizen </td> <td>Resident    </td>\n",
       "        </tr>\n",
       "    </tbody>\n",
       "        <tr>\n",
       "            <td>2021</td> <td>Fall</td> <td>NFSC230</td> <td>101    </td> <td>nan            </td> <td>nan            </td> <td>nan            </td> <td>Female</td> <td>23  </td> <td>Undergraduate </td> <td>PHILOSOPHY  </td> <td>ARHU    </td> <td>Black or African American</td> <td>Hispanic No</td> <td>US Citizen </td> <td>Resident    </td>\n",
       "        </tr>\n",
       "    </tbody>\n",
       "        <tr>\n",
       "            <td>2021</td> <td>Fall</td> <td>NFSC230</td> <td>101    </td> <td>nan            </td> <td>nan            </td> <td>nan            </td> <td>Female</td> <td>48  </td> <td>Undergraduate </td> <td>PSYCHOLOGY  </td> <td>BSOS    </td> <td>Black or African American</td> <td>Hispanic No</td> <td>US Citizen </td> <td>Resident    </td>\n",
       "        </tr>\n",
       "    </tbody>\n",
       "        <tr>\n",
       "            <td>2021</td> <td>Fall</td> <td>NFSC230</td> <td>101    </td> <td>nan            </td> <td>nan            </td> <td>nan            </td> <td>Female</td> <td>42  </td> <td>Undergraduate </td> <td>FAMILY SCI  </td> <td>SPHL    </td> <td>Black or African American</td> <td>Hispanic No</td> <td>US Citizen </td> <td>Non-resident</td>\n",
       "        </tr>\n",
       "    </tbody>\n",
       "        <tr>\n",
       "            <td>2021</td> <td>Fall</td> <td>NFSC230</td> <td>101    </td> <td>nan            </td> <td>nan            </td> <td>nan            </td> <td>Female</td> <td>35  </td> <td>Undergraduate </td> <td>FAMILY SCI  </td> <td>SPHL    </td> <td>Black or African American</td> <td>Hispanic No</td> <td>US Citizen </td> <td>Resident    </td>\n",
       "        </tr>\n",
       "    </tbody>\n",
       "        <tr>\n",
       "            <td>2021</td> <td>Fall</td> <td>GVPT417</td> <td>101    </td> <td>nan            </td> <td>nan            </td> <td>nan            </td> <td>Female</td> <td>21  </td> <td>Undergraduate </td> <td>ENV S&P-PLTC</td> <td>BSOS    </td> <td>Black or African American</td> <td>Hispanic No</td> <td>US Citizen </td> <td>Non-resident</td>\n",
       "        </tr>\n",
       "    </tbody>\n",
       "        <tr>\n",
       "            <td>2021</td> <td>Fall</td> <td>GVPT482</td> <td>101    </td> <td>nan            </td> <td>nan            </td> <td>nan            </td> <td>Female</td> <td>25  </td> <td>Undergraduate </td> <td>GVPT INTLREL</td> <td>BSOS    </td> <td>Black or African American</td> <td>Hispanic No</td> <td>US Citizen </td> <td>Resident    </td>\n",
       "        </tr>\n",
       "    </tbody>\n",
       "        <tr>\n",
       "            <td>2021</td> <td>Fall</td> <td>GVPT482</td> <td>101    </td> <td>nan            </td> <td>nan            </td> <td>nan            </td> <td>Female</td> <td>22  </td> <td>Undergraduate </td> <td>ENV SCI&POL </td> <td>AGNR    </td> <td>Black or African American</td> <td>Hispanic No</td> <td>US Citizen </td> <td>Non-resident</td>\n",
       "        </tr>\n",
       "    </tbody>\n",
       "        <tr>\n",
       "            <td>2021</td> <td>Fall</td> <td>GVPT482</td> <td>101    </td> <td>nan            </td> <td>nan            </td> <td>nan            </td> <td>Female</td> <td>21  </td> <td>Undergraduate </td> <td>GVPT INTLREL</td> <td>BSOS    </td> <td>Black or African American</td> <td>Hispanic No</td> <td>US Citizen </td> <td>Resident    </td>\n",
       "        </tr>\n",
       "    </tbody>\n",
       "        <tr>\n",
       "            <td>2021</td> <td>Fall</td> <td>GVPT482</td> <td>101    </td> <td>nan            </td> <td>nan            </td> <td>nan            </td> <td>Female</td> <td>21  </td> <td>Undergraduate </td> <td>GVPT INTLREL</td> <td>BSOS    </td> <td>Black or African American</td> <td>Hispanic No</td> <td>US Citizen </td> <td>Resident    </td>\n",
       "        </tr>\n",
       "    </tbody>\n",
       "</table>\n",
       "<p>... (29 rows omitted)</p>"
      ],
      "text/plain": [
       "Year | Term | Course  | Section | Cross listing 1 | Cross listing 2 | Cross listing 3 | Gender | Age  | Student Status | Major        | College  | Race                      | Ethnicity   | Citizenship | Residency\n",
       "2021 | Fall | ANSC243 | 101     | nan             | nan             | nan             | Female | 20   | Undergraduate  | LTSC UNDECID | LTSC     | Black or African American | Hispanic No | US Citizen  | Resident\n",
       "2021 | Fall | NFSC230 | 101     | nan             | nan             | nan             | Female | 23   | Undergraduate  | PHILOSOPHY   | ARHU     | Black or African American | Hispanic No | US Citizen  | Resident\n",
       "2021 | Fall | NFSC230 | 101     | nan             | nan             | nan             | Female | 48   | Undergraduate  | PSYCHOLOGY   | BSOS     | Black or African American | Hispanic No | US Citizen  | Resident\n",
       "2021 | Fall | NFSC230 | 101     | nan             | nan             | nan             | Female | 42   | Undergraduate  | FAMILY SCI   | SPHL     | Black or African American | Hispanic No | US Citizen  | Non-resident\n",
       "2021 | Fall | NFSC230 | 101     | nan             | nan             | nan             | Female | 35   | Undergraduate  | FAMILY SCI   | SPHL     | Black or African American | Hispanic No | US Citizen  | Resident\n",
       "2021 | Fall | GVPT417 | 101     | nan             | nan             | nan             | Female | 21   | Undergraduate  | ENV S&P-PLTC | BSOS     | Black or African American | Hispanic No | US Citizen  | Non-resident\n",
       "2021 | Fall | GVPT482 | 101     | nan             | nan             | nan             | Female | 25   | Undergraduate  | GVPT INTLREL | BSOS     | Black or African American | Hispanic No | US Citizen  | Resident\n",
       "2021 | Fall | GVPT482 | 101     | nan             | nan             | nan             | Female | 22   | Undergraduate  | ENV SCI&POL  | AGNR     | Black or African American | Hispanic No | US Citizen  | Non-resident\n",
       "2021 | Fall | GVPT482 | 101     | nan             | nan             | nan             | Female | 21   | Undergraduate  | GVPT INTLREL | BSOS     | Black or African American | Hispanic No | US Citizen  | Resident\n",
       "2021 | Fall | GVPT482 | 101     | nan             | nan             | nan             | Female | 21   | Undergraduate  | GVPT INTLREL | BSOS     | Black or African American | Hispanic No | US Citizen  | Resident\n",
       "... (29 rows omitted)"
      ]
     },
     "execution_count": 177,
     "metadata": {},
     "output_type": "execute_result"
    }
   ],
   "source": [
    "African_American_F21= tbl_5.where(\"Race\", are.equal_to(\"Black or African American\"))\n",
    "African_American_F21"
   ]
  },
  {
   "cell_type": "code",
   "execution_count": 178,
   "metadata": {},
   "outputs": [
    {
     "data": {
      "text/plain": [
       "39"
      ]
     },
     "execution_count": 178,
     "metadata": {},
     "output_type": "execute_result"
    }
   ],
   "source": [
    "AA_F21 = African_American_F21.num_rows\n",
    "AA_F21"
   ]
  },
  {
   "cell_type": "markdown",
   "metadata": {},
   "source": [
    "39 African American students enrolled inFall 2021"
   ]
  },
  {
   "cell_type": "code",
   "execution_count": 179,
   "metadata": {},
   "outputs": [
    {
     "data": {
      "text/html": [
       "<table border=\"1\" class=\"dataframe\">\n",
       "    <thead>\n",
       "        <tr>\n",
       "            <th>Year</th> <th>Term</th> <th>Course</th> <th>Section</th> <th>Cross listing 1</th> <th>Cross listing 2</th> <th>Cross listing 3</th> <th>Gender</th> <th>Age</th> <th>Student Status</th> <th>Major </th> <th>College </th> <th>Race</th> <th>Ethnicity</th> <th>Citizenship</th> <th>Residency</th>\n",
       "        </tr>\n",
       "    </thead>\n",
       "    <tbody>\n",
       "        <tr>\n",
       "            <td>2021</td> <td>Fall</td> <td>ANSC243 </td> <td>101    </td> <td>nan            </td> <td>nan            </td> <td>nan            </td> <td>Female</td> <td>21  </td> <td>Undergraduate </td> <td>LINGUISTICS </td> <td>ARHU    </td> <td>Asian</td> <td>Hispanic No     </td> <td>US Citizen </td> <td>Resident    </td>\n",
       "        </tr>\n",
       "    </tbody>\n",
       "        <tr>\n",
       "            <td>2021</td> <td>Fall</td> <td>LASC348C</td> <td>101    </td> <td>MITH301        </td> <td>CMLT398M       </td> <td>ENGL378M       </td> <td>Female</td> <td>20  </td> <td>Undergraduate </td> <td>CRIM-JUSTICE</td> <td>BSOS    </td> <td>Asian</td> <td>Hispanic No     </td> <td>US Citizen </td> <td>Resident    </td>\n",
       "        </tr>\n",
       "    </tbody>\n",
       "        <tr>\n",
       "            <td>2021</td> <td>Fall</td> <td>NFSC230 </td> <td>101    </td> <td>nan            </td> <td>nan            </td> <td>nan            </td> <td>Male  </td> <td>23  </td> <td>Undergraduate </td> <td>ECONOMICS   </td> <td>BSOS    </td> <td>Asian</td> <td>Hispanic No     </td> <td>US Citizen </td> <td>Resident    </td>\n",
       "        </tr>\n",
       "    </tbody>\n",
       "        <tr>\n",
       "            <td>2021</td> <td>Fall</td> <td>NFSC230 </td> <td>101    </td> <td>nan            </td> <td>nan            </td> <td>nan            </td> <td>Male  </td> <td>24  </td> <td>Undergraduate </td> <td>SIE         </td> <td>CMNS    </td> <td>Asian</td> <td>Hispanic No     </td> <td>US Citizen </td> <td>Resident    </td>\n",
       "        </tr>\n",
       "    </tbody>\n",
       "        <tr>\n",
       "            <td>2021</td> <td>Fall</td> <td>NFSC230 </td> <td>101    </td> <td>nan            </td> <td>nan            </td> <td>nan            </td> <td>Female</td> <td>28  </td> <td>Undergraduate </td> <td>ACCOUNTING  </td> <td>BMGT    </td> <td>Asian</td> <td>Hispanic No     </td> <td>US Citizen </td> <td>Resident    </td>\n",
       "        </tr>\n",
       "    </tbody>\n",
       "        <tr>\n",
       "            <td>2021</td> <td>Fall</td> <td>GVPT417 </td> <td>101    </td> <td>nan            </td> <td>nan            </td> <td>nan            </td> <td>Female</td> <td>20  </td> <td>Undergraduate </td> <td>ENV S&P-PLTC</td> <td>BSOS    </td> <td>Asian</td> <td>Hispanic Unknown</td> <td>US Citizen </td> <td>Resident    </td>\n",
       "        </tr>\n",
       "    </tbody>\n",
       "        <tr>\n",
       "            <td>2021</td> <td>Fall</td> <td>GVPT482 </td> <td>101    </td> <td>nan            </td> <td>nan            </td> <td>nan            </td> <td>Female</td> <td>22  </td> <td>Undergraduate </td> <td>GVPT INTLREL</td> <td>BSOS    </td> <td>Asian</td> <td>Hispanic No     </td> <td>US Citizen </td> <td>Non-resident</td>\n",
       "        </tr>\n",
       "    </tbody>\n",
       "        <tr>\n",
       "            <td>2021</td> <td>Fall</td> <td>GVPT482 </td> <td>101    </td> <td>nan            </td> <td>nan            </td> <td>nan            </td> <td>Female</td> <td>21  </td> <td>Undergraduate </td> <td>GVPT INTLREL</td> <td>BSOS    </td> <td>Asian</td> <td>Hispanic No     </td> <td>US Citizen </td> <td>Resident    </td>\n",
       "        </tr>\n",
       "    </tbody>\n",
       "        <tr>\n",
       "            <td>2021</td> <td>Fall</td> <td>GVPT482 </td> <td>101    </td> <td>nan            </td> <td>nan            </td> <td>nan            </td> <td>Male  </td> <td>21  </td> <td>Undergraduate </td> <td>GOVT & POLIT</td> <td>BSOS    </td> <td>Asian</td> <td>Hispanic No     </td> <td>US Citizen </td> <td>Resident    </td>\n",
       "        </tr>\n",
       "    </tbody>\n",
       "        <tr>\n",
       "            <td>2021</td> <td>Fall</td> <td>GVPT485 </td> <td>101    </td> <td>nan            </td> <td>nan            </td> <td>nan            </td> <td>Female</td> <td>21  </td> <td>Undergraduate </td> <td>GVPT INTLREL</td> <td>BSOS    </td> <td>Asian</td> <td>Hispanic No     </td> <td>US Citizen </td> <td>Non-resident</td>\n",
       "        </tr>\n",
       "    </tbody>\n",
       "</table>\n",
       "<p>... (21 rows omitted)</p>"
      ],
      "text/plain": [
       "Year | Term | Course   | Section | Cross listing 1 | Cross listing 2 | Cross listing 3 | Gender | Age  | Student Status | Major        | College  | Race  | Ethnicity        | Citizenship | Residency\n",
       "2021 | Fall | ANSC243  | 101     | nan             | nan             | nan             | Female | 21   | Undergraduate  | LINGUISTICS  | ARHU     | Asian | Hispanic No      | US Citizen  | Resident\n",
       "2021 | Fall | LASC348C | 101     | MITH301         | CMLT398M        | ENGL378M        | Female | 20   | Undergraduate  | CRIM-JUSTICE | BSOS     | Asian | Hispanic No      | US Citizen  | Resident\n",
       "2021 | Fall | NFSC230  | 101     | nan             | nan             | nan             | Male   | 23   | Undergraduate  | ECONOMICS    | BSOS     | Asian | Hispanic No      | US Citizen  | Resident\n",
       "2021 | Fall | NFSC230  | 101     | nan             | nan             | nan             | Male   | 24   | Undergraduate  | SIE          | CMNS     | Asian | Hispanic No      | US Citizen  | Resident\n",
       "2021 | Fall | NFSC230  | 101     | nan             | nan             | nan             | Female | 28   | Undergraduate  | ACCOUNTING   | BMGT     | Asian | Hispanic No      | US Citizen  | Resident\n",
       "2021 | Fall | GVPT417  | 101     | nan             | nan             | nan             | Female | 20   | Undergraduate  | ENV S&P-PLTC | BSOS     | Asian | Hispanic Unknown | US Citizen  | Resident\n",
       "2021 | Fall | GVPT482  | 101     | nan             | nan             | nan             | Female | 22   | Undergraduate  | GVPT INTLREL | BSOS     | Asian | Hispanic No      | US Citizen  | Non-resident\n",
       "2021 | Fall | GVPT482  | 101     | nan             | nan             | nan             | Female | 21   | Undergraduate  | GVPT INTLREL | BSOS     | Asian | Hispanic No      | US Citizen  | Resident\n",
       "2021 | Fall | GVPT482  | 101     | nan             | nan             | nan             | Male   | 21   | Undergraduate  | GOVT & POLIT | BSOS     | Asian | Hispanic No      | US Citizen  | Resident\n",
       "2021 | Fall | GVPT485  | 101     | nan             | nan             | nan             | Female | 21   | Undergraduate  | GVPT INTLREL | BSOS     | Asian | Hispanic No      | US Citizen  | Non-resident\n",
       "... (21 rows omitted)"
      ]
     },
     "execution_count": 179,
     "metadata": {},
     "output_type": "execute_result"
    }
   ],
   "source": [
    "Asian_F21 = tbl_5.where(\"Race\", are.equal_to(\"Asian\"))\n",
    "Asian_F21"
   ]
  },
  {
   "cell_type": "code",
   "execution_count": 180,
   "metadata": {},
   "outputs": [
    {
     "data": {
      "text/plain": [
       "31"
      ]
     },
     "execution_count": 180,
     "metadata": {},
     "output_type": "execute_result"
    }
   ],
   "source": [
    "A_F21 = Asian_F21.num_rows\n",
    "A_F21"
   ]
  },
  {
   "cell_type": "markdown",
   "metadata": {},
   "source": [
    "31 Asian students enrolled in Fall 2021"
   ]
  },
  {
   "cell_type": "code",
   "execution_count": 181,
   "metadata": {},
   "outputs": [
    {
     "data": {
      "text/html": [
       "<table border=\"1\" class=\"dataframe\">\n",
       "    <thead>\n",
       "        <tr>\n",
       "            <th>Year</th> <th>Term</th> <th>Course</th> <th>Section</th> <th>Cross listing 1</th> <th>Cross listing 2</th> <th>Cross listing 3</th> <th>Gender</th> <th>Age</th> <th>Student Status</th> <th>Major </th> <th>College </th> <th>Race</th> <th>Ethnicity</th> <th>Citizenship</th> <th>Residency</th>\n",
       "        </tr>\n",
       "    </thead>\n",
       "    <tbody>\n",
       "        <tr>\n",
       "            <td>2021</td> <td>Fall</td> <td>ANSC243 </td> <td>101    </td> <td>nan            </td> <td>nan            </td> <td>nan            </td> <td>Female</td> <td>19  </td> <td>Undergraduate </td> <td>LTSC UNDECID</td> <td>LTSC    </td> <td>Hispanic</td> <td>Hispanic Yes</td> <td>US Citizen </td> <td>Resident                      </td>\n",
       "        </tr>\n",
       "    </tbody>\n",
       "        <tr>\n",
       "            <td>2021</td> <td>Fall</td> <td>ANSC243 </td> <td>101    </td> <td>nan            </td> <td>nan            </td> <td>nan            </td> <td>Male  </td> <td>31  </td> <td>Undergraduate </td> <td>LTSC        </td> <td>LTSC    </td> <td>Hispanic</td> <td>Hispanic Yes</td> <td>US Citizen </td> <td>USM Military NonResident InSta</td>\n",
       "        </tr>\n",
       "    </tbody>\n",
       "        <tr>\n",
       "            <td>2021</td> <td>Fall</td> <td>ANSC243 </td> <td>101    </td> <td>nan            </td> <td>nan            </td> <td>nan            </td> <td>Female</td> <td>21  </td> <td>Undergraduate </td> <td>LTSC        </td> <td>LTSC    </td> <td>Hispanic</td> <td>Hispanic Yes</td> <td>US Citizen </td> <td>Resident                      </td>\n",
       "        </tr>\n",
       "    </tbody>\n",
       "        <tr>\n",
       "            <td>2021</td> <td>Fall</td> <td>ENGL378M</td> <td>101    </td> <td>MITH301        </td> <td>CMLT398M       </td> <td>LASC348C       </td> <td>Female</td> <td>19  </td> <td>Undergraduate </td> <td>ENGLISH     </td> <td>ARHU    </td> <td>Hispanic</td> <td>Hispanic Yes</td> <td>US Citizen </td> <td>Resident                      </td>\n",
       "        </tr>\n",
       "    </tbody>\n",
       "        <tr>\n",
       "            <td>2021</td> <td>Fall</td> <td>GVPT482 </td> <td>101    </td> <td>nan            </td> <td>nan            </td> <td>nan            </td> <td>Male  </td> <td>22  </td> <td>Undergraduate </td> <td>PUB HLTH SCI</td> <td>SPHL    </td> <td>Hispanic</td> <td>Hispanic Yes</td> <td>US Citizen </td> <td>Resident                      </td>\n",
       "        </tr>\n",
       "    </tbody>\n",
       "        <tr>\n",
       "            <td>2021</td> <td>Fall</td> <td>GVPT482 </td> <td>101    </td> <td>nan            </td> <td>nan            </td> <td>nan            </td> <td>Female</td> <td>22  </td> <td>Undergraduate </td> <td>GOVT & POLIT</td> <td>BSOS    </td> <td>Hispanic</td> <td>Hispanic Yes</td> <td>US Citizen </td> <td>Resident                      </td>\n",
       "        </tr>\n",
       "    </tbody>\n",
       "        <tr>\n",
       "            <td>2021</td> <td>Fall</td> <td>GVPT482 </td> <td>101    </td> <td>nan            </td> <td>nan            </td> <td>nan            </td> <td>Male  </td> <td>23  </td> <td>Undergraduate </td> <td>GVPT INTLREL</td> <td>BSOS    </td> <td>Hispanic</td> <td>Hispanic Yes</td> <td>US Citizen </td> <td>Resident                      </td>\n",
       "        </tr>\n",
       "    </tbody>\n",
       "        <tr>\n",
       "            <td>2021</td> <td>Fall</td> <td>GVPT482 </td> <td>101    </td> <td>nan            </td> <td>nan            </td> <td>nan            </td> <td>Female</td> <td>21  </td> <td>Undergraduate </td> <td>ANTHROPOLOGY</td> <td>BSOS    </td> <td>Hispanic</td> <td>Hispanic Yes</td> <td>US Citizen </td> <td>Resident                      </td>\n",
       "        </tr>\n",
       "    </tbody>\n",
       "        <tr>\n",
       "            <td>2021</td> <td>Fall</td> <td>GVPT482 </td> <td>101    </td> <td>nan            </td> <td>nan            </td> <td>nan            </td> <td>Male  </td> <td>21  </td> <td>Undergraduate </td> <td>GVPT INTLREL</td> <td>BSOS    </td> <td>Hispanic</td> <td>Hispanic Yes</td> <td>US Citizen </td> <td>Resident                      </td>\n",
       "        </tr>\n",
       "    </tbody>\n",
       "        <tr>\n",
       "            <td>2021</td> <td>Fall</td> <td>GVPT485 </td> <td>101    </td> <td>nan            </td> <td>nan            </td> <td>nan            </td> <td>Female</td> <td>20  </td> <td>Undergraduate </td> <td>GOVT & POLIT</td> <td>BSOS    </td> <td>Hispanic</td> <td>Hispanic Yes</td> <td>US Citizen </td> <td>Resident                      </td>\n",
       "        </tr>\n",
       "    </tbody>\n",
       "</table>\n",
       "<p>... (30 rows omitted)</p>"
      ],
      "text/plain": [
       "Year | Term | Course   | Section | Cross listing 1 | Cross listing 2 | Cross listing 3 | Gender | Age  | Student Status | Major        | College  | Race     | Ethnicity    | Citizenship | Residency\n",
       "2021 | Fall | ANSC243  | 101     | nan             | nan             | nan             | Female | 19   | Undergraduate  | LTSC UNDECID | LTSC     | Hispanic | Hispanic Yes | US Citizen  | Resident\n",
       "2021 | Fall | ANSC243  | 101     | nan             | nan             | nan             | Male   | 31   | Undergraduate  | LTSC         | LTSC     | Hispanic | Hispanic Yes | US Citizen  | USM Military NonResident InSta\n",
       "2021 | Fall | ANSC243  | 101     | nan             | nan             | nan             | Female | 21   | Undergraduate  | LTSC         | LTSC     | Hispanic | Hispanic Yes | US Citizen  | Resident\n",
       "2021 | Fall | ENGL378M | 101     | MITH301         | CMLT398M        | LASC348C        | Female | 19   | Undergraduate  | ENGLISH      | ARHU     | Hispanic | Hispanic Yes | US Citizen  | Resident\n",
       "2021 | Fall | GVPT482  | 101     | nan             | nan             | nan             | Male   | 22   | Undergraduate  | PUB HLTH SCI | SPHL     | Hispanic | Hispanic Yes | US Citizen  | Resident\n",
       "2021 | Fall | GVPT482  | 101     | nan             | nan             | nan             | Female | 22   | Undergraduate  | GOVT & POLIT | BSOS     | Hispanic | Hispanic Yes | US Citizen  | Resident\n",
       "2021 | Fall | GVPT482  | 101     | nan             | nan             | nan             | Male   | 23   | Undergraduate  | GVPT INTLREL | BSOS     | Hispanic | Hispanic Yes | US Citizen  | Resident\n",
       "2021 | Fall | GVPT482  | 101     | nan             | nan             | nan             | Female | 21   | Undergraduate  | ANTHROPOLOGY | BSOS     | Hispanic | Hispanic Yes | US Citizen  | Resident\n",
       "2021 | Fall | GVPT482  | 101     | nan             | nan             | nan             | Male   | 21   | Undergraduate  | GVPT INTLREL | BSOS     | Hispanic | Hispanic Yes | US Citizen  | Resident\n",
       "2021 | Fall | GVPT485  | 101     | nan             | nan             | nan             | Female | 20   | Undergraduate  | GOVT & POLIT | BSOS     | Hispanic | Hispanic Yes | US Citizen  | Resident\n",
       "... (30 rows omitted)"
      ]
     },
     "execution_count": 181,
     "metadata": {},
     "output_type": "execute_result"
    }
   ],
   "source": [
    "Hispanic_F21 = tbl_5.where(\"Race\", are.equal_to(\"Hispanic\"))\n",
    "Hispanic_F21"
   ]
  },
  {
   "cell_type": "code",
   "execution_count": 182,
   "metadata": {},
   "outputs": [
    {
     "data": {
      "text/plain": [
       "40"
      ]
     },
     "execution_count": 182,
     "metadata": {},
     "output_type": "execute_result"
    }
   ],
   "source": [
    "H_21 = Hispanic_F21.num_rows\n",
    "H_21"
   ]
  },
  {
   "cell_type": "markdown",
   "metadata": {},
   "source": [
    "40 Hispanic students enrolled in Fall 2021"
   ]
  },
  {
   "cell_type": "code",
   "execution_count": 183,
   "metadata": {},
   "outputs": [
    {
     "data": {
      "text/html": [
       "<table border=\"1\" class=\"dataframe\">\n",
       "    <thead>\n",
       "        <tr>\n",
       "            <th>Year</th> <th>Term</th> <th>Course</th> <th>Section</th> <th>Cross listing 1</th> <th>Cross listing 2</th> <th>Cross listing 3</th> <th>Gender</th> <th>Age</th> <th>Student Status</th> <th>Major </th> <th>College </th> <th>Race</th> <th>Ethnicity</th> <th>Citizenship</th> <th>Residency</th>\n",
       "        </tr>\n",
       "    </thead>\n",
       "    <tbody>\n",
       "        <tr>\n",
       "            <td>2021</td> <td>Fall</td> <td>ANSC243</td> <td>101    </td> <td>nan            </td> <td>nan            </td> <td>nan            </td> <td>Female</td> <td>21  </td> <td>Undergraduate </td> <td>ANIMAL SCI  </td> <td>AGNR    </td> <td>White</td> <td>Hispanic No</td> <td>US Citizen </td> <td>Non-resident</td>\n",
       "        </tr>\n",
       "    </tbody>\n",
       "        <tr>\n",
       "            <td>2021</td> <td>Fall</td> <td>ANSC243</td> <td>101    </td> <td>nan            </td> <td>nan            </td> <td>nan            </td> <td>Male  </td> <td>22  </td> <td>Undergraduate </td> <td>ANIMAL SCI  </td> <td>AGNR    </td> <td>White</td> <td>Hispanic No</td> <td>US Citizen </td> <td>Non-resident</td>\n",
       "        </tr>\n",
       "    </tbody>\n",
       "        <tr>\n",
       "            <td>2021</td> <td>Fall</td> <td>ANSC243</td> <td>101    </td> <td>nan            </td> <td>nan            </td> <td>nan            </td> <td>Female</td> <td>20  </td> <td>Undergraduate </td> <td>ANIMAL SCI  </td> <td>AGNR    </td> <td>White</td> <td>Hispanic No</td> <td>US Citizen </td> <td>Non-resident</td>\n",
       "        </tr>\n",
       "    </tbody>\n",
       "        <tr>\n",
       "            <td>2021</td> <td>Fall</td> <td>ANSC243</td> <td>101    </td> <td>nan            </td> <td>nan            </td> <td>nan            </td> <td>Female</td> <td>21  </td> <td>Undergraduate </td> <td>ANIMAL SCI  </td> <td>AGNR    </td> <td>White</td> <td>Hispanic No</td> <td>US Citizen </td> <td>Resident    </td>\n",
       "        </tr>\n",
       "    </tbody>\n",
       "        <tr>\n",
       "            <td>2021</td> <td>Fall</td> <td>ANSC243</td> <td>101    </td> <td>nan            </td> <td>nan            </td> <td>nan            </td> <td>Male  </td> <td>18  </td> <td>Undergraduate </td> <td>COM-AGRI-VET</td> <td>AGNR    </td> <td>White</td> <td>Hispanic No</td> <td>US Citizen </td> <td>Resident    </td>\n",
       "        </tr>\n",
       "    </tbody>\n",
       "        <tr>\n",
       "            <td>2021</td> <td>Fall</td> <td>NFSC230</td> <td>101    </td> <td>nan            </td> <td>nan            </td> <td>nan            </td> <td>Female</td> <td>22  </td> <td>Undergraduate </td> <td>NFSC DIET   </td> <td>AGNR    </td> <td>White</td> <td>Hispanic No</td> <td>US Citizen </td> <td>Resident    </td>\n",
       "        </tr>\n",
       "    </tbody>\n",
       "        <tr>\n",
       "            <td>2021</td> <td>Fall</td> <td>NFSC230</td> <td>101    </td> <td>nan            </td> <td>nan            </td> <td>nan            </td> <td>Female</td> <td>21  </td> <td>Undergraduate </td> <td>BIO SCI:GENB</td> <td>CMNS    </td> <td>White</td> <td>Hispanic No</td> <td>US Citizen </td> <td>Non-resident</td>\n",
       "        </tr>\n",
       "    </tbody>\n",
       "        <tr>\n",
       "            <td>2021</td> <td>Fall</td> <td>NFSC230</td> <td>101    </td> <td>nan            </td> <td>nan            </td> <td>nan            </td> <td>Male  </td> <td>37  </td> <td>Graduate      </td> <td>ADV SPEC STU</td> <td>GRAD    </td> <td>White</td> <td>Hispanic No</td> <td>US Citizen </td> <td>Resident    </td>\n",
       "        </tr>\n",
       "    </tbody>\n",
       "        <tr>\n",
       "            <td>2021</td> <td>Fall</td> <td>NFSC230</td> <td>101    </td> <td>nan            </td> <td>nan            </td> <td>nan            </td> <td>Female</td> <td>19  </td> <td>Undergraduate </td> <td>LNDSCPE ARCH</td> <td>AGNR    </td> <td>White</td> <td>Hispanic No</td> <td>US Citizen </td> <td>Resident    </td>\n",
       "        </tr>\n",
       "    </tbody>\n",
       "        <tr>\n",
       "            <td>2021</td> <td>Fall</td> <td>NFSC230</td> <td>101    </td> <td>nan            </td> <td>nan            </td> <td>nan            </td> <td>Female</td> <td>30  </td> <td>Undergraduate </td> <td>NFSC DIET   </td> <td>AGNR    </td> <td>White</td> <td>Hispanic No</td> <td>US Citizen </td> <td>Resident    </td>\n",
       "        </tr>\n",
       "    </tbody>\n",
       "</table>\n",
       "<p>... (144 rows omitted)</p>"
      ],
      "text/plain": [
       "Year | Term | Course  | Section | Cross listing 1 | Cross listing 2 | Cross listing 3 | Gender | Age  | Student Status | Major        | College  | Race  | Ethnicity   | Citizenship | Residency\n",
       "2021 | Fall | ANSC243 | 101     | nan             | nan             | nan             | Female | 21   | Undergraduate  | ANIMAL SCI   | AGNR     | White | Hispanic No | US Citizen  | Non-resident\n",
       "2021 | Fall | ANSC243 | 101     | nan             | nan             | nan             | Male   | 22   | Undergraduate  | ANIMAL SCI   | AGNR     | White | Hispanic No | US Citizen  | Non-resident\n",
       "2021 | Fall | ANSC243 | 101     | nan             | nan             | nan             | Female | 20   | Undergraduate  | ANIMAL SCI   | AGNR     | White | Hispanic No | US Citizen  | Non-resident\n",
       "2021 | Fall | ANSC243 | 101     | nan             | nan             | nan             | Female | 21   | Undergraduate  | ANIMAL SCI   | AGNR     | White | Hispanic No | US Citizen  | Resident\n",
       "2021 | Fall | ANSC243 | 101     | nan             | nan             | nan             | Male   | 18   | Undergraduate  | COM-AGRI-VET | AGNR     | White | Hispanic No | US Citizen  | Resident\n",
       "2021 | Fall | NFSC230 | 101     | nan             | nan             | nan             | Female | 22   | Undergraduate  | NFSC DIET    | AGNR     | White | Hispanic No | US Citizen  | Resident\n",
       "2021 | Fall | NFSC230 | 101     | nan             | nan             | nan             | Female | 21   | Undergraduate  | BIO SCI:GENB | CMNS     | White | Hispanic No | US Citizen  | Non-resident\n",
       "2021 | Fall | NFSC230 | 101     | nan             | nan             | nan             | Male   | 37   | Graduate       | ADV SPEC STU | GRAD     | White | Hispanic No | US Citizen  | Resident\n",
       "2021 | Fall | NFSC230 | 101     | nan             | nan             | nan             | Female | 19   | Undergraduate  | LNDSCPE ARCH | AGNR     | White | Hispanic No | US Citizen  | Resident\n",
       "2021 | Fall | NFSC230 | 101     | nan             | nan             | nan             | Female | 30   | Undergraduate  | NFSC DIET    | AGNR     | White | Hispanic No | US Citizen  | Resident\n",
       "... (144 rows omitted)"
      ]
     },
     "execution_count": 183,
     "metadata": {},
     "output_type": "execute_result"
    }
   ],
   "source": [
    "White_F21 = tbl_5.where(\"Race\", are.equal_to(\"White\"))\n",
    "White_F21"
   ]
  },
  {
   "cell_type": "code",
   "execution_count": 184,
   "metadata": {},
   "outputs": [
    {
     "data": {
      "text/plain": [
       "154"
      ]
     },
     "execution_count": 184,
     "metadata": {},
     "output_type": "execute_result"
    }
   ],
   "source": [
    "W_F21 = White_F21.num_rows\n",
    "W_F21"
   ]
  },
  {
   "cell_type": "markdown",
   "metadata": {},
   "source": [
    "154 white students enrolled in Fall 2021"
   ]
  },
  {
   "cell_type": "code",
   "execution_count": 185,
   "metadata": {},
   "outputs": [
    {
     "data": {
      "text/html": [
       "<table border=\"1\" class=\"dataframe\">\n",
       "    <thead>\n",
       "        <tr>\n",
       "            <th>Year</th> <th>Term</th> <th>Course</th> <th>Section</th> <th>Cross listing 1</th> <th>Cross listing 2</th> <th>Cross listing 3</th> <th>Gender</th> <th>Age</th> <th>Student Status</th> <th>Major </th> <th>College </th> <th>Race</th> <th>Ethnicity</th> <th>Citizenship</th> <th>Residency</th>\n",
       "        </tr>\n",
       "    </thead>\n",
       "    <tbody>\n",
       "        <tr>\n",
       "            <td>2022</td> <td>Winter</td> <td>ARCH678D</td> <td>GC01   </td> <td>nan            </td> <td>nan            </td> <td>nan            </td> <td>Male  </td> <td>23  </td> <td>Graduate      </td> <td>ARCHITECTURE</td> <td>ARCH    </td> <td>Hispanic                 </td> <td>Hispanic Yes    </td> <td>US Citizen    </td> <td>Resident    </td>\n",
       "        </tr>\n",
       "    </tbody>\n",
       "        <tr>\n",
       "            <td>2022</td> <td>Winter</td> <td>ARCH678D</td> <td>GC01   </td> <td>nan            </td> <td>nan            </td> <td>nan            </td> <td>Female</td> <td>27  </td> <td>Graduate      </td> <td>ARCHITECTURE</td> <td>ARCH    </td> <td>Hispanic                 </td> <td>Hispanic Yes    </td> <td>US Citizen    </td> <td>Resident    </td>\n",
       "        </tr>\n",
       "    </tbody>\n",
       "        <tr>\n",
       "            <td>2022</td> <td>Winter</td> <td>ARCH678D</td> <td>GC01   </td> <td>nan            </td> <td>nan            </td> <td>nan            </td> <td>Female</td> <td>22  </td> <td>Graduate      </td> <td>ARCHITECTURE</td> <td>ARCH    </td> <td>White                    </td> <td>Hispanic No     </td> <td>US Citizen    </td> <td>Resident    </td>\n",
       "        </tr>\n",
       "    </tbody>\n",
       "        <tr>\n",
       "            <td>2022</td> <td>Winter</td> <td>ARCH678D</td> <td>GC01   </td> <td>nan            </td> <td>nan            </td> <td>nan            </td> <td>Female</td> <td>22  </td> <td>Graduate      </td> <td>ARCHITECTURE</td> <td>ARCH    </td> <td>White                    </td> <td>Hispanic No     </td> <td>US Citizen    </td> <td>Resident    </td>\n",
       "        </tr>\n",
       "    </tbody>\n",
       "        <tr>\n",
       "            <td>2022</td> <td>Winter</td> <td>EDHI788U</td> <td>WB11   </td> <td>nan            </td> <td>nan            </td> <td>nan            </td> <td>Male  </td> <td>27  </td> <td>Graduate      </td> <td>MUSIC       </td> <td>ARHU    </td> <td>White                    </td> <td>Hispanic No     </td> <td>US Citizen    </td> <td>Non-resident</td>\n",
       "        </tr>\n",
       "    </tbody>\n",
       "        <tr>\n",
       "            <td>2022</td> <td>Winter</td> <td>RDEV689C</td> <td>GC01   </td> <td>nan            </td> <td>nan            </td> <td>nan            </td> <td>Male  </td> <td>30  </td> <td>Graduate      </td> <td>BMBA RDEV   </td> <td>BMGT    </td> <td>Unknown                  </td> <td>Hispanic Unknown</td> <td>US Citizen    </td> <td>Resident    </td>\n",
       "        </tr>\n",
       "    </tbody>\n",
       "        <tr>\n",
       "            <td>2022</td> <td>Winter</td> <td>EDHI788U</td> <td>WB11   </td> <td>nan            </td> <td>nan            </td> <td>nan            </td> <td>Female</td> <td>22  </td> <td>Graduate      </td> <td>HESI HIEP   </td> <td>EDUC    </td> <td>Asian                    </td> <td>Hispanic No     </td> <td>Non US citizen</td> <td>Non-resident</td>\n",
       "        </tr>\n",
       "    </tbody>\n",
       "        <tr>\n",
       "            <td>2022</td> <td>Winter</td> <td>EDHI488U</td> <td>WB11   </td> <td>nan            </td> <td>nan            </td> <td>nan            </td> <td>Female</td> <td>22  </td> <td>Graduate      </td> <td>TCH POL LDR </td> <td>EDUC    </td> <td>Black or African American</td> <td>Hispanic No     </td> <td>US Citizen    </td> <td>Non-resident</td>\n",
       "        </tr>\n",
       "    </tbody>\n",
       "        <tr>\n",
       "            <td>2022</td> <td>Winter</td> <td>EDHI788U</td> <td>WB11   </td> <td>nan            </td> <td>nan            </td> <td>nan            </td> <td>Female</td> <td>25  </td> <td>Graduate      </td> <td>HESI HISA   </td> <td>EDUC    </td> <td>Hispanic                 </td> <td>Hispanic Yes    </td> <td>US Citizen    </td> <td>Non-resident</td>\n",
       "        </tr>\n",
       "    </tbody>\n",
       "        <tr>\n",
       "            <td>2022</td> <td>Winter</td> <td>EDHI788U</td> <td>WB11   </td> <td>nan            </td> <td>nan            </td> <td>nan            </td> <td>Female</td> <td>25  </td> <td>Graduate      </td> <td>TCH POL LDR </td> <td>EDUC    </td> <td>White                    </td> <td>Hispanic No     </td> <td>US Citizen    </td> <td>Non-resident</td>\n",
       "        </tr>\n",
       "    </tbody>\n",
       "</table>\n",
       "<p>... (73 rows omitted)</p>"
      ],
      "text/plain": [
       "Year | Term   | Course   | Section | Cross listing 1 | Cross listing 2 | Cross listing 3 | Gender | Age  | Student Status | Major        | College  | Race                      | Ethnicity        | Citizenship    | Residency\n",
       "2022 | Winter | ARCH678D | GC01    | nan             | nan             | nan             | Male   | 23   | Graduate       | ARCHITECTURE | ARCH     | Hispanic                  | Hispanic Yes     | US Citizen     | Resident\n",
       "2022 | Winter | ARCH678D | GC01    | nan             | nan             | nan             | Female | 27   | Graduate       | ARCHITECTURE | ARCH     | Hispanic                  | Hispanic Yes     | US Citizen     | Resident\n",
       "2022 | Winter | ARCH678D | GC01    | nan             | nan             | nan             | Female | 22   | Graduate       | ARCHITECTURE | ARCH     | White                     | Hispanic No      | US Citizen     | Resident\n",
       "2022 | Winter | ARCH678D | GC01    | nan             | nan             | nan             | Female | 22   | Graduate       | ARCHITECTURE | ARCH     | White                     | Hispanic No      | US Citizen     | Resident\n",
       "2022 | Winter | EDHI788U | WB11    | nan             | nan             | nan             | Male   | 27   | Graduate       | MUSIC        | ARHU     | White                     | Hispanic No      | US Citizen     | Non-resident\n",
       "2022 | Winter | RDEV689C | GC01    | nan             | nan             | nan             | Male   | 30   | Graduate       | BMBA RDEV    | BMGT     | Unknown                   | Hispanic Unknown | US Citizen     | Resident\n",
       "2022 | Winter | EDHI788U | WB11    | nan             | nan             | nan             | Female | 22   | Graduate       | HESI HIEP    | EDUC     | Asian                     | Hispanic No      | Non US citizen | Non-resident\n",
       "2022 | Winter | EDHI488U | WB11    | nan             | nan             | nan             | Female | 22   | Graduate       | TCH POL LDR  | EDUC     | Black or African American | Hispanic No      | US Citizen     | Non-resident\n",
       "2022 | Winter | EDHI788U | WB11    | nan             | nan             | nan             | Female | 25   | Graduate       | HESI HISA    | EDUC     | Hispanic                  | Hispanic Yes     | US Citizen     | Non-resident\n",
       "2022 | Winter | EDHI788U | WB11    | nan             | nan             | nan             | Female | 25   | Graduate       | TCH POL LDR  | EDUC     | White                     | Hispanic No      | US Citizen     | Non-resident\n",
       "... (73 rows omitted)"
      ]
     },
     "execution_count": 185,
     "metadata": {},
     "output_type": "execute_result"
    }
   ],
   "source": [
    "tbl_6= Table.read_table('../data/Data_OIA.xlsx - Winter 2022.csv')\n",
    "tbl_6"
   ]
  },
  {
   "cell_type": "code",
   "execution_count": 186,
   "metadata": {},
   "outputs": [
    {
     "data": {
      "text/html": [
       "<table border=\"1\" class=\"dataframe\">\n",
       "    <thead>\n",
       "        <tr>\n",
       "            <th>Year</th> <th>Term</th> <th>Course</th> <th>Section</th> <th>Cross listing 1</th> <th>Cross listing 2</th> <th>Cross listing 3</th> <th>Gender</th> <th>Age</th> <th>Student Status</th> <th>Major </th> <th>College </th> <th>Race</th> <th>Ethnicity</th> <th>Citizenship</th> <th>Residency</th>\n",
       "        </tr>\n",
       "    </thead>\n",
       "    <tbody>\n",
       "        <tr>\n",
       "            <td>2022</td> <td>Winter</td> <td>EDHI488U</td> <td>WB11   </td> <td>nan            </td> <td>nan            </td> <td>nan            </td> <td>Female</td> <td>22  </td> <td>Graduate      </td> <td>TCH POL LDR </td> <td>EDUC    </td> <td>Black or African American</td> <td>Hispanic No</td> <td>US Citizen </td> <td>Non-resident</td>\n",
       "        </tr>\n",
       "    </tbody>\n",
       "        <tr>\n",
       "            <td>2022</td> <td>Winter</td> <td>ENGL391 </td> <td>GC02   </td> <td>nan            </td> <td>nan            </td> <td>nan            </td> <td>Female</td> <td>18  </td> <td>Undergraduate </td> <td>MSE PRE     </td> <td>EDUC    </td> <td>Black or African American</td> <td>Hispanic No</td> <td>US Citizen </td> <td>Resident    </td>\n",
       "        </tr>\n",
       "    </tbody>\n",
       "        <tr>\n",
       "            <td>2022</td> <td>Winter</td> <td>ENGL391 </td> <td>GC03   </td> <td>nan            </td> <td>nan            </td> <td>nan            </td> <td>Female</td> <td>20  </td> <td>Undergraduate </td> <td>BIO SCI:PHNB</td> <td>CMNS    </td> <td>Black or African American</td> <td>Hispanic No</td> <td>US Citizen </td> <td>Resident    </td>\n",
       "        </tr>\n",
       "    </tbody>\n",
       "        <tr>\n",
       "            <td>2022</td> <td>Winter</td> <td>ENGL391 </td> <td>GC01   </td> <td>nan            </td> <td>nan            </td> <td>nan            </td> <td>Female</td> <td>20  </td> <td>Undergraduate </td> <td>JOURNALISM  </td> <td>JOUR    </td> <td>Black or African American</td> <td>Hispanic No</td> <td>US Citizen </td> <td>Resident    </td>\n",
       "        </tr>\n",
       "    </tbody>\n",
       "        <tr>\n",
       "            <td>2022</td> <td>Winter</td> <td>CLAS308G</td> <td>GC01   </td> <td>ARTH369D       </td> <td>CLAS688G       </td> <td>nan            </td> <td>Female</td> <td>21  </td> <td>Undergraduate </td> <td>COMM        </td> <td>ARHU    </td> <td>Black or African American</td> <td>Hispanic No</td> <td>US Citizen </td> <td>Resident    </td>\n",
       "        </tr>\n",
       "    </tbody>\n",
       "        <tr>\n",
       "            <td>2022</td> <td>Winter</td> <td>ENGL391 </td> <td>GC02   </td> <td>nan            </td> <td>nan            </td> <td>nan            </td> <td>Female</td> <td>21  </td> <td>Undergraduate </td> <td>KINESIOLOGY </td> <td>SPHL    </td> <td>Black or African American</td> <td>Hispanic No</td> <td>US Citizen </td> <td>Resident    </td>\n",
       "        </tr>\n",
       "    </tbody>\n",
       "        <tr>\n",
       "            <td>2022</td> <td>Winter</td> <td>ARCH478D</td> <td>GC01   </td> <td>nan            </td> <td>nan            </td> <td>nan            </td> <td>Female</td> <td>22  </td> <td>Undergraduate </td> <td>ARCH BA     </td> <td>ARCH    </td> <td>Black or African American</td> <td>Hispanic No</td> <td>US Citizen </td> <td>Resident    </td>\n",
       "        </tr>\n",
       "    </tbody>\n",
       "        <tr>\n",
       "            <td>2022</td> <td>Winter</td> <td>ARCH478D</td> <td>GC01   </td> <td>nan            </td> <td>nan            </td> <td>nan            </td> <td>Female</td> <td>24  </td> <td>Undergraduate </td> <td>ARCH BA     </td> <td>ARCH    </td> <td>Black or African American</td> <td>Hispanic No</td> <td>US Citizen </td> <td>Resident    </td>\n",
       "        </tr>\n",
       "    </tbody>\n",
       "</table>"
      ],
      "text/plain": [
       "Year | Term   | Course   | Section | Cross listing 1 | Cross listing 2 | Cross listing 3 | Gender | Age  | Student Status | Major        | College  | Race                      | Ethnicity   | Citizenship | Residency\n",
       "2022 | Winter | EDHI488U | WB11    | nan             | nan             | nan             | Female | 22   | Graduate       | TCH POL LDR  | EDUC     | Black or African American | Hispanic No | US Citizen  | Non-resident\n",
       "2022 | Winter | ENGL391  | GC02    | nan             | nan             | nan             | Female | 18   | Undergraduate  | MSE PRE      | EDUC     | Black or African American | Hispanic No | US Citizen  | Resident\n",
       "2022 | Winter | ENGL391  | GC03    | nan             | nan             | nan             | Female | 20   | Undergraduate  | BIO SCI:PHNB | CMNS     | Black or African American | Hispanic No | US Citizen  | Resident\n",
       "2022 | Winter | ENGL391  | GC01    | nan             | nan             | nan             | Female | 20   | Undergraduate  | JOURNALISM   | JOUR     | Black or African American | Hispanic No | US Citizen  | Resident\n",
       "2022 | Winter | CLAS308G | GC01    | ARTH369D        | CLAS688G        | nan             | Female | 21   | Undergraduate  | COMM         | ARHU     | Black or African American | Hispanic No | US Citizen  | Resident\n",
       "2022 | Winter | ENGL391  | GC02    | nan             | nan             | nan             | Female | 21   | Undergraduate  | KINESIOLOGY  | SPHL     | Black or African American | Hispanic No | US Citizen  | Resident\n",
       "2022 | Winter | ARCH478D | GC01    | nan             | nan             | nan             | Female | 22   | Undergraduate  | ARCH BA      | ARCH     | Black or African American | Hispanic No | US Citizen  | Resident\n",
       "2022 | Winter | ARCH478D | GC01    | nan             | nan             | nan             | Female | 24   | Undergraduate  | ARCH BA      | ARCH     | Black or African American | Hispanic No | US Citizen  | Resident"
      ]
     },
     "execution_count": 186,
     "metadata": {},
     "output_type": "execute_result"
    }
   ],
   "source": [
    "African_American_W22 = tbl_6.where(\"Race\", are.equal_to(\"Black or African American\"))\n",
    "African_American_W22"
   ]
  },
  {
   "cell_type": "code",
   "execution_count": 187,
   "metadata": {},
   "outputs": [
    {
     "data": {
      "text/plain": [
       "8"
      ]
     },
     "execution_count": 187,
     "metadata": {},
     "output_type": "execute_result"
    }
   ],
   "source": [
    "AA_W22 = African_American_W22.num_rows\n",
    "AA_W22"
   ]
  },
  {
   "cell_type": "markdown",
   "metadata": {},
   "source": [
    "8 African American students enrolled in Winter 2022"
   ]
  },
  {
   "cell_type": "code",
   "execution_count": 188,
   "metadata": {},
   "outputs": [
    {
     "data": {
      "text/html": [
       "<table border=\"1\" class=\"dataframe\">\n",
       "    <thead>\n",
       "        <tr>\n",
       "            <th>Year</th> <th>Term</th> <th>Course</th> <th>Section</th> <th>Cross listing 1</th> <th>Cross listing 2</th> <th>Cross listing 3</th> <th>Gender</th> <th>Age</th> <th>Student Status</th> <th>Major </th> <th>College </th> <th>Race</th> <th>Ethnicity</th> <th>Citizenship</th> <th>Residency</th>\n",
       "        </tr>\n",
       "    </thead>\n",
       "    <tbody>\n",
       "        <tr>\n",
       "            <td>2022</td> <td>Winter</td> <td>EDHI788U</td> <td>WB11   </td> <td>nan            </td> <td>nan            </td> <td>nan            </td> <td>Female</td> <td>22  </td> <td>Graduate      </td> <td>HESI HIEP   </td> <td>EDUC    </td> <td>Asian</td> <td>Hispanic No</td> <td>Non US citizen</td> <td>Non-resident</td>\n",
       "        </tr>\n",
       "    </tbody>\n",
       "        <tr>\n",
       "            <td>2022</td> <td>Winter</td> <td>EDHI788U</td> <td>WB11   </td> <td>nan            </td> <td>nan            </td> <td>nan            </td> <td>Female</td> <td>27  </td> <td>Graduate      </td> <td>PUB POLICY  </td> <td>PLCY    </td> <td>Asian</td> <td>Hispanic No</td> <td>US Citizen    </td> <td>Resident    </td>\n",
       "        </tr>\n",
       "    </tbody>\n",
       "        <tr>\n",
       "            <td>2022</td> <td>Winter</td> <td>ENGL391 </td> <td>GC01   </td> <td>nan            </td> <td>nan            </td> <td>nan            </td> <td>Female</td> <td>19  </td> <td>Undergraduate </td> <td>ENGLISH     </td> <td>ARHU    </td> <td>Asian</td> <td>Hispanic No</td> <td>US Citizen    </td> <td>Resident    </td>\n",
       "        </tr>\n",
       "    </tbody>\n",
       "        <tr>\n",
       "            <td>2022</td> <td>Winter</td> <td>ENGL391 </td> <td>GC02   </td> <td>nan            </td> <td>nan            </td> <td>nan            </td> <td>Male  </td> <td>19  </td> <td>Undergraduate </td> <td>COMPUTER SCI</td> <td>CMNS    </td> <td>Asian</td> <td>Hispanic No</td> <td>US Citizen    </td> <td>Resident    </td>\n",
       "        </tr>\n",
       "    </tbody>\n",
       "        <tr>\n",
       "            <td>2022</td> <td>Winter</td> <td>ENGL391 </td> <td>GC01   </td> <td>nan            </td> <td>nan            </td> <td>nan            </td> <td>Male  </td> <td>20  </td> <td>Undergraduate </td> <td>PHYSICS     </td> <td>CMNS    </td> <td>Asian</td> <td>Hispanic No</td> <td>US Citizen    </td> <td>Resident    </td>\n",
       "        </tr>\n",
       "    </tbody>\n",
       "        <tr>\n",
       "            <td>2022</td> <td>Winter</td> <td>LARC489N</td> <td>GC01   </td> <td>HONR338B       </td> <td>HONR348N       </td> <td>nan            </td> <td>Female</td> <td>20  </td> <td>Undergraduate </td> <td>ENGR-CHEM   </td> <td>ENGR    </td> <td>Asian</td> <td>Hispanic No</td> <td>US Citizen    </td> <td>Resident    </td>\n",
       "        </tr>\n",
       "    </tbody>\n",
       "        <tr>\n",
       "            <td>2022</td> <td>Winter</td> <td>ENGL391 </td> <td>GC02   </td> <td>nan            </td> <td>nan            </td> <td>nan            </td> <td>Male  </td> <td>20  </td> <td>Undergraduate </td> <td>INFO SCI    </td> <td>INFO    </td> <td>Asian</td> <td>Hispanic No</td> <td>US Citizen    </td> <td>Non-resident</td>\n",
       "        </tr>\n",
       "    </tbody>\n",
       "        <tr>\n",
       "            <td>2022</td> <td>Winter</td> <td>ARCH478D</td> <td>GC01   </td> <td>nan            </td> <td>nan            </td> <td>nan            </td> <td>Female</td> <td>21  </td> <td>Undergraduate </td> <td>ARCH BA     </td> <td>ARCH    </td> <td>Asian</td> <td>Hispanic No</td> <td>US Citizen    </td> <td>Resident    </td>\n",
       "        </tr>\n",
       "    </tbody>\n",
       "        <tr>\n",
       "            <td>2022</td> <td>Winter</td> <td>ENGL391 </td> <td>GC02   </td> <td>nan            </td> <td>nan            </td> <td>nan            </td> <td>Male  </td> <td>21  </td> <td>Undergraduate </td> <td>INFO SYS    </td> <td>BMGT    </td> <td>Asian</td> <td>Hispanic No</td> <td>US Citizen    </td> <td>Resident    </td>\n",
       "        </tr>\n",
       "    </tbody>\n",
       "        <tr>\n",
       "            <td>2022</td> <td>Winter</td> <td>ENGL391 </td> <td>GC01   </td> <td>nan            </td> <td>nan            </td> <td>nan            </td> <td>Female</td> <td>23  </td> <td>Undergraduate </td> <td>BIO SCI:CEBG</td> <td>CMNS    </td> <td>Asian</td> <td>Hispanic No</td> <td>US Citizen    </td> <td>Resident    </td>\n",
       "        </tr>\n",
       "    </tbody>\n",
       "</table>"
      ],
      "text/plain": [
       "Year | Term   | Course   | Section | Cross listing 1 | Cross listing 2 | Cross listing 3 | Gender | Age  | Student Status | Major        | College  | Race  | Ethnicity   | Citizenship    | Residency\n",
       "2022 | Winter | EDHI788U | WB11    | nan             | nan             | nan             | Female | 22   | Graduate       | HESI HIEP    | EDUC     | Asian | Hispanic No | Non US citizen | Non-resident\n",
       "2022 | Winter | EDHI788U | WB11    | nan             | nan             | nan             | Female | 27   | Graduate       | PUB POLICY   | PLCY     | Asian | Hispanic No | US Citizen     | Resident\n",
       "2022 | Winter | ENGL391  | GC01    | nan             | nan             | nan             | Female | 19   | Undergraduate  | ENGLISH      | ARHU     | Asian | Hispanic No | US Citizen     | Resident\n",
       "2022 | Winter | ENGL391  | GC02    | nan             | nan             | nan             | Male   | 19   | Undergraduate  | COMPUTER SCI | CMNS     | Asian | Hispanic No | US Citizen     | Resident\n",
       "2022 | Winter | ENGL391  | GC01    | nan             | nan             | nan             | Male   | 20   | Undergraduate  | PHYSICS      | CMNS     | Asian | Hispanic No | US Citizen     | Resident\n",
       "2022 | Winter | LARC489N | GC01    | HONR338B        | HONR348N        | nan             | Female | 20   | Undergraduate  | ENGR-CHEM    | ENGR     | Asian | Hispanic No | US Citizen     | Resident\n",
       "2022 | Winter | ENGL391  | GC02    | nan             | nan             | nan             | Male   | 20   | Undergraduate  | INFO SCI     | INFO     | Asian | Hispanic No | US Citizen     | Non-resident\n",
       "2022 | Winter | ARCH478D | GC01    | nan             | nan             | nan             | Female | 21   | Undergraduate  | ARCH BA      | ARCH     | Asian | Hispanic No | US Citizen     | Resident\n",
       "2022 | Winter | ENGL391  | GC02    | nan             | nan             | nan             | Male   | 21   | Undergraduate  | INFO SYS     | BMGT     | Asian | Hispanic No | US Citizen     | Resident\n",
       "2022 | Winter | ENGL391  | GC01    | nan             | nan             | nan             | Female | 23   | Undergraduate  | BIO SCI:CEBG | CMNS     | Asian | Hispanic No | US Citizen     | Resident"
      ]
     },
     "execution_count": 188,
     "metadata": {},
     "output_type": "execute_result"
    }
   ],
   "source": [
    "Asian_W22 = tbl_6.where(\"Race\", are.equal_to(\"Asian\"))\n",
    "Asian_W22"
   ]
  },
  {
   "cell_type": "code",
   "execution_count": 189,
   "metadata": {},
   "outputs": [
    {
     "data": {
      "text/plain": [
       "10"
      ]
     },
     "execution_count": 189,
     "metadata": {},
     "output_type": "execute_result"
    }
   ],
   "source": [
    "A_W22 = Asian_W22.num_rows\n",
    "A_W22"
   ]
  },
  {
   "cell_type": "markdown",
   "metadata": {},
   "source": [
    "10 Asian Students Enrolled in Winter 2022"
   ]
  },
  {
   "cell_type": "code",
   "execution_count": 190,
   "metadata": {},
   "outputs": [
    {
     "data": {
      "text/html": [
       "<table border=\"1\" class=\"dataframe\">\n",
       "    <thead>\n",
       "        <tr>\n",
       "            <th>Year</th> <th>Term</th> <th>Course</th> <th>Section</th> <th>Cross listing 1</th> <th>Cross listing 2</th> <th>Cross listing 3</th> <th>Gender</th> <th>Age</th> <th>Student Status</th> <th>Major </th> <th>College </th> <th>Race</th> <th>Ethnicity</th> <th>Citizenship</th> <th>Residency</th>\n",
       "        </tr>\n",
       "    </thead>\n",
       "    <tbody>\n",
       "        <tr>\n",
       "            <td>2022</td> <td>Winter</td> <td>ARCH678D</td> <td>GC01   </td> <td>nan            </td> <td>nan            </td> <td>nan            </td> <td>Male  </td> <td>23  </td> <td>Graduate      </td> <td>ARCHITECTURE</td> <td>ARCH    </td> <td>Hispanic</td> <td>Hispanic Yes</td> <td>US Citizen </td> <td>Resident    </td>\n",
       "        </tr>\n",
       "    </tbody>\n",
       "        <tr>\n",
       "            <td>2022</td> <td>Winter</td> <td>ARCH678D</td> <td>GC01   </td> <td>nan            </td> <td>nan            </td> <td>nan            </td> <td>Female</td> <td>27  </td> <td>Graduate      </td> <td>ARCHITECTURE</td> <td>ARCH    </td> <td>Hispanic</td> <td>Hispanic Yes</td> <td>US Citizen </td> <td>Resident    </td>\n",
       "        </tr>\n",
       "    </tbody>\n",
       "        <tr>\n",
       "            <td>2022</td> <td>Winter</td> <td>EDHI788U</td> <td>WB11   </td> <td>nan            </td> <td>nan            </td> <td>nan            </td> <td>Female</td> <td>25  </td> <td>Graduate      </td> <td>HESI HISA   </td> <td>EDUC    </td> <td>Hispanic</td> <td>Hispanic Yes</td> <td>US Citizen </td> <td>Non-resident</td>\n",
       "        </tr>\n",
       "    </tbody>\n",
       "        <tr>\n",
       "            <td>2022</td> <td>Winter</td> <td>LARC489N</td> <td>GC01   </td> <td>HONR338B       </td> <td>HONR348N       </td> <td>nan            </td> <td>Male  </td> <td>18  </td> <td>Undergraduate </td> <td>LANDSCP MGMT</td> <td>AGNR    </td> <td>Hispanic</td> <td>Hispanic Yes</td> <td>US Citizen </td> <td>Resident    </td>\n",
       "        </tr>\n",
       "    </tbody>\n",
       "        <tr>\n",
       "            <td>2022</td> <td>Winter</td> <td>ENGL391 </td> <td>GC02   </td> <td>nan            </td> <td>nan            </td> <td>nan            </td> <td>Female</td> <td>18  </td> <td>Undergraduate </td> <td>EC-ECSE-PRO </td> <td>EDUC    </td> <td>Hispanic</td> <td>Hispanic Yes</td> <td>US Citizen </td> <td>Resident    </td>\n",
       "        </tr>\n",
       "    </tbody>\n",
       "        <tr>\n",
       "            <td>2022</td> <td>Winter</td> <td>ARTH369D</td> <td>GC01   </td> <td>CLAS308G       </td> <td>CLAS688G       </td> <td>nan            </td> <td>Female</td> <td>20  </td> <td>Undergraduate </td> <td>ANTHROPOLOGY</td> <td>BSOS    </td> <td>Hispanic</td> <td>Hispanic Yes</td> <td>US Citizen </td> <td>Resident    </td>\n",
       "        </tr>\n",
       "    </tbody>\n",
       "        <tr>\n",
       "            <td>2022</td> <td>Winter</td> <td>LARC489N</td> <td>GC01   </td> <td>HONR338B       </td> <td>HONR348N       </td> <td>nan            </td> <td>Female</td> <td>21  </td> <td>Undergraduate </td> <td>ENST ECODESN</td> <td>AGNR    </td> <td>Hispanic</td> <td>Hispanic Yes</td> <td>US Citizen </td> <td>Resident    </td>\n",
       "        </tr>\n",
       "    </tbody>\n",
       "        <tr>\n",
       "            <td>2022</td> <td>Winter</td> <td>ARCH478D</td> <td>GC01   </td> <td>nan            </td> <td>nan            </td> <td>nan            </td> <td>Female</td> <td>21  </td> <td>Undergraduate </td> <td>ARCH BA     </td> <td>ARCH    </td> <td>Hispanic</td> <td>Hispanic Yes</td> <td>US Citizen </td> <td>Resident    </td>\n",
       "        </tr>\n",
       "    </tbody>\n",
       "        <tr>\n",
       "            <td>2022</td> <td>Winter</td> <td>ENGL391 </td> <td>GC02   </td> <td>nan            </td> <td>nan            </td> <td>nan            </td> <td>Female</td> <td>21  </td> <td>Undergraduate </td> <td>ARCH        </td> <td>ARCH    </td> <td>Hispanic</td> <td>Hispanic Yes</td> <td>US Citizen </td> <td>Resident    </td>\n",
       "        </tr>\n",
       "    </tbody>\n",
       "        <tr>\n",
       "            <td>2022</td> <td>Winter</td> <td>ARCH478D</td> <td>GC01   </td> <td>nan            </td> <td>nan            </td> <td>nan            </td> <td>Male  </td> <td>21  </td> <td>Undergraduate </td> <td>ARCH BA     </td> <td>ARCH    </td> <td>Hispanic</td> <td>Hispanic Yes</td> <td>US Citizen </td> <td>Resident    </td>\n",
       "        </tr>\n",
       "    </tbody>\n",
       "</table>\n",
       "<p>... (12 rows omitted)</p>"
      ],
      "text/plain": [
       "Year | Term   | Course   | Section | Cross listing 1 | Cross listing 2 | Cross listing 3 | Gender | Age  | Student Status | Major        | College  | Race     | Ethnicity    | Citizenship | Residency\n",
       "2022 | Winter | ARCH678D | GC01    | nan             | nan             | nan             | Male   | 23   | Graduate       | ARCHITECTURE | ARCH     | Hispanic | Hispanic Yes | US Citizen  | Resident\n",
       "2022 | Winter | ARCH678D | GC01    | nan             | nan             | nan             | Female | 27   | Graduate       | ARCHITECTURE | ARCH     | Hispanic | Hispanic Yes | US Citizen  | Resident\n",
       "2022 | Winter | EDHI788U | WB11    | nan             | nan             | nan             | Female | 25   | Graduate       | HESI HISA    | EDUC     | Hispanic | Hispanic Yes | US Citizen  | Non-resident\n",
       "2022 | Winter | LARC489N | GC01    | HONR338B        | HONR348N        | nan             | Male   | 18   | Undergraduate  | LANDSCP MGMT | AGNR     | Hispanic | Hispanic Yes | US Citizen  | Resident\n",
       "2022 | Winter | ENGL391  | GC02    | nan             | nan             | nan             | Female | 18   | Undergraduate  | EC-ECSE-PRO  | EDUC     | Hispanic | Hispanic Yes | US Citizen  | Resident\n",
       "2022 | Winter | ARTH369D | GC01    | CLAS308G        | CLAS688G        | nan             | Female | 20   | Undergraduate  | ANTHROPOLOGY | BSOS     | Hispanic | Hispanic Yes | US Citizen  | Resident\n",
       "2022 | Winter | LARC489N | GC01    | HONR338B        | HONR348N        | nan             | Female | 21   | Undergraduate  | ENST ECODESN | AGNR     | Hispanic | Hispanic Yes | US Citizen  | Resident\n",
       "2022 | Winter | ARCH478D | GC01    | nan             | nan             | nan             | Female | 21   | Undergraduate  | ARCH BA      | ARCH     | Hispanic | Hispanic Yes | US Citizen  | Resident\n",
       "2022 | Winter | ENGL391  | GC02    | nan             | nan             | nan             | Female | 21   | Undergraduate  | ARCH         | ARCH     | Hispanic | Hispanic Yes | US Citizen  | Resident\n",
       "2022 | Winter | ARCH478D | GC01    | nan             | nan             | nan             | Male   | 21   | Undergraduate  | ARCH BA      | ARCH     | Hispanic | Hispanic Yes | US Citizen  | Resident\n",
       "... (12 rows omitted)"
      ]
     },
     "execution_count": 190,
     "metadata": {},
     "output_type": "execute_result"
    }
   ],
   "source": [
    "Hispanic_W22= tbl_6.where(\"Race\", are.equal_to(\"Hispanic\"))\n",
    "Hispanic_W22"
   ]
  },
  {
   "cell_type": "code",
   "execution_count": 191,
   "metadata": {},
   "outputs": [
    {
     "data": {
      "text/plain": [
       "22"
      ]
     },
     "execution_count": 191,
     "metadata": {},
     "output_type": "execute_result"
    }
   ],
   "source": [
    "H_W22 = Hispanic_W22.num_rows\n",
    "H_W22"
   ]
  },
  {
   "cell_type": "markdown",
   "metadata": {},
   "source": [
    "22 Hispanic Students Enrolled in Winter 2022"
   ]
  },
  {
   "cell_type": "code",
   "execution_count": 192,
   "metadata": {},
   "outputs": [
    {
     "data": {
      "text/html": [
       "<table border=\"1\" class=\"dataframe\">\n",
       "    <thead>\n",
       "        <tr>\n",
       "            <th>Year</th> <th>Term</th> <th>Course</th> <th>Section</th> <th>Cross listing 1</th> <th>Cross listing 2</th> <th>Cross listing 3</th> <th>Gender</th> <th>Age</th> <th>Student Status</th> <th>Major </th> <th>College </th> <th>Race</th> <th>Ethnicity</th> <th>Citizenship</th> <th>Residency</th>\n",
       "        </tr>\n",
       "    </thead>\n",
       "    <tbody>\n",
       "        <tr>\n",
       "            <td>2022</td> <td>Winter</td> <td>ARCH678D</td> <td>GC01   </td> <td>nan            </td> <td>nan            </td> <td>nan            </td> <td>Female</td> <td>22  </td> <td>Graduate      </td> <td>ARCHITECTURE</td> <td>ARCH    </td> <td>White</td> <td>Hispanic No</td> <td>US Citizen </td> <td>Resident    </td>\n",
       "        </tr>\n",
       "    </tbody>\n",
       "        <tr>\n",
       "            <td>2022</td> <td>Winter</td> <td>ARCH678D</td> <td>GC01   </td> <td>nan            </td> <td>nan            </td> <td>nan            </td> <td>Female</td> <td>22  </td> <td>Graduate      </td> <td>ARCHITECTURE</td> <td>ARCH    </td> <td>White</td> <td>Hispanic No</td> <td>US Citizen </td> <td>Resident    </td>\n",
       "        </tr>\n",
       "    </tbody>\n",
       "        <tr>\n",
       "            <td>2022</td> <td>Winter</td> <td>EDHI788U</td> <td>WB11   </td> <td>nan            </td> <td>nan            </td> <td>nan            </td> <td>Male  </td> <td>27  </td> <td>Graduate      </td> <td>MUSIC       </td> <td>ARHU    </td> <td>White</td> <td>Hispanic No</td> <td>US Citizen </td> <td>Non-resident</td>\n",
       "        </tr>\n",
       "    </tbody>\n",
       "        <tr>\n",
       "            <td>2022</td> <td>Winter</td> <td>EDHI788U</td> <td>WB11   </td> <td>nan            </td> <td>nan            </td> <td>nan            </td> <td>Female</td> <td>25  </td> <td>Graduate      </td> <td>TCH POL LDR </td> <td>EDUC    </td> <td>White</td> <td>Hispanic No</td> <td>US Citizen </td> <td>Non-resident</td>\n",
       "        </tr>\n",
       "    </tbody>\n",
       "        <tr>\n",
       "            <td>2022</td> <td>Winter</td> <td>EDHI788U</td> <td>WB11   </td> <td>nan            </td> <td>nan            </td> <td>nan            </td> <td>Female</td> <td>26  </td> <td>Graduate      </td> <td>TCH POL LDR </td> <td>EDUC    </td> <td>White</td> <td>Hispanic No</td> <td>US Citizen </td> <td>Non-resident</td>\n",
       "        </tr>\n",
       "    </tbody>\n",
       "        <tr>\n",
       "            <td>2022</td> <td>Winter</td> <td>EDHI788U</td> <td>WB11   </td> <td>nan            </td> <td>nan            </td> <td>nan            </td> <td>Female</td> <td>28  </td> <td>Graduate      </td> <td>HESI HIED   </td> <td>EDUC    </td> <td>White</td> <td>Hispanic No</td> <td>US Citizen </td> <td>Resident    </td>\n",
       "        </tr>\n",
       "    </tbody>\n",
       "        <tr>\n",
       "            <td>2022</td> <td>Winter</td> <td>LARC489N</td> <td>GC01   </td> <td>HONR338B       </td> <td>HONR348N       </td> <td>nan            </td> <td>Female</td> <td>40  </td> <td>Graduate      </td> <td>ADV SPEC STU</td> <td>GRAD    </td> <td>White</td> <td>Hispanic No</td> <td>US Citizen </td> <td>Resident    </td>\n",
       "        </tr>\n",
       "    </tbody>\n",
       "        <tr>\n",
       "            <td>2022</td> <td>Winter</td> <td>ARCH478D</td> <td>GC01   </td> <td>nan            </td> <td>nan            </td> <td>nan            </td> <td>Female</td> <td>19  </td> <td>Undergraduate </td> <td>ARCH BA     </td> <td>ARCH    </td> <td>White</td> <td>Hispanic No</td> <td>US Citizen </td> <td>Resident    </td>\n",
       "        </tr>\n",
       "    </tbody>\n",
       "        <tr>\n",
       "            <td>2022</td> <td>Winter</td> <td>CLAS308G</td> <td>GC01   </td> <td>ARTH369D       </td> <td>CLAS688G       </td> <td>nan            </td> <td>Female</td> <td>19  </td> <td>Undergraduate </td> <td>GOVT & POLIT</td> <td>BSOS    </td> <td>White</td> <td>Hispanic No</td> <td>US Citizen </td> <td>Resident    </td>\n",
       "        </tr>\n",
       "    </tbody>\n",
       "        <tr>\n",
       "            <td>2022</td> <td>Winter</td> <td>ENGL391 </td> <td>GC01   </td> <td>nan            </td> <td>nan            </td> <td>nan            </td> <td>Female</td> <td>20  </td> <td>Undergraduate </td> <td>CLASSICS    </td> <td>ARHU    </td> <td>White</td> <td>Hispanic No</td> <td>US Citizen </td> <td>Resident    </td>\n",
       "        </tr>\n",
       "    </tbody>\n",
       "</table>\n",
       "<p>... (25 rows omitted)</p>"
      ],
      "text/plain": [
       "Year | Term   | Course   | Section | Cross listing 1 | Cross listing 2 | Cross listing 3 | Gender | Age  | Student Status | Major        | College  | Race  | Ethnicity   | Citizenship | Residency\n",
       "2022 | Winter | ARCH678D | GC01    | nan             | nan             | nan             | Female | 22   | Graduate       | ARCHITECTURE | ARCH     | White | Hispanic No | US Citizen  | Resident\n",
       "2022 | Winter | ARCH678D | GC01    | nan             | nan             | nan             | Female | 22   | Graduate       | ARCHITECTURE | ARCH     | White | Hispanic No | US Citizen  | Resident\n",
       "2022 | Winter | EDHI788U | WB11    | nan             | nan             | nan             | Male   | 27   | Graduate       | MUSIC        | ARHU     | White | Hispanic No | US Citizen  | Non-resident\n",
       "2022 | Winter | EDHI788U | WB11    | nan             | nan             | nan             | Female | 25   | Graduate       | TCH POL LDR  | EDUC     | White | Hispanic No | US Citizen  | Non-resident\n",
       "2022 | Winter | EDHI788U | WB11    | nan             | nan             | nan             | Female | 26   | Graduate       | TCH POL LDR  | EDUC     | White | Hispanic No | US Citizen  | Non-resident\n",
       "2022 | Winter | EDHI788U | WB11    | nan             | nan             | nan             | Female | 28   | Graduate       | HESI HIED    | EDUC     | White | Hispanic No | US Citizen  | Resident\n",
       "2022 | Winter | LARC489N | GC01    | HONR338B        | HONR348N        | nan             | Female | 40   | Graduate       | ADV SPEC STU | GRAD     | White | Hispanic No | US Citizen  | Resident\n",
       "2022 | Winter | ARCH478D | GC01    | nan             | nan             | nan             | Female | 19   | Undergraduate  | ARCH BA      | ARCH     | White | Hispanic No | US Citizen  | Resident\n",
       "2022 | Winter | CLAS308G | GC01    | ARTH369D        | CLAS688G        | nan             | Female | 19   | Undergraduate  | GOVT & POLIT | BSOS     | White | Hispanic No | US Citizen  | Resident\n",
       "2022 | Winter | ENGL391  | GC01    | nan             | nan             | nan             | Female | 20   | Undergraduate  | CLASSICS     | ARHU     | White | Hispanic No | US Citizen  | Resident\n",
       "... (25 rows omitted)"
      ]
     },
     "execution_count": 192,
     "metadata": {},
     "output_type": "execute_result"
    }
   ],
   "source": [
    "White_W22= tbl_6.where(\"Race\", are.equal_to(\"White\"))\n",
    "White_W22"
   ]
  },
  {
   "cell_type": "code",
   "execution_count": 193,
   "metadata": {},
   "outputs": [
    {
     "data": {
      "text/plain": [
       "35"
      ]
     },
     "execution_count": 193,
     "metadata": {},
     "output_type": "execute_result"
    }
   ],
   "source": [
    "W_W22 = White_W22.num_rows\n",
    "W_W22"
   ]
  },
  {
   "cell_type": "markdown",
   "metadata": {},
   "source": [
    "35 White students enrolled Winter 2022"
   ]
  },
  {
   "cell_type": "code",
   "execution_count": 194,
   "metadata": {},
   "outputs": [
    {
     "data": {
      "text/html": [
       "<table border=\"1\" class=\"dataframe\">\n",
       "    <thead>\n",
       "        <tr>\n",
       "            <th>Year</th> <th>Term</th> <th>Course</th> <th>Section</th> <th>Cross listing 1</th> <th>Cross listing 2</th> <th>Cross listing 3</th> <th>Gender</th> <th>Age</th> <th>Student Status</th> <th>Major </th> <th>College </th> <th>Race</th> <th>Ethnicity</th> <th>Citizenship</th> <th>Residency</th>\n",
       "        </tr>\n",
       "    </thead>\n",
       "    <tbody>\n",
       "        <tr>\n",
       "            <td>2022</td> <td>Spring</td> <td>ARCH601</td> <td>101    </td> <td>nan            </td> <td>nan            </td> <td>nan            </td> <td>Female</td> <td>22  </td> <td>Graduate      </td> <td>ARCH/COMM PL</td> <td>ARCH    </td> <td>Asian      </td> <td>Hispanic No </td> <td>US Citizen    </td> <td>Resident    </td>\n",
       "        </tr>\n",
       "    </tbody>\n",
       "        <tr>\n",
       "            <td>2022</td> <td>Spring</td> <td>ARCH601</td> <td>101    </td> <td>nan            </td> <td>nan            </td> <td>nan            </td> <td>Male  </td> <td>27  </td> <td>Graduate      </td> <td>ARCHITECTURE</td> <td>ARCH    </td> <td>Asian      </td> <td>Hispanic No </td> <td>US Citizen    </td> <td>Resident    </td>\n",
       "        </tr>\n",
       "    </tbody>\n",
       "        <tr>\n",
       "            <td>2022</td> <td>Spring</td> <td>ARCH601</td> <td>101    </td> <td>nan            </td> <td>nan            </td> <td>nan            </td> <td>Male  </td> <td>25  </td> <td>Graduate      </td> <td>ARCHITECTURE</td> <td>ARCH    </td> <td>Asian      </td> <td>Hispanic No </td> <td>US Citizen    </td> <td>Resident    </td>\n",
       "        </tr>\n",
       "    </tbody>\n",
       "        <tr>\n",
       "            <td>2022</td> <td>Spring</td> <td>ARCH601</td> <td>101    </td> <td>nan            </td> <td>nan            </td> <td>nan            </td> <td>Female</td> <td>27  </td> <td>Graduate      </td> <td>ARCHITECTURE</td> <td>ARCH    </td> <td>Hispanic   </td> <td>Hispanic Yes</td> <td>US Citizen    </td> <td>Resident    </td>\n",
       "        </tr>\n",
       "    </tbody>\n",
       "        <tr>\n",
       "            <td>2022</td> <td>Spring</td> <td>ARCH601</td> <td>101    </td> <td>nan            </td> <td>nan            </td> <td>nan            </td> <td>Male  </td> <td>23  </td> <td>Graduate      </td> <td>ARCHITECTURE</td> <td>ARCH    </td> <td>Hispanic   </td> <td>Hispanic Yes</td> <td>US Citizen    </td> <td>Resident    </td>\n",
       "        </tr>\n",
       "    </tbody>\n",
       "        <tr>\n",
       "            <td>2022</td> <td>Spring</td> <td>ARCH601</td> <td>101    </td> <td>nan            </td> <td>nan            </td> <td>nan            </td> <td>Female</td> <td>26  </td> <td>Graduate      </td> <td>ARCHITECTURE</td> <td>ARCH    </td> <td>Two or More</td> <td>Hispanic No </td> <td>US Citizen    </td> <td>Resident    </td>\n",
       "        </tr>\n",
       "    </tbody>\n",
       "        <tr>\n",
       "            <td>2022</td> <td>Spring</td> <td>ARCH601</td> <td>101    </td> <td>nan            </td> <td>nan            </td> <td>nan            </td> <td>Female</td> <td>22  </td> <td>Graduate      </td> <td>ARCHITECTURE</td> <td>ARCH    </td> <td>White      </td> <td>Hispanic No </td> <td>US Citizen    </td> <td>Resident    </td>\n",
       "        </tr>\n",
       "    </tbody>\n",
       "        <tr>\n",
       "            <td>2022</td> <td>Spring</td> <td>ARCH601</td> <td>101    </td> <td>nan            </td> <td>nan            </td> <td>nan            </td> <td>Male  </td> <td>24  </td> <td>Graduate      </td> <td>ARCHITECTURE</td> <td>ARCH    </td> <td>White      </td> <td>Hispanic No </td> <td>US Citizen    </td> <td>Resident    </td>\n",
       "        </tr>\n",
       "    </tbody>\n",
       "        <tr>\n",
       "            <td>2022</td> <td>Spring</td> <td>AREC360</td> <td>101    </td> <td>nan            </td> <td>nan            </td> <td>nan            </td> <td>Female</td> <td>21  </td> <td>Undergraduate </td> <td>AGR&RES ECON</td> <td>AGNR    </td> <td>Asian      </td> <td>Hispanic No </td> <td>Non US citizen</td> <td>Non-Resident</td>\n",
       "        </tr>\n",
       "    </tbody>\n",
       "        <tr>\n",
       "            <td>2022</td> <td>Spring</td> <td>AREC360</td> <td>101    </td> <td>nan            </td> <td>nan            </td> <td>nan            </td> <td>Male  </td> <td>20  </td> <td>Undergraduate </td> <td>PHILPOLIECON</td> <td>ARHU    </td> <td>Two or More</td> <td>Hispanic No </td> <td>US Citizen    </td> <td>Resident    </td>\n",
       "        </tr>\n",
       "    </tbody>\n",
       "</table>\n",
       "<p>... (326 rows omitted)</p>"
      ],
      "text/plain": [
       "Year | Term   | Course  | Section | Cross listing 1 | Cross listing 2 | Cross listing 3 | Gender | Age  | Student Status | Major        | College  | Race        | Ethnicity    | Citizenship    | Residency\n",
       "2022 | Spring | ARCH601 | 101     | nan             | nan             | nan             | Female | 22   | Graduate       | ARCH/COMM PL | ARCH     | Asian       | Hispanic No  | US Citizen     | Resident\n",
       "2022 | Spring | ARCH601 | 101     | nan             | nan             | nan             | Male   | 27   | Graduate       | ARCHITECTURE | ARCH     | Asian       | Hispanic No  | US Citizen     | Resident\n",
       "2022 | Spring | ARCH601 | 101     | nan             | nan             | nan             | Male   | 25   | Graduate       | ARCHITECTURE | ARCH     | Asian       | Hispanic No  | US Citizen     | Resident\n",
       "2022 | Spring | ARCH601 | 101     | nan             | nan             | nan             | Female | 27   | Graduate       | ARCHITECTURE | ARCH     | Hispanic    | Hispanic Yes | US Citizen     | Resident\n",
       "2022 | Spring | ARCH601 | 101     | nan             | nan             | nan             | Male   | 23   | Graduate       | ARCHITECTURE | ARCH     | Hispanic    | Hispanic Yes | US Citizen     | Resident\n",
       "2022 | Spring | ARCH601 | 101     | nan             | nan             | nan             | Female | 26   | Graduate       | ARCHITECTURE | ARCH     | Two or More | Hispanic No  | US Citizen     | Resident\n",
       "2022 | Spring | ARCH601 | 101     | nan             | nan             | nan             | Female | 22   | Graduate       | ARCHITECTURE | ARCH     | White       | Hispanic No  | US Citizen     | Resident\n",
       "2022 | Spring | ARCH601 | 101     | nan             | nan             | nan             | Male   | 24   | Graduate       | ARCHITECTURE | ARCH     | White       | Hispanic No  | US Citizen     | Resident\n",
       "2022 | Spring | AREC360 | 101     | nan             | nan             | nan             | Female | 21   | Undergraduate  | AGR&RES ECON | AGNR     | Asian       | Hispanic No  | Non US citizen | Non-Resident\n",
       "2022 | Spring | AREC360 | 101     | nan             | nan             | nan             | Male   | 20   | Undergraduate  | PHILPOLIECON | ARHU     | Two or More | Hispanic No  | US Citizen     | Resident\n",
       "... (326 rows omitted)"
      ]
     },
     "execution_count": 194,
     "metadata": {},
     "output_type": "execute_result"
    }
   ],
   "source": [
    "tbl_7 = Table.read_table('../data/Data_OIA.xlsx - Spring 2022.csv')\n",
    "tbl_7"
   ]
  },
  {
   "cell_type": "code",
   "execution_count": 195,
   "metadata": {},
   "outputs": [
    {
     "data": {
      "text/html": [
       "<table border=\"1\" class=\"dataframe\">\n",
       "    <thead>\n",
       "        <tr>\n",
       "            <th>Year</th> <th>Term</th> <th>Course</th> <th>Section</th> <th>Cross listing 1</th> <th>Cross listing 2</th> <th>Cross listing 3</th> <th>Gender</th> <th>Age</th> <th>Student Status</th> <th>Major </th> <th>College </th> <th>Race</th> <th>Ethnicity</th> <th>Citizenship</th> <th>Residency</th>\n",
       "        </tr>\n",
       "    </thead>\n",
       "    <tbody>\n",
       "        <tr>\n",
       "            <td>2022</td> <td>Spring</td> <td>CCJS325</td> <td>ESG1   </td> <td>nan            </td> <td>nan            </td> <td>nan            </td> <td>Male  </td> <td>20  </td> <td>Undergraduate </td> <td>CRIM-JUSTICE</td> <td>BSOS    </td> <td>Black or African American</td> <td>Hispanic No     </td> <td>US Citizen </td> <td>Resident </td>\n",
       "        </tr>\n",
       "    </tbody>\n",
       "        <tr>\n",
       "            <td>2022</td> <td>Spring</td> <td>CCJS325</td> <td>ESG1   </td> <td>nan            </td> <td>nan            </td> <td>nan            </td> <td>Female</td> <td>21  </td> <td>Undergraduate </td> <td>CRIM-JUSTICE</td> <td>BSOS    </td> <td>Black or African American</td> <td>Hispanic No     </td> <td>US Citizen </td> <td>Resident </td>\n",
       "        </tr>\n",
       "    </tbody>\n",
       "        <tr>\n",
       "            <td>2022</td> <td>Spring</td> <td>CCJS325</td> <td>ESG1   </td> <td>nan            </td> <td>nan            </td> <td>nan            </td> <td>Female</td> <td>23  </td> <td>Undergraduate </td> <td>CRIM-JUSTICE</td> <td>BSOS    </td> <td>Black or African American</td> <td>Hispanic No     </td> <td>US Citizen </td> <td>Resident </td>\n",
       "        </tr>\n",
       "    </tbody>\n",
       "        <tr>\n",
       "            <td>2022</td> <td>Spring</td> <td>CPSS225</td> <td>201    </td> <td>nan            </td> <td>nan            </td> <td>nan            </td> <td>Male  </td> <td>19  </td> <td>Undergraduate </td> <td>ENGR-MECH   </td> <td>ENGR    </td> <td>Black or African American</td> <td>Hispanic Unknown</td> <td>US Citizen </td> <td>Resident </td>\n",
       "        </tr>\n",
       "    </tbody>\n",
       "        <tr>\n",
       "            <td>2022</td> <td>Spring</td> <td>CPSS225</td> <td>201    </td> <td>nan            </td> <td>nan            </td> <td>nan            </td> <td>Male  </td> <td>20  </td> <td>Undergraduate </td> <td>ENGR-AEROSP </td> <td>ENGR    </td> <td>Black or African American</td> <td>Hispanic No     </td> <td>US Citizen </td> <td>Resident </td>\n",
       "        </tr>\n",
       "    </tbody>\n",
       "        <tr>\n",
       "            <td>2022</td> <td>Spring</td> <td>ENGL101</td> <td>1302   </td> <td>nan            </td> <td>nan            </td> <td>nan            </td> <td>Female</td> <td>19  </td> <td>Undergraduate </td> <td>BIO SCI:GENB</td> <td>CMNS    </td> <td>Black or African American</td> <td>Hispanic No     </td> <td>US Citizen </td> <td>Resident </td>\n",
       "        </tr>\n",
       "    </tbody>\n",
       "        <tr>\n",
       "            <td>2022</td> <td>Spring</td> <td>ENGL101</td> <td>1302   </td> <td>nan            </td> <td>nan            </td> <td>nan            </td> <td>Female</td> <td>18  </td> <td>Undergraduate </td> <td>LTSC        </td> <td>LTSC    </td> <td>Black or African American</td> <td>Hispanic No     </td> <td>US Citizen </td> <td>Resident </td>\n",
       "        </tr>\n",
       "    </tbody>\n",
       "        <tr>\n",
       "            <td>2022</td> <td>Spring</td> <td>ENGL391</td> <td>1202   </td> <td>nan            </td> <td>nan            </td> <td>nan            </td> <td>Male  </td> <td>22  </td> <td>Undergraduate </td> <td>ARCH BA     </td> <td>ARCH    </td> <td>Black or African American</td> <td>Hispanic No     </td> <td>US Citizen </td> <td>Resident </td>\n",
       "        </tr>\n",
       "    </tbody>\n",
       "        <tr>\n",
       "            <td>2022</td> <td>Spring</td> <td>ENGL391</td> <td>1202   </td> <td>nan            </td> <td>nan            </td> <td>nan            </td> <td>Female</td> <td>20  </td> <td>Undergraduate </td> <td>ENGLISH     </td> <td>ARHU    </td> <td>Black or African American</td> <td>Hispanic No     </td> <td>US Citizen </td> <td>Resident </td>\n",
       "        </tr>\n",
       "    </tbody>\n",
       "        <tr>\n",
       "            <td>2022</td> <td>Spring</td> <td>ENGL391</td> <td>1401   </td> <td>nan            </td> <td>nan            </td> <td>nan            </td> <td>Male  </td> <td>21  </td> <td>Undergraduate </td> <td>INTNL BUSN  </td> <td>BMGT    </td> <td>Black or African American</td> <td>Hispanic No     </td> <td>US Citizen </td> <td>Resident </td>\n",
       "        </tr>\n",
       "    </tbody>\n",
       "</table>\n",
       "<p>... (25 rows omitted)</p>"
      ],
      "text/plain": [
       "Year | Term   | Course  | Section | Cross listing 1 | Cross listing 2 | Cross listing 3 | Gender | Age  | Student Status | Major        | College  | Race                      | Ethnicity        | Citizenship | Residency\n",
       "2022 | Spring | CCJS325 | ESG1    | nan             | nan             | nan             | Male   | 20   | Undergraduate  | CRIM-JUSTICE | BSOS     | Black or African American | Hispanic No      | US Citizen  | Resident\n",
       "2022 | Spring | CCJS325 | ESG1    | nan             | nan             | nan             | Female | 21   | Undergraduate  | CRIM-JUSTICE | BSOS     | Black or African American | Hispanic No      | US Citizen  | Resident\n",
       "2022 | Spring | CCJS325 | ESG1    | nan             | nan             | nan             | Female | 23   | Undergraduate  | CRIM-JUSTICE | BSOS     | Black or African American | Hispanic No      | US Citizen  | Resident\n",
       "2022 | Spring | CPSS225 | 201     | nan             | nan             | nan             | Male   | 19   | Undergraduate  | ENGR-MECH    | ENGR     | Black or African American | Hispanic Unknown | US Citizen  | Resident\n",
       "2022 | Spring | CPSS225 | 201     | nan             | nan             | nan             | Male   | 20   | Undergraduate  | ENGR-AEROSP  | ENGR     | Black or African American | Hispanic No      | US Citizen  | Resident\n",
       "2022 | Spring | ENGL101 | 1302    | nan             | nan             | nan             | Female | 19   | Undergraduate  | BIO SCI:GENB | CMNS     | Black or African American | Hispanic No      | US Citizen  | Resident\n",
       "2022 | Spring | ENGL101 | 1302    | nan             | nan             | nan             | Female | 18   | Undergraduate  | LTSC         | LTSC     | Black or African American | Hispanic No      | US Citizen  | Resident\n",
       "2022 | Spring | ENGL391 | 1202    | nan             | nan             | nan             | Male   | 22   | Undergraduate  | ARCH BA      | ARCH     | Black or African American | Hispanic No      | US Citizen  | Resident\n",
       "2022 | Spring | ENGL391 | 1202    | nan             | nan             | nan             | Female | 20   | Undergraduate  | ENGLISH      | ARHU     | Black or African American | Hispanic No      | US Citizen  | Resident\n",
       "2022 | Spring | ENGL391 | 1401    | nan             | nan             | nan             | Male   | 21   | Undergraduate  | INTNL BUSN   | BMGT     | Black or African American | Hispanic No      | US Citizen  | Resident\n",
       "... (25 rows omitted)"
      ]
     },
     "execution_count": 195,
     "metadata": {},
     "output_type": "execute_result"
    }
   ],
   "source": [
    "African_American_SP22 = tbl_7.where(\"Race\", are.equal_to(\"Black or African American\"))\n",
    "African_American_SP22"
   ]
  },
  {
   "cell_type": "code",
   "execution_count": 196,
   "metadata": {},
   "outputs": [
    {
     "data": {
      "text/plain": [
       "35"
      ]
     },
     "execution_count": 196,
     "metadata": {},
     "output_type": "execute_result"
    }
   ],
   "source": [
    "AA_SP22 = African_American_SP22.num_rows\n",
    "AA_SP22"
   ]
  },
  {
   "cell_type": "markdown",
   "metadata": {},
   "source": [
    "35 African American Students enrolled in Spring 2022"
   ]
  },
  {
   "cell_type": "code",
   "execution_count": 197,
   "metadata": {},
   "outputs": [
    {
     "data": {
      "text/html": [
       "<table border=\"1\" class=\"dataframe\">\n",
       "    <thead>\n",
       "        <tr>\n",
       "            <th>Year</th> <th>Term</th> <th>Course</th> <th>Section</th> <th>Cross listing 1</th> <th>Cross listing 2</th> <th>Cross listing 3</th> <th>Gender</th> <th>Age</th> <th>Student Status</th> <th>Major </th> <th>College </th> <th>Race</th> <th>Ethnicity</th> <th>Citizenship</th> <th>Residency</th>\n",
       "        </tr>\n",
       "    </thead>\n",
       "    <tbody>\n",
       "        <tr>\n",
       "            <td>2022</td> <td>Spring</td> <td>ARCH601 </td> <td>101    </td> <td>nan            </td> <td>nan            </td> <td>nan            </td> <td>Female</td> <td>22  </td> <td>Graduate      </td> <td>ARCH/COMM PL</td> <td>ARCH    </td> <td>Asian</td> <td>Hispanic No</td> <td>US Citizen    </td> <td>Resident    </td>\n",
       "        </tr>\n",
       "    </tbody>\n",
       "        <tr>\n",
       "            <td>2022</td> <td>Spring</td> <td>ARCH601 </td> <td>101    </td> <td>nan            </td> <td>nan            </td> <td>nan            </td> <td>Male  </td> <td>27  </td> <td>Graduate      </td> <td>ARCHITECTURE</td> <td>ARCH    </td> <td>Asian</td> <td>Hispanic No</td> <td>US Citizen    </td> <td>Resident    </td>\n",
       "        </tr>\n",
       "    </tbody>\n",
       "        <tr>\n",
       "            <td>2022</td> <td>Spring</td> <td>ARCH601 </td> <td>101    </td> <td>nan            </td> <td>nan            </td> <td>nan            </td> <td>Male  </td> <td>25  </td> <td>Graduate      </td> <td>ARCHITECTURE</td> <td>ARCH    </td> <td>Asian</td> <td>Hispanic No</td> <td>US Citizen    </td> <td>Resident    </td>\n",
       "        </tr>\n",
       "    </tbody>\n",
       "        <tr>\n",
       "            <td>2022</td> <td>Spring</td> <td>AREC360 </td> <td>101    </td> <td>nan            </td> <td>nan            </td> <td>nan            </td> <td>Female</td> <td>21  </td> <td>Undergraduate </td> <td>AGR&RES ECON</td> <td>AGNR    </td> <td>Asian</td> <td>Hispanic No</td> <td>Non US citizen</td> <td>Non-Resident</td>\n",
       "        </tr>\n",
       "    </tbody>\n",
       "        <tr>\n",
       "            <td>2022</td> <td>Spring</td> <td>AREC360 </td> <td>101    </td> <td>nan            </td> <td>nan            </td> <td>nan            </td> <td>Female</td> <td>20  </td> <td>Undergraduate </td> <td>FINANCE     </td> <td>BMGT    </td> <td>Asian</td> <td>Hispanic No</td> <td>US Citizen    </td> <td>Resident    </td>\n",
       "        </tr>\n",
       "    </tbody>\n",
       "        <tr>\n",
       "            <td>2022</td> <td>Spring</td> <td>AREC360 </td> <td>101    </td> <td>nan            </td> <td>nan            </td> <td>nan            </td> <td>Female</td> <td>22  </td> <td>Undergraduate </td> <td>BIO SCI:PHNB</td> <td>CMNS    </td> <td>Asian</td> <td>Hispanic No</td> <td>US Citizen    </td> <td>Resident    </td>\n",
       "        </tr>\n",
       "    </tbody>\n",
       "        <tr>\n",
       "            <td>2022</td> <td>Spring</td> <td>AREC360 </td> <td>101    </td> <td>nan            </td> <td>nan            </td> <td>nan            </td> <td>Male  </td> <td>23  </td> <td>Undergraduate </td> <td>COMPUTER SCI</td> <td>CMNS    </td> <td>Asian</td> <td>Hispanic No</td> <td>US Citizen    </td> <td>Resident    </td>\n",
       "        </tr>\n",
       "    </tbody>\n",
       "        <tr>\n",
       "            <td>2022</td> <td>Spring</td> <td>AREC360 </td> <td>101    </td> <td>nan            </td> <td>nan            </td> <td>nan            </td> <td>Male  </td> <td>20  </td> <td>Undergraduate </td> <td>ENGR-CIVIL  </td> <td>ENGR    </td> <td>Asian</td> <td>Hispanic No</td> <td>US Citizen    </td> <td>Resident    </td>\n",
       "        </tr>\n",
       "    </tbody>\n",
       "        <tr>\n",
       "            <td>2022</td> <td>Spring</td> <td>COMM498D</td> <td>102    </td> <td>ISRL448M       </td> <td>nan            </td> <td>nan            </td> <td>Female</td> <td>19  </td> <td>Undergraduate </td> <td>ENGLISH     </td> <td>ARHU    </td> <td>Asian</td> <td>Hispanic No</td> <td>US Citizen    </td> <td>Resident    </td>\n",
       "        </tr>\n",
       "    </tbody>\n",
       "        <tr>\n",
       "            <td>2022</td> <td>Spring</td> <td>CPSS225 </td> <td>201    </td> <td>nan            </td> <td>nan            </td> <td>nan            </td> <td>Male  </td> <td>19  </td> <td>Undergraduate </td> <td>COMPUTER SCI</td> <td>CMNS    </td> <td>Asian</td> <td>Hispanic No</td> <td>US Citizen    </td> <td>Resident    </td>\n",
       "        </tr>\n",
       "    </tbody>\n",
       "</table>\n",
       "<p>... (40 rows omitted)</p>"
      ],
      "text/plain": [
       "Year | Term   | Course   | Section | Cross listing 1 | Cross listing 2 | Cross listing 3 | Gender | Age  | Student Status | Major        | College  | Race  | Ethnicity   | Citizenship    | Residency\n",
       "2022 | Spring | ARCH601  | 101     | nan             | nan             | nan             | Female | 22   | Graduate       | ARCH/COMM PL | ARCH     | Asian | Hispanic No | US Citizen     | Resident\n",
       "2022 | Spring | ARCH601  | 101     | nan             | nan             | nan             | Male   | 27   | Graduate       | ARCHITECTURE | ARCH     | Asian | Hispanic No | US Citizen     | Resident\n",
       "2022 | Spring | ARCH601  | 101     | nan             | nan             | nan             | Male   | 25   | Graduate       | ARCHITECTURE | ARCH     | Asian | Hispanic No | US Citizen     | Resident\n",
       "2022 | Spring | AREC360  | 101     | nan             | nan             | nan             | Female | 21   | Undergraduate  | AGR&RES ECON | AGNR     | Asian | Hispanic No | Non US citizen | Non-Resident\n",
       "2022 | Spring | AREC360  | 101     | nan             | nan             | nan             | Female | 20   | Undergraduate  | FINANCE      | BMGT     | Asian | Hispanic No | US Citizen     | Resident\n",
       "2022 | Spring | AREC360  | 101     | nan             | nan             | nan             | Female | 22   | Undergraduate  | BIO SCI:PHNB | CMNS     | Asian | Hispanic No | US Citizen     | Resident\n",
       "2022 | Spring | AREC360  | 101     | nan             | nan             | nan             | Male   | 23   | Undergraduate  | COMPUTER SCI | CMNS     | Asian | Hispanic No | US Citizen     | Resident\n",
       "2022 | Spring | AREC360  | 101     | nan             | nan             | nan             | Male   | 20   | Undergraduate  | ENGR-CIVIL   | ENGR     | Asian | Hispanic No | US Citizen     | Resident\n",
       "2022 | Spring | COMM498D | 102     | ISRL448M        | nan             | nan             | Female | 19   | Undergraduate  | ENGLISH      | ARHU     | Asian | Hispanic No | US Citizen     | Resident\n",
       "2022 | Spring | CPSS225  | 201     | nan             | nan             | nan             | Male   | 19   | Undergraduate  | COMPUTER SCI | CMNS     | Asian | Hispanic No | US Citizen     | Resident\n",
       "... (40 rows omitted)"
      ]
     },
     "execution_count": 197,
     "metadata": {},
     "output_type": "execute_result"
    }
   ],
   "source": [
    "Asian_SP22 = tbl_7.where(\"Race\", are.equal_to(\"Asian\"))\n",
    "Asian_SP22"
   ]
  },
  {
   "cell_type": "code",
   "execution_count": 198,
   "metadata": {},
   "outputs": [
    {
     "data": {
      "text/plain": [
       "50"
      ]
     },
     "execution_count": 198,
     "metadata": {},
     "output_type": "execute_result"
    }
   ],
   "source": [
    "A_SP22 = Asian_SP22.num_rows\n",
    "A_SP22"
   ]
  },
  {
   "cell_type": "markdown",
   "metadata": {},
   "source": [
    "50 Asian students enrolled in spring 2022"
   ]
  },
  {
   "cell_type": "code",
   "execution_count": 199,
   "metadata": {},
   "outputs": [
    {
     "data": {
      "text/html": [
       "<table border=\"1\" class=\"dataframe\">\n",
       "    <thead>\n",
       "        <tr>\n",
       "            <th>Year</th> <th>Term</th> <th>Course</th> <th>Section</th> <th>Cross listing 1</th> <th>Cross listing 2</th> <th>Cross listing 3</th> <th>Gender</th> <th>Age</th> <th>Student Status</th> <th>Major </th> <th>College </th> <th>Race</th> <th>Ethnicity</th> <th>Citizenship</th> <th>Residency</th>\n",
       "        </tr>\n",
       "    </thead>\n",
       "    <tbody>\n",
       "        <tr>\n",
       "            <td>2022</td> <td>Spring</td> <td>ARCH601</td> <td>101    </td> <td>nan            </td> <td>nan            </td> <td>nan            </td> <td>Female</td> <td>27  </td> <td>Graduate      </td> <td>ARCHITECTURE</td> <td>ARCH    </td> <td>Hispanic</td> <td>Hispanic Yes</td> <td>US Citizen </td> <td>Resident    </td>\n",
       "        </tr>\n",
       "    </tbody>\n",
       "        <tr>\n",
       "            <td>2022</td> <td>Spring</td> <td>ARCH601</td> <td>101    </td> <td>nan            </td> <td>nan            </td> <td>nan            </td> <td>Male  </td> <td>23  </td> <td>Graduate      </td> <td>ARCHITECTURE</td> <td>ARCH    </td> <td>Hispanic</td> <td>Hispanic Yes</td> <td>US Citizen </td> <td>Resident    </td>\n",
       "        </tr>\n",
       "    </tbody>\n",
       "        <tr>\n",
       "            <td>2022</td> <td>Spring</td> <td>CCJS325</td> <td>ESG1   </td> <td>nan            </td> <td>nan            </td> <td>nan            </td> <td>Male  </td> <td>22  </td> <td>Undergraduate </td> <td>COMM        </td> <td>ARHU    </td> <td>Hispanic</td> <td>Hispanic Yes</td> <td>US Citizen </td> <td>Resident    </td>\n",
       "        </tr>\n",
       "    </tbody>\n",
       "        <tr>\n",
       "            <td>2022</td> <td>Spring</td> <td>CCJS325</td> <td>ESG1   </td> <td>nan            </td> <td>nan            </td> <td>nan            </td> <td>Female</td> <td>20  </td> <td>Undergraduate </td> <td>CRIM-JUSTICE</td> <td>BSOS    </td> <td>Hispanic</td> <td>Hispanic Yes</td> <td>US Citizen </td> <td>Non-Resident</td>\n",
       "        </tr>\n",
       "    </tbody>\n",
       "        <tr>\n",
       "            <td>2022</td> <td>Spring</td> <td>CCJS325</td> <td>ESG1   </td> <td>nan            </td> <td>nan            </td> <td>nan            </td> <td>Female</td> <td>20  </td> <td>Undergraduate </td> <td>CRIM-JUSTICE</td> <td>BSOS    </td> <td>Hispanic</td> <td>Hispanic Yes</td> <td>US Citizen </td> <td>Resident    </td>\n",
       "        </tr>\n",
       "    </tbody>\n",
       "        <tr>\n",
       "            <td>2022</td> <td>Spring</td> <td>CCJS325</td> <td>ESG1   </td> <td>nan            </td> <td>nan            </td> <td>nan            </td> <td>Male  </td> <td>21  </td> <td>Undergraduate </td> <td>CRIM-JUSTICE</td> <td>BSOS    </td> <td>Hispanic</td> <td>Hispanic Yes</td> <td>US Citizen </td> <td>Non-Resident</td>\n",
       "        </tr>\n",
       "    </tbody>\n",
       "        <tr>\n",
       "            <td>2022</td> <td>Spring</td> <td>CCJS325</td> <td>ESG1   </td> <td>nan            </td> <td>nan            </td> <td>nan            </td> <td>Female</td> <td>21  </td> <td>Undergraduate </td> <td>CRIM-JUSTICE</td> <td>BSOS    </td> <td>Hispanic</td> <td>Hispanic Yes</td> <td>US Citizen </td> <td>Resident    </td>\n",
       "        </tr>\n",
       "    </tbody>\n",
       "        <tr>\n",
       "            <td>2022</td> <td>Spring</td> <td>CCJS325</td> <td>ESG1   </td> <td>nan            </td> <td>nan            </td> <td>nan            </td> <td>Female</td> <td>21  </td> <td>Undergraduate </td> <td>CRIM-JUSTICE</td> <td>BSOS    </td> <td>Hispanic</td> <td>Hispanic Yes</td> <td>US Citizen </td> <td>Resident    </td>\n",
       "        </tr>\n",
       "    </tbody>\n",
       "        <tr>\n",
       "            <td>2022</td> <td>Spring</td> <td>CCJS325</td> <td>ESG1   </td> <td>nan            </td> <td>nan            </td> <td>nan            </td> <td>Female</td> <td>22  </td> <td>Undergraduate </td> <td>CRIM-JUSTICE</td> <td>BSOS    </td> <td>Hispanic</td> <td>Hispanic Yes</td> <td>US Citizen </td> <td>Resident    </td>\n",
       "        </tr>\n",
       "    </tbody>\n",
       "        <tr>\n",
       "            <td>2022</td> <td>Spring</td> <td>CCJS325</td> <td>ESG1   </td> <td>nan            </td> <td>nan            </td> <td>nan            </td> <td>Male  </td> <td>22  </td> <td>Undergraduate </td> <td>CRIM-JUSTICE</td> <td>BSOS    </td> <td>Hispanic</td> <td>Hispanic Yes</td> <td>US Citizen </td> <td>Resident    </td>\n",
       "        </tr>\n",
       "    </tbody>\n",
       "</table>\n",
       "<p>... (30 rows omitted)</p>"
      ],
      "text/plain": [
       "Year | Term   | Course  | Section | Cross listing 1 | Cross listing 2 | Cross listing 3 | Gender | Age  | Student Status | Major        | College  | Race     | Ethnicity    | Citizenship | Residency\n",
       "2022 | Spring | ARCH601 | 101     | nan             | nan             | nan             | Female | 27   | Graduate       | ARCHITECTURE | ARCH     | Hispanic | Hispanic Yes | US Citizen  | Resident\n",
       "2022 | Spring | ARCH601 | 101     | nan             | nan             | nan             | Male   | 23   | Graduate       | ARCHITECTURE | ARCH     | Hispanic | Hispanic Yes | US Citizen  | Resident\n",
       "2022 | Spring | CCJS325 | ESG1    | nan             | nan             | nan             | Male   | 22   | Undergraduate  | COMM         | ARHU     | Hispanic | Hispanic Yes | US Citizen  | Resident\n",
       "2022 | Spring | CCJS325 | ESG1    | nan             | nan             | nan             | Female | 20   | Undergraduate  | CRIM-JUSTICE | BSOS     | Hispanic | Hispanic Yes | US Citizen  | Non-Resident\n",
       "2022 | Spring | CCJS325 | ESG1    | nan             | nan             | nan             | Female | 20   | Undergraduate  | CRIM-JUSTICE | BSOS     | Hispanic | Hispanic Yes | US Citizen  | Resident\n",
       "2022 | Spring | CCJS325 | ESG1    | nan             | nan             | nan             | Male   | 21   | Undergraduate  | CRIM-JUSTICE | BSOS     | Hispanic | Hispanic Yes | US Citizen  | Non-Resident\n",
       "2022 | Spring | CCJS325 | ESG1    | nan             | nan             | nan             | Female | 21   | Undergraduate  | CRIM-JUSTICE | BSOS     | Hispanic | Hispanic Yes | US Citizen  | Resident\n",
       "2022 | Spring | CCJS325 | ESG1    | nan             | nan             | nan             | Female | 21   | Undergraduate  | CRIM-JUSTICE | BSOS     | Hispanic | Hispanic Yes | US Citizen  | Resident\n",
       "2022 | Spring | CCJS325 | ESG1    | nan             | nan             | nan             | Female | 22   | Undergraduate  | CRIM-JUSTICE | BSOS     | Hispanic | Hispanic Yes | US Citizen  | Resident\n",
       "2022 | Spring | CCJS325 | ESG1    | nan             | nan             | nan             | Male   | 22   | Undergraduate  | CRIM-JUSTICE | BSOS     | Hispanic | Hispanic Yes | US Citizen  | Resident\n",
       "... (30 rows omitted)"
      ]
     },
     "execution_count": 199,
     "metadata": {},
     "output_type": "execute_result"
    }
   ],
   "source": [
    "Hispanic_SP22= tbl_7.where(\"Race\", are.equal_to(\"Hispanic\"))\n",
    "Hispanic_SP22"
   ]
  },
  {
   "cell_type": "code",
   "execution_count": 200,
   "metadata": {},
   "outputs": [
    {
     "data": {
      "text/plain": [
       "40"
      ]
     },
     "execution_count": 200,
     "metadata": {},
     "output_type": "execute_result"
    }
   ],
   "source": [
    "H_SP22 = Hispanic_SP22.num_rows\n",
    "H_SP22"
   ]
  },
  {
   "cell_type": "markdown",
   "metadata": {},
   "source": [
    "40 hispanic students enrolled in Spring 2022"
   ]
  },
  {
   "cell_type": "code",
   "execution_count": 201,
   "metadata": {},
   "outputs": [
    {
     "data": {
      "text/html": [
       "<table border=\"1\" class=\"dataframe\">\n",
       "    <thead>\n",
       "        <tr>\n",
       "            <th>Year</th> <th>Term</th> <th>Course</th> <th>Section</th> <th>Cross listing 1</th> <th>Cross listing 2</th> <th>Cross listing 3</th> <th>Gender</th> <th>Age</th> <th>Student Status</th> <th>Major </th> <th>College </th> <th>Race</th> <th>Ethnicity</th> <th>Citizenship</th> <th>Residency</th>\n",
       "        </tr>\n",
       "    </thead>\n",
       "    <tbody>\n",
       "        <tr>\n",
       "            <td>2022</td> <td>Spring</td> <td>ARCH601</td> <td>101    </td> <td>nan            </td> <td>nan            </td> <td>nan            </td> <td>Female</td> <td>22  </td> <td>Graduate      </td> <td>ARCHITECTURE</td> <td>ARCH    </td> <td>White</td> <td>Hispanic No</td> <td>US Citizen </td> <td>Resident    </td>\n",
       "        </tr>\n",
       "    </tbody>\n",
       "        <tr>\n",
       "            <td>2022</td> <td>Spring</td> <td>ARCH601</td> <td>101    </td> <td>nan            </td> <td>nan            </td> <td>nan            </td> <td>Male  </td> <td>24  </td> <td>Graduate      </td> <td>ARCHITECTURE</td> <td>ARCH    </td> <td>White</td> <td>Hispanic No</td> <td>US Citizen </td> <td>Resident    </td>\n",
       "        </tr>\n",
       "    </tbody>\n",
       "        <tr>\n",
       "            <td>2022</td> <td>Spring</td> <td>AREC360</td> <td>101    </td> <td>nan            </td> <td>nan            </td> <td>nan            </td> <td>Female</td> <td>20  </td> <td>Undergraduate </td> <td>PHILPOLIECON</td> <td>ARHU    </td> <td>White</td> <td>Hispanic No</td> <td>US Citizen </td> <td>Resident    </td>\n",
       "        </tr>\n",
       "    </tbody>\n",
       "        <tr>\n",
       "            <td>2022</td> <td>Spring</td> <td>AREC360</td> <td>101    </td> <td>nan            </td> <td>nan            </td> <td>nan            </td> <td>Male  </td> <td>21  </td> <td>Undergraduate </td> <td>COMM        </td> <td>ARHU    </td> <td>White</td> <td>Hispanic No</td> <td>US Citizen </td> <td>Resident    </td>\n",
       "        </tr>\n",
       "    </tbody>\n",
       "        <tr>\n",
       "            <td>2022</td> <td>Spring</td> <td>AREC360</td> <td>101    </td> <td>nan            </td> <td>nan            </td> <td>nan            </td> <td>Male  </td> <td>20  </td> <td>Undergraduate </td> <td>FINANCE     </td> <td>BMGT    </td> <td>White</td> <td>Hispanic No</td> <td>US Citizen </td> <td>Non-Resident</td>\n",
       "        </tr>\n",
       "    </tbody>\n",
       "        <tr>\n",
       "            <td>2022</td> <td>Spring</td> <td>AREC360</td> <td>101    </td> <td>nan            </td> <td>nan            </td> <td>nan            </td> <td>Female</td> <td>21  </td> <td>Undergraduate </td> <td>CRIM-JUSTICE</td> <td>BSOS    </td> <td>White</td> <td>Hispanic No</td> <td>US Citizen </td> <td>Non-Resident</td>\n",
       "        </tr>\n",
       "    </tbody>\n",
       "        <tr>\n",
       "            <td>2022</td> <td>Spring</td> <td>AREC360</td> <td>101    </td> <td>nan            </td> <td>nan            </td> <td>nan            </td> <td>Female</td> <td>22  </td> <td>Undergraduate </td> <td>GVPT INTLREL</td> <td>BSOS    </td> <td>White</td> <td>Hispanic No</td> <td>US Citizen </td> <td>Resident    </td>\n",
       "        </tr>\n",
       "    </tbody>\n",
       "        <tr>\n",
       "            <td>2022</td> <td>Spring</td> <td>AREC360</td> <td>101    </td> <td>nan            </td> <td>nan            </td> <td>nan            </td> <td>Male  </td> <td>21  </td> <td>Undergraduate </td> <td>CMSC MACHINE</td> <td>CMNS    </td> <td>White</td> <td>Hispanic No</td> <td>US Citizen </td> <td>Resident    </td>\n",
       "        </tr>\n",
       "    </tbody>\n",
       "        <tr>\n",
       "            <td>2022</td> <td>Spring</td> <td>CCJS325</td> <td>ESG1   </td> <td>nan            </td> <td>nan            </td> <td>nan            </td> <td>Male  </td> <td>22  </td> <td>Undergraduate </td> <td>ACCOUNTING  </td> <td>BMGT    </td> <td>White</td> <td>Hispanic No</td> <td>US Citizen </td> <td>Resident    </td>\n",
       "        </tr>\n",
       "    </tbody>\n",
       "        <tr>\n",
       "            <td>2022</td> <td>Spring</td> <td>CCJS325</td> <td>ESG1   </td> <td>nan            </td> <td>nan            </td> <td>nan            </td> <td>Female</td> <td>23  </td> <td>Undergraduate </td> <td>CRIM-JUSTICE</td> <td>BSOS    </td> <td>White</td> <td>Hispanic No</td> <td>US Citizen </td> <td>Resident    </td>\n",
       "        </tr>\n",
       "    </tbody>\n",
       "</table>\n",
       "<p>... (170 rows omitted)</p>"
      ],
      "text/plain": [
       "Year | Term   | Course  | Section | Cross listing 1 | Cross listing 2 | Cross listing 3 | Gender | Age  | Student Status | Major        | College  | Race  | Ethnicity   | Citizenship | Residency\n",
       "2022 | Spring | ARCH601 | 101     | nan             | nan             | nan             | Female | 22   | Graduate       | ARCHITECTURE | ARCH     | White | Hispanic No | US Citizen  | Resident\n",
       "2022 | Spring | ARCH601 | 101     | nan             | nan             | nan             | Male   | 24   | Graduate       | ARCHITECTURE | ARCH     | White | Hispanic No | US Citizen  | Resident\n",
       "2022 | Spring | AREC360 | 101     | nan             | nan             | nan             | Female | 20   | Undergraduate  | PHILPOLIECON | ARHU     | White | Hispanic No | US Citizen  | Resident\n",
       "2022 | Spring | AREC360 | 101     | nan             | nan             | nan             | Male   | 21   | Undergraduate  | COMM         | ARHU     | White | Hispanic No | US Citizen  | Resident\n",
       "2022 | Spring | AREC360 | 101     | nan             | nan             | nan             | Male   | 20   | Undergraduate  | FINANCE      | BMGT     | White | Hispanic No | US Citizen  | Non-Resident\n",
       "2022 | Spring | AREC360 | 101     | nan             | nan             | nan             | Female | 21   | Undergraduate  | CRIM-JUSTICE | BSOS     | White | Hispanic No | US Citizen  | Non-Resident\n",
       "2022 | Spring | AREC360 | 101     | nan             | nan             | nan             | Female | 22   | Undergraduate  | GVPT INTLREL | BSOS     | White | Hispanic No | US Citizen  | Resident\n",
       "2022 | Spring | AREC360 | 101     | nan             | nan             | nan             | Male   | 21   | Undergraduate  | CMSC MACHINE | CMNS     | White | Hispanic No | US Citizen  | Resident\n",
       "2022 | Spring | CCJS325 | ESG1    | nan             | nan             | nan             | Male   | 22   | Undergraduate  | ACCOUNTING   | BMGT     | White | Hispanic No | US Citizen  | Resident\n",
       "2022 | Spring | CCJS325 | ESG1    | nan             | nan             | nan             | Female | 23   | Undergraduate  | CRIM-JUSTICE | BSOS     | White | Hispanic No | US Citizen  | Resident\n",
       "... (170 rows omitted)"
      ]
     },
     "execution_count": 201,
     "metadata": {},
     "output_type": "execute_result"
    }
   ],
   "source": [
    "White_SP22 = tbl_7.where(\"Race\", are.equal_to(\"White\"))\n",
    "White_SP22"
   ]
  },
  {
   "cell_type": "code",
   "execution_count": 202,
   "metadata": {},
   "outputs": [
    {
     "data": {
      "text/plain": [
       "180"
      ]
     },
     "execution_count": 202,
     "metadata": {},
     "output_type": "execute_result"
    }
   ],
   "source": [
    "W_SP22 = White_SP22.num_rows\n",
    "W_SP22"
   ]
  },
  {
   "cell_type": "markdown",
   "metadata": {},
   "source": [
    "180 white students enrolled in Spring 2022"
   ]
  },
  {
   "cell_type": "code",
   "execution_count": 203,
   "metadata": {},
   "outputs": [
    {
     "data": {
      "text/html": [
       "<table border=\"1\" class=\"dataframe\">\n",
       "    <thead>\n",
       "        <tr>\n",
       "            <th>Year</th> <th>Term</th> <th>Course</th> <th>Section</th> <th>Cross listing 1</th> <th>Cross listing 2</th> <th>Cross listing 3</th> <th>Gender</th> <th>Age</th> <th>Student Status</th> <th>Major </th> <th>College </th> <th>Race</th> <th>Ethnicity</th> <th>Citizenship</th> <th>Residency</th>\n",
       "        </tr>\n",
       "    </thead>\n",
       "    <tbody>\n",
       "        <tr>\n",
       "            <td>2022</td> <td>Summer</td> <td>ENGL391</td> <td>GC01   </td> <td>nan            </td> <td>nan            </td> <td>nan            </td> <td>Male  </td> <td>20  </td> <td>Undergraduate </td> <td>INFO SYS    </td> <td>BMGT    </td> <td>Asian      </td> <td>Hispanic No</td> <td>US Citizen </td> <td>Resident    </td>\n",
       "        </tr>\n",
       "    </tbody>\n",
       "        <tr>\n",
       "            <td>2022</td> <td>Summer</td> <td>ENGL391</td> <td>GC01   </td> <td>nan            </td> <td>nan            </td> <td>nan            </td> <td>Female</td> <td>21  </td> <td>Undergraduate </td> <td>NFSC DIET   </td> <td>AGNR    </td> <td>White      </td> <td>Hispanic No</td> <td>US Citizen </td> <td>Resident    </td>\n",
       "        </tr>\n",
       "    </tbody>\n",
       "        <tr>\n",
       "            <td>2022</td> <td>Summer</td> <td>ENGL391</td> <td>GC01   </td> <td>nan            </td> <td>nan            </td> <td>nan            </td> <td>Male  </td> <td>20  </td> <td>Undergraduate </td> <td>MARKETING   </td> <td>BMGT    </td> <td>White      </td> <td>Hispanic No</td> <td>US Citizen </td> <td>Resident    </td>\n",
       "        </tr>\n",
       "    </tbody>\n",
       "        <tr>\n",
       "            <td>2022</td> <td>Summer</td> <td>ENGL391</td> <td>GC01   </td> <td>nan            </td> <td>nan            </td> <td>nan            </td> <td>Female</td> <td>21  </td> <td>Undergraduate </td> <td>BIO ENGR    </td> <td>ENGR    </td> <td>Asian      </td> <td>Hispanic No</td> <td>US Citizen </td> <td>Resident    </td>\n",
       "        </tr>\n",
       "    </tbody>\n",
       "        <tr>\n",
       "            <td>2022</td> <td>Summer</td> <td>ENGL391</td> <td>GC01   </td> <td>nan            </td> <td>nan            </td> <td>nan            </td> <td>Female</td> <td>21  </td> <td>Undergraduate </td> <td>NEURO MOLEC </td> <td>CMNS    </td> <td>Asian      </td> <td>Hispanic No</td> <td>US Citizen </td> <td>Resident    </td>\n",
       "        </tr>\n",
       "    </tbody>\n",
       "        <tr>\n",
       "            <td>2022</td> <td>Summer</td> <td>ENGL391</td> <td>GC01   </td> <td>nan            </td> <td>nan            </td> <td>nan            </td> <td>Male  </td> <td>19  </td> <td>Undergraduate </td> <td>THEATRE     </td> <td>ARHU    </td> <td>White      </td> <td>Hispanic No</td> <td>US Citizen </td> <td>Non-resident</td>\n",
       "        </tr>\n",
       "    </tbody>\n",
       "        <tr>\n",
       "            <td>2022</td> <td>Summer</td> <td>ENGL391</td> <td>GC01   </td> <td>nan            </td> <td>nan            </td> <td>nan            </td> <td>Male  </td> <td>26  </td> <td>Undergraduate </td> <td>CMSC DATASCI</td> <td>CMNS    </td> <td>Two or More</td> <td>Hispanic No</td> <td>US Citizen </td> <td>Resident    </td>\n",
       "        </tr>\n",
       "    </tbody>\n",
       "        <tr>\n",
       "            <td>2022</td> <td>Summer</td> <td>ENGL391</td> <td>GC01   </td> <td>nan            </td> <td>nan            </td> <td>nan            </td> <td>Male  </td> <td>31  </td> <td>Undergraduate </td> <td>LINGUISTICS </td> <td>ARHU    </td> <td>Asian      </td> <td>Hispanic No</td> <td>US Citizen </td> <td>Resident    </td>\n",
       "        </tr>\n",
       "    </tbody>\n",
       "        <tr>\n",
       "            <td>2022</td> <td>Summer</td> <td>ENGL391</td> <td>GC01   </td> <td>nan            </td> <td>nan            </td> <td>nan            </td> <td>Male  </td> <td>19  </td> <td>Undergraduate </td> <td>CHEMISTRY   </td> <td>CMNS    </td> <td>White      </td> <td>Hispanic No</td> <td>US Citizen </td> <td>Resident    </td>\n",
       "        </tr>\n",
       "    </tbody>\n",
       "        <tr>\n",
       "            <td>2022</td> <td>Summer</td> <td>ENGL391</td> <td>GC01   </td> <td>nan            </td> <td>nan            </td> <td>nan            </td> <td>Male  </td> <td>18  </td> <td>Undergraduate </td> <td>ENGR-AEROSP </td> <td>ENGR    </td> <td>White      </td> <td>Hispanic No</td> <td>US Citizen </td> <td>Resident    </td>\n",
       "        </tr>\n",
       "    </tbody>\n",
       "</table>\n",
       "<p>... (35 rows omitted)</p>"
      ],
      "text/plain": [
       "Year | Term   | Course  | Section | Cross listing 1 | Cross listing 2 | Cross listing 3 | Gender | Age  | Student Status | Major        | College  | Race        | Ethnicity   | Citizenship | Residency\n",
       "2022 | Summer | ENGL391 | GC01    | nan             | nan             | nan             | Male   | 20   | Undergraduate  | INFO SYS     | BMGT     | Asian       | Hispanic No | US Citizen  | Resident\n",
       "2022 | Summer | ENGL391 | GC01    | nan             | nan             | nan             | Female | 21   | Undergraduate  | NFSC DIET    | AGNR     | White       | Hispanic No | US Citizen  | Resident\n",
       "2022 | Summer | ENGL391 | GC01    | nan             | nan             | nan             | Male   | 20   | Undergraduate  | MARKETING    | BMGT     | White       | Hispanic No | US Citizen  | Resident\n",
       "2022 | Summer | ENGL391 | GC01    | nan             | nan             | nan             | Female | 21   | Undergraduate  | BIO ENGR     | ENGR     | Asian       | Hispanic No | US Citizen  | Resident\n",
       "2022 | Summer | ENGL391 | GC01    | nan             | nan             | nan             | Female | 21   | Undergraduate  | NEURO MOLEC  | CMNS     | Asian       | Hispanic No | US Citizen  | Resident\n",
       "2022 | Summer | ENGL391 | GC01    | nan             | nan             | nan             | Male   | 19   | Undergraduate  | THEATRE      | ARHU     | White       | Hispanic No | US Citizen  | Non-resident\n",
       "2022 | Summer | ENGL391 | GC01    | nan             | nan             | nan             | Male   | 26   | Undergraduate  | CMSC DATASCI | CMNS     | Two or More | Hispanic No | US Citizen  | Resident\n",
       "2022 | Summer | ENGL391 | GC01    | nan             | nan             | nan             | Male   | 31   | Undergraduate  | LINGUISTICS  | ARHU     | Asian       | Hispanic No | US Citizen  | Resident\n",
       "2022 | Summer | ENGL391 | GC01    | nan             | nan             | nan             | Male   | 19   | Undergraduate  | CHEMISTRY    | CMNS     | White       | Hispanic No | US Citizen  | Resident\n",
       "2022 | Summer | ENGL391 | GC01    | nan             | nan             | nan             | Male   | 18   | Undergraduate  | ENGR-AEROSP  | ENGR     | White       | Hispanic No | US Citizen  | Resident\n",
       "... (35 rows omitted)"
      ]
     },
     "execution_count": 203,
     "metadata": {},
     "output_type": "execute_result"
    }
   ],
   "source": [
    "tbl_8= Table.read_table('../data/Data_OIA.xlsx - Summer 2022.csv')\n",
    "tbl_8"
   ]
  },
  {
   "cell_type": "code",
   "execution_count": 204,
   "metadata": {},
   "outputs": [
    {
     "data": {
      "text/html": [
       "<table border=\"1\" class=\"dataframe\">\n",
       "    <thead>\n",
       "        <tr>\n",
       "            <th>Year</th> <th>Term</th> <th>Course</th> <th>Section</th> <th>Cross listing 1</th> <th>Cross listing 2</th> <th>Cross listing 3</th> <th>Gender</th> <th>Age</th> <th>Student Status</th> <th>Major </th> <th>College </th> <th>Race</th> <th>Ethnicity</th> <th>Citizenship</th> <th>Residency</th>\n",
       "        </tr>\n",
       "    </thead>\n",
       "    <tbody>\n",
       "        <tr>\n",
       "            <td>2022</td> <td>Summer</td> <td>ENGL391</td> <td>GC01   </td> <td>nan            </td> <td>nan            </td> <td>nan            </td> <td>Male  </td> <td>22  </td> <td>Undergraduate </td> <td>GEO SCIENCES</td> <td>BSOS    </td> <td>Black or African American</td> <td>Hispanic No</td> <td>US Citizen   </td> <td>Non-resident</td>\n",
       "        </tr>\n",
       "    </tbody>\n",
       "        <tr>\n",
       "            <td>2022</td> <td>Summer</td> <td>ENGL391</td> <td>GC01   </td> <td>nan            </td> <td>nan            </td> <td>nan            </td> <td>Male  </td> <td>20  </td> <td>Undergraduate </td> <td>LTSC        </td> <td>LTSC    </td> <td>Black or African American</td> <td>Hispanic No</td> <td>US Citizen   </td> <td>Resident    </td>\n",
       "        </tr>\n",
       "    </tbody>\n",
       "        <tr>\n",
       "            <td>2022</td> <td>Summer</td> <td>ENGL391</td> <td>GC02   </td> <td>nan            </td> <td>nan            </td> <td>nan            </td> <td>Male  </td> <td>19  </td> <td>Undergraduate </td> <td>PUB HLTH SCI</td> <td>SPHL    </td> <td>Black or African American</td> <td>Hispanic No</td> <td>X1           </td> <td>Resident    </td>\n",
       "        </tr>\n",
       "    </tbody>\n",
       "        <tr>\n",
       "            <td>2022</td> <td>Summer</td> <td>MIEH407</td> <td>GC01   </td> <td>nan            </td> <td>nan            </td> <td>nan            </td> <td>Female</td> <td>20  </td> <td>Undergraduate </td> <td>PSYCH BS    </td> <td>BSOS    </td> <td>Black or African American</td> <td>Hispanic No</td> <td>US Citizen   </td> <td>Resident    </td>\n",
       "        </tr>\n",
       "    </tbody>\n",
       "        <tr>\n",
       "            <td>2022</td> <td>Summer</td> <td>MIEH607</td> <td>GC01   </td> <td>nan            </td> <td>nan            </td> <td>nan            </td> <td>Female</td> <td>28  </td> <td>Grad Student  </td> <td>ENV HLTH SCI</td> <td>SPHL    </td> <td>Black or African American</td> <td>Hispanic No</td> <td>Forgn Student</td> <td>Non-resident</td>\n",
       "        </tr>\n",
       "    </tbody>\n",
       "</table>"
      ],
      "text/plain": [
       "Year | Term   | Course  | Section | Cross listing 1 | Cross listing 2 | Cross listing 3 | Gender | Age  | Student Status | Major        | College  | Race                      | Ethnicity   | Citizenship   | Residency\n",
       "2022 | Summer | ENGL391 | GC01    | nan             | nan             | nan             | Male   | 22   | Undergraduate  | GEO SCIENCES | BSOS     | Black or African American | Hispanic No | US Citizen    | Non-resident\n",
       "2022 | Summer | ENGL391 | GC01    | nan             | nan             | nan             | Male   | 20   | Undergraduate  | LTSC         | LTSC     | Black or African American | Hispanic No | US Citizen    | Resident\n",
       "2022 | Summer | ENGL391 | GC02    | nan             | nan             | nan             | Male   | 19   | Undergraduate  | PUB HLTH SCI | SPHL     | Black or African American | Hispanic No | X1            | Resident\n",
       "2022 | Summer | MIEH407 | GC01    | nan             | nan             | nan             | Female | 20   | Undergraduate  | PSYCH BS     | BSOS     | Black or African American | Hispanic No | US Citizen    | Resident\n",
       "2022 | Summer | MIEH607 | GC01    | nan             | nan             | nan             | Female | 28   | Grad Student   | ENV HLTH SCI | SPHL     | Black or African American | Hispanic No | Forgn Student | Non-resident"
      ]
     },
     "execution_count": 204,
     "metadata": {},
     "output_type": "execute_result"
    }
   ],
   "source": [
    "African_American_S22= tbl_8.where(\"Race\", are.equal_to(\"Black or African American\"))\n",
    "African_American_S22"
   ]
  },
  {
   "cell_type": "code",
   "execution_count": 205,
   "metadata": {},
   "outputs": [
    {
     "data": {
      "text/plain": [
       "5"
      ]
     },
     "execution_count": 205,
     "metadata": {},
     "output_type": "execute_result"
    }
   ],
   "source": [
    "AA_S22 = African_American_S22.num_rows\n",
    "AA_S22"
   ]
  },
  {
   "cell_type": "markdown",
   "metadata": {},
   "source": [
    "5 African American Students Enrolled in Summer 2022"
   ]
  },
  {
   "cell_type": "code",
   "execution_count": 206,
   "metadata": {},
   "outputs": [
    {
     "data": {
      "text/html": [
       "<table border=\"1\" class=\"dataframe\">\n",
       "    <thead>\n",
       "        <tr>\n",
       "            <th>Year</th> <th>Term</th> <th>Course</th> <th>Section</th> <th>Cross listing 1</th> <th>Cross listing 2</th> <th>Cross listing 3</th> <th>Gender</th> <th>Age</th> <th>Student Status</th> <th>Major </th> <th>College </th> <th>Race</th> <th>Ethnicity</th> <th>Citizenship</th> <th>Residency</th>\n",
       "        </tr>\n",
       "    </thead>\n",
       "    <tbody>\n",
       "        <tr>\n",
       "            <td>2022</td> <td>Summer</td> <td>ENGL391</td> <td>GC01   </td> <td>nan            </td> <td>nan            </td> <td>nan            </td> <td>Male  </td> <td>20  </td> <td>Undergraduate </td> <td>INFO SYS    </td> <td>BMGT    </td> <td>Asian</td> <td>Hispanic No</td> <td>US Citizen </td> <td>Resident    </td>\n",
       "        </tr>\n",
       "    </tbody>\n",
       "        <tr>\n",
       "            <td>2022</td> <td>Summer</td> <td>ENGL391</td> <td>GC01   </td> <td>nan            </td> <td>nan            </td> <td>nan            </td> <td>Female</td> <td>21  </td> <td>Undergraduate </td> <td>BIO ENGR    </td> <td>ENGR    </td> <td>Asian</td> <td>Hispanic No</td> <td>US Citizen </td> <td>Resident    </td>\n",
       "        </tr>\n",
       "    </tbody>\n",
       "        <tr>\n",
       "            <td>2022</td> <td>Summer</td> <td>ENGL391</td> <td>GC01   </td> <td>nan            </td> <td>nan            </td> <td>nan            </td> <td>Female</td> <td>21  </td> <td>Undergraduate </td> <td>NEURO MOLEC </td> <td>CMNS    </td> <td>Asian</td> <td>Hispanic No</td> <td>US Citizen </td> <td>Resident    </td>\n",
       "        </tr>\n",
       "    </tbody>\n",
       "        <tr>\n",
       "            <td>2022</td> <td>Summer</td> <td>ENGL391</td> <td>GC01   </td> <td>nan            </td> <td>nan            </td> <td>nan            </td> <td>Male  </td> <td>31  </td> <td>Undergraduate </td> <td>LINGUISTICS </td> <td>ARHU    </td> <td>Asian</td> <td>Hispanic No</td> <td>US Citizen </td> <td>Resident    </td>\n",
       "        </tr>\n",
       "    </tbody>\n",
       "        <tr>\n",
       "            <td>2022</td> <td>Summer</td> <td>ENGL391</td> <td>GC01   </td> <td>nan            </td> <td>nan            </td> <td>nan            </td> <td>Female</td> <td>19  </td> <td>Undergraduate </td> <td>LTSC        </td> <td>LTSC    </td> <td>Asian</td> <td>Hispanic No</td> <td>US Citizen </td> <td>Resident    </td>\n",
       "        </tr>\n",
       "    </tbody>\n",
       "        <tr>\n",
       "            <td>2022</td> <td>Summer</td> <td>ENGL391</td> <td>GC02   </td> <td>nan            </td> <td>nan            </td> <td>nan            </td> <td>Male  </td> <td>19  </td> <td>Undergraduate </td> <td>FINANCE     </td> <td>BMGT    </td> <td>Asian</td> <td>Hispanic No</td> <td>US Citizen </td> <td>Resident    </td>\n",
       "        </tr>\n",
       "    </tbody>\n",
       "        <tr>\n",
       "            <td>2022</td> <td>Summer</td> <td>ENGL391</td> <td>GC02   </td> <td>nan            </td> <td>nan            </td> <td>nan            </td> <td>Female</td> <td>22  </td> <td>Undergraduate </td> <td>LINGUISTICS </td> <td>ARHU    </td> <td>Asian</td> <td>Hispanic No</td> <td>US Citizen </td> <td>Resident    </td>\n",
       "        </tr>\n",
       "    </tbody>\n",
       "        <tr>\n",
       "            <td>2022</td> <td>Summer</td> <td>ENGL391</td> <td>GC02   </td> <td>nan            </td> <td>nan            </td> <td>nan            </td> <td>Male  </td> <td>20  </td> <td>Undergraduate </td> <td>INFO SCI    </td> <td>INFO    </td> <td>Asian</td> <td>Hispanic No</td> <td>US Citizen </td> <td>Non-resident</td>\n",
       "        </tr>\n",
       "    </tbody>\n",
       "        <tr>\n",
       "            <td>2022</td> <td>Summer</td> <td>ENGL391</td> <td>GC02   </td> <td>nan            </td> <td>nan            </td> <td>nan            </td> <td>Male  </td> <td>21  </td> <td>Undergraduate </td> <td>PUB POLICY  </td> <td>PLCY    </td> <td>Asian</td> <td>Hispanic No</td> <td>US Citizen </td> <td>Resident    </td>\n",
       "        </tr>\n",
       "    </tbody>\n",
       "        <tr>\n",
       "            <td>2022</td> <td>Summer</td> <td>MIEH407</td> <td>GC01   </td> <td>nan            </td> <td>nan            </td> <td>nan            </td> <td>Female</td> <td>20  </td> <td>Undergraduate </td> <td>PUB HLTH SCI</td> <td>SPHL    </td> <td>Asian</td> <td>Hispanic No</td> <td>US Citizen </td> <td>Resident    </td>\n",
       "        </tr>\n",
       "    </tbody>\n",
       "</table>\n",
       "<p>... (1 rows omitted)</p>"
      ],
      "text/plain": [
       "Year | Term   | Course  | Section | Cross listing 1 | Cross listing 2 | Cross listing 3 | Gender | Age  | Student Status | Major        | College  | Race  | Ethnicity   | Citizenship | Residency\n",
       "2022 | Summer | ENGL391 | GC01    | nan             | nan             | nan             | Male   | 20   | Undergraduate  | INFO SYS     | BMGT     | Asian | Hispanic No | US Citizen  | Resident\n",
       "2022 | Summer | ENGL391 | GC01    | nan             | nan             | nan             | Female | 21   | Undergraduate  | BIO ENGR     | ENGR     | Asian | Hispanic No | US Citizen  | Resident\n",
       "2022 | Summer | ENGL391 | GC01    | nan             | nan             | nan             | Female | 21   | Undergraduate  | NEURO MOLEC  | CMNS     | Asian | Hispanic No | US Citizen  | Resident\n",
       "2022 | Summer | ENGL391 | GC01    | nan             | nan             | nan             | Male   | 31   | Undergraduate  | LINGUISTICS  | ARHU     | Asian | Hispanic No | US Citizen  | Resident\n",
       "2022 | Summer | ENGL391 | GC01    | nan             | nan             | nan             | Female | 19   | Undergraduate  | LTSC         | LTSC     | Asian | Hispanic No | US Citizen  | Resident\n",
       "2022 | Summer | ENGL391 | GC02    | nan             | nan             | nan             | Male   | 19   | Undergraduate  | FINANCE      | BMGT     | Asian | Hispanic No | US Citizen  | Resident\n",
       "2022 | Summer | ENGL391 | GC02    | nan             | nan             | nan             | Female | 22   | Undergraduate  | LINGUISTICS  | ARHU     | Asian | Hispanic No | US Citizen  | Resident\n",
       "2022 | Summer | ENGL391 | GC02    | nan             | nan             | nan             | Male   | 20   | Undergraduate  | INFO SCI     | INFO     | Asian | Hispanic No | US Citizen  | Non-resident\n",
       "2022 | Summer | ENGL391 | GC02    | nan             | nan             | nan             | Male   | 21   | Undergraduate  | PUB POLICY   | PLCY     | Asian | Hispanic No | US Citizen  | Resident\n",
       "2022 | Summer | MIEH407 | GC01    | nan             | nan             | nan             | Female | 20   | Undergraduate  | PUB HLTH SCI | SPHL     | Asian | Hispanic No | US Citizen  | Resident\n",
       "... (1 rows omitted)"
      ]
     },
     "execution_count": 206,
     "metadata": {},
     "output_type": "execute_result"
    }
   ],
   "source": [
    "Asian_S22 = tbl_8.where(\"Race\", are.equal_to(\"Asian\"))\n",
    "Asian_S22"
   ]
  },
  {
   "cell_type": "code",
   "execution_count": 207,
   "metadata": {},
   "outputs": [
    {
     "data": {
      "text/plain": [
       "11"
      ]
     },
     "execution_count": 207,
     "metadata": {},
     "output_type": "execute_result"
    }
   ],
   "source": [
    "A_S22 = Asian_S22.num_rows\n",
    "A_S22"
   ]
  },
  {
   "cell_type": "markdown",
   "metadata": {},
   "source": [
    "11 Asian Students enrolled in Summer 2022"
   ]
  },
  {
   "cell_type": "code",
   "execution_count": 208,
   "metadata": {},
   "outputs": [
    {
     "data": {
      "text/html": [
       "<table border=\"1\" class=\"dataframe\">\n",
       "    <thead>\n",
       "        <tr>\n",
       "            <th>Year</th> <th>Term</th> <th>Course</th> <th>Section</th> <th>Cross listing 1</th> <th>Cross listing 2</th> <th>Cross listing 3</th> <th>Gender</th> <th>Age</th> <th>Student Status</th> <th>Major </th> <th>College </th> <th>Race</th> <th>Ethnicity</th> <th>Citizenship</th> <th>Residency</th>\n",
       "        </tr>\n",
       "    </thead>\n",
       "    <tbody>\n",
       "        <tr>\n",
       "            <td>2022</td> <td>Summer</td> <td>ENGL391 </td> <td>GC01   </td> <td>nan            </td> <td>nan            </td> <td>nan            </td> <td>Male  </td> <td>23  </td> <td>Undergraduate </td> <td>ART HISTORY</td> <td>ARHU    </td> <td>Hispanic</td> <td>Hispanic Yes</td> <td>US Citizen </td> <td>Resident </td>\n",
       "        </tr>\n",
       "    </tbody>\n",
       "        <tr>\n",
       "            <td>2022</td> <td>Summer</td> <td>ENGL391 </td> <td>GC01   </td> <td>nan            </td> <td>nan            </td> <td>nan            </td> <td>Female</td> <td>22  </td> <td>Undergraduate </td> <td>ENGLISH    </td> <td>ARHU    </td> <td>Hispanic</td> <td>Hispanic Yes</td> <td>US Citizen </td> <td>Resident </td>\n",
       "        </tr>\n",
       "    </tbody>\n",
       "        <tr>\n",
       "            <td>2022</td> <td>Summer</td> <td>ENGL391 </td> <td>GC02   </td> <td>nan            </td> <td>nan            </td> <td>nan            </td> <td>Female</td> <td>23  </td> <td>Undergraduate </td> <td>ART STUDIO </td> <td>ARHU    </td> <td>Hispanic</td> <td>Hispanic Yes</td> <td>US Citizen </td> <td>Resident </td>\n",
       "        </tr>\n",
       "    </tbody>\n",
       "        <tr>\n",
       "            <td>2022</td> <td>Summer</td> <td>HIST328I</td> <td>GC01   </td> <td>LACS348A       </td> <td>WGSS379L       </td> <td>nan            </td> <td>Female</td> <td>20  </td> <td>Undergraduate </td> <td>HISTORY    </td> <td>ARHU    </td> <td>Hispanic</td> <td>Hispanic Yes</td> <td>US Citizen </td> <td>Resident </td>\n",
       "        </tr>\n",
       "    </tbody>\n",
       "        <tr>\n",
       "            <td>2022</td> <td>Summer</td> <td>LACS348A</td> <td>GC01   </td> <td>WGSS379L       </td> <td>HIST328I       </td> <td>nan            </td> <td>Male  </td> <td>38  </td> <td>Undergraduate </td> <td>ECONOMICS  </td> <td>BSOS    </td> <td>Hispanic</td> <td>Hispanic Yes</td> <td>Perm Rsdnt </td> <td>Resident </td>\n",
       "        </tr>\n",
       "    </tbody>\n",
       "        <tr>\n",
       "            <td>2022</td> <td>Summer</td> <td>LACS348A</td> <td>GC01   </td> <td>WGSS379L       </td> <td>HIST328I       </td> <td>nan            </td> <td>Female</td> <td>22  </td> <td>Undergraduate </td> <td>THEATRE    </td> <td>ARHU    </td> <td>Hispanic</td> <td>Hispanic Yes</td> <td>US Citizen </td> <td>Resident </td>\n",
       "        </tr>\n",
       "    </tbody>\n",
       "</table>"
      ],
      "text/plain": [
       "Year | Term   | Course   | Section | Cross listing 1 | Cross listing 2 | Cross listing 3 | Gender | Age  | Student Status | Major       | College  | Race     | Ethnicity    | Citizenship | Residency\n",
       "2022 | Summer | ENGL391  | GC01    | nan             | nan             | nan             | Male   | 23   | Undergraduate  | ART HISTORY | ARHU     | Hispanic | Hispanic Yes | US Citizen  | Resident\n",
       "2022 | Summer | ENGL391  | GC01    | nan             | nan             | nan             | Female | 22   | Undergraduate  | ENGLISH     | ARHU     | Hispanic | Hispanic Yes | US Citizen  | Resident\n",
       "2022 | Summer | ENGL391  | GC02    | nan             | nan             | nan             | Female | 23   | Undergraduate  | ART STUDIO  | ARHU     | Hispanic | Hispanic Yes | US Citizen  | Resident\n",
       "2022 | Summer | HIST328I | GC01    | LACS348A        | WGSS379L        | nan             | Female | 20   | Undergraduate  | HISTORY     | ARHU     | Hispanic | Hispanic Yes | US Citizen  | Resident\n",
       "2022 | Summer | LACS348A | GC01    | WGSS379L        | HIST328I        | nan             | Male   | 38   | Undergraduate  | ECONOMICS   | BSOS     | Hispanic | Hispanic Yes | Perm Rsdnt  | Resident\n",
       "2022 | Summer | LACS348A | GC01    | WGSS379L        | HIST328I        | nan             | Female | 22   | Undergraduate  | THEATRE     | ARHU     | Hispanic | Hispanic Yes | US Citizen  | Resident"
      ]
     },
     "execution_count": 208,
     "metadata": {},
     "output_type": "execute_result"
    }
   ],
   "source": [
    "Hispanic_S22 = tbl_8.where(\"Race\", are.equal_to(\"Hispanic\"))\n",
    "Hispanic_S22"
   ]
  },
  {
   "cell_type": "code",
   "execution_count": 209,
   "metadata": {},
   "outputs": [
    {
     "data": {
      "text/plain": [
       "6"
      ]
     },
     "execution_count": 209,
     "metadata": {},
     "output_type": "execute_result"
    }
   ],
   "source": [
    "H_S22 = Hispanic_S22.num_rows\n",
    "H_S22"
   ]
  },
  {
   "cell_type": "markdown",
   "metadata": {},
   "source": [
    "6 Hispanic Students Enrolled in Summer 2022"
   ]
  },
  {
   "cell_type": "code",
   "execution_count": 210,
   "metadata": {},
   "outputs": [
    {
     "data": {
      "text/html": [
       "<table border=\"1\" class=\"dataframe\">\n",
       "    <thead>\n",
       "        <tr>\n",
       "            <th>Year</th> <th>Term</th> <th>Course</th> <th>Section</th> <th>Cross listing 1</th> <th>Cross listing 2</th> <th>Cross listing 3</th> <th>Gender</th> <th>Age</th> <th>Student Status</th> <th>Major </th> <th>College </th> <th>Race</th> <th>Ethnicity</th> <th>Citizenship</th> <th>Residency</th>\n",
       "        </tr>\n",
       "    </thead>\n",
       "    <tbody>\n",
       "        <tr>\n",
       "            <td>2022</td> <td>Summer</td> <td>ENGL391</td> <td>GC01   </td> <td>nan            </td> <td>nan            </td> <td>nan            </td> <td>Female</td> <td>21  </td> <td>Undergraduate </td> <td>NFSC DIET   </td> <td>AGNR    </td> <td>White</td> <td>Hispanic No</td> <td>US Citizen </td> <td>Resident    </td>\n",
       "        </tr>\n",
       "    </tbody>\n",
       "        <tr>\n",
       "            <td>2022</td> <td>Summer</td> <td>ENGL391</td> <td>GC01   </td> <td>nan            </td> <td>nan            </td> <td>nan            </td> <td>Male  </td> <td>20  </td> <td>Undergraduate </td> <td>MARKETING   </td> <td>BMGT    </td> <td>White</td> <td>Hispanic No</td> <td>US Citizen </td> <td>Resident    </td>\n",
       "        </tr>\n",
       "    </tbody>\n",
       "        <tr>\n",
       "            <td>2022</td> <td>Summer</td> <td>ENGL391</td> <td>GC01   </td> <td>nan            </td> <td>nan            </td> <td>nan            </td> <td>Male  </td> <td>19  </td> <td>Undergraduate </td> <td>THEATRE     </td> <td>ARHU    </td> <td>White</td> <td>Hispanic No</td> <td>US Citizen </td> <td>Non-resident</td>\n",
       "        </tr>\n",
       "    </tbody>\n",
       "        <tr>\n",
       "            <td>2022</td> <td>Summer</td> <td>ENGL391</td> <td>GC01   </td> <td>nan            </td> <td>nan            </td> <td>nan            </td> <td>Male  </td> <td>19  </td> <td>Undergraduate </td> <td>CHEMISTRY   </td> <td>CMNS    </td> <td>White</td> <td>Hispanic No</td> <td>US Citizen </td> <td>Resident    </td>\n",
       "        </tr>\n",
       "    </tbody>\n",
       "        <tr>\n",
       "            <td>2022</td> <td>Summer</td> <td>ENGL391</td> <td>GC01   </td> <td>nan            </td> <td>nan            </td> <td>nan            </td> <td>Male  </td> <td>18  </td> <td>Undergraduate </td> <td>ENGR-AEROSP </td> <td>ENGR    </td> <td>White</td> <td>Hispanic No</td> <td>US Citizen </td> <td>Resident    </td>\n",
       "        </tr>\n",
       "    </tbody>\n",
       "        <tr>\n",
       "            <td>2022</td> <td>Summer</td> <td>ENGL391</td> <td>GC01   </td> <td>nan            </td> <td>nan            </td> <td>nan            </td> <td>Male  </td> <td>21  </td> <td>Undergraduate </td> <td>ECONOMICS   </td> <td>BSOS    </td> <td>White</td> <td>Hispanic No</td> <td>G4         </td> <td>Resident    </td>\n",
       "        </tr>\n",
       "    </tbody>\n",
       "        <tr>\n",
       "            <td>2022</td> <td>Summer</td> <td>ENGL391</td> <td>GC01   </td> <td>nan            </td> <td>nan            </td> <td>nan            </td> <td>Female</td> <td>21  </td> <td>Undergraduate </td> <td>ENGLISH     </td> <td>ARHU    </td> <td>White</td> <td>Hispanic No</td> <td>US Citizen </td> <td>Resident    </td>\n",
       "        </tr>\n",
       "    </tbody>\n",
       "        <tr>\n",
       "            <td>2022</td> <td>Summer</td> <td>ENGL391</td> <td>GC01   </td> <td>nan            </td> <td>nan            </td> <td>nan            </td> <td>Female</td> <td>24  </td> <td>Undergraduate </td> <td>PSYCHOLOGY  </td> <td>BSOS    </td> <td>White</td> <td>Hispanic No</td> <td>US Citizen </td> <td>Non-resident</td>\n",
       "        </tr>\n",
       "    </tbody>\n",
       "        <tr>\n",
       "            <td>2022</td> <td>Summer</td> <td>ENGL391</td> <td>GC02   </td> <td>nan            </td> <td>nan            </td> <td>nan            </td> <td>Female</td> <td>20  </td> <td>Undergraduate </td> <td>ECONOMICS-BS</td> <td>BSOS    </td> <td>White</td> <td>Hispanic No</td> <td>US Citizen </td> <td>Resident    </td>\n",
       "        </tr>\n",
       "    </tbody>\n",
       "        <tr>\n",
       "            <td>2022</td> <td>Summer</td> <td>ENGL391</td> <td>GC02   </td> <td>nan            </td> <td>nan            </td> <td>nan            </td> <td>Male  </td> <td>21  </td> <td>Undergraduate </td> <td>MUSIC ED    </td> <td>ARHU    </td> <td>White</td> <td>Hispanic No</td> <td>US Citizen </td> <td>Resident    </td>\n",
       "        </tr>\n",
       "    </tbody>\n",
       "</table>\n",
       "<p>... (8 rows omitted)</p>"
      ],
      "text/plain": [
       "Year | Term   | Course  | Section | Cross listing 1 | Cross listing 2 | Cross listing 3 | Gender | Age  | Student Status | Major        | College  | Race  | Ethnicity   | Citizenship | Residency\n",
       "2022 | Summer | ENGL391 | GC01    | nan             | nan             | nan             | Female | 21   | Undergraduate  | NFSC DIET    | AGNR     | White | Hispanic No | US Citizen  | Resident\n",
       "2022 | Summer | ENGL391 | GC01    | nan             | nan             | nan             | Male   | 20   | Undergraduate  | MARKETING    | BMGT     | White | Hispanic No | US Citizen  | Resident\n",
       "2022 | Summer | ENGL391 | GC01    | nan             | nan             | nan             | Male   | 19   | Undergraduate  | THEATRE      | ARHU     | White | Hispanic No | US Citizen  | Non-resident\n",
       "2022 | Summer | ENGL391 | GC01    | nan             | nan             | nan             | Male   | 19   | Undergraduate  | CHEMISTRY    | CMNS     | White | Hispanic No | US Citizen  | Resident\n",
       "2022 | Summer | ENGL391 | GC01    | nan             | nan             | nan             | Male   | 18   | Undergraduate  | ENGR-AEROSP  | ENGR     | White | Hispanic No | US Citizen  | Resident\n",
       "2022 | Summer | ENGL391 | GC01    | nan             | nan             | nan             | Male   | 21   | Undergraduate  | ECONOMICS    | BSOS     | White | Hispanic No | G4          | Resident\n",
       "2022 | Summer | ENGL391 | GC01    | nan             | nan             | nan             | Female | 21   | Undergraduate  | ENGLISH      | ARHU     | White | Hispanic No | US Citizen  | Resident\n",
       "2022 | Summer | ENGL391 | GC01    | nan             | nan             | nan             | Female | 24   | Undergraduate  | PSYCHOLOGY   | BSOS     | White | Hispanic No | US Citizen  | Non-resident\n",
       "2022 | Summer | ENGL391 | GC02    | nan             | nan             | nan             | Female | 20   | Undergraduate  | ECONOMICS-BS | BSOS     | White | Hispanic No | US Citizen  | Resident\n",
       "2022 | Summer | ENGL391 | GC02    | nan             | nan             | nan             | Male   | 21   | Undergraduate  | MUSIC ED     | ARHU     | White | Hispanic No | US Citizen  | Resident\n",
       "... (8 rows omitted)"
      ]
     },
     "execution_count": 210,
     "metadata": {},
     "output_type": "execute_result"
    }
   ],
   "source": [
    "White_S22 = tbl_8.where(\"Race\", are.equal_to(\"White\"))\n",
    "White_S22"
   ]
  },
  {
   "cell_type": "code",
   "execution_count": 211,
   "metadata": {},
   "outputs": [
    {
     "data": {
      "text/plain": [
       "18"
      ]
     },
     "execution_count": 211,
     "metadata": {},
     "output_type": "execute_result"
    }
   ],
   "source": [
    "W_S22 = White_S22.num_rows\n",
    "W_S22"
   ]
  },
  {
   "cell_type": "markdown",
   "metadata": {},
   "source": [
    "18 White Students enrolled in Summer 2022"
   ]
  },
  {
   "cell_type": "markdown",
   "metadata": {},
   "source": [
    "Plots/Visualization"
   ]
  },
  {
   "cell_type": "code",
   "execution_count": 212,
   "metadata": {},
   "outputs": [
    {
     "data": {
      "text/plain": [
       "array([2020. , 2021.1, 2021.2, 2021.3, 2021.4, 2022.1, 2022.2, 2022.3])"
      ]
     },
     "execution_count": 212,
     "metadata": {},
     "output_type": "execute_result"
    }
   ],
   "source": [
    "Full_Years = make_array(2020, 2021.1,2021.2, 2021.3, 2021.4, 2022.1, 2022.2,2022.3)\n",
    "Full_Years"
   ]
  },
  {
   "cell_type": "code",
   "execution_count": 213,
   "metadata": {},
   "outputs": [
    {
     "data": {
      "text/plain": [
       "array([69,  6, 69,  8, 39,  8, 35,  5])"
      ]
     },
     "execution_count": 213,
     "metadata": {},
     "output_type": "execute_result"
    }
   ],
   "source": [
    "AA_E = make_array(69, 6, 69,8,39,8,35,5)\n",
    "AA_E"
   ]
  },
  {
   "cell_type": "code",
   "execution_count": 214,
   "metadata": {},
   "outputs": [
    {
     "data": {
      "text/plain": [
       "array([80,  9, 90, 14, 31, 10, 50, 11])"
      ]
     },
     "execution_count": 214,
     "metadata": {},
     "output_type": "execute_result"
    }
   ],
   "source": [
    "AS_E = make_array(80,9,90,14,31,10,50,11)\n",
    "AS_E"
   ]
  },
  {
   "cell_type": "code",
   "execution_count": 215,
   "metadata": {},
   "outputs": [
    {
     "data": {
      "text/plain": [
       "array([76,  6, 62, 13, 40, 22, 40,  6])"
      ]
     },
     "execution_count": 215,
     "metadata": {},
     "output_type": "execute_result"
    }
   ],
   "source": [
    "HS_E = make_array(76,6,62,13,40,22,40,6)\n",
    "HS_E"
   ]
  },
  {
   "cell_type": "code",
   "execution_count": 216,
   "metadata": {},
   "outputs": [
    {
     "data": {
      "text/plain": [
       "array([266,  30, 197,  25, 154,  35, 180,  18])"
      ]
     },
     "execution_count": 216,
     "metadata": {},
     "output_type": "execute_result"
    }
   ],
   "source": [
    "WH_E = make_array(266,30,197,25,154,35,180,18)\n",
    "WH_E"
   ]
  },
  {
   "cell_type": "code",
   "execution_count": 217,
   "metadata": {},
   "outputs": [
    {
     "data": {
      "text/html": [
       "<table border=\"1\" class=\"dataframe\">\n",
       "    <thead>\n",
       "        <tr>\n",
       "            <th>African American Enrollment</th> <th>Years</th>\n",
       "        </tr>\n",
       "    </thead>\n",
       "    <tbody>\n",
       "        <tr>\n",
       "            <td>69                         </td> <td>2020  </td>\n",
       "        </tr>\n",
       "    </tbody>\n",
       "        <tr>\n",
       "            <td>6                          </td> <td>2021.1</td>\n",
       "        </tr>\n",
       "    </tbody>\n",
       "        <tr>\n",
       "            <td>69                         </td> <td>2021.2</td>\n",
       "        </tr>\n",
       "    </tbody>\n",
       "        <tr>\n",
       "            <td>8                          </td> <td>2021.3</td>\n",
       "        </tr>\n",
       "    </tbody>\n",
       "        <tr>\n",
       "            <td>39                         </td> <td>2021.4</td>\n",
       "        </tr>\n",
       "    </tbody>\n",
       "        <tr>\n",
       "            <td>8                          </td> <td>2022.1</td>\n",
       "        </tr>\n",
       "    </tbody>\n",
       "        <tr>\n",
       "            <td>35                         </td> <td>2022.2</td>\n",
       "        </tr>\n",
       "    </tbody>\n",
       "        <tr>\n",
       "            <td>5                          </td> <td>2022.3</td>\n",
       "        </tr>\n",
       "    </tbody>\n",
       "</table>"
      ],
      "text/plain": [
       "African American Enrollment | Years\n",
       "69                          | 2020\n",
       "6                           | 2021.1\n",
       "69                          | 2021.2\n",
       "8                           | 2021.3\n",
       "39                          | 2021.4\n",
       "8                           | 2022.1\n",
       "35                          | 2022.2\n",
       "5                           | 2022.3"
      ]
     },
     "execution_count": 217,
     "metadata": {},
     "output_type": "execute_result"
    }
   ],
   "source": [
    "AA = Table(). with_columns(\"African American Enrollment\", AA_E, \"Years\", Full_Years)\n",
    "AA"
   ]
  },
  {
   "cell_type": "code",
   "execution_count": 218,
   "metadata": {},
   "outputs": [
    {
     "data": {
      "text/html": [
       "<table border=\"1\" class=\"dataframe\">\n",
       "    <thead>\n",
       "        <tr>\n",
       "            <th>Years</th> <th>Asian Enrollment</th>\n",
       "        </tr>\n",
       "    </thead>\n",
       "    <tbody>\n",
       "        <tr>\n",
       "            <td>2020  </td> <td>80              </td>\n",
       "        </tr>\n",
       "    </tbody>\n",
       "        <tr>\n",
       "            <td>2021.1</td> <td>9               </td>\n",
       "        </tr>\n",
       "    </tbody>\n",
       "        <tr>\n",
       "            <td>2021.2</td> <td>90              </td>\n",
       "        </tr>\n",
       "    </tbody>\n",
       "        <tr>\n",
       "            <td>2021.3</td> <td>14              </td>\n",
       "        </tr>\n",
       "    </tbody>\n",
       "        <tr>\n",
       "            <td>2021.4</td> <td>31              </td>\n",
       "        </tr>\n",
       "    </tbody>\n",
       "        <tr>\n",
       "            <td>2022.1</td> <td>10              </td>\n",
       "        </tr>\n",
       "    </tbody>\n",
       "        <tr>\n",
       "            <td>2022.2</td> <td>50              </td>\n",
       "        </tr>\n",
       "    </tbody>\n",
       "        <tr>\n",
       "            <td>2022.3</td> <td>11              </td>\n",
       "        </tr>\n",
       "    </tbody>\n",
       "</table>"
      ],
      "text/plain": [
       "Years  | Asian Enrollment\n",
       "2020   | 80\n",
       "2021.1 | 9\n",
       "2021.2 | 90\n",
       "2021.3 | 14\n",
       "2021.4 | 31\n",
       "2022.1 | 10\n",
       "2022.2 | 50\n",
       "2022.3 | 11"
      ]
     },
     "execution_count": 218,
     "metadata": {},
     "output_type": "execute_result"
    }
   ],
   "source": [
    "As = Table().with_columns(\"Years\", Full_Years, \"Asian Enrollment\",AS_E )\n",
    "As"
   ]
  },
  {
   "cell_type": "code",
   "execution_count": 219,
   "metadata": {},
   "outputs": [
    {
     "data": {
      "text/html": [
       "<table border=\"1\" class=\"dataframe\">\n",
       "    <thead>\n",
       "        <tr>\n",
       "            <th>Years</th> <th>Hispanic Enrollment</th>\n",
       "        </tr>\n",
       "    </thead>\n",
       "    <tbody>\n",
       "        <tr>\n",
       "            <td>2020  </td> <td>76                 </td>\n",
       "        </tr>\n",
       "    </tbody>\n",
       "        <tr>\n",
       "            <td>2021.1</td> <td>6                  </td>\n",
       "        </tr>\n",
       "    </tbody>\n",
       "        <tr>\n",
       "            <td>2021.2</td> <td>62                 </td>\n",
       "        </tr>\n",
       "    </tbody>\n",
       "        <tr>\n",
       "            <td>2021.3</td> <td>13                 </td>\n",
       "        </tr>\n",
       "    </tbody>\n",
       "        <tr>\n",
       "            <td>2021.4</td> <td>40                 </td>\n",
       "        </tr>\n",
       "    </tbody>\n",
       "        <tr>\n",
       "            <td>2022.1</td> <td>22                 </td>\n",
       "        </tr>\n",
       "    </tbody>\n",
       "        <tr>\n",
       "            <td>2022.2</td> <td>40                 </td>\n",
       "        </tr>\n",
       "    </tbody>\n",
       "        <tr>\n",
       "            <td>2022.3</td> <td>6                  </td>\n",
       "        </tr>\n",
       "    </tbody>\n",
       "</table>"
      ],
      "text/plain": [
       "Years  | Hispanic Enrollment\n",
       "2020   | 76\n",
       "2021.1 | 6\n",
       "2021.2 | 62\n",
       "2021.3 | 13\n",
       "2021.4 | 40\n",
       "2022.1 | 22\n",
       "2022.2 | 40\n",
       "2022.3 | 6"
      ]
     },
     "execution_count": 219,
     "metadata": {},
     "output_type": "execute_result"
    }
   ],
   "source": [
    "Hs = Table().with_columns(\"Years\", Full_Years, \"Hispanic Enrollment\", HS_E)\n",
    "Hs"
   ]
  },
  {
   "cell_type": "code",
   "execution_count": 220,
   "metadata": {},
   "outputs": [
    {
     "data": {
      "text/html": [
       "<table border=\"1\" class=\"dataframe\">\n",
       "    <thead>\n",
       "        <tr>\n",
       "            <th>Years</th> <th>White Enrollment</th>\n",
       "        </tr>\n",
       "    </thead>\n",
       "    <tbody>\n",
       "        <tr>\n",
       "            <td>2020  </td> <td>266             </td>\n",
       "        </tr>\n",
       "    </tbody>\n",
       "        <tr>\n",
       "            <td>2021.1</td> <td>30              </td>\n",
       "        </tr>\n",
       "    </tbody>\n",
       "        <tr>\n",
       "            <td>2021.2</td> <td>197             </td>\n",
       "        </tr>\n",
       "    </tbody>\n",
       "        <tr>\n",
       "            <td>2021.3</td> <td>25              </td>\n",
       "        </tr>\n",
       "    </tbody>\n",
       "        <tr>\n",
       "            <td>2021.4</td> <td>154             </td>\n",
       "        </tr>\n",
       "    </tbody>\n",
       "        <tr>\n",
       "            <td>2022.1</td> <td>35              </td>\n",
       "        </tr>\n",
       "    </tbody>\n",
       "        <tr>\n",
       "            <td>2022.2</td> <td>180             </td>\n",
       "        </tr>\n",
       "    </tbody>\n",
       "        <tr>\n",
       "            <td>2022.3</td> <td>18              </td>\n",
       "        </tr>\n",
       "    </tbody>\n",
       "</table>"
      ],
      "text/plain": [
       "Years  | White Enrollment\n",
       "2020   | 266\n",
       "2021.1 | 30\n",
       "2021.2 | 197\n",
       "2021.3 | 25\n",
       "2021.4 | 154\n",
       "2022.1 | 35\n",
       "2022.2 | 180\n",
       "2022.3 | 18"
      ]
     },
     "execution_count": 220,
     "metadata": {},
     "output_type": "execute_result"
    }
   ],
   "source": [
    "Wh = Table().with_columns(\"Years\", Full_Years, \"White Enrollment\", WH_E)\n",
    "Wh"
   ]
  },
  {
   "cell_type": "markdown",
   "metadata": {},
   "source": [
    "plot  scatter: x axis years, y axis num of races per semester "
   ]
  },
  {
   "cell_type": "code",
   "execution_count": 221,
   "metadata": {},
   "outputs": [
    {
     "data": {
      "image/png": "[encoded data removed]",
      "text/plain": [
       "<matplotlib.figure.Figure at 0x7f0be98e46d8>"
      ]
     },
     "metadata": {},
     "output_type": "display_data"
    }
   ],
   "source": [
    "AA.plot(\"Years\", \"African American Enrollment\")"
   ]
  },
  {
   "cell_type": "code",
   "execution_count": 222,
   "metadata": {},
   "outputs": [
    {
     "data": {
      "image/png": "[encoded data removed]",
      "text/plain": [
       "<matplotlib.figure.Figure at 0x7f0be98dab00>"
      ]
     },
     "metadata": {},
     "output_type": "display_data"
    }
   ],
   "source": [
    "As.plot(\"Years\", \"Asian Enrollment\")"
   ]
  },
  {
   "cell_type": "code",
   "execution_count": 223,
   "metadata": {},
   "outputs": [
    {
     "data": {
      "image/png": "[encoded data removed]",
      "text/plain": [
       "<matplotlib.figure.Figure at 0x7f0be97f2860>"
      ]
     },
     "metadata": {},
     "output_type": "display_data"
    }
   ],
   "source": [
    "Hs.plot (\"Years\", \"Hispanic Enrollment\")"
   ]
  },
  {
   "cell_type": "code",
   "execution_count": 224,
   "metadata": {},
   "outputs": [
    {
     "data": {
      "image/png": "[encoded data removed]",
      "text/plain": [
       "<matplotlib.figure.Figure at 0x7f0be97aee80>"
      ]
     },
     "metadata": {},
     "output_type": "display_data"
    }
   ],
   "source": [
    "Wh.plot(\"Years\", \"White Enrollment\")"
   ]
  }
 ],
 "metadata": {
  "kernelspec": {
   "display_name": "Python 3",
   "language": "python",
   "name": "python3"
  },
  "language_info": {
   "codemirror_mode": {
    "name": "ipython",
    "version": 3
   },
   "file_extension": ".py",
   "mimetype": "text/x-python",
   "name": "python",
   "nbconvert_exporter": "python",
   "pygments_lexer": "ipython3",
   "version": "3.6.5"
  }
 },
 "nbformat": 4,
 "nbformat_minor": 2
}
