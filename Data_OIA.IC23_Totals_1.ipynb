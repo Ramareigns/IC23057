{
 "cells": [
  {
   "cell_type": "code",
   "execution_count": 445,
   "metadata": {},
   "outputs": [],
   "source": [
    "from datascience import*"
   ]
  },
  {
   "cell_type": "code",
   "execution_count": 446,
   "metadata": {},
   "outputs": [],
   "source": [
    "import numpy as np"
   ]
  },
  {
   "cell_type": "code",
   "execution_count": 447,
   "metadata": {},
   "outputs": [],
   "source": [
    "%matplotlib inline\n",
    "import matplotlib.pyplot as plots\n",
    "plots.style.use('fivethirtyeight')"
   ]
  },
  {
   "cell_type": "markdown",
   "metadata": {},
   "source": [
    "1.How is the student diversity of Global Classrooms compared to UMD College Park student diversity?\n",
    "\n",
    "2.How does the student diversity (understood as race, ethnicity, gender, college, residency) vary by semester? By academic year? \n",
    "\n",
    "3.Do these trends vary by student status (undergraduate/graduate)?\n",
    "\n",
    "4.How does the number of courses vary by semester? By academic year? \n",
    "\n"
   ]
  },
  {
   "cell_type": "markdown",
   "metadata": {},
   "source": [
    "\n",
    "Find trends in UMD and Global Classroom data based on:\n",
    "Race/Ethnicity\n",
    "Ethnicity\n",
    "Gender\n",
    "College\n",
    "Residency\n"
   ]
  },
  {
   "cell_type": "markdown",
   "metadata": {},
   "source": [
    "methods otuline: \n",
    "\n",
    "import Data_OIA csv file and read table/ sort out total number of students enrolled per year (2020,2021,2022)\n",
    "total rows to calculate how many enrolled/ sort by race, gender, college, etc./ take totals and organize into an array to output a table / plot visulization for new table to graph results"
   ]
  },
  {
   "cell_type": "code",
   "execution_count": 448,
   "metadata": {},
   "outputs": [
    {
     "data": {
      "text/html": [
       "<table border=\"1\" class=\"dataframe\">\n",
       "    <thead>\n",
       "        <tr>\n",
       "            <th>Year</th> <th>Term</th> <th>Course</th> <th>Section</th> <th>Cross listing 1</th> <th>Cross listing 2</th> <th>Cross listing 3</th> <th>Gender</th> <th>Age</th> <th>Student Status</th> <th>Major </th> <th>College </th> <th>Race</th> <th>Ethnicity</th> <th>Citizenship</th> <th>Residency</th> <th>Column17</th> <th>Column18</th> <th>Column19</th> <th>Column20</th> <th>Column21</th> <th>Column22</th> <th>Column23</th> <th>Column24</th> <th>Column25</th> <th>Column26</th>\n",
       "        </tr>\n",
       "    </thead>\n",
       "    <tbody>\n",
       "        <tr>\n",
       "            <td>2020</td> <td>Fall</td> <td>ANSC101</td> <td>0101   </td> <td>nan            </td> <td>nan            </td> <td>nan            </td> <td>Female</td> <td>nan </td> <td>Undergraduate </td> <td>ANIMAL SCI  </td> <td>AGNR    </td> <td>Asian                    </td> <td>Hispanic No</td> <td>nan        </td> <td>nan      </td> <td>nan     </td> <td>nan     </td> <td>nan     </td> <td>nan     </td> <td>nan     </td> <td>nan     </td> <td>nan     </td> <td>nan     </td> <td>nan     </td> <td>nan     </td>\n",
       "        </tr>\n",
       "    </tbody>\n",
       "        <tr>\n",
       "            <td>2020</td> <td>Fall</td> <td>ANSC101</td> <td>0101   </td> <td>nan            </td> <td>nan            </td> <td>nan            </td> <td>Female</td> <td>nan </td> <td>Undergraduate </td> <td>ANIMAL SCI  </td> <td>AGNR    </td> <td>Asian                    </td> <td>Hispanic No</td> <td>nan        </td> <td>nan      </td> <td>nan     </td> <td>nan     </td> <td>nan     </td> <td>nan     </td> <td>nan     </td> <td>nan     </td> <td>nan     </td> <td>nan     </td> <td>nan     </td> <td>nan     </td>\n",
       "        </tr>\n",
       "    </tbody>\n",
       "        <tr>\n",
       "            <td>2020</td> <td>Fall</td> <td>ANSC101</td> <td>0101   </td> <td>nan            </td> <td>nan            </td> <td>nan            </td> <td>Female</td> <td>nan </td> <td>Undergraduate </td> <td>ANIMAL SCI  </td> <td>AGNR    </td> <td>Asian                    </td> <td>Hispanic No</td> <td>nan        </td> <td>nan      </td> <td>nan     </td> <td>nan     </td> <td>nan     </td> <td>nan     </td> <td>nan     </td> <td>nan     </td> <td>nan     </td> <td>nan     </td> <td>nan     </td> <td>nan     </td>\n",
       "        </tr>\n",
       "    </tbody>\n",
       "        <tr>\n",
       "            <td>2020</td> <td>Fall</td> <td>ANSC101</td> <td>0101   </td> <td>nan            </td> <td>nan            </td> <td>nan            </td> <td>Female</td> <td>nan </td> <td>Undergraduate </td> <td>ANIMAL SCI  </td> <td>AGNR    </td> <td>Asian                    </td> <td>Hispanic No</td> <td>nan        </td> <td>nan      </td> <td>nan     </td> <td>nan     </td> <td>nan     </td> <td>nan     </td> <td>nan     </td> <td>nan     </td> <td>nan     </td> <td>nan     </td> <td>nan     </td> <td>nan     </td>\n",
       "        </tr>\n",
       "    </tbody>\n",
       "        <tr>\n",
       "            <td>2020</td> <td>Fall</td> <td>ANSC101</td> <td>0101   </td> <td>nan            </td> <td>nan            </td> <td>nan            </td> <td>Female</td> <td>nan </td> <td>Undergraduate </td> <td>ANIMAL SCI  </td> <td>AGNR    </td> <td>Asian                    </td> <td>Hispanic No</td> <td>nan        </td> <td>nan      </td> <td>nan     </td> <td>nan     </td> <td>nan     </td> <td>nan     </td> <td>nan     </td> <td>nan     </td> <td>nan     </td> <td>nan     </td> <td>nan     </td> <td>nan     </td>\n",
       "        </tr>\n",
       "    </tbody>\n",
       "        <tr>\n",
       "            <td>2020</td> <td>Fall</td> <td>ANSC101</td> <td>0101   </td> <td>nan            </td> <td>nan            </td> <td>nan            </td> <td>Male  </td> <td>nan </td> <td>Undergraduate </td> <td>AGST ENVHORT</td> <td>AGNR    </td> <td>Asian                    </td> <td>Hispanic No</td> <td>nan        </td> <td>nan      </td> <td>nan     </td> <td>nan     </td> <td>nan     </td> <td>nan     </td> <td>nan     </td> <td>nan     </td> <td>nan     </td> <td>nan     </td> <td>nan     </td> <td>nan     </td>\n",
       "        </tr>\n",
       "    </tbody>\n",
       "        <tr>\n",
       "            <td>2020</td> <td>Fall</td> <td>ANSC101</td> <td>0101   </td> <td>nan            </td> <td>nan            </td> <td>nan            </td> <td>Male  </td> <td>nan </td> <td>Undergraduate </td> <td>ANIMAL SCI  </td> <td>AGNR    </td> <td>Asian                    </td> <td>Hispanic No</td> <td>nan        </td> <td>nan      </td> <td>nan     </td> <td>nan     </td> <td>nan     </td> <td>nan     </td> <td>nan     </td> <td>nan     </td> <td>nan     </td> <td>nan     </td> <td>nan     </td> <td>nan     </td>\n",
       "        </tr>\n",
       "    </tbody>\n",
       "        <tr>\n",
       "            <td>2020</td> <td>Fall</td> <td>ANSC101</td> <td>0101   </td> <td>nan            </td> <td>nan            </td> <td>nan            </td> <td>Male  </td> <td>nan </td> <td>Undergraduate </td> <td>ANIMAL SCI  </td> <td>AGNR    </td> <td>Asian                    </td> <td>Hispanic No</td> <td>nan        </td> <td>nan      </td> <td>nan     </td> <td>nan     </td> <td>nan     </td> <td>nan     </td> <td>nan     </td> <td>nan     </td> <td>nan     </td> <td>nan     </td> <td>nan     </td> <td>nan     </td>\n",
       "        </tr>\n",
       "    </tbody>\n",
       "        <tr>\n",
       "            <td>2020</td> <td>Fall</td> <td>ANSC101</td> <td>0101   </td> <td>nan            </td> <td>nan            </td> <td>nan            </td> <td>Female</td> <td>nan </td> <td>Undergraduate </td> <td>ANIMAL SCI  </td> <td>AGNR    </td> <td>Black or African American</td> <td>Hispanic No</td> <td>nan        </td> <td>nan      </td> <td>nan     </td> <td>nan     </td> <td>nan     </td> <td>nan     </td> <td>nan     </td> <td>nan     </td> <td>nan     </td> <td>nan     </td> <td>nan     </td> <td>nan     </td>\n",
       "        </tr>\n",
       "    </tbody>\n",
       "        <tr>\n",
       "            <td>2020</td> <td>Fall</td> <td>ANSC101</td> <td>0101   </td> <td>nan            </td> <td>nan            </td> <td>nan            </td> <td>Female</td> <td>nan </td> <td>Undergraduate </td> <td>PLSC BIOL   </td> <td>AGNR    </td> <td>Black or African American</td> <td>Hispanic No</td> <td>nan        </td> <td>nan      </td> <td>nan     </td> <td>nan     </td> <td>nan     </td> <td>nan     </td> <td>nan     </td> <td>nan     </td> <td>nan     </td> <td>nan     </td> <td>nan     </td> <td>nan     </td>\n",
       "        </tr>\n",
       "    </tbody>\n",
       "</table>\n",
       "<p>... (1857 rows omitted)</p>"
      ],
      "text/plain": [
       "Year | Term | Course  | Section | Cross listing 1 | Cross listing 2 | Cross listing 3 | Gender | Age  | Student Status | Major        | College  | Race                      | Ethnicity   | Citizenship | Residency | Column17 | Column18 | Column19 | Column20 | Column21 | Column22 | Column23 | Column24 | Column25 | Column26\n",
       "2020 | Fall | ANSC101 | 0101    | nan             | nan             | nan             | Female | nan  | Undergraduate  | ANIMAL SCI   | AGNR     | Asian                     | Hispanic No | nan         | nan       | nan      | nan      | nan      | nan      | nan      | nan      | nan      | nan      | nan      | nan\n",
       "2020 | Fall | ANSC101 | 0101    | nan             | nan             | nan             | Female | nan  | Undergraduate  | ANIMAL SCI   | AGNR     | Asian                     | Hispanic No | nan         | nan       | nan      | nan      | nan      | nan      | nan      | nan      | nan      | nan      | nan      | nan\n",
       "2020 | Fall | ANSC101 | 0101    | nan             | nan             | nan             | Female | nan  | Undergraduate  | ANIMAL SCI   | AGNR     | Asian                     | Hispanic No | nan         | nan       | nan      | nan      | nan      | nan      | nan      | nan      | nan      | nan      | nan      | nan\n",
       "2020 | Fall | ANSC101 | 0101    | nan             | nan             | nan             | Female | nan  | Undergraduate  | ANIMAL SCI   | AGNR     | Asian                     | Hispanic No | nan         | nan       | nan      | nan      | nan      | nan      | nan      | nan      | nan      | nan      | nan      | nan\n",
       "2020 | Fall | ANSC101 | 0101    | nan             | nan             | nan             | Female | nan  | Undergraduate  | ANIMAL SCI   | AGNR     | Asian                     | Hispanic No | nan         | nan       | nan      | nan      | nan      | nan      | nan      | nan      | nan      | nan      | nan      | nan\n",
       "2020 | Fall | ANSC101 | 0101    | nan             | nan             | nan             | Male   | nan  | Undergraduate  | AGST ENVHORT | AGNR     | Asian                     | Hispanic No | nan         | nan       | nan      | nan      | nan      | nan      | nan      | nan      | nan      | nan      | nan      | nan\n",
       "2020 | Fall | ANSC101 | 0101    | nan             | nan             | nan             | Male   | nan  | Undergraduate  | ANIMAL SCI   | AGNR     | Asian                     | Hispanic No | nan         | nan       | nan      | nan      | nan      | nan      | nan      | nan      | nan      | nan      | nan      | nan\n",
       "2020 | Fall | ANSC101 | 0101    | nan             | nan             | nan             | Male   | nan  | Undergraduate  | ANIMAL SCI   | AGNR     | Asian                     | Hispanic No | nan         | nan       | nan      | nan      | nan      | nan      | nan      | nan      | nan      | nan      | nan      | nan\n",
       "2020 | Fall | ANSC101 | 0101    | nan             | nan             | nan             | Female | nan  | Undergraduate  | ANIMAL SCI   | AGNR     | Black or African American | Hispanic No | nan         | nan       | nan      | nan      | nan      | nan      | nan      | nan      | nan      | nan      | nan      | nan\n",
       "2020 | Fall | ANSC101 | 0101    | nan             | nan             | nan             | Female | nan  | Undergraduate  | PLSC BIOL    | AGNR     | Black or African American | Hispanic No | nan         | nan       | nan      | nan      | nan      | nan      | nan      | nan      | nan      | nan      | nan      | nan\n",
       "... (1857 rows omitted)"
      ]
     },
     "execution_count": 448,
     "metadata": {},
     "output_type": "execute_result"
    }
   ],
   "source": [
    "tbl_1 = Table.read_table('../data/Data_OIA.csv')\n",
    "tbl_1"
   ]
  },
  {
   "cell_type": "markdown",
   "metadata": {},
   "source": [
    "Total Number of Students 2020"
   ]
  },
  {
   "cell_type": "code",
   "execution_count": 449,
   "metadata": {},
   "outputs": [
    {
     "data": {
      "text/html": [
       "<table border=\"1\" class=\"dataframe\">\n",
       "    <thead>\n",
       "        <tr>\n",
       "            <th>Year</th> <th>Term</th> <th>Course</th> <th>Section</th> <th>Cross listing 1</th> <th>Cross listing 2</th> <th>Cross listing 3</th> <th>Gender</th> <th>Age</th> <th>Student Status</th> <th>Major </th> <th>College </th> <th>Race</th> <th>Ethnicity</th> <th>Citizenship</th> <th>Residency</th> <th>Column17</th> <th>Column18</th> <th>Column19</th> <th>Column20</th> <th>Column21</th> <th>Column22</th> <th>Column23</th> <th>Column24</th> <th>Column25</th> <th>Column26</th>\n",
       "        </tr>\n",
       "    </thead>\n",
       "    <tbody>\n",
       "        <tr>\n",
       "            <td>2020</td> <td>Fall</td> <td>ANSC101</td> <td>0101   </td> <td>nan            </td> <td>nan            </td> <td>nan            </td> <td>Female</td> <td>nan </td> <td>Undergraduate </td> <td>ANIMAL SCI  </td> <td>AGNR    </td> <td>Asian                    </td> <td>Hispanic No</td> <td>nan        </td> <td>nan      </td> <td>nan     </td> <td>nan     </td> <td>nan     </td> <td>nan     </td> <td>nan     </td> <td>nan     </td> <td>nan     </td> <td>nan     </td> <td>nan     </td> <td>nan     </td>\n",
       "        </tr>\n",
       "    </tbody>\n",
       "        <tr>\n",
       "            <td>2020</td> <td>Fall</td> <td>ANSC101</td> <td>0101   </td> <td>nan            </td> <td>nan            </td> <td>nan            </td> <td>Female</td> <td>nan </td> <td>Undergraduate </td> <td>ANIMAL SCI  </td> <td>AGNR    </td> <td>Asian                    </td> <td>Hispanic No</td> <td>nan        </td> <td>nan      </td> <td>nan     </td> <td>nan     </td> <td>nan     </td> <td>nan     </td> <td>nan     </td> <td>nan     </td> <td>nan     </td> <td>nan     </td> <td>nan     </td> <td>nan     </td>\n",
       "        </tr>\n",
       "    </tbody>\n",
       "        <tr>\n",
       "            <td>2020</td> <td>Fall</td> <td>ANSC101</td> <td>0101   </td> <td>nan            </td> <td>nan            </td> <td>nan            </td> <td>Female</td> <td>nan </td> <td>Undergraduate </td> <td>ANIMAL SCI  </td> <td>AGNR    </td> <td>Asian                    </td> <td>Hispanic No</td> <td>nan        </td> <td>nan      </td> <td>nan     </td> <td>nan     </td> <td>nan     </td> <td>nan     </td> <td>nan     </td> <td>nan     </td> <td>nan     </td> <td>nan     </td> <td>nan     </td> <td>nan     </td>\n",
       "        </tr>\n",
       "    </tbody>\n",
       "        <tr>\n",
       "            <td>2020</td> <td>Fall</td> <td>ANSC101</td> <td>0101   </td> <td>nan            </td> <td>nan            </td> <td>nan            </td> <td>Female</td> <td>nan </td> <td>Undergraduate </td> <td>ANIMAL SCI  </td> <td>AGNR    </td> <td>Asian                    </td> <td>Hispanic No</td> <td>nan        </td> <td>nan      </td> <td>nan     </td> <td>nan     </td> <td>nan     </td> <td>nan     </td> <td>nan     </td> <td>nan     </td> <td>nan     </td> <td>nan     </td> <td>nan     </td> <td>nan     </td>\n",
       "        </tr>\n",
       "    </tbody>\n",
       "        <tr>\n",
       "            <td>2020</td> <td>Fall</td> <td>ANSC101</td> <td>0101   </td> <td>nan            </td> <td>nan            </td> <td>nan            </td> <td>Female</td> <td>nan </td> <td>Undergraduate </td> <td>ANIMAL SCI  </td> <td>AGNR    </td> <td>Asian                    </td> <td>Hispanic No</td> <td>nan        </td> <td>nan      </td> <td>nan     </td> <td>nan     </td> <td>nan     </td> <td>nan     </td> <td>nan     </td> <td>nan     </td> <td>nan     </td> <td>nan     </td> <td>nan     </td> <td>nan     </td>\n",
       "        </tr>\n",
       "    </tbody>\n",
       "        <tr>\n",
       "            <td>2020</td> <td>Fall</td> <td>ANSC101</td> <td>0101   </td> <td>nan            </td> <td>nan            </td> <td>nan            </td> <td>Female</td> <td>nan </td> <td>Undergraduate </td> <td>ANIMAL SCI  </td> <td>AGNR    </td> <td>Black or African American</td> <td>Hispanic No</td> <td>nan        </td> <td>nan      </td> <td>nan     </td> <td>nan     </td> <td>nan     </td> <td>nan     </td> <td>nan     </td> <td>nan     </td> <td>nan     </td> <td>nan     </td> <td>nan     </td> <td>nan     </td>\n",
       "        </tr>\n",
       "    </tbody>\n",
       "        <tr>\n",
       "            <td>2020</td> <td>Fall</td> <td>ANSC101</td> <td>0101   </td> <td>nan            </td> <td>nan            </td> <td>nan            </td> <td>Female</td> <td>nan </td> <td>Undergraduate </td> <td>PLSC BIOL   </td> <td>AGNR    </td> <td>Black or African American</td> <td>Hispanic No</td> <td>nan        </td> <td>nan      </td> <td>nan     </td> <td>nan     </td> <td>nan     </td> <td>nan     </td> <td>nan     </td> <td>nan     </td> <td>nan     </td> <td>nan     </td> <td>nan     </td> <td>nan     </td>\n",
       "        </tr>\n",
       "    </tbody>\n",
       "        <tr>\n",
       "            <td>2020</td> <td>Fall</td> <td>ANSC101</td> <td>0101   </td> <td>nan            </td> <td>nan            </td> <td>nan            </td> <td>Female</td> <td>nan </td> <td>Undergraduate </td> <td>COM-AGRI-VET</td> <td>AGNR    </td> <td>Black or African American</td> <td>Hispanic No</td> <td>nan        </td> <td>nan      </td> <td>nan     </td> <td>nan     </td> <td>nan     </td> <td>nan     </td> <td>nan     </td> <td>nan     </td> <td>nan     </td> <td>nan     </td> <td>nan     </td> <td>nan     </td>\n",
       "        </tr>\n",
       "    </tbody>\n",
       "        <tr>\n",
       "            <td>2020</td> <td>Fall</td> <td>ANSC101</td> <td>0101   </td> <td>nan            </td> <td>nan            </td> <td>nan            </td> <td>Female</td> <td>nan </td> <td>Undergraduate </td> <td>ANIMAL SCI  </td> <td>AGNR    </td> <td>Black or African American</td> <td>Hispanic No</td> <td>nan        </td> <td>nan      </td> <td>nan     </td> <td>nan     </td> <td>nan     </td> <td>nan     </td> <td>nan     </td> <td>nan     </td> <td>nan     </td> <td>nan     </td> <td>nan     </td> <td>nan     </td>\n",
       "        </tr>\n",
       "    </tbody>\n",
       "        <tr>\n",
       "            <td>2020</td> <td>Fall</td> <td>ANSC101</td> <td>0101   </td> <td>nan            </td> <td>nan            </td> <td>nan            </td> <td>Female</td> <td>nan </td> <td>Undergraduate </td> <td>ANIMAL SCI  </td> <td>AGNR    </td> <td>Black or African American</td> <td>Hispanic No</td> <td>nan        </td> <td>nan      </td> <td>nan     </td> <td>nan     </td> <td>nan     </td> <td>nan     </td> <td>nan     </td> <td>nan     </td> <td>nan     </td> <td>nan     </td> <td>nan     </td> <td>nan     </td>\n",
       "        </tr>\n",
       "    </tbody>\n",
       "</table>\n",
       "<p>... (464 rows omitted)</p>"
      ],
      "text/plain": [
       "Year | Term | Course  | Section | Cross listing 1 | Cross listing 2 | Cross listing 3 | Gender | Age  | Student Status | Major        | College  | Race                      | Ethnicity   | Citizenship | Residency | Column17 | Column18 | Column19 | Column20 | Column21 | Column22 | Column23 | Column24 | Column25 | Column26\n",
       "2020 | Fall | ANSC101 | 0101    | nan             | nan             | nan             | Female | nan  | Undergraduate  | ANIMAL SCI   | AGNR     | Asian                     | Hispanic No | nan         | nan       | nan      | nan      | nan      | nan      | nan      | nan      | nan      | nan      | nan      | nan\n",
       "2020 | Fall | ANSC101 | 0101    | nan             | nan             | nan             | Female | nan  | Undergraduate  | ANIMAL SCI   | AGNR     | Asian                     | Hispanic No | nan         | nan       | nan      | nan      | nan      | nan      | nan      | nan      | nan      | nan      | nan      | nan\n",
       "2020 | Fall | ANSC101 | 0101    | nan             | nan             | nan             | Female | nan  | Undergraduate  | ANIMAL SCI   | AGNR     | Asian                     | Hispanic No | nan         | nan       | nan      | nan      | nan      | nan      | nan      | nan      | nan      | nan      | nan      | nan\n",
       "2020 | Fall | ANSC101 | 0101    | nan             | nan             | nan             | Female | nan  | Undergraduate  | ANIMAL SCI   | AGNR     | Asian                     | Hispanic No | nan         | nan       | nan      | nan      | nan      | nan      | nan      | nan      | nan      | nan      | nan      | nan\n",
       "2020 | Fall | ANSC101 | 0101    | nan             | nan             | nan             | Female | nan  | Undergraduate  | ANIMAL SCI   | AGNR     | Asian                     | Hispanic No | nan         | nan       | nan      | nan      | nan      | nan      | nan      | nan      | nan      | nan      | nan      | nan\n",
       "2020 | Fall | ANSC101 | 0101    | nan             | nan             | nan             | Female | nan  | Undergraduate  | ANIMAL SCI   | AGNR     | Black or African American | Hispanic No | nan         | nan       | nan      | nan      | nan      | nan      | nan      | nan      | nan      | nan      | nan      | nan\n",
       "2020 | Fall | ANSC101 | 0101    | nan             | nan             | nan             | Female | nan  | Undergraduate  | PLSC BIOL    | AGNR     | Black or African American | Hispanic No | nan         | nan       | nan      | nan      | nan      | nan      | nan      | nan      | nan      | nan      | nan      | nan\n",
       "2020 | Fall | ANSC101 | 0101    | nan             | nan             | nan             | Female | nan  | Undergraduate  | COM-AGRI-VET | AGNR     | Black or African American | Hispanic No | nan         | nan       | nan      | nan      | nan      | nan      | nan      | nan      | nan      | nan      | nan      | nan\n",
       "2020 | Fall | ANSC101 | 0101    | nan             | nan             | nan             | Female | nan  | Undergraduate  | ANIMAL SCI   | AGNR     | Black or African American | Hispanic No | nan         | nan       | nan      | nan      | nan      | nan      | nan      | nan      | nan      | nan      | nan      | nan\n",
       "2020 | Fall | ANSC101 | 0101    | nan             | nan             | nan             | Female | nan  | Undergraduate  | ANIMAL SCI   | AGNR     | Black or African American | Hispanic No | nan         | nan       | nan      | nan      | nan      | nan      | nan      | nan      | nan      | nan      | nan      | nan\n",
       "... (464 rows omitted)"
      ]
     },
     "execution_count": 449,
     "metadata": {},
     "output_type": "execute_result"
    }
   ],
   "source": [
    "Twenty_Twenty_Fall_Female = Twenty_Twenty_Fall.where('Gender', are.equal_to('Female'))\n",
    "Twenty_Twenty_Fall_Female"
   ]
  },
  {
   "cell_type": "code",
   "execution_count": 450,
   "metadata": {},
   "outputs": [
    {
     "data": {
      "text/html": [
       "<table border=\"1\" class=\"dataframe\">\n",
       "    <thead>\n",
       "        <tr>\n",
       "            <th>Year</th> <th>Term</th> <th>Course</th> <th>Section</th> <th>Cross listing 1</th> <th>Cross listing 2</th> <th>Cross listing 3</th> <th>Gender</th> <th>Age</th> <th>Student Status</th> <th>Major </th> <th>College </th> <th>Race</th> <th>Ethnicity</th> <th>Citizenship</th> <th>Residency</th> <th>Column17</th> <th>Column18</th> <th>Column19</th> <th>Column20</th> <th>Column21</th> <th>Column22</th> <th>Column23</th> <th>Column24</th> <th>Column25</th> <th>Column26</th>\n",
       "        </tr>\n",
       "    </thead>\n",
       "    <tbody>\n",
       "        <tr>\n",
       "            <td>2020</td> <td>Fall</td> <td>ANSC101</td> <td>0101   </td> <td>nan            </td> <td>nan            </td> <td>nan            </td> <td>Male  </td> <td>nan </td> <td>Undergraduate </td> <td>AGST ENVHORT</td> <td>AGNR    </td> <td>Asian                    </td> <td>Hispanic No     </td> <td>nan        </td> <td>nan      </td> <td>nan     </td> <td>nan     </td> <td>nan     </td> <td>nan     </td> <td>nan     </td> <td>nan     </td> <td>nan     </td> <td>nan     </td> <td>nan     </td> <td>nan     </td>\n",
       "        </tr>\n",
       "    </tbody>\n",
       "        <tr>\n",
       "            <td>2020</td> <td>Fall</td> <td>ANSC101</td> <td>0101   </td> <td>nan            </td> <td>nan            </td> <td>nan            </td> <td>Male  </td> <td>nan </td> <td>Undergraduate </td> <td>ANIMAL SCI  </td> <td>AGNR    </td> <td>Asian                    </td> <td>Hispanic No     </td> <td>nan        </td> <td>nan      </td> <td>nan     </td> <td>nan     </td> <td>nan     </td> <td>nan     </td> <td>nan     </td> <td>nan     </td> <td>nan     </td> <td>nan     </td> <td>nan     </td> <td>nan     </td>\n",
       "        </tr>\n",
       "    </tbody>\n",
       "        <tr>\n",
       "            <td>2020</td> <td>Fall</td> <td>ANSC101</td> <td>0101   </td> <td>nan            </td> <td>nan            </td> <td>nan            </td> <td>Male  </td> <td>nan </td> <td>Undergraduate </td> <td>ANIMAL SCI  </td> <td>AGNR    </td> <td>Asian                    </td> <td>Hispanic No     </td> <td>nan        </td> <td>nan      </td> <td>nan     </td> <td>nan     </td> <td>nan     </td> <td>nan     </td> <td>nan     </td> <td>nan     </td> <td>nan     </td> <td>nan     </td> <td>nan     </td> <td>nan     </td>\n",
       "        </tr>\n",
       "    </tbody>\n",
       "        <tr>\n",
       "            <td>2020</td> <td>Fall</td> <td>ANSC101</td> <td>0101   </td> <td>nan            </td> <td>nan            </td> <td>nan            </td> <td>Male  </td> <td>nan </td> <td>Undergraduate </td> <td>AGST AGRO   </td> <td>AGNR    </td> <td>Black or African American</td> <td>Hispanic No     </td> <td>nan        </td> <td>nan      </td> <td>nan     </td> <td>nan     </td> <td>nan     </td> <td>nan     </td> <td>nan     </td> <td>nan     </td> <td>nan     </td> <td>nan     </td> <td>nan     </td> <td>nan     </td>\n",
       "        </tr>\n",
       "    </tbody>\n",
       "        <tr>\n",
       "            <td>2020</td> <td>Fall</td> <td>ANSC101</td> <td>0101   </td> <td>nan            </td> <td>nan            </td> <td>nan            </td> <td>Male  </td> <td>nan </td> <td>Undergraduate </td> <td>ANIMAL SCI  </td> <td>AGNR    </td> <td>Black or African American</td> <td>Hispanic No     </td> <td>nan        </td> <td>nan      </td> <td>nan     </td> <td>nan     </td> <td>nan     </td> <td>nan     </td> <td>nan     </td> <td>nan     </td> <td>nan     </td> <td>nan     </td> <td>nan     </td> <td>nan     </td>\n",
       "        </tr>\n",
       "    </tbody>\n",
       "        <tr>\n",
       "            <td>2020</td> <td>Fall</td> <td>ANSC101</td> <td>0101   </td> <td>nan            </td> <td>nan            </td> <td>nan            </td> <td>Male  </td> <td>nan </td> <td>Undergraduate </td> <td>ANIMAL SCI  </td> <td>AGNR    </td> <td>Hispanic                 </td> <td>Hispanic Yes    </td> <td>nan        </td> <td>nan      </td> <td>nan     </td> <td>nan     </td> <td>nan     </td> <td>nan     </td> <td>nan     </td> <td>nan     </td> <td>nan     </td> <td>nan     </td> <td>nan     </td> <td>nan     </td>\n",
       "        </tr>\n",
       "    </tbody>\n",
       "        <tr>\n",
       "            <td>2020</td> <td>Fall</td> <td>ANSC101</td> <td>0101   </td> <td>nan            </td> <td>nan            </td> <td>nan            </td> <td>Male  </td> <td>nan </td> <td>Undergraduate </td> <td>AGST ENVHORT</td> <td>AGNR    </td> <td>Hispanic                 </td> <td>Hispanic Yes    </td> <td>nan        </td> <td>nan      </td> <td>nan     </td> <td>nan     </td> <td>nan     </td> <td>nan     </td> <td>nan     </td> <td>nan     </td> <td>nan     </td> <td>nan     </td> <td>nan     </td> <td>nan     </td>\n",
       "        </tr>\n",
       "    </tbody>\n",
       "        <tr>\n",
       "            <td>2020</td> <td>Fall</td> <td>ANSC101</td> <td>0101   </td> <td>nan            </td> <td>nan            </td> <td>nan            </td> <td>Male  </td> <td>nan </td> <td>Undergraduate </td> <td>AGST ENVHORT</td> <td>AGNR    </td> <td>Hispanic                 </td> <td>Hispanic Yes    </td> <td>nan        </td> <td>nan      </td> <td>nan     </td> <td>nan     </td> <td>nan     </td> <td>nan     </td> <td>nan     </td> <td>nan     </td> <td>nan     </td> <td>nan     </td> <td>nan     </td> <td>nan     </td>\n",
       "        </tr>\n",
       "    </tbody>\n",
       "        <tr>\n",
       "            <td>2020</td> <td>Fall</td> <td>ANSC101</td> <td>0101   </td> <td>nan            </td> <td>nan            </td> <td>nan            </td> <td>Male  </td> <td>nan </td> <td>Undergraduate </td> <td>SUSTAIN AG  </td> <td>AGNR    </td> <td>Hispanic                 </td> <td>Hispanic Yes    </td> <td>nan        </td> <td>nan      </td> <td>nan     </td> <td>nan     </td> <td>nan     </td> <td>nan     </td> <td>nan     </td> <td>nan     </td> <td>nan     </td> <td>nan     </td> <td>nan     </td> <td>nan     </td>\n",
       "        </tr>\n",
       "    </tbody>\n",
       "        <tr>\n",
       "            <td>2020</td> <td>Fall</td> <td>ANSC101</td> <td>0101   </td> <td>nan            </td> <td>nan            </td> <td>nan            </td> <td>Male  </td> <td>nan </td> <td>Undergraduate </td> <td>ENV S&P-EAGR</td> <td>AGNR    </td> <td>Unknown                  </td> <td>Hispanic Unknown</td> <td>nan        </td> <td>nan      </td> <td>nan     </td> <td>nan     </td> <td>nan     </td> <td>nan     </td> <td>nan     </td> <td>nan     </td> <td>nan     </td> <td>nan     </td> <td>nan     </td> <td>nan     </td>\n",
       "        </tr>\n",
       "    </tbody>\n",
       "</table>\n",
       "<p>... (338 rows omitted)</p>"
      ],
      "text/plain": [
       "Year | Term | Course  | Section | Cross listing 1 | Cross listing 2 | Cross listing 3 | Gender | Age  | Student Status | Major        | College  | Race                      | Ethnicity        | Citizenship | Residency | Column17 | Column18 | Column19 | Column20 | Column21 | Column22 | Column23 | Column24 | Column25 | Column26\n",
       "2020 | Fall | ANSC101 | 0101    | nan             | nan             | nan             | Male   | nan  | Undergraduate  | AGST ENVHORT | AGNR     | Asian                     | Hispanic No      | nan         | nan       | nan      | nan      | nan      | nan      | nan      | nan      | nan      | nan      | nan      | nan\n",
       "2020 | Fall | ANSC101 | 0101    | nan             | nan             | nan             | Male   | nan  | Undergraduate  | ANIMAL SCI   | AGNR     | Asian                     | Hispanic No      | nan         | nan       | nan      | nan      | nan      | nan      | nan      | nan      | nan      | nan      | nan      | nan\n",
       "2020 | Fall | ANSC101 | 0101    | nan             | nan             | nan             | Male   | nan  | Undergraduate  | ANIMAL SCI   | AGNR     | Asian                     | Hispanic No      | nan         | nan       | nan      | nan      | nan      | nan      | nan      | nan      | nan      | nan      | nan      | nan\n",
       "2020 | Fall | ANSC101 | 0101    | nan             | nan             | nan             | Male   | nan  | Undergraduate  | AGST AGRO    | AGNR     | Black or African American | Hispanic No      | nan         | nan       | nan      | nan      | nan      | nan      | nan      | nan      | nan      | nan      | nan      | nan\n",
       "2020 | Fall | ANSC101 | 0101    | nan             | nan             | nan             | Male   | nan  | Undergraduate  | ANIMAL SCI   | AGNR     | Black or African American | Hispanic No      | nan         | nan       | nan      | nan      | nan      | nan      | nan      | nan      | nan      | nan      | nan      | nan\n",
       "2020 | Fall | ANSC101 | 0101    | nan             | nan             | nan             | Male   | nan  | Undergraduate  | ANIMAL SCI   | AGNR     | Hispanic                  | Hispanic Yes     | nan         | nan       | nan      | nan      | nan      | nan      | nan      | nan      | nan      | nan      | nan      | nan\n",
       "2020 | Fall | ANSC101 | 0101    | nan             | nan             | nan             | Male   | nan  | Undergraduate  | AGST ENVHORT | AGNR     | Hispanic                  | Hispanic Yes     | nan         | nan       | nan      | nan      | nan      | nan      | nan      | nan      | nan      | nan      | nan      | nan\n",
       "2020 | Fall | ANSC101 | 0101    | nan             | nan             | nan             | Male   | nan  | Undergraduate  | AGST ENVHORT | AGNR     | Hispanic                  | Hispanic Yes     | nan         | nan       | nan      | nan      | nan      | nan      | nan      | nan      | nan      | nan      | nan      | nan\n",
       "2020 | Fall | ANSC101 | 0101    | nan             | nan             | nan             | Male   | nan  | Undergraduate  | SUSTAIN AG   | AGNR     | Hispanic                  | Hispanic Yes     | nan         | nan       | nan      | nan      | nan      | nan      | nan      | nan      | nan      | nan      | nan      | nan\n",
       "2020 | Fall | ANSC101 | 0101    | nan             | nan             | nan             | Male   | nan  | Undergraduate  | ENV S&P-EAGR | AGNR     | Unknown                   | Hispanic Unknown | nan         | nan       | nan      | nan      | nan      | nan      | nan      | nan      | nan      | nan      | nan      | nan\n",
       "... (338 rows omitted)"
      ]
     },
     "execution_count": 450,
     "metadata": {},
     "output_type": "execute_result"
    }
   ],
   "source": [
    "Twenty_Twenty_Fall_Male = Twenty_Twenty_Fall.where('Gender', are.equal_to('Male'))\n",
    "Twenty_Twenty_Fall_Male"
   ]
  },
  {
   "cell_type": "code",
   "execution_count": 451,
   "metadata": {},
   "outputs": [
    {
     "name": "stdout",
     "output_type": "stream",
     "text": [
      "474\n",
      "348\n",
      "822\n"
     ]
    }
   ],
   "source": [
    "Twenty_Twenty_Fall_Female_Total = Twenty_Twenty_Fall_Female.num_rows\n",
    "Twenty_Twenty_Fall_Male_Total= Twenty_Twenty_Fall_Male.num_rows\n",
    "Total_Enrollment_Fall_Twenty = Twenty_Twenty_Fall_Female_Total + Twenty_Twenty_Fall_Male_Total\n",
    "print(Twenty_Twenty_Fall_Female_Total)\n",
    "print(Twenty_Twenty_Fall_Male_Total)\n",
    "print(Total_Enrollment_Fall_Twenty)"
   ]
  },
  {
   "cell_type": "markdown",
   "metadata": {},
   "source": [
    "474 females enrolled, 348 males enrolled, 822 total students enrolled (F20)"
   ]
  },
  {
   "cell_type": "code",
   "execution_count": 452,
   "metadata": {},
   "outputs": [
    {
     "name": "stdout",
     "output_type": "stream",
     "text": [
      "42.33576642335766 %\n"
     ]
    }
   ],
   "source": [
    "Percent_M_Enrolled_F20 = (Twenty_Twenty_Fall_Male_Total/ Total_Enrollment_Fall_Twenty)*100\n",
    "print(Percent_M_Enrolled_F20,'%')"
   ]
  },
  {
   "cell_type": "code",
   "execution_count": 453,
   "metadata": {},
   "outputs": [
    {
     "name": "stdout",
     "output_type": "stream",
     "text": [
      "57.66423357664233 %\n"
     ]
    }
   ],
   "source": [
    "Percent_F_Enrolled_F20 = (Twenty_Twenty_Fall_Female_Total/Total_Enrollment_Fall_Twenty)*100\n",
    "print(Percent_F_Enrolled_F20,'%')"
   ]
  },
  {
   "cell_type": "markdown",
   "metadata": {},
   "source": [
    "Total Number of Students 2021"
   ]
  },
  {
   "cell_type": "markdown",
   "metadata": {},
   "source": [
    "Winter 2021"
   ]
  },
  {
   "cell_type": "code",
   "execution_count": 454,
   "metadata": {},
   "outputs": [
    {
     "data": {
      "text/html": [
       "<table border=\"1\" class=\"dataframe\">\n",
       "    <thead>\n",
       "        <tr>\n",
       "            <th>Year</th> <th>Term</th> <th>Course</th> <th>Section</th> <th>Cross listing 1</th> <th>Cross listing 2</th> <th>Cross listing 3</th> <th>Gender</th> <th>Age</th> <th>Student Status</th> <th>Major </th> <th>College </th> <th>Race</th> <th>Ethnicity</th> <th>Citizenship</th> <th>Residency</th>\n",
       "        </tr>\n",
       "    </thead>\n",
       "    <tbody>\n",
       "        <tr>\n",
       "            <td>2021</td> <td>Winter</td> <td>ARTH369D</td> <td>GC01   </td> <td>nan            </td> <td>nan            </td> <td>nan            </td> <td>Female</td> <td>39  </td> <td>Undergraduate </td> <td>ART HISTORY</td> <td>ARHU    </td> <td>White      </td> <td>Hispanic No     </td> <td>US Citizen </td> <td>Resident    </td>\n",
       "        </tr>\n",
       "    </tbody>\n",
       "        <tr>\n",
       "            <td>2021</td> <td>Winter</td> <td>CLAS308G</td> <td>GC01   </td> <td>nan            </td> <td>nan            </td> <td>nan            </td> <td>Male  </td> <td>25  </td> <td>Undergraduate </td> <td>PHILOSOPHY </td> <td>ARHU    </td> <td>Asian      </td> <td>Hispanic No     </td> <td>US Citizen </td> <td>Resident    </td>\n",
       "        </tr>\n",
       "    </tbody>\n",
       "        <tr>\n",
       "            <td>2021</td> <td>Winter</td> <td>CLAS308G</td> <td>GC01   </td> <td>nan            </td> <td>nan            </td> <td>nan            </td> <td>Female</td> <td>20  </td> <td>Undergraduate </td> <td>JOURNALISM </td> <td>JOUR    </td> <td>White      </td> <td>Hispanic No     </td> <td>US Citizen </td> <td>Resident    </td>\n",
       "        </tr>\n",
       "    </tbody>\n",
       "        <tr>\n",
       "            <td>2021</td> <td>Winter</td> <td>CLAS308G</td> <td>GC01   </td> <td>nan            </td> <td>nan            </td> <td>nan            </td> <td>Male  </td> <td>20  </td> <td>Undergraduate </td> <td>CLASSICS   </td> <td>ARHU    </td> <td>Two or More</td> <td>Hispanic No     </td> <td>US Citizen </td> <td>Resident    </td>\n",
       "        </tr>\n",
       "    </tbody>\n",
       "        <tr>\n",
       "            <td>2021</td> <td>Winter</td> <td>CLAS308G</td> <td>GC01   </td> <td>nan            </td> <td>nan            </td> <td>nan            </td> <td>Female</td> <td>20  </td> <td>Undergraduate </td> <td>COMP ENGIN </td> <td>ENGR    </td> <td>Asian      </td> <td>Hispanic No     </td> <td>US Citizen </td> <td>Resident    </td>\n",
       "        </tr>\n",
       "    </tbody>\n",
       "        <tr>\n",
       "            <td>2021</td> <td>Winter</td> <td>CLAS308G</td> <td>GC01   </td> <td>nan            </td> <td>nan            </td> <td>nan            </td> <td>Male  </td> <td>19  </td> <td>Undergraduate </td> <td>PHYSICS    </td> <td>CMNS    </td> <td>White      </td> <td>Hispanic No     </td> <td>US Citizen </td> <td>Resident    </td>\n",
       "        </tr>\n",
       "    </tbody>\n",
       "        <tr>\n",
       "            <td>2021</td> <td>Winter</td> <td>CLAS308G</td> <td>GC01   </td> <td>nan            </td> <td>nan            </td> <td>nan            </td> <td>Male  </td> <td>20  </td> <td>Undergraduate </td> <td>CLASSICS   </td> <td>ARHU    </td> <td>White      </td> <td>Hispanic No     </td> <td>US Citizen </td> <td>Non-resident</td>\n",
       "        </tr>\n",
       "    </tbody>\n",
       "        <tr>\n",
       "            <td>2021</td> <td>Winter</td> <td>CLAS308G</td> <td>GC01   </td> <td>nan            </td> <td>nan            </td> <td>nan            </td> <td>Female</td> <td>25  </td> <td>Undergraduate </td> <td>HISTORY    </td> <td>ARHU    </td> <td>Unknown    </td> <td>Hispanic Unknown</td> <td>US Citizen </td> <td>Resident    </td>\n",
       "        </tr>\n",
       "    </tbody>\n",
       "        <tr>\n",
       "            <td>2021</td> <td>Winter</td> <td>CLAS308G</td> <td>GC01   </td> <td>nan            </td> <td>nan            </td> <td>nan            </td> <td>Female</td> <td>31  </td> <td>Undergraduate </td> <td>CLASSICS   </td> <td>ARHU    </td> <td>Hispanic   </td> <td>Hispanic Yes    </td> <td>US Citizen </td> <td>Military    </td>\n",
       "        </tr>\n",
       "    </tbody>\n",
       "        <tr>\n",
       "            <td>2021</td> <td>Winter</td> <td>ENGL391 </td> <td>GC01   </td> <td>nan            </td> <td>nan            </td> <td>nan            </td> <td>Male  </td> <td>23  </td> <td>Undergraduate </td> <td>PUB POLICY </td> <td>PLCY    </td> <td>White      </td> <td>Hispanic No     </td> <td>US Citizen </td> <td>Resident    </td>\n",
       "        </tr>\n",
       "    </tbody>\n",
       "</table>\n",
       "<p>... (48 rows omitted)</p>"
      ],
      "text/plain": [
       "Year | Term   | Course   | Section | Cross listing 1 | Cross listing 2 | Cross listing 3 | Gender | Age  | Student Status | Major       | College  | Race        | Ethnicity        | Citizenship | Residency\n",
       "2021 | Winter | ARTH369D | GC01    | nan             | nan             | nan             | Female | 39   | Undergraduate  | ART HISTORY | ARHU     | White       | Hispanic No      | US Citizen  | Resident\n",
       "2021 | Winter | CLAS308G | GC01    | nan             | nan             | nan             | Male   | 25   | Undergraduate  | PHILOSOPHY  | ARHU     | Asian       | Hispanic No      | US Citizen  | Resident\n",
       "2021 | Winter | CLAS308G | GC01    | nan             | nan             | nan             | Female | 20   | Undergraduate  | JOURNALISM  | JOUR     | White       | Hispanic No      | US Citizen  | Resident\n",
       "2021 | Winter | CLAS308G | GC01    | nan             | nan             | nan             | Male   | 20   | Undergraduate  | CLASSICS    | ARHU     | Two or More | Hispanic No      | US Citizen  | Resident\n",
       "2021 | Winter | CLAS308G | GC01    | nan             | nan             | nan             | Female | 20   | Undergraduate  | COMP ENGIN  | ENGR     | Asian       | Hispanic No      | US Citizen  | Resident\n",
       "2021 | Winter | CLAS308G | GC01    | nan             | nan             | nan             | Male   | 19   | Undergraduate  | PHYSICS     | CMNS     | White       | Hispanic No      | US Citizen  | Resident\n",
       "2021 | Winter | CLAS308G | GC01    | nan             | nan             | nan             | Male   | 20   | Undergraduate  | CLASSICS    | ARHU     | White       | Hispanic No      | US Citizen  | Non-resident\n",
       "2021 | Winter | CLAS308G | GC01    | nan             | nan             | nan             | Female | 25   | Undergraduate  | HISTORY     | ARHU     | Unknown     | Hispanic Unknown | US Citizen  | Resident\n",
       "2021 | Winter | CLAS308G | GC01    | nan             | nan             | nan             | Female | 31   | Undergraduate  | CLASSICS    | ARHU     | Hispanic    | Hispanic Yes     | US Citizen  | Military\n",
       "2021 | Winter | ENGL391  | GC01    | nan             | nan             | nan             | Male   | 23   | Undergraduate  | PUB POLICY  | PLCY     | White       | Hispanic No      | US Citizen  | Resident\n",
       "... (48 rows omitted)"
      ]
     },
     "execution_count": 454,
     "metadata": {},
     "output_type": "execute_result"
    }
   ],
   "source": [
    "tbl_2 = Table.read_table('../data/Data_OIA.xlsx - Winter 2021.csv')\n",
    "tbl_2"
   ]
  },
  {
   "cell_type": "code",
   "execution_count": 455,
   "metadata": {},
   "outputs": [
    {
     "data": {
      "text/html": [
       "<table border=\"1\" class=\"dataframe\">\n",
       "    <thead>\n",
       "        <tr>\n",
       "            <th>Year</th> <th>Term</th> <th>Course</th> <th>Section</th> <th>Cross listing 1</th> <th>Cross listing 2</th> <th>Cross listing 3</th> <th>Gender</th> <th>Age</th> <th>Student Status</th> <th>Major </th> <th>College </th> <th>Race</th> <th>Ethnicity</th> <th>Citizenship</th> <th>Residency</th>\n",
       "        </tr>\n",
       "    </thead>\n",
       "    <tbody>\n",
       "        <tr>\n",
       "            <td>2021</td> <td>Winter</td> <td>ARTH369D</td> <td>GC01   </td> <td>nan            </td> <td>nan            </td> <td>nan            </td> <td>Female</td> <td>39  </td> <td>Undergraduate </td> <td>ART HISTORY </td> <td>ARHU    </td> <td>White                    </td> <td>Hispanic No     </td> <td>US Citizen </td> <td>Resident    </td>\n",
       "        </tr>\n",
       "    </tbody>\n",
       "        <tr>\n",
       "            <td>2021</td> <td>Winter</td> <td>CLAS308G</td> <td>GC01   </td> <td>nan            </td> <td>nan            </td> <td>nan            </td> <td>Female</td> <td>20  </td> <td>Undergraduate </td> <td>JOURNALISM  </td> <td>JOUR    </td> <td>White                    </td> <td>Hispanic No     </td> <td>US Citizen </td> <td>Resident    </td>\n",
       "        </tr>\n",
       "    </tbody>\n",
       "        <tr>\n",
       "            <td>2021</td> <td>Winter</td> <td>CLAS308G</td> <td>GC01   </td> <td>nan            </td> <td>nan            </td> <td>nan            </td> <td>Female</td> <td>20  </td> <td>Undergraduate </td> <td>COMP ENGIN  </td> <td>ENGR    </td> <td>Asian                    </td> <td>Hispanic No     </td> <td>US Citizen </td> <td>Resident    </td>\n",
       "        </tr>\n",
       "    </tbody>\n",
       "        <tr>\n",
       "            <td>2021</td> <td>Winter</td> <td>CLAS308G</td> <td>GC01   </td> <td>nan            </td> <td>nan            </td> <td>nan            </td> <td>Female</td> <td>25  </td> <td>Undergraduate </td> <td>HISTORY     </td> <td>ARHU    </td> <td>Unknown                  </td> <td>Hispanic Unknown</td> <td>US Citizen </td> <td>Resident    </td>\n",
       "        </tr>\n",
       "    </tbody>\n",
       "        <tr>\n",
       "            <td>2021</td> <td>Winter</td> <td>CLAS308G</td> <td>GC01   </td> <td>nan            </td> <td>nan            </td> <td>nan            </td> <td>Female</td> <td>31  </td> <td>Undergraduate </td> <td>CLASSICS    </td> <td>ARHU    </td> <td>Hispanic                 </td> <td>Hispanic Yes    </td> <td>US Citizen </td> <td>Military    </td>\n",
       "        </tr>\n",
       "    </tbody>\n",
       "        <tr>\n",
       "            <td>2021</td> <td>Winter</td> <td>ENGL391 </td> <td>GC01   </td> <td>nan            </td> <td>nan            </td> <td>nan            </td> <td>Female</td> <td>22  </td> <td>Undergraduate </td> <td>AGR&RES ECON</td> <td>AGNR    </td> <td>Two or More              </td> <td>Hispanic No     </td> <td>US Citizen </td> <td>Resident    </td>\n",
       "        </tr>\n",
       "    </tbody>\n",
       "        <tr>\n",
       "            <td>2021</td> <td>Winter</td> <td>ENGL391 </td> <td>GC01   </td> <td>nan            </td> <td>nan            </td> <td>nan            </td> <td>Female</td> <td>22  </td> <td>Undergraduate </td> <td>PSYCH BS    </td> <td>BSOS    </td> <td>Hispanic                 </td> <td>Hispanic Yes    </td> <td>US Citizen </td> <td>Resident    </td>\n",
       "        </tr>\n",
       "    </tbody>\n",
       "        <tr>\n",
       "            <td>2021</td> <td>Winter</td> <td>ENGL391 </td> <td>GC01   </td> <td>nan            </td> <td>nan            </td> <td>nan            </td> <td>Female</td> <td>20  </td> <td>Undergraduate </td> <td>BIO SCI:GENB</td> <td>CMNS    </td> <td>White                    </td> <td>Hispanic No     </td> <td>US Citizen </td> <td>Non-resident</td>\n",
       "        </tr>\n",
       "    </tbody>\n",
       "        <tr>\n",
       "            <td>2021</td> <td>Winter</td> <td>ENGL391 </td> <td>GC01   </td> <td>nan            </td> <td>nan            </td> <td>nan            </td> <td>Female</td> <td>20  </td> <td>Undergraduate </td> <td>BIO SCI:PHNB</td> <td>CMNS    </td> <td>Black or African American</td> <td>Hispanic No     </td> <td>US Citizen </td> <td>Resident    </td>\n",
       "        </tr>\n",
       "    </tbody>\n",
       "        <tr>\n",
       "            <td>2021</td> <td>Winter</td> <td>ENGL391 </td> <td>GC01   </td> <td>nan            </td> <td>nan            </td> <td>nan            </td> <td>Female</td> <td>20  </td> <td>Undergraduate </td> <td>HISTORY     </td> <td>ARHU    </td> <td>White                    </td> <td>Hispanic No     </td> <td>US Citizen </td> <td>Resident    </td>\n",
       "        </tr>\n",
       "    </tbody>\n",
       "</table>\n",
       "<p>... (21 rows omitted)</p>"
      ],
      "text/plain": [
       "Year | Term   | Course   | Section | Cross listing 1 | Cross listing 2 | Cross listing 3 | Gender | Age  | Student Status | Major        | College  | Race                      | Ethnicity        | Citizenship | Residency\n",
       "2021 | Winter | ARTH369D | GC01    | nan             | nan             | nan             | Female | 39   | Undergraduate  | ART HISTORY  | ARHU     | White                     | Hispanic No      | US Citizen  | Resident\n",
       "2021 | Winter | CLAS308G | GC01    | nan             | nan             | nan             | Female | 20   | Undergraduate  | JOURNALISM   | JOUR     | White                     | Hispanic No      | US Citizen  | Resident\n",
       "2021 | Winter | CLAS308G | GC01    | nan             | nan             | nan             | Female | 20   | Undergraduate  | COMP ENGIN   | ENGR     | Asian                     | Hispanic No      | US Citizen  | Resident\n",
       "2021 | Winter | CLAS308G | GC01    | nan             | nan             | nan             | Female | 25   | Undergraduate  | HISTORY      | ARHU     | Unknown                   | Hispanic Unknown | US Citizen  | Resident\n",
       "2021 | Winter | CLAS308G | GC01    | nan             | nan             | nan             | Female | 31   | Undergraduate  | CLASSICS     | ARHU     | Hispanic                  | Hispanic Yes     | US Citizen  | Military\n",
       "2021 | Winter | ENGL391  | GC01    | nan             | nan             | nan             | Female | 22   | Undergraduate  | AGR&RES ECON | AGNR     | Two or More               | Hispanic No      | US Citizen  | Resident\n",
       "2021 | Winter | ENGL391  | GC01    | nan             | nan             | nan             | Female | 22   | Undergraduate  | PSYCH BS     | BSOS     | Hispanic                  | Hispanic Yes     | US Citizen  | Resident\n",
       "2021 | Winter | ENGL391  | GC01    | nan             | nan             | nan             | Female | 20   | Undergraduate  | BIO SCI:GENB | CMNS     | White                     | Hispanic No      | US Citizen  | Non-resident\n",
       "2021 | Winter | ENGL391  | GC01    | nan             | nan             | nan             | Female | 20   | Undergraduate  | BIO SCI:PHNB | CMNS     | Black or African American | Hispanic No      | US Citizen  | Resident\n",
       "2021 | Winter | ENGL391  | GC01    | nan             | nan             | nan             | Female | 20   | Undergraduate  | HISTORY      | ARHU     | White                     | Hispanic No      | US Citizen  | Resident\n",
       "... (21 rows omitted)"
      ]
     },
     "execution_count": 455,
     "metadata": {},
     "output_type": "execute_result"
    }
   ],
   "source": [
    "Twenty_TwentyOne_Winter_F = tbl_2.where('Gender', are.equal_to('Female'))\n",
    "Twenty_TwentyOne_Winter_F"
   ]
  },
  {
   "cell_type": "code",
   "execution_count": 456,
   "metadata": {},
   "outputs": [
    {
     "data": {
      "text/html": [
       "<table border=\"1\" class=\"dataframe\">\n",
       "    <thead>\n",
       "        <tr>\n",
       "            <th>Year</th> <th>Term</th> <th>Course</th> <th>Section</th> <th>Cross listing 1</th> <th>Cross listing 2</th> <th>Cross listing 3</th> <th>Gender</th> <th>Age</th> <th>Student Status</th> <th>Major </th> <th>College </th> <th>Race</th> <th>Ethnicity</th> <th>Citizenship</th> <th>Residency</th>\n",
       "        </tr>\n",
       "    </thead>\n",
       "    <tbody>\n",
       "        <tr>\n",
       "            <td>2021</td> <td>Winter</td> <td>CLAS308G</td> <td>GC01   </td> <td>nan            </td> <td>nan            </td> <td>nan            </td> <td>Male  </td> <td>25  </td> <td>Undergraduate </td> <td>PHILOSOPHY  </td> <td>ARHU    </td> <td>Asian                    </td> <td>Hispanic No </td> <td>US Citizen </td> <td>Resident    </td>\n",
       "        </tr>\n",
       "    </tbody>\n",
       "        <tr>\n",
       "            <td>2021</td> <td>Winter</td> <td>CLAS308G</td> <td>GC01   </td> <td>nan            </td> <td>nan            </td> <td>nan            </td> <td>Male  </td> <td>20  </td> <td>Undergraduate </td> <td>CLASSICS    </td> <td>ARHU    </td> <td>Two or More              </td> <td>Hispanic No </td> <td>US Citizen </td> <td>Resident    </td>\n",
       "        </tr>\n",
       "    </tbody>\n",
       "        <tr>\n",
       "            <td>2021</td> <td>Winter</td> <td>CLAS308G</td> <td>GC01   </td> <td>nan            </td> <td>nan            </td> <td>nan            </td> <td>Male  </td> <td>19  </td> <td>Undergraduate </td> <td>PHYSICS     </td> <td>CMNS    </td> <td>White                    </td> <td>Hispanic No </td> <td>US Citizen </td> <td>Resident    </td>\n",
       "        </tr>\n",
       "    </tbody>\n",
       "        <tr>\n",
       "            <td>2021</td> <td>Winter</td> <td>CLAS308G</td> <td>GC01   </td> <td>nan            </td> <td>nan            </td> <td>nan            </td> <td>Male  </td> <td>20  </td> <td>Undergraduate </td> <td>CLASSICS    </td> <td>ARHU    </td> <td>White                    </td> <td>Hispanic No </td> <td>US Citizen </td> <td>Non-resident</td>\n",
       "        </tr>\n",
       "    </tbody>\n",
       "        <tr>\n",
       "            <td>2021</td> <td>Winter</td> <td>ENGL391 </td> <td>GC01   </td> <td>nan            </td> <td>nan            </td> <td>nan            </td> <td>Male  </td> <td>23  </td> <td>Undergraduate </td> <td>PUB POLICY  </td> <td>PLCY    </td> <td>White                    </td> <td>Hispanic No </td> <td>US Citizen </td> <td>Resident    </td>\n",
       "        </tr>\n",
       "    </tbody>\n",
       "        <tr>\n",
       "            <td>2021</td> <td>Winter</td> <td>ENGL391 </td> <td>GC01   </td> <td>nan            </td> <td>nan            </td> <td>nan            </td> <td>Male  </td> <td>24  </td> <td>Undergraduate </td> <td>ENGLISH     </td> <td>ARHU    </td> <td>Hispanic                 </td> <td>Hispanic Yes</td> <td>US Citizen </td> <td>Resident    </td>\n",
       "        </tr>\n",
       "    </tbody>\n",
       "        <tr>\n",
       "            <td>2021</td> <td>Winter</td> <td>ENGL391 </td> <td>GC01   </td> <td>nan            </td> <td>nan            </td> <td>nan            </td> <td>Male  </td> <td>22  </td> <td>Undergraduate </td> <td>LTSC UNDECID</td> <td>LTSC    </td> <td>Asian                    </td> <td>Hispanic No </td> <td>US Citizen </td> <td>Resident    </td>\n",
       "        </tr>\n",
       "    </tbody>\n",
       "        <tr>\n",
       "            <td>2021</td> <td>Winter</td> <td>ENGL391 </td> <td>GC01   </td> <td>nan            </td> <td>nan            </td> <td>nan            </td> <td>Male  </td> <td>21  </td> <td>Undergraduate </td> <td>OM BA       </td> <td>BMGT    </td> <td>White                    </td> <td>Hispanic No </td> <td>US Citizen </td> <td>Resident    </td>\n",
       "        </tr>\n",
       "    </tbody>\n",
       "        <tr>\n",
       "            <td>2021</td> <td>Winter</td> <td>ENGL391 </td> <td>GC01   </td> <td>nan            </td> <td>nan            </td> <td>nan            </td> <td>Male  </td> <td>23  </td> <td>Undergraduate </td> <td>CRIM-JUSTICE</td> <td>BSOS    </td> <td>Black or African American</td> <td>Hispanic No </td> <td>Perm Resdnt</td> <td>Resident    </td>\n",
       "        </tr>\n",
       "    </tbody>\n",
       "        <tr>\n",
       "            <td>2021</td> <td>Winter</td> <td>ENGL391 </td> <td>GC01   </td> <td>nan            </td> <td>nan            </td> <td>nan            </td> <td>Male  </td> <td>21  </td> <td>Undergraduate </td> <td>MUS PROF VOI</td> <td>ARHU    </td> <td>Two or More              </td> <td>Hispanic No </td> <td>US Citizen </td> <td>Non-resident</td>\n",
       "        </tr>\n",
       "    </tbody>\n",
       "</table>\n",
       "<p>... (17 rows omitted)</p>"
      ],
      "text/plain": [
       "Year | Term   | Course   | Section | Cross listing 1 | Cross listing 2 | Cross listing 3 | Gender | Age  | Student Status | Major        | College  | Race                      | Ethnicity    | Citizenship | Residency\n",
       "2021 | Winter | CLAS308G | GC01    | nan             | nan             | nan             | Male   | 25   | Undergraduate  | PHILOSOPHY   | ARHU     | Asian                     | Hispanic No  | US Citizen  | Resident\n",
       "2021 | Winter | CLAS308G | GC01    | nan             | nan             | nan             | Male   | 20   | Undergraduate  | CLASSICS     | ARHU     | Two or More               | Hispanic No  | US Citizen  | Resident\n",
       "2021 | Winter | CLAS308G | GC01    | nan             | nan             | nan             | Male   | 19   | Undergraduate  | PHYSICS      | CMNS     | White                     | Hispanic No  | US Citizen  | Resident\n",
       "2021 | Winter | CLAS308G | GC01    | nan             | nan             | nan             | Male   | 20   | Undergraduate  | CLASSICS     | ARHU     | White                     | Hispanic No  | US Citizen  | Non-resident\n",
       "2021 | Winter | ENGL391  | GC01    | nan             | nan             | nan             | Male   | 23   | Undergraduate  | PUB POLICY   | PLCY     | White                     | Hispanic No  | US Citizen  | Resident\n",
       "2021 | Winter | ENGL391  | GC01    | nan             | nan             | nan             | Male   | 24   | Undergraduate  | ENGLISH      | ARHU     | Hispanic                  | Hispanic Yes | US Citizen  | Resident\n",
       "2021 | Winter | ENGL391  | GC01    | nan             | nan             | nan             | Male   | 22   | Undergraduate  | LTSC UNDECID | LTSC     | Asian                     | Hispanic No  | US Citizen  | Resident\n",
       "2021 | Winter | ENGL391  | GC01    | nan             | nan             | nan             | Male   | 21   | Undergraduate  | OM BA        | BMGT     | White                     | Hispanic No  | US Citizen  | Resident\n",
       "2021 | Winter | ENGL391  | GC01    | nan             | nan             | nan             | Male   | 23   | Undergraduate  | CRIM-JUSTICE | BSOS     | Black or African American | Hispanic No  | Perm Resdnt | Resident\n",
       "2021 | Winter | ENGL391  | GC01    | nan             | nan             | nan             | Male   | 21   | Undergraduate  | MUS PROF VOI | ARHU     | Two or More               | Hispanic No  | US Citizen  | Non-resident\n",
       "... (17 rows omitted)"
      ]
     },
     "execution_count": 456,
     "metadata": {},
     "output_type": "execute_result"
    }
   ],
   "source": [
    "Twenty_TwentyOne_Winter_M = tbl_2.where('Gender', are.equal_to('Male'))\n",
    "Twenty_TwentyOne_Winter_M"
   ]
  },
  {
   "cell_type": "code",
   "execution_count": 457,
   "metadata": {},
   "outputs": [
    {
     "name": "stdout",
     "output_type": "stream",
     "text": [
      "27\n",
      "31\n",
      "58\n"
     ]
    }
   ],
   "source": [
    "Twenty_TwentyOne_Winter_M_Total= Twenty_TwentyOne_Winter_M.num_rows\n",
    "Twenty_TwentyOne_Winter_F_Total= Twenty_TwentyOne_Winter_F.num_rows\n",
    "Twenty_TwentyOne_Winter_Total= Twenty_TwentyOne_Winter_F_Total + Twenty_TwentyOne_Winter_M_Total\n",
    "print(Twenty_TwentyOne_Winter_M_Total)\n",
    "print(Twenty_TwentyOne_Winter_F_Total)\n",
    "print(Twenty_TwentyOne_Winter_Total)"
   ]
  },
  {
   "cell_type": "markdown",
   "metadata": {},
   "source": [
    "27 Males Enrolled W21, 31 Females Enrolled W21, 58 total students W21"
   ]
  },
  {
   "cell_type": "code",
   "execution_count": 458,
   "metadata": {},
   "outputs": [
    {
     "name": "stdout",
     "output_type": "stream",
     "text": [
      "46.55172413793103 %\n"
     ]
    }
   ],
   "source": [
    "Percent_M_Enrolled_W21 = (Twenty_TwentyOne_Winter_M_Total/Twenty_TwentyOne_Winter_Total)*100\n",
    "print(Percent_M_Enrolled_W21, '%')"
   ]
  },
  {
   "cell_type": "code",
   "execution_count": 459,
   "metadata": {},
   "outputs": [
    {
     "name": "stdout",
     "output_type": "stream",
     "text": [
      "53.44827586206896 %\n"
     ]
    }
   ],
   "source": [
    "Percent_F_Enrolled_W21 = (Twenty_TwentyOne_Winter_F_Total/Twenty_TwentyOne_Winter_Total)*100\n",
    "print(Percent_F_Enrolled_W21, '%')"
   ]
  },
  {
   "cell_type": "markdown",
   "metadata": {},
   "source": [
    "Spring 2021"
   ]
  },
  {
   "cell_type": "code",
   "execution_count": 460,
   "metadata": {},
   "outputs": [
    {
     "data": {
      "text/html": [
       "<table border=\"1\" class=\"dataframe\">\n",
       "    <thead>\n",
       "        <tr>\n",
       "            <th>Year</th> <th>Term</th> <th>Course</th> <th>Section</th> <th>Cross listing 1</th> <th>Cross listing 2</th> <th>Cross listing 3</th> <th>Gender</th> <th>Age</th> <th>Student Status</th> <th>Major </th> <th>College </th> <th>Race</th> <th>Ethnicity</th> <th>Citizenship</th> <th>Residency</th>\n",
       "        </tr>\n",
       "    </thead>\n",
       "    <tbody>\n",
       "        <tr>\n",
       "            <td>2021</td> <td>Spring</td> <td>ARCH601</td> <td>0101   </td> <td>nan            </td> <td>nan            </td> <td>nan            </td> <td>Female</td> <td>24  </td> <td>Graduate      </td> <td>ARCHITECTURE</td> <td>ARCH    </td> <td>Hispanic                 </td> <td>Hispanic Yes    </td> <td>US Citizen </td> <td>Resident    </td>\n",
       "        </tr>\n",
       "    </tbody>\n",
       "        <tr>\n",
       "            <td>2021</td> <td>Spring</td> <td>ARCH601</td> <td>0101   </td> <td>nan            </td> <td>nan            </td> <td>nan            </td> <td>Female</td> <td>24  </td> <td>Graduate      </td> <td>ARCH/COMM PL</td> <td>ARCH    </td> <td>Hispanic                 </td> <td>Hispanic Yes    </td> <td>Perm Resdnt</td> <td>Resident    </td>\n",
       "        </tr>\n",
       "    </tbody>\n",
       "        <tr>\n",
       "            <td>2021</td> <td>Spring</td> <td>ARCH601</td> <td>0101   </td> <td>nan            </td> <td>nan            </td> <td>nan            </td> <td>Male  </td> <td>22  </td> <td>Graduate      </td> <td>ARCHITECTURE</td> <td>ARCH    </td> <td>White                    </td> <td>Hispanic No     </td> <td>US Citizen </td> <td>Resident    </td>\n",
       "        </tr>\n",
       "    </tbody>\n",
       "        <tr>\n",
       "            <td>2021</td> <td>Spring</td> <td>ARCH601</td> <td>0101   </td> <td>nan            </td> <td>nan            </td> <td>nan            </td> <td>Female</td> <td>22  </td> <td>Graduate      </td> <td>ARCHITECTURE</td> <td>ARCH    </td> <td>Hispanic                 </td> <td>Hispanic Yes    </td> <td>US Citizen </td> <td>Resident    </td>\n",
       "        </tr>\n",
       "    </tbody>\n",
       "        <tr>\n",
       "            <td>2021</td> <td>Spring</td> <td>ARCH601</td> <td>0101   </td> <td>nan            </td> <td>nan            </td> <td>nan            </td> <td>Female</td> <td>22  </td> <td>Graduate      </td> <td>ARCHITECTURE</td> <td>ARCH    </td> <td>White                    </td> <td>Hispanic No     </td> <td>US Citizen </td> <td>Resident    </td>\n",
       "        </tr>\n",
       "    </tbody>\n",
       "        <tr>\n",
       "            <td>2021</td> <td>Spring</td> <td>ARCH601</td> <td>0101   </td> <td>nan            </td> <td>nan            </td> <td>nan            </td> <td>Female</td> <td>22  </td> <td>Graduate      </td> <td>ARCHITECTURE</td> <td>ARCH    </td> <td>Black or African American</td> <td>Hispanic No     </td> <td>US Citizen </td> <td>Resident    </td>\n",
       "        </tr>\n",
       "    </tbody>\n",
       "        <tr>\n",
       "            <td>2021</td> <td>Spring</td> <td>ARCH601</td> <td>0101   </td> <td>nan            </td> <td>nan            </td> <td>nan            </td> <td>Female</td> <td>27  </td> <td>Graduate      </td> <td>ARCHITECTURE</td> <td>ARCH    </td> <td>Hispanic                 </td> <td>Hispanic Yes    </td> <td>US Citizen </td> <td>Resident    </td>\n",
       "        </tr>\n",
       "    </tbody>\n",
       "        <tr>\n",
       "            <td>2021</td> <td>Spring</td> <td>ARCH601</td> <td>0101   </td> <td>nan            </td> <td>nan            </td> <td>nan            </td> <td>Female</td> <td>42  </td> <td>Graduate      </td> <td>ARCHITECTURE</td> <td>ARCH    </td> <td>Asian                    </td> <td>Hispanic No     </td> <td>US Citizen </td> <td>Resident    </td>\n",
       "        </tr>\n",
       "    </tbody>\n",
       "        <tr>\n",
       "            <td>2021</td> <td>Spring</td> <td>ARCH601</td> <td>0101   </td> <td>nan            </td> <td>nan            </td> <td>nan            </td> <td>Male  </td> <td>31  </td> <td>Graduate      </td> <td>HISPRES/ARCH</td> <td>ARCH    </td> <td>Unknown                  </td> <td>Hispanic Unknown</td> <td>US Citizen </td> <td>Non-resident</td>\n",
       "        </tr>\n",
       "    </tbody>\n",
       "        <tr>\n",
       "            <td>2021</td> <td>Spring</td> <td>ARCH601</td> <td>0101   </td> <td>nan            </td> <td>nan            </td> <td>nan            </td> <td>Female</td> <td>36  </td> <td>Graduate      </td> <td>ARCHITECTURE</td> <td>ARCH    </td> <td>Two or More              </td> <td>Hispanic No     </td> <td>US Citizen </td> <td>Resident    </td>\n",
       "        </tr>\n",
       "    </tbody>\n",
       "</table>\n",
       "<p>... (449 rows omitted)</p>"
      ],
      "text/plain": [
       "Year | Term   | Course  | Section | Cross listing 1 | Cross listing 2 | Cross listing 3 | Gender | Age  | Student Status | Major        | College  | Race                      | Ethnicity        | Citizenship | Residency\n",
       "2021 | Spring | ARCH601 | 0101    | nan             | nan             | nan             | Female | 24   | Graduate       | ARCHITECTURE | ARCH     | Hispanic                  | Hispanic Yes     | US Citizen  | Resident\n",
       "2021 | Spring | ARCH601 | 0101    | nan             | nan             | nan             | Female | 24   | Graduate       | ARCH/COMM PL | ARCH     | Hispanic                  | Hispanic Yes     | Perm Resdnt | Resident\n",
       "2021 | Spring | ARCH601 | 0101    | nan             | nan             | nan             | Male   | 22   | Graduate       | ARCHITECTURE | ARCH     | White                     | Hispanic No      | US Citizen  | Resident\n",
       "2021 | Spring | ARCH601 | 0101    | nan             | nan             | nan             | Female | 22   | Graduate       | ARCHITECTURE | ARCH     | Hispanic                  | Hispanic Yes     | US Citizen  | Resident\n",
       "2021 | Spring | ARCH601 | 0101    | nan             | nan             | nan             | Female | 22   | Graduate       | ARCHITECTURE | ARCH     | White                     | Hispanic No      | US Citizen  | Resident\n",
       "2021 | Spring | ARCH601 | 0101    | nan             | nan             | nan             | Female | 22   | Graduate       | ARCHITECTURE | ARCH     | Black or African American | Hispanic No      | US Citizen  | Resident\n",
       "2021 | Spring | ARCH601 | 0101    | nan             | nan             | nan             | Female | 27   | Graduate       | ARCHITECTURE | ARCH     | Hispanic                  | Hispanic Yes     | US Citizen  | Resident\n",
       "2021 | Spring | ARCH601 | 0101    | nan             | nan             | nan             | Female | 42   | Graduate       | ARCHITECTURE | ARCH     | Asian                     | Hispanic No      | US Citizen  | Resident\n",
       "2021 | Spring | ARCH601 | 0101    | nan             | nan             | nan             | Male   | 31   | Graduate       | HISPRES/ARCH | ARCH     | Unknown                   | Hispanic Unknown | US Citizen  | Non-resident\n",
       "2021 | Spring | ARCH601 | 0101    | nan             | nan             | nan             | Female | 36   | Graduate       | ARCHITECTURE | ARCH     | Two or More               | Hispanic No      | US Citizen  | Resident\n",
       "... (449 rows omitted)"
      ]
     },
     "execution_count": 460,
     "metadata": {},
     "output_type": "execute_result"
    }
   ],
   "source": [
    "tbl_3= Table.read_table('../data/Data_OIA.xlsx - Spring 2021.csv')\n",
    "tbl_3"
   ]
  },
  {
   "cell_type": "code",
   "execution_count": 461,
   "metadata": {},
   "outputs": [
    {
     "data": {
      "text/html": [
       "<table border=\"1\" class=\"dataframe\">\n",
       "    <thead>\n",
       "        <tr>\n",
       "            <th>Year</th> <th>Term</th> <th>Course</th> <th>Section</th> <th>Cross listing 1</th> <th>Cross listing 2</th> <th>Cross listing 3</th> <th>Gender</th> <th>Age</th> <th>Student Status</th> <th>Major </th> <th>College </th> <th>Race</th> <th>Ethnicity</th> <th>Citizenship</th> <th>Residency</th>\n",
       "        </tr>\n",
       "    </thead>\n",
       "    <tbody>\n",
       "        <tr>\n",
       "            <td>2021</td> <td>Spring</td> <td>ARCH601</td> <td>0101   </td> <td>nan            </td> <td>nan            </td> <td>nan            </td> <td>Female</td> <td>24  </td> <td>Graduate      </td> <td>ARCHITECTURE</td> <td>ARCH    </td> <td>Hispanic                 </td> <td>Hispanic Yes</td> <td>US Citizen </td> <td>Resident </td>\n",
       "        </tr>\n",
       "    </tbody>\n",
       "        <tr>\n",
       "            <td>2021</td> <td>Spring</td> <td>ARCH601</td> <td>0101   </td> <td>nan            </td> <td>nan            </td> <td>nan            </td> <td>Female</td> <td>24  </td> <td>Graduate      </td> <td>ARCH/COMM PL</td> <td>ARCH    </td> <td>Hispanic                 </td> <td>Hispanic Yes</td> <td>Perm Resdnt</td> <td>Resident </td>\n",
       "        </tr>\n",
       "    </tbody>\n",
       "        <tr>\n",
       "            <td>2021</td> <td>Spring</td> <td>ARCH601</td> <td>0101   </td> <td>nan            </td> <td>nan            </td> <td>nan            </td> <td>Female</td> <td>22  </td> <td>Graduate      </td> <td>ARCHITECTURE</td> <td>ARCH    </td> <td>Hispanic                 </td> <td>Hispanic Yes</td> <td>US Citizen </td> <td>Resident </td>\n",
       "        </tr>\n",
       "    </tbody>\n",
       "        <tr>\n",
       "            <td>2021</td> <td>Spring</td> <td>ARCH601</td> <td>0101   </td> <td>nan            </td> <td>nan            </td> <td>nan            </td> <td>Female</td> <td>22  </td> <td>Graduate      </td> <td>ARCHITECTURE</td> <td>ARCH    </td> <td>White                    </td> <td>Hispanic No </td> <td>US Citizen </td> <td>Resident </td>\n",
       "        </tr>\n",
       "    </tbody>\n",
       "        <tr>\n",
       "            <td>2021</td> <td>Spring</td> <td>ARCH601</td> <td>0101   </td> <td>nan            </td> <td>nan            </td> <td>nan            </td> <td>Female</td> <td>22  </td> <td>Graduate      </td> <td>ARCHITECTURE</td> <td>ARCH    </td> <td>Black or African American</td> <td>Hispanic No </td> <td>US Citizen </td> <td>Resident </td>\n",
       "        </tr>\n",
       "    </tbody>\n",
       "        <tr>\n",
       "            <td>2021</td> <td>Spring</td> <td>ARCH601</td> <td>0101   </td> <td>nan            </td> <td>nan            </td> <td>nan            </td> <td>Female</td> <td>27  </td> <td>Graduate      </td> <td>ARCHITECTURE</td> <td>ARCH    </td> <td>Hispanic                 </td> <td>Hispanic Yes</td> <td>US Citizen </td> <td>Resident </td>\n",
       "        </tr>\n",
       "    </tbody>\n",
       "        <tr>\n",
       "            <td>2021</td> <td>Spring</td> <td>ARCH601</td> <td>0101   </td> <td>nan            </td> <td>nan            </td> <td>nan            </td> <td>Female</td> <td>42  </td> <td>Graduate      </td> <td>ARCHITECTURE</td> <td>ARCH    </td> <td>Asian                    </td> <td>Hispanic No </td> <td>US Citizen </td> <td>Resident </td>\n",
       "        </tr>\n",
       "    </tbody>\n",
       "        <tr>\n",
       "            <td>2021</td> <td>Spring</td> <td>ARCH601</td> <td>0101   </td> <td>nan            </td> <td>nan            </td> <td>nan            </td> <td>Female</td> <td>36  </td> <td>Graduate      </td> <td>ARCHITECTURE</td> <td>ARCH    </td> <td>Two or More              </td> <td>Hispanic No </td> <td>US Citizen </td> <td>Resident </td>\n",
       "        </tr>\n",
       "    </tbody>\n",
       "        <tr>\n",
       "            <td>2021</td> <td>Spring</td> <td>ARCH601</td> <td>0101   </td> <td>nan            </td> <td>nan            </td> <td>nan            </td> <td>Female</td> <td>23  </td> <td>Graduate      </td> <td>ARCHITECTURE</td> <td>ARCH    </td> <td>Hispanic                 </td> <td>Hispanic Yes</td> <td>US Citizen </td> <td>Resident </td>\n",
       "        </tr>\n",
       "    </tbody>\n",
       "        <tr>\n",
       "            <td>2021</td> <td>Spring</td> <td>AREC360</td> <td>0101   </td> <td>nan            </td> <td>nan            </td> <td>nan            </td> <td>Female</td> <td>21  </td> <td>Undergraduate </td> <td>BIO SCI:PHNB</td> <td>CMNS    </td> <td>Black or African American</td> <td>Hispanic No </td> <td>Perm Resdnt</td> <td>Resident </td>\n",
       "        </tr>\n",
       "    </tbody>\n",
       "</table>\n",
       "<p>... (233 rows omitted)</p>"
      ],
      "text/plain": [
       "Year | Term   | Course  | Section | Cross listing 1 | Cross listing 2 | Cross listing 3 | Gender | Age  | Student Status | Major        | College  | Race                      | Ethnicity    | Citizenship | Residency\n",
       "2021 | Spring | ARCH601 | 0101    | nan             | nan             | nan             | Female | 24   | Graduate       | ARCHITECTURE | ARCH     | Hispanic                  | Hispanic Yes | US Citizen  | Resident\n",
       "2021 | Spring | ARCH601 | 0101    | nan             | nan             | nan             | Female | 24   | Graduate       | ARCH/COMM PL | ARCH     | Hispanic                  | Hispanic Yes | Perm Resdnt | Resident\n",
       "2021 | Spring | ARCH601 | 0101    | nan             | nan             | nan             | Female | 22   | Graduate       | ARCHITECTURE | ARCH     | Hispanic                  | Hispanic Yes | US Citizen  | Resident\n",
       "2021 | Spring | ARCH601 | 0101    | nan             | nan             | nan             | Female | 22   | Graduate       | ARCHITECTURE | ARCH     | White                     | Hispanic No  | US Citizen  | Resident\n",
       "2021 | Spring | ARCH601 | 0101    | nan             | nan             | nan             | Female | 22   | Graduate       | ARCHITECTURE | ARCH     | Black or African American | Hispanic No  | US Citizen  | Resident\n",
       "2021 | Spring | ARCH601 | 0101    | nan             | nan             | nan             | Female | 27   | Graduate       | ARCHITECTURE | ARCH     | Hispanic                  | Hispanic Yes | US Citizen  | Resident\n",
       "2021 | Spring | ARCH601 | 0101    | nan             | nan             | nan             | Female | 42   | Graduate       | ARCHITECTURE | ARCH     | Asian                     | Hispanic No  | US Citizen  | Resident\n",
       "2021 | Spring | ARCH601 | 0101    | nan             | nan             | nan             | Female | 36   | Graduate       | ARCHITECTURE | ARCH     | Two or More               | Hispanic No  | US Citizen  | Resident\n",
       "2021 | Spring | ARCH601 | 0101    | nan             | nan             | nan             | Female | 23   | Graduate       | ARCHITECTURE | ARCH     | Hispanic                  | Hispanic Yes | US Citizen  | Resident\n",
       "2021 | Spring | AREC360 | 0101    | nan             | nan             | nan             | Female | 21   | Undergraduate  | BIO SCI:PHNB | CMNS     | Black or African American | Hispanic No  | Perm Resdnt | Resident\n",
       "... (233 rows omitted)"
      ]
     },
     "execution_count": 461,
     "metadata": {},
     "output_type": "execute_result"
    }
   ],
   "source": [
    "Twenty_TwentyOne_Spring_F = tbl_3.where('Gender', are.equal_to('Female'))\n",
    "Twenty_TwentyOne_Spring_F"
   ]
  },
  {
   "cell_type": "code",
   "execution_count": 462,
   "metadata": {},
   "outputs": [
    {
     "data": {
      "text/html": [
       "<table border=\"1\" class=\"dataframe\">\n",
       "    <thead>\n",
       "        <tr>\n",
       "            <th>Year</th> <th>Term</th> <th>Course</th> <th>Section</th> <th>Cross listing 1</th> <th>Cross listing 2</th> <th>Cross listing 3</th> <th>Gender</th> <th>Age</th> <th>Student Status</th> <th>Major </th> <th>College </th> <th>Race</th> <th>Ethnicity</th> <th>Citizenship</th> <th>Residency</th>\n",
       "        </tr>\n",
       "    </thead>\n",
       "    <tbody>\n",
       "        <tr>\n",
       "            <td>2021</td> <td>Spring</td> <td>ARCH601</td> <td>0101   </td> <td>nan            </td> <td>nan            </td> <td>nan            </td> <td>Male  </td> <td>22  </td> <td>Graduate      </td> <td>ARCHITECTURE</td> <td>ARCH    </td> <td>White                    </td> <td>Hispanic No     </td> <td>US Citizen     </td> <td>Resident                      </td>\n",
       "        </tr>\n",
       "    </tbody>\n",
       "        <tr>\n",
       "            <td>2021</td> <td>Spring</td> <td>ARCH601</td> <td>0101   </td> <td>nan            </td> <td>nan            </td> <td>nan            </td> <td>Male  </td> <td>31  </td> <td>Graduate      </td> <td>HISPRES/ARCH</td> <td>ARCH    </td> <td>Unknown                  </td> <td>Hispanic Unknown</td> <td>US Citizen     </td> <td>Non-resident                  </td>\n",
       "        </tr>\n",
       "    </tbody>\n",
       "        <tr>\n",
       "            <td>2021</td> <td>Spring</td> <td>AREC360</td> <td>0101   </td> <td>nan            </td> <td>nan            </td> <td>nan            </td> <td>Male  </td> <td>21  </td> <td>Undergraduate </td> <td>BIO SCI:PHNB</td> <td>CMNS    </td> <td>Asian                    </td> <td>Hispanic No     </td> <td>US Citizen     </td> <td>Resident                      </td>\n",
       "        </tr>\n",
       "    </tbody>\n",
       "        <tr>\n",
       "            <td>2021</td> <td>Spring</td> <td>BIOE461</td> <td>0101   </td> <td>nan            </td> <td>nan            </td> <td>nan            </td> <td>Male  </td> <td>23  </td> <td>Undergraduate </td> <td>BIO ENGR    </td> <td>ENGR    </td> <td>Black or African American</td> <td>Hispanic No     </td> <td>Deferred Action</td> <td>USM Nonresident Tuition Exempt</td>\n",
       "        </tr>\n",
       "    </tbody>\n",
       "        <tr>\n",
       "            <td>2021</td> <td>Spring</td> <td>BIOE461</td> <td>0101   </td> <td>nan            </td> <td>nan            </td> <td>nan            </td> <td>Male  </td> <td>23  </td> <td>Undergraduate </td> <td>BIO ENGR    </td> <td>ENGR    </td> <td>White                    </td> <td>Hispanic No     </td> <td>US Citizen     </td> <td>Resident                      </td>\n",
       "        </tr>\n",
       "    </tbody>\n",
       "        <tr>\n",
       "            <td>2021</td> <td>Spring</td> <td>BIOE461</td> <td>0101   </td> <td>nan            </td> <td>nan            </td> <td>nan            </td> <td>Male  </td> <td>22  </td> <td>Undergraduate </td> <td>BIO ENGR    </td> <td>ENGR    </td> <td>White                    </td> <td>Hispanic No     </td> <td>US Citizen     </td> <td>Resident                      </td>\n",
       "        </tr>\n",
       "    </tbody>\n",
       "        <tr>\n",
       "            <td>2021</td> <td>Spring</td> <td>BIOE461</td> <td>0101   </td> <td>nan            </td> <td>nan            </td> <td>nan            </td> <td>Male  </td> <td>21  </td> <td>Undergraduate </td> <td>BIO ENGR    </td> <td>ENGR    </td> <td>Asian                    </td> <td>Hispanic No     </td> <td>US Citizen     </td> <td>Resident                      </td>\n",
       "        </tr>\n",
       "    </tbody>\n",
       "        <tr>\n",
       "            <td>2021</td> <td>Spring</td> <td>BIOE461</td> <td>0101   </td> <td>nan            </td> <td>nan            </td> <td>nan            </td> <td>Male  </td> <td>21  </td> <td>Undergraduate </td> <td>BIO ENGR    </td> <td>ENGR    </td> <td>Asian                    </td> <td>Hispanic No     </td> <td>US Citizen     </td> <td>Resident                      </td>\n",
       "        </tr>\n",
       "    </tbody>\n",
       "        <tr>\n",
       "            <td>2021</td> <td>Spring</td> <td>BIOE461</td> <td>0101   </td> <td>nan            </td> <td>nan            </td> <td>nan            </td> <td>Male  </td> <td>21  </td> <td>Undergraduate </td> <td>BIO ENGR    </td> <td>ENGR    </td> <td>Asian                    </td> <td>Hispanic No     </td> <td>US Citizen     </td> <td>Resident                      </td>\n",
       "        </tr>\n",
       "    </tbody>\n",
       "        <tr>\n",
       "            <td>2021</td> <td>Spring</td> <td>BIOE461</td> <td>0101   </td> <td>nan            </td> <td>nan            </td> <td>nan            </td> <td>Male  </td> <td>20  </td> <td>Undergraduate </td> <td>BIO ENGR    </td> <td>ENGR    </td> <td>Black or African American</td> <td>Hispanic No     </td> <td>US Citizen     </td> <td>Resident                      </td>\n",
       "        </tr>\n",
       "    </tbody>\n",
       "</table>\n",
       "<p>... (206 rows omitted)</p>"
      ],
      "text/plain": [
       "Year | Term   | Course  | Section | Cross listing 1 | Cross listing 2 | Cross listing 3 | Gender | Age  | Student Status | Major        | College  | Race                      | Ethnicity        | Citizenship     | Residency\n",
       "2021 | Spring | ARCH601 | 0101    | nan             | nan             | nan             | Male   | 22   | Graduate       | ARCHITECTURE | ARCH     | White                     | Hispanic No      | US Citizen      | Resident\n",
       "2021 | Spring | ARCH601 | 0101    | nan             | nan             | nan             | Male   | 31   | Graduate       | HISPRES/ARCH | ARCH     | Unknown                   | Hispanic Unknown | US Citizen      | Non-resident\n",
       "2021 | Spring | AREC360 | 0101    | nan             | nan             | nan             | Male   | 21   | Undergraduate  | BIO SCI:PHNB | CMNS     | Asian                     | Hispanic No      | US Citizen      | Resident\n",
       "2021 | Spring | BIOE461 | 0101    | nan             | nan             | nan             | Male   | 23   | Undergraduate  | BIO ENGR     | ENGR     | Black or African American | Hispanic No      | Deferred Action | USM Nonresident Tuition Exempt\n",
       "2021 | Spring | BIOE461 | 0101    | nan             | nan             | nan             | Male   | 23   | Undergraduate  | BIO ENGR     | ENGR     | White                     | Hispanic No      | US Citizen      | Resident\n",
       "2021 | Spring | BIOE461 | 0101    | nan             | nan             | nan             | Male   | 22   | Undergraduate  | BIO ENGR     | ENGR     | White                     | Hispanic No      | US Citizen      | Resident\n",
       "2021 | Spring | BIOE461 | 0101    | nan             | nan             | nan             | Male   | 21   | Undergraduate  | BIO ENGR     | ENGR     | Asian                     | Hispanic No      | US Citizen      | Resident\n",
       "2021 | Spring | BIOE461 | 0101    | nan             | nan             | nan             | Male   | 21   | Undergraduate  | BIO ENGR     | ENGR     | Asian                     | Hispanic No      | US Citizen      | Resident\n",
       "2021 | Spring | BIOE461 | 0101    | nan             | nan             | nan             | Male   | 21   | Undergraduate  | BIO ENGR     | ENGR     | Asian                     | Hispanic No      | US Citizen      | Resident\n",
       "2021 | Spring | BIOE461 | 0101    | nan             | nan             | nan             | Male   | 20   | Undergraduate  | BIO ENGR     | ENGR     | Black or African American | Hispanic No      | US Citizen      | Resident\n",
       "... (206 rows omitted)"
      ]
     },
     "execution_count": 462,
     "metadata": {},
     "output_type": "execute_result"
    }
   ],
   "source": [
    "Twenty_TwentyOne_Spring_M = tbl_3.where('Gender', are.equal_to('Male'))\n",
    "Twenty_TwentyOne_Spring_M"
   ]
  },
  {
   "cell_type": "code",
   "execution_count": 463,
   "metadata": {},
   "outputs": [
    {
     "name": "stdout",
     "output_type": "stream",
     "text": [
      "216\n",
      "243\n",
      "459\n"
     ]
    }
   ],
   "source": [
    "Twenty_TwentyOne_Spring_M_Total= Twenty_TwentyOne_Spring_M.num_rows\n",
    "Twenty_TwentyOne_Spring_F_Total= Twenty_TwentyOne_Spring_F.num_rows\n",
    "Twenty_TwentyOne_Spring_Total= Twenty_TwentyOne_Spring_F_Total + Twenty_TwentyOne_Spring_M_Total\n",
    "print(Twenty_TwentyOne_Spring_M_Total)\n",
    "print(Twenty_TwentyOne_Spring_F_Total)\n",
    "print(Twenty_TwentyOne_Spring_Total)"
   ]
  },
  {
   "cell_type": "markdown",
   "metadata": {},
   "source": [
    "216 Males enrolled S21, 243 Females enrolled S21, 459 total enrolled S21"
   ]
  },
  {
   "cell_type": "code",
   "execution_count": 464,
   "metadata": {},
   "outputs": [
    {
     "name": "stdout",
     "output_type": "stream",
     "text": [
      "47.05882352941176 %\n"
     ]
    }
   ],
   "source": [
    "Percent_M_Enrolled_SP21= (Twenty_TwentyOne_Spring_M_Total/Twenty_TwentyOne_Spring_Total)*100\n",
    "print(Percent_M_Enrolled_SP21, '%')"
   ]
  },
  {
   "cell_type": "code",
   "execution_count": 465,
   "metadata": {},
   "outputs": [
    {
     "name": "stdout",
     "output_type": "stream",
     "text": [
      "52.94117647058824 %\n"
     ]
    }
   ],
   "source": [
    "Percent_F_Enrolled_SP21 = (Twenty_TwentyOne_Spring_F_Total/Twenty_TwentyOne_Spring_Total)*100\n",
    "print(Percent_F_Enrolled_SP21, '%')"
   ]
  },
  {
   "cell_type": "code",
   "execution_count": 466,
   "metadata": {},
   "outputs": [
    {
     "data": {
      "text/html": [
       "<table border=\"1\" class=\"dataframe\">\n",
       "    <thead>\n",
       "        <tr>\n",
       "            <th>Year</th> <th>Term</th> <th>Course</th> <th>Section</th> <th>Cross listing 1</th> <th>Cross listing 2</th> <th>Cross listing 3</th> <th>Gender</th> <th>Age</th> <th>Student Status</th> <th>Major </th> <th>College </th> <th>Race</th> <th>Ethnicity</th> <th>Citizenship</th> <th>Residency</th>\n",
       "        </tr>\n",
       "    </thead>\n",
       "    <tbody>\n",
       "        <tr>\n",
       "            <td>2021</td> <td>Summer</td> <td>CCJS458C</td> <td>GC01   </td> <td>MLAW358A       </td> <td>nan            </td> <td>nan            </td> <td>Female</td> <td>20  </td> <td>Undergraduate </td> <td>CRIM-JUSTICE</td> <td>BSOS    </td> <td>Asian                    </td> <td>Hispanic No </td> <td>nan        </td> <td>Non-resident</td>\n",
       "        </tr>\n",
       "    </tbody>\n",
       "        <tr>\n",
       "            <td>2021</td> <td>Summer</td> <td>CCJS458C</td> <td>GC01   </td> <td>MLAW358A       </td> <td>nan            </td> <td>nan            </td> <td>Female</td> <td>21  </td> <td>Undergraduate </td> <td>CRIM-JUSTICE</td> <td>BSOS    </td> <td>White                    </td> <td>Hispanic No </td> <td>nan        </td> <td>Non-resident</td>\n",
       "        </tr>\n",
       "    </tbody>\n",
       "        <tr>\n",
       "            <td>2021</td> <td>Summer</td> <td>CCJS458C</td> <td>GC01   </td> <td>MLAW358A       </td> <td>nan            </td> <td>nan            </td> <td>Male  </td> <td>23  </td> <td>Undergraduate </td> <td>CRIM-JUSTICE</td> <td>BSOS    </td> <td>White                    </td> <td>Hispanic No </td> <td>nan        </td> <td>Non-resident</td>\n",
       "        </tr>\n",
       "    </tbody>\n",
       "        <tr>\n",
       "            <td>2021</td> <td>Summer</td> <td>CCJS458C</td> <td>GC01   </td> <td>MLAW358A       </td> <td>nan            </td> <td>nan            </td> <td>Female</td> <td>21  </td> <td>Undergraduate </td> <td>CRIM-JUSTICE</td> <td>BSOS    </td> <td>Black or African American</td> <td>Hispanic No </td> <td>nan        </td> <td>Resident    </td>\n",
       "        </tr>\n",
       "    </tbody>\n",
       "        <tr>\n",
       "            <td>2021</td> <td>Summer</td> <td>CCJS458C</td> <td>GC01   </td> <td>MLAW358A       </td> <td>nan            </td> <td>nan            </td> <td>Female</td> <td>21  </td> <td>Undergraduate </td> <td>CRIM-JUSTICE</td> <td>BSOS    </td> <td>Hispanic                 </td> <td>Hispanic Yes</td> <td>nan        </td> <td>Resident    </td>\n",
       "        </tr>\n",
       "    </tbody>\n",
       "        <tr>\n",
       "            <td>2021</td> <td>Summer</td> <td>CCJS458C</td> <td>GC01   </td> <td>MLAW358A       </td> <td>nan            </td> <td>nan            </td> <td>Female</td> <td>26  </td> <td>Undergraduate </td> <td>CRIM-JUSTICE</td> <td>BSOS    </td> <td>Hispanic                 </td> <td>Hispanic Yes</td> <td>nan        </td> <td>Resident    </td>\n",
       "        </tr>\n",
       "    </tbody>\n",
       "        <tr>\n",
       "            <td>2021</td> <td>Summer</td> <td>CCJS458C</td> <td>GC01   </td> <td>MLAW358A       </td> <td>nan            </td> <td>nan            </td> <td>Female</td> <td>22  </td> <td>Undergraduate </td> <td>CRIM-JUSTICE</td> <td>BSOS    </td> <td>Hispanic                 </td> <td>Hispanic Yes</td> <td>nan        </td> <td>Resident    </td>\n",
       "        </tr>\n",
       "    </tbody>\n",
       "        <tr>\n",
       "            <td>2021</td> <td>Summer</td> <td>CCJS458C</td> <td>GC01   </td> <td>MLAW358A       </td> <td>nan            </td> <td>nan            </td> <td>Male  </td> <td>36  </td> <td>Undergraduate </td> <td>CRIM-JUSTICE</td> <td>BSOS    </td> <td>White                    </td> <td>Hispanic No </td> <td>nan        </td> <td>Resident    </td>\n",
       "        </tr>\n",
       "    </tbody>\n",
       "        <tr>\n",
       "            <td>2021</td> <td>Summer</td> <td>CCJS458C</td> <td>GC01   </td> <td>MLAW358A       </td> <td>nan            </td> <td>nan            </td> <td>Female</td> <td>24  </td> <td>Undergraduate </td> <td>PUB POLICY  </td> <td>PLCY    </td> <td>Black or African American</td> <td>Hispanic No </td> <td>nan        </td> <td>Resident    </td>\n",
       "        </tr>\n",
       "    </tbody>\n",
       "        <tr>\n",
       "            <td>2021</td> <td>Summer</td> <td>CCJS458C</td> <td>GC01   </td> <td>MLAW358A       </td> <td>nan            </td> <td>nan            </td> <td>Female</td> <td>21  </td> <td>Undergraduate </td> <td>ACA ACH PROG</td> <td>UGST    </td> <td>Hispanic                 </td> <td>Hispanic Yes</td> <td>nan        </td> <td>Resident    </td>\n",
       "        </tr>\n",
       "    </tbody>\n",
       "</table>\n",
       "<p>... (54 rows omitted)</p>"
      ],
      "text/plain": [
       "Year | Term   | Course   | Section | Cross listing 1 | Cross listing 2 | Cross listing 3 | Gender | Age  | Student Status | Major        | College  | Race                      | Ethnicity    | Citizenship | Residency\n",
       "2021 | Summer | CCJS458C | GC01    | MLAW358A        | nan             | nan             | Female | 20   | Undergraduate  | CRIM-JUSTICE | BSOS     | Asian                     | Hispanic No  | nan         | Non-resident\n",
       "2021 | Summer | CCJS458C | GC01    | MLAW358A        | nan             | nan             | Female | 21   | Undergraduate  | CRIM-JUSTICE | BSOS     | White                     | Hispanic No  | nan         | Non-resident\n",
       "2021 | Summer | CCJS458C | GC01    | MLAW358A        | nan             | nan             | Male   | 23   | Undergraduate  | CRIM-JUSTICE | BSOS     | White                     | Hispanic No  | nan         | Non-resident\n",
       "2021 | Summer | CCJS458C | GC01    | MLAW358A        | nan             | nan             | Female | 21   | Undergraduate  | CRIM-JUSTICE | BSOS     | Black or African American | Hispanic No  | nan         | Resident\n",
       "2021 | Summer | CCJS458C | GC01    | MLAW358A        | nan             | nan             | Female | 21   | Undergraduate  | CRIM-JUSTICE | BSOS     | Hispanic                  | Hispanic Yes | nan         | Resident\n",
       "2021 | Summer | CCJS458C | GC01    | MLAW358A        | nan             | nan             | Female | 26   | Undergraduate  | CRIM-JUSTICE | BSOS     | Hispanic                  | Hispanic Yes | nan         | Resident\n",
       "2021 | Summer | CCJS458C | GC01    | MLAW358A        | nan             | nan             | Female | 22   | Undergraduate  | CRIM-JUSTICE | BSOS     | Hispanic                  | Hispanic Yes | nan         | Resident\n",
       "2021 | Summer | CCJS458C | GC01    | MLAW358A        | nan             | nan             | Male   | 36   | Undergraduate  | CRIM-JUSTICE | BSOS     | White                     | Hispanic No  | nan         | Resident\n",
       "2021 | Summer | CCJS458C | GC01    | MLAW358A        | nan             | nan             | Female | 24   | Undergraduate  | PUB POLICY   | PLCY     | Black or African American | Hispanic No  | nan         | Resident\n",
       "2021 | Summer | CCJS458C | GC01    | MLAW358A        | nan             | nan             | Female | 21   | Undergraduate  | ACA ACH PROG | UGST     | Hispanic                  | Hispanic Yes | nan         | Resident\n",
       "... (54 rows omitted)"
      ]
     },
     "execution_count": 466,
     "metadata": {},
     "output_type": "execute_result"
    }
   ],
   "source": [
    "tbl_4 = Table.read_table('../data/Data_OIA.xlsx - Summer 2021.csv')\n",
    "tbl_4"
   ]
  },
  {
   "cell_type": "code",
   "execution_count": 467,
   "metadata": {},
   "outputs": [
    {
     "data": {
      "text/html": [
       "<table border=\"1\" class=\"dataframe\">\n",
       "    <thead>\n",
       "        <tr>\n",
       "            <th>Year</th> <th>Term</th> <th>Course</th> <th>Section</th> <th>Cross listing 1</th> <th>Cross listing 2</th> <th>Cross listing 3</th> <th>Gender</th> <th>Age</th> <th>Student Status</th> <th>Major </th> <th>College </th> <th>Race</th> <th>Ethnicity</th> <th>Citizenship</th> <th>Residency</th>\n",
       "        </tr>\n",
       "    </thead>\n",
       "    <tbody>\n",
       "        <tr>\n",
       "            <td>2021</td> <td>Summer</td> <td>CCJS458C</td> <td>GC01   </td> <td>MLAW358A       </td> <td>nan            </td> <td>nan            </td> <td>Male  </td> <td>23  </td> <td>Undergraduate </td> <td>CRIM-JUSTICE</td> <td>BSOS    </td> <td>White                    </td> <td>Hispanic No </td> <td>nan        </td> <td>Non-resident</td>\n",
       "        </tr>\n",
       "    </tbody>\n",
       "        <tr>\n",
       "            <td>2021</td> <td>Summer</td> <td>CCJS458C</td> <td>GC01   </td> <td>MLAW358A       </td> <td>nan            </td> <td>nan            </td> <td>Male  </td> <td>36  </td> <td>Undergraduate </td> <td>CRIM-JUSTICE</td> <td>BSOS    </td> <td>White                    </td> <td>Hispanic No </td> <td>nan        </td> <td>Resident    </td>\n",
       "        </tr>\n",
       "    </tbody>\n",
       "        <tr>\n",
       "            <td>2021</td> <td>Summer</td> <td>ENGL391 </td> <td>GC01   </td> <td>nan            </td> <td>nan            </td> <td>nan            </td> <td>Male  </td> <td>26  </td> <td>Undergraduate </td> <td>PHILOSOPHY  </td> <td>ARHU    </td> <td>White                    </td> <td>Hispanic No </td> <td>nan        </td> <td>Resident    </td>\n",
       "        </tr>\n",
       "    </tbody>\n",
       "        <tr>\n",
       "            <td>2021</td> <td>Summer</td> <td>ENGL391 </td> <td>GC01   </td> <td>nan            </td> <td>nan            </td> <td>nan            </td> <td>Male  </td> <td>22  </td> <td>Undergraduate </td> <td>COMM        </td> <td>ARHU    </td> <td>White                    </td> <td>Hispanic No </td> <td>nan        </td> <td>Resident    </td>\n",
       "        </tr>\n",
       "    </tbody>\n",
       "        <tr>\n",
       "            <td>2021</td> <td>Summer</td> <td>ENGL391 </td> <td>GC01   </td> <td>nan            </td> <td>nan            </td> <td>nan            </td> <td>Male  </td> <td>25  </td> <td>Undergraduate </td> <td>HISTORY     </td> <td>ARHU    </td> <td>White                    </td> <td>Hispanic No </td> <td>nan        </td> <td>Resident    </td>\n",
       "        </tr>\n",
       "    </tbody>\n",
       "        <tr>\n",
       "            <td>2021</td> <td>Summer</td> <td>ENGL391 </td> <td>GC01   </td> <td>nan            </td> <td>nan            </td> <td>nan            </td> <td>Male  </td> <td>35  </td> <td>Undergraduate </td> <td>GVPT INTLREL</td> <td>BSOS    </td> <td>Hispanic                 </td> <td>Hispanic Yes</td> <td>nan        </td> <td>Resident    </td>\n",
       "        </tr>\n",
       "    </tbody>\n",
       "        <tr>\n",
       "            <td>2021</td> <td>Summer</td> <td>ENGL391 </td> <td>GC01   </td> <td>nan            </td> <td>nan            </td> <td>nan            </td> <td>Male  </td> <td>33  </td> <td>Undergraduate </td> <td>GEO SCI GIS </td> <td>BSOS    </td> <td>White                    </td> <td>Hispanic No </td> <td>nan        </td> <td>Resident    </td>\n",
       "        </tr>\n",
       "    </tbody>\n",
       "        <tr>\n",
       "            <td>2021</td> <td>Summer</td> <td>ENGL391 </td> <td>GC01   </td> <td>nan            </td> <td>nan            </td> <td>nan            </td> <td>Male  </td> <td>23  </td> <td>Undergraduate </td> <td>GEOLOGY     </td> <td>CMNS    </td> <td>Black or African American</td> <td>Hispanic No </td> <td>nan        </td> <td>Resident    </td>\n",
       "        </tr>\n",
       "    </tbody>\n",
       "        <tr>\n",
       "            <td>2021</td> <td>Summer</td> <td>ENGL391 </td> <td>GC01   </td> <td>nan            </td> <td>nan            </td> <td>nan            </td> <td>Male  </td> <td>21  </td> <td>Undergraduate </td> <td>ENGR-MECH   </td> <td>ENGR    </td> <td>White                    </td> <td>Hispanic No </td> <td>nan        </td> <td>Resident    </td>\n",
       "        </tr>\n",
       "    </tbody>\n",
       "        <tr>\n",
       "            <td>2021</td> <td>Summer</td> <td>ENGL391 </td> <td>GC01   </td> <td>nan            </td> <td>nan            </td> <td>nan            </td> <td>Male  </td> <td>21  </td> <td>Undergraduate </td> <td>INFO SCI    </td> <td>INFO    </td> <td>Black or African American</td> <td>Hispanic No </td> <td>nan        </td> <td>Resident    </td>\n",
       "        </tr>\n",
       "    </tbody>\n",
       "</table>\n",
       "<p>... (7 rows omitted)</p>"
      ],
      "text/plain": [
       "Year | Term   | Course   | Section | Cross listing 1 | Cross listing 2 | Cross listing 3 | Gender | Age  | Student Status | Major        | College  | Race                      | Ethnicity    | Citizenship | Residency\n",
       "2021 | Summer | CCJS458C | GC01    | MLAW358A        | nan             | nan             | Male   | 23   | Undergraduate  | CRIM-JUSTICE | BSOS     | White                     | Hispanic No  | nan         | Non-resident\n",
       "2021 | Summer | CCJS458C | GC01    | MLAW358A        | nan             | nan             | Male   | 36   | Undergraduate  | CRIM-JUSTICE | BSOS     | White                     | Hispanic No  | nan         | Resident\n",
       "2021 | Summer | ENGL391  | GC01    | nan             | nan             | nan             | Male   | 26   | Undergraduate  | PHILOSOPHY   | ARHU     | White                     | Hispanic No  | nan         | Resident\n",
       "2021 | Summer | ENGL391  | GC01    | nan             | nan             | nan             | Male   | 22   | Undergraduate  | COMM         | ARHU     | White                     | Hispanic No  | nan         | Resident\n",
       "2021 | Summer | ENGL391  | GC01    | nan             | nan             | nan             | Male   | 25   | Undergraduate  | HISTORY      | ARHU     | White                     | Hispanic No  | nan         | Resident\n",
       "2021 | Summer | ENGL391  | GC01    | nan             | nan             | nan             | Male   | 35   | Undergraduate  | GVPT INTLREL | BSOS     | Hispanic                  | Hispanic Yes | nan         | Resident\n",
       "2021 | Summer | ENGL391  | GC01    | nan             | nan             | nan             | Male   | 33   | Undergraduate  | GEO SCI GIS  | BSOS     | White                     | Hispanic No  | nan         | Resident\n",
       "2021 | Summer | ENGL391  | GC01    | nan             | nan             | nan             | Male   | 23   | Undergraduate  | GEOLOGY      | CMNS     | Black or African American | Hispanic No  | nan         | Resident\n",
       "2021 | Summer | ENGL391  | GC01    | nan             | nan             | nan             | Male   | 21   | Undergraduate  | ENGR-MECH    | ENGR     | White                     | Hispanic No  | nan         | Resident\n",
       "2021 | Summer | ENGL391  | GC01    | nan             | nan             | nan             | Male   | 21   | Undergraduate  | INFO SCI     | INFO     | Black or African American | Hispanic No  | nan         | Resident\n",
       "... (7 rows omitted)"
      ]
     },
     "execution_count": 467,
     "metadata": {},
     "output_type": "execute_result"
    }
   ],
   "source": [
    "Twenty_TwentyOne_Summer_M = tbl_4.where('Gender', are.equal_to('Male'))\n",
    "Twenty_TwentyOne_Summer_M"
   ]
  },
  {
   "cell_type": "code",
   "execution_count": 468,
   "metadata": {},
   "outputs": [
    {
     "data": {
      "text/html": [
       "<table border=\"1\" class=\"dataframe\">\n",
       "    <thead>\n",
       "        <tr>\n",
       "            <th>Year</th> <th>Term</th> <th>Course</th> <th>Section</th> <th>Cross listing 1</th> <th>Cross listing 2</th> <th>Cross listing 3</th> <th>Gender</th> <th>Age</th> <th>Student Status</th> <th>Major </th> <th>College </th> <th>Race</th> <th>Ethnicity</th> <th>Citizenship</th> <th>Residency</th>\n",
       "        </tr>\n",
       "    </thead>\n",
       "    <tbody>\n",
       "        <tr>\n",
       "            <td>2021</td> <td>Summer</td> <td>CCJS458C</td> <td>GC01   </td> <td>MLAW358A       </td> <td>nan            </td> <td>nan            </td> <td>Female</td> <td>20  </td> <td>Undergraduate </td> <td>CRIM-JUSTICE</td> <td>BSOS    </td> <td>Asian                    </td> <td>Hispanic No </td> <td>nan        </td> <td>Non-resident</td>\n",
       "        </tr>\n",
       "    </tbody>\n",
       "        <tr>\n",
       "            <td>2021</td> <td>Summer</td> <td>CCJS458C</td> <td>GC01   </td> <td>MLAW358A       </td> <td>nan            </td> <td>nan            </td> <td>Female</td> <td>21  </td> <td>Undergraduate </td> <td>CRIM-JUSTICE</td> <td>BSOS    </td> <td>White                    </td> <td>Hispanic No </td> <td>nan        </td> <td>Non-resident</td>\n",
       "        </tr>\n",
       "    </tbody>\n",
       "        <tr>\n",
       "            <td>2021</td> <td>Summer</td> <td>CCJS458C</td> <td>GC01   </td> <td>MLAW358A       </td> <td>nan            </td> <td>nan            </td> <td>Female</td> <td>21  </td> <td>Undergraduate </td> <td>CRIM-JUSTICE</td> <td>BSOS    </td> <td>Black or African American</td> <td>Hispanic No </td> <td>nan        </td> <td>Resident    </td>\n",
       "        </tr>\n",
       "    </tbody>\n",
       "        <tr>\n",
       "            <td>2021</td> <td>Summer</td> <td>CCJS458C</td> <td>GC01   </td> <td>MLAW358A       </td> <td>nan            </td> <td>nan            </td> <td>Female</td> <td>21  </td> <td>Undergraduate </td> <td>CRIM-JUSTICE</td> <td>BSOS    </td> <td>Hispanic                 </td> <td>Hispanic Yes</td> <td>nan        </td> <td>Resident    </td>\n",
       "        </tr>\n",
       "    </tbody>\n",
       "        <tr>\n",
       "            <td>2021</td> <td>Summer</td> <td>CCJS458C</td> <td>GC01   </td> <td>MLAW358A       </td> <td>nan            </td> <td>nan            </td> <td>Female</td> <td>26  </td> <td>Undergraduate </td> <td>CRIM-JUSTICE</td> <td>BSOS    </td> <td>Hispanic                 </td> <td>Hispanic Yes</td> <td>nan        </td> <td>Resident    </td>\n",
       "        </tr>\n",
       "    </tbody>\n",
       "        <tr>\n",
       "            <td>2021</td> <td>Summer</td> <td>CCJS458C</td> <td>GC01   </td> <td>MLAW358A       </td> <td>nan            </td> <td>nan            </td> <td>Female</td> <td>22  </td> <td>Undergraduate </td> <td>CRIM-JUSTICE</td> <td>BSOS    </td> <td>Hispanic                 </td> <td>Hispanic Yes</td> <td>nan        </td> <td>Resident    </td>\n",
       "        </tr>\n",
       "    </tbody>\n",
       "        <tr>\n",
       "            <td>2021</td> <td>Summer</td> <td>CCJS458C</td> <td>GC01   </td> <td>MLAW358A       </td> <td>nan            </td> <td>nan            </td> <td>Female</td> <td>24  </td> <td>Undergraduate </td> <td>PUB POLICY  </td> <td>PLCY    </td> <td>Black or African American</td> <td>Hispanic No </td> <td>nan        </td> <td>Resident    </td>\n",
       "        </tr>\n",
       "    </tbody>\n",
       "        <tr>\n",
       "            <td>2021</td> <td>Summer</td> <td>CCJS458C</td> <td>GC01   </td> <td>MLAW358A       </td> <td>nan            </td> <td>nan            </td> <td>Female</td> <td>21  </td> <td>Undergraduate </td> <td>ACA ACH PROG</td> <td>UGST    </td> <td>Hispanic                 </td> <td>Hispanic Yes</td> <td>nan        </td> <td>Resident    </td>\n",
       "        </tr>\n",
       "    </tbody>\n",
       "        <tr>\n",
       "            <td>2021</td> <td>Summer</td> <td>ENGL391 </td> <td>GC01   </td> <td>nan            </td> <td>nan            </td> <td>nan            </td> <td>Female</td> <td>22  </td> <td>Undergraduate </td> <td>AGST EDUC   </td> <td>AGNR    </td> <td>White                    </td> <td>Hispanic No </td> <td>nan        </td> <td>Resident    </td>\n",
       "        </tr>\n",
       "    </tbody>\n",
       "        <tr>\n",
       "            <td>2021</td> <td>Summer</td> <td>ENGL391 </td> <td>GC01   </td> <td>nan            </td> <td>nan            </td> <td>nan            </td> <td>Female</td> <td>32  </td> <td>Undergraduate </td> <td>CLASSICS    </td> <td>ARHU    </td> <td>Hispanic                 </td> <td>Hispanic Yes</td> <td>nan        </td> <td>Resident    </td>\n",
       "        </tr>\n",
       "    </tbody>\n",
       "</table>\n",
       "<p>... (37 rows omitted)</p>"
      ],
      "text/plain": [
       "Year | Term   | Course   | Section | Cross listing 1 | Cross listing 2 | Cross listing 3 | Gender | Age  | Student Status | Major        | College  | Race                      | Ethnicity    | Citizenship | Residency\n",
       "2021 | Summer | CCJS458C | GC01    | MLAW358A        | nan             | nan             | Female | 20   | Undergraduate  | CRIM-JUSTICE | BSOS     | Asian                     | Hispanic No  | nan         | Non-resident\n",
       "2021 | Summer | CCJS458C | GC01    | MLAW358A        | nan             | nan             | Female | 21   | Undergraduate  | CRIM-JUSTICE | BSOS     | White                     | Hispanic No  | nan         | Non-resident\n",
       "2021 | Summer | CCJS458C | GC01    | MLAW358A        | nan             | nan             | Female | 21   | Undergraduate  | CRIM-JUSTICE | BSOS     | Black or African American | Hispanic No  | nan         | Resident\n",
       "2021 | Summer | CCJS458C | GC01    | MLAW358A        | nan             | nan             | Female | 21   | Undergraduate  | CRIM-JUSTICE | BSOS     | Hispanic                  | Hispanic Yes | nan         | Resident\n",
       "2021 | Summer | CCJS458C | GC01    | MLAW358A        | nan             | nan             | Female | 26   | Undergraduate  | CRIM-JUSTICE | BSOS     | Hispanic                  | Hispanic Yes | nan         | Resident\n",
       "2021 | Summer | CCJS458C | GC01    | MLAW358A        | nan             | nan             | Female | 22   | Undergraduate  | CRIM-JUSTICE | BSOS     | Hispanic                  | Hispanic Yes | nan         | Resident\n",
       "2021 | Summer | CCJS458C | GC01    | MLAW358A        | nan             | nan             | Female | 24   | Undergraduate  | PUB POLICY   | PLCY     | Black or African American | Hispanic No  | nan         | Resident\n",
       "2021 | Summer | CCJS458C | GC01    | MLAW358A        | nan             | nan             | Female | 21   | Undergraduate  | ACA ACH PROG | UGST     | Hispanic                  | Hispanic Yes | nan         | Resident\n",
       "2021 | Summer | ENGL391  | GC01    | nan             | nan             | nan             | Female | 22   | Undergraduate  | AGST EDUC    | AGNR     | White                     | Hispanic No  | nan         | Resident\n",
       "2021 | Summer | ENGL391  | GC01    | nan             | nan             | nan             | Female | 32   | Undergraduate  | CLASSICS     | ARHU     | Hispanic                  | Hispanic Yes | nan         | Resident\n",
       "... (37 rows omitted)"
      ]
     },
     "execution_count": 468,
     "metadata": {},
     "output_type": "execute_result"
    }
   ],
   "source": [
    "Twenty_TwentyOne_Summer_F = tbl_4.where('Gender', are.equal_to('Female'))\n",
    "Twenty_TwentyOne_Summer_F"
   ]
  },
  {
   "cell_type": "code",
   "execution_count": 469,
   "metadata": {},
   "outputs": [
    {
     "name": "stdout",
     "output_type": "stream",
     "text": [
      "17\n",
      "47\n",
      "64\n"
     ]
    }
   ],
   "source": [
    "Twenty_TwentyOne_Summer_M_Total = Twenty_TwentyOne_Summer_M.num_rows\n",
    "Twenty_TwentyOne_Summer_F_Total= Twenty_TwentyOne_Summer_F.num_rows\n",
    "Twenty_TwentyOne_Summer_Total =Twenty_TwentyOne_Summer_M_Total + Twenty_TwentyOne_Summer_F_Total\n",
    "print(Twenty_TwentyOne_Summer_M_Total)\n",
    "print(Twenty_TwentyOne_Summer_F_Total)\n",
    "print(Twenty_TwentyOne_Summer_Total)"
   ]
  },
  {
   "cell_type": "markdown",
   "metadata": {},
   "source": [
    "17 Males enrolled Summer21, 47 Females enrolled Summer21, Total Enrollment 64 Summer21"
   ]
  },
  {
   "cell_type": "code",
   "execution_count": 470,
   "metadata": {},
   "outputs": [
    {
     "name": "stdout",
     "output_type": "stream",
     "text": [
      "26.5625 %\n"
     ]
    }
   ],
   "source": [
    "Percent_M_Enrolled_S21 = (Twenty_TwentyOne_Summer_M_Total/Twenty_TwentyOne_Summer_Total)*100\n",
    "print(Percent_M_Enrolled_S21,'%')"
   ]
  },
  {
   "cell_type": "code",
   "execution_count": 471,
   "metadata": {},
   "outputs": [
    {
     "name": "stdout",
     "output_type": "stream",
     "text": [
      "73.4375 %\n"
     ]
    }
   ],
   "source": [
    "Percent_F_Enrolled_S21 = (Twenty_TwentyOne_Summer_F_Total/Twenty_TwentyOne_Summer_Total)*100\n",
    "print(Percent_F_Enrolled_S21,'%')"
   ]
  },
  {
   "cell_type": "code",
   "execution_count": 472,
   "metadata": {},
   "outputs": [
    {
     "data": {
      "text/html": [
       "<table border=\"1\" class=\"dataframe\">\n",
       "    <thead>\n",
       "        <tr>\n",
       "            <th>Year</th> <th>Term</th> <th>Course</th> <th>Section</th> <th>Cross listing 1</th> <th>Cross listing 2</th> <th>Cross listing 3</th> <th>Gender</th> <th>Age</th> <th>Student Status</th> <th>Major </th> <th>College </th> <th>Race</th> <th>Ethnicity</th> <th>Citizenship</th> <th>Residency</th>\n",
       "        </tr>\n",
       "    </thead>\n",
       "    <tbody>\n",
       "        <tr>\n",
       "            <td>2021</td> <td>Fall</td> <td>ANSC243</td> <td>101    </td> <td>nan            </td> <td>nan            </td> <td>nan            </td> <td>Female</td> <td>27  </td> <td>Undergraduate </td> <td>ANIMAL SCI  </td> <td>AGNR    </td> <td>Two or More              </td> <td>Hispanic No     </td> <td>US Citizen </td> <td>Resident                      </td>\n",
       "        </tr>\n",
       "    </tbody>\n",
       "        <tr>\n",
       "            <td>2021</td> <td>Fall</td> <td>ANSC243</td> <td>101    </td> <td>nan            </td> <td>nan            </td> <td>nan            </td> <td>Female</td> <td>19  </td> <td>Undergraduate </td> <td>LTSC UNDECID</td> <td>LTSC    </td> <td>Hispanic                 </td> <td>Hispanic Yes    </td> <td>US Citizen </td> <td>Resident                      </td>\n",
       "        </tr>\n",
       "    </tbody>\n",
       "        <tr>\n",
       "            <td>2021</td> <td>Fall</td> <td>ANSC243</td> <td>101    </td> <td>nan            </td> <td>nan            </td> <td>nan            </td> <td>Male  </td> <td>31  </td> <td>Undergraduate </td> <td>LTSC        </td> <td>LTSC    </td> <td>Hispanic                 </td> <td>Hispanic Yes    </td> <td>US Citizen </td> <td>USM Military NonResident InSta</td>\n",
       "        </tr>\n",
       "    </tbody>\n",
       "        <tr>\n",
       "            <td>2021</td> <td>Fall</td> <td>ANSC243</td> <td>101    </td> <td>nan            </td> <td>nan            </td> <td>nan            </td> <td>Female</td> <td>21  </td> <td>Undergraduate </td> <td>ANIMAL SCI  </td> <td>AGNR    </td> <td>White                    </td> <td>Hispanic No     </td> <td>US Citizen </td> <td>Non-resident                  </td>\n",
       "        </tr>\n",
       "    </tbody>\n",
       "        <tr>\n",
       "            <td>2021</td> <td>Fall</td> <td>ANSC243</td> <td>101    </td> <td>nan            </td> <td>nan            </td> <td>nan            </td> <td>Male  </td> <td>20  </td> <td>Undergraduate </td> <td>COM-AGRI-VET</td> <td>AGNR    </td> <td>Unknown                  </td> <td>Hispanic Unknown</td> <td>US Citizen </td> <td>Resident                      </td>\n",
       "        </tr>\n",
       "    </tbody>\n",
       "        <tr>\n",
       "            <td>2021</td> <td>Fall</td> <td>ANSC243</td> <td>101    </td> <td>nan            </td> <td>nan            </td> <td>nan            </td> <td>Male  </td> <td>22  </td> <td>Undergraduate </td> <td>ANIMAL SCI  </td> <td>AGNR    </td> <td>White                    </td> <td>Hispanic No     </td> <td>US Citizen </td> <td>Non-resident                  </td>\n",
       "        </tr>\n",
       "    </tbody>\n",
       "        <tr>\n",
       "            <td>2021</td> <td>Fall</td> <td>ANSC243</td> <td>101    </td> <td>nan            </td> <td>nan            </td> <td>nan            </td> <td>Female</td> <td>20  </td> <td>Undergraduate </td> <td>LTSC UNDECID</td> <td>LTSC    </td> <td>Black or African American</td> <td>Hispanic No     </td> <td>US Citizen </td> <td>Resident                      </td>\n",
       "        </tr>\n",
       "    </tbody>\n",
       "        <tr>\n",
       "            <td>2021</td> <td>Fall</td> <td>ANSC243</td> <td>101    </td> <td>nan            </td> <td>nan            </td> <td>nan            </td> <td>Female</td> <td>21  </td> <td>Undergraduate </td> <td>LTSC        </td> <td>LTSC    </td> <td>Hispanic                 </td> <td>Hispanic Yes    </td> <td>US Citizen </td> <td>Resident                      </td>\n",
       "        </tr>\n",
       "    </tbody>\n",
       "        <tr>\n",
       "            <td>2021</td> <td>Fall</td> <td>ANSC243</td> <td>101    </td> <td>nan            </td> <td>nan            </td> <td>nan            </td> <td>Female</td> <td>21  </td> <td>Undergraduate </td> <td>LINGUISTICS </td> <td>ARHU    </td> <td>Asian                    </td> <td>Hispanic No     </td> <td>US Citizen </td> <td>Resident                      </td>\n",
       "        </tr>\n",
       "    </tbody>\n",
       "        <tr>\n",
       "            <td>2021</td> <td>Fall</td> <td>ANSC243</td> <td>101    </td> <td>nan            </td> <td>nan            </td> <td>nan            </td> <td>Female</td> <td>20  </td> <td>Undergraduate </td> <td>ANIMAL SCI  </td> <td>AGNR    </td> <td>White                    </td> <td>Hispanic No     </td> <td>US Citizen </td> <td>Non-resident                  </td>\n",
       "        </tr>\n",
       "    </tbody>\n",
       "</table>\n",
       "<p>... (279 rows omitted)</p>"
      ],
      "text/plain": [
       "Year | Term | Course  | Section | Cross listing 1 | Cross listing 2 | Cross listing 3 | Gender | Age  | Student Status | Major        | College  | Race                      | Ethnicity        | Citizenship | Residency\n",
       "2021 | Fall | ANSC243 | 101     | nan             | nan             | nan             | Female | 27   | Undergraduate  | ANIMAL SCI   | AGNR     | Two or More               | Hispanic No      | US Citizen  | Resident\n",
       "2021 | Fall | ANSC243 | 101     | nan             | nan             | nan             | Female | 19   | Undergraduate  | LTSC UNDECID | LTSC     | Hispanic                  | Hispanic Yes     | US Citizen  | Resident\n",
       "2021 | Fall | ANSC243 | 101     | nan             | nan             | nan             | Male   | 31   | Undergraduate  | LTSC         | LTSC     | Hispanic                  | Hispanic Yes     | US Citizen  | USM Military NonResident InSta\n",
       "2021 | Fall | ANSC243 | 101     | nan             | nan             | nan             | Female | 21   | Undergraduate  | ANIMAL SCI   | AGNR     | White                     | Hispanic No      | US Citizen  | Non-resident\n",
       "2021 | Fall | ANSC243 | 101     | nan             | nan             | nan             | Male   | 20   | Undergraduate  | COM-AGRI-VET | AGNR     | Unknown                   | Hispanic Unknown | US Citizen  | Resident\n",
       "2021 | Fall | ANSC243 | 101     | nan             | nan             | nan             | Male   | 22   | Undergraduate  | ANIMAL SCI   | AGNR     | White                     | Hispanic No      | US Citizen  | Non-resident\n",
       "2021 | Fall | ANSC243 | 101     | nan             | nan             | nan             | Female | 20   | Undergraduate  | LTSC UNDECID | LTSC     | Black or African American | Hispanic No      | US Citizen  | Resident\n",
       "2021 | Fall | ANSC243 | 101     | nan             | nan             | nan             | Female | 21   | Undergraduate  | LTSC         | LTSC     | Hispanic                  | Hispanic Yes     | US Citizen  | Resident\n",
       "2021 | Fall | ANSC243 | 101     | nan             | nan             | nan             | Female | 21   | Undergraduate  | LINGUISTICS  | ARHU     | Asian                     | Hispanic No      | US Citizen  | Resident\n",
       "2021 | Fall | ANSC243 | 101     | nan             | nan             | nan             | Female | 20   | Undergraduate  | ANIMAL SCI   | AGNR     | White                     | Hispanic No      | US Citizen  | Non-resident\n",
       "... (279 rows omitted)"
      ]
     },
     "execution_count": 472,
     "metadata": {},
     "output_type": "execute_result"
    }
   ],
   "source": [
    "tbl_5= Table.read_table('../data/Data_OIA.xlsx - Fall 2021.csv')\n",
    "tbl_5"
   ]
  },
  {
   "cell_type": "code",
   "execution_count": 473,
   "metadata": {},
   "outputs": [
    {
     "data": {
      "text/html": [
       "<table border=\"1\" class=\"dataframe\">\n",
       "    <thead>\n",
       "        <tr>\n",
       "            <th>Year</th> <th>Term</th> <th>Course</th> <th>Section</th> <th>Cross listing 1</th> <th>Cross listing 2</th> <th>Cross listing 3</th> <th>Gender</th> <th>Age</th> <th>Student Status</th> <th>Major </th> <th>College </th> <th>Race</th> <th>Ethnicity</th> <th>Citizenship</th> <th>Residency</th>\n",
       "        </tr>\n",
       "    </thead>\n",
       "    <tbody>\n",
       "        <tr>\n",
       "            <td>2021</td> <td>Fall</td> <td>ANSC243</td> <td>101    </td> <td>nan            </td> <td>nan            </td> <td>nan            </td> <td>Male  </td> <td>31  </td> <td>Undergraduate </td> <td>LTSC        </td> <td>LTSC    </td> <td>Hispanic</td> <td>Hispanic Yes    </td> <td>US Citizen    </td> <td>USM Military NonResident InSta</td>\n",
       "        </tr>\n",
       "    </tbody>\n",
       "        <tr>\n",
       "            <td>2021</td> <td>Fall</td> <td>ANSC243</td> <td>101    </td> <td>nan            </td> <td>nan            </td> <td>nan            </td> <td>Male  </td> <td>20  </td> <td>Undergraduate </td> <td>COM-AGRI-VET</td> <td>AGNR    </td> <td>Unknown </td> <td>Hispanic Unknown</td> <td>US Citizen    </td> <td>Resident                      </td>\n",
       "        </tr>\n",
       "    </tbody>\n",
       "        <tr>\n",
       "            <td>2021</td> <td>Fall</td> <td>ANSC243</td> <td>101    </td> <td>nan            </td> <td>nan            </td> <td>nan            </td> <td>Male  </td> <td>22  </td> <td>Undergraduate </td> <td>ANIMAL SCI  </td> <td>AGNR    </td> <td>White   </td> <td>Hispanic No     </td> <td>US Citizen    </td> <td>Non-resident                  </td>\n",
       "        </tr>\n",
       "    </tbody>\n",
       "        <tr>\n",
       "            <td>2021</td> <td>Fall</td> <td>ANSC243</td> <td>101    </td> <td>nan            </td> <td>nan            </td> <td>nan            </td> <td>Male  </td> <td>18  </td> <td>Undergraduate </td> <td>COM-AGRI-VET</td> <td>AGNR    </td> <td>White   </td> <td>Hispanic No     </td> <td>US Citizen    </td> <td>Resident                      </td>\n",
       "        </tr>\n",
       "    </tbody>\n",
       "        <tr>\n",
       "            <td>2021</td> <td>Fall</td> <td>NFSC230</td> <td>101    </td> <td>nan            </td> <td>nan            </td> <td>nan            </td> <td>Male  </td> <td>23  </td> <td>Undergraduate </td> <td>ECONOMICS   </td> <td>BSOS    </td> <td>Asian   </td> <td>Hispanic No     </td> <td>US Citizen    </td> <td>Resident                      </td>\n",
       "        </tr>\n",
       "    </tbody>\n",
       "        <tr>\n",
       "            <td>2021</td> <td>Fall</td> <td>NFSC230</td> <td>101    </td> <td>nan            </td> <td>nan            </td> <td>nan            </td> <td>Male  </td> <td>37  </td> <td>Graduate      </td> <td>ADV SPEC STU</td> <td>GRAD    </td> <td>White   </td> <td>Hispanic No     </td> <td>US Citizen    </td> <td>Resident                      </td>\n",
       "        </tr>\n",
       "    </tbody>\n",
       "        <tr>\n",
       "            <td>2021</td> <td>Fall</td> <td>NFSC230</td> <td>101    </td> <td>nan            </td> <td>nan            </td> <td>nan            </td> <td>Male  </td> <td>24  </td> <td>Undergraduate </td> <td>SIE         </td> <td>CMNS    </td> <td>Asian   </td> <td>Hispanic No     </td> <td>US Citizen    </td> <td>Resident                      </td>\n",
       "        </tr>\n",
       "    </tbody>\n",
       "        <tr>\n",
       "            <td>2021</td> <td>Fall</td> <td>GVPT417</td> <td>101    </td> <td>nan            </td> <td>nan            </td> <td>nan            </td> <td>Male  </td> <td>20  </td> <td>Undergraduate </td> <td>ENV S&P-PLTC</td> <td>BSOS    </td> <td>White   </td> <td>Hispanic No     </td> <td>Non US citizen</td> <td>Resident                      </td>\n",
       "        </tr>\n",
       "    </tbody>\n",
       "        <tr>\n",
       "            <td>2021</td> <td>Fall</td> <td>GVPT417</td> <td>101    </td> <td>nan            </td> <td>nan            </td> <td>nan            </td> <td>Male  </td> <td>21  </td> <td>Undergraduate </td> <td>ENV S&P-PLTC</td> <td>BSOS    </td> <td>White   </td> <td>Hispanic No     </td> <td>US Citizen    </td> <td>Resident                      </td>\n",
       "        </tr>\n",
       "    </tbody>\n",
       "        <tr>\n",
       "            <td>2021</td> <td>Fall</td> <td>GVPT417</td> <td>101    </td> <td>nan            </td> <td>nan            </td> <td>nan            </td> <td>Male  </td> <td>24  </td> <td>Undergraduate </td> <td>ENV S&P-PLTC</td> <td>BSOS    </td> <td>White   </td> <td>Hispanic No     </td> <td>US Citizen    </td> <td>Resident                      </td>\n",
       "        </tr>\n",
       "    </tbody>\n",
       "</table>\n",
       "<p>... (99 rows omitted)</p>"
      ],
      "text/plain": [
       "Year | Term | Course  | Section | Cross listing 1 | Cross listing 2 | Cross listing 3 | Gender | Age  | Student Status | Major        | College  | Race     | Ethnicity        | Citizenship    | Residency\n",
       "2021 | Fall | ANSC243 | 101     | nan             | nan             | nan             | Male   | 31   | Undergraduate  | LTSC         | LTSC     | Hispanic | Hispanic Yes     | US Citizen     | USM Military NonResident InSta\n",
       "2021 | Fall | ANSC243 | 101     | nan             | nan             | nan             | Male   | 20   | Undergraduate  | COM-AGRI-VET | AGNR     | Unknown  | Hispanic Unknown | US Citizen     | Resident\n",
       "2021 | Fall | ANSC243 | 101     | nan             | nan             | nan             | Male   | 22   | Undergraduate  | ANIMAL SCI   | AGNR     | White    | Hispanic No      | US Citizen     | Non-resident\n",
       "2021 | Fall | ANSC243 | 101     | nan             | nan             | nan             | Male   | 18   | Undergraduate  | COM-AGRI-VET | AGNR     | White    | Hispanic No      | US Citizen     | Resident\n",
       "2021 | Fall | NFSC230 | 101     | nan             | nan             | nan             | Male   | 23   | Undergraduate  | ECONOMICS    | BSOS     | Asian    | Hispanic No      | US Citizen     | Resident\n",
       "2021 | Fall | NFSC230 | 101     | nan             | nan             | nan             | Male   | 37   | Graduate       | ADV SPEC STU | GRAD     | White    | Hispanic No      | US Citizen     | Resident\n",
       "2021 | Fall | NFSC230 | 101     | nan             | nan             | nan             | Male   | 24   | Undergraduate  | SIE          | CMNS     | Asian    | Hispanic No      | US Citizen     | Resident\n",
       "2021 | Fall | GVPT417 | 101     | nan             | nan             | nan             | Male   | 20   | Undergraduate  | ENV S&P-PLTC | BSOS     | White    | Hispanic No      | Non US citizen | Resident\n",
       "2021 | Fall | GVPT417 | 101     | nan             | nan             | nan             | Male   | 21   | Undergraduate  | ENV S&P-PLTC | BSOS     | White    | Hispanic No      | US Citizen     | Resident\n",
       "2021 | Fall | GVPT417 | 101     | nan             | nan             | nan             | Male   | 24   | Undergraduate  | ENV S&P-PLTC | BSOS     | White    | Hispanic No      | US Citizen     | Resident\n",
       "... (99 rows omitted)"
      ]
     },
     "execution_count": 473,
     "metadata": {},
     "output_type": "execute_result"
    }
   ],
   "source": [
    "Twenty_TwentyOne_Fall_M = tbl_5.where('Gender', are.equal_to('Male'))\n",
    "Twenty_TwentyOne_Fall_M"
   ]
  },
  {
   "cell_type": "code",
   "execution_count": 474,
   "metadata": {},
   "outputs": [
    {
     "data": {
      "text/html": [
       "<table border=\"1\" class=\"dataframe\">\n",
       "    <thead>\n",
       "        <tr>\n",
       "            <th>Year</th> <th>Term</th> <th>Course</th> <th>Section</th> <th>Cross listing 1</th> <th>Cross listing 2</th> <th>Cross listing 3</th> <th>Gender</th> <th>Age</th> <th>Student Status</th> <th>Major </th> <th>College </th> <th>Race</th> <th>Ethnicity</th> <th>Citizenship</th> <th>Residency</th>\n",
       "        </tr>\n",
       "    </thead>\n",
       "    <tbody>\n",
       "        <tr>\n",
       "            <td>2021</td> <td>Fall</td> <td>ANSC243 </td> <td>101    </td> <td>nan            </td> <td>nan            </td> <td>nan            </td> <td>Female</td> <td>27  </td> <td>Undergraduate </td> <td>ANIMAL SCI  </td> <td>AGNR    </td> <td>Two or More              </td> <td>Hispanic No </td> <td>US Citizen </td> <td>Resident    </td>\n",
       "        </tr>\n",
       "    </tbody>\n",
       "        <tr>\n",
       "            <td>2021</td> <td>Fall</td> <td>ANSC243 </td> <td>101    </td> <td>nan            </td> <td>nan            </td> <td>nan            </td> <td>Female</td> <td>19  </td> <td>Undergraduate </td> <td>LTSC UNDECID</td> <td>LTSC    </td> <td>Hispanic                 </td> <td>Hispanic Yes</td> <td>US Citizen </td> <td>Resident    </td>\n",
       "        </tr>\n",
       "    </tbody>\n",
       "        <tr>\n",
       "            <td>2021</td> <td>Fall</td> <td>ANSC243 </td> <td>101    </td> <td>nan            </td> <td>nan            </td> <td>nan            </td> <td>Female</td> <td>21  </td> <td>Undergraduate </td> <td>ANIMAL SCI  </td> <td>AGNR    </td> <td>White                    </td> <td>Hispanic No </td> <td>US Citizen </td> <td>Non-resident</td>\n",
       "        </tr>\n",
       "    </tbody>\n",
       "        <tr>\n",
       "            <td>2021</td> <td>Fall</td> <td>ANSC243 </td> <td>101    </td> <td>nan            </td> <td>nan            </td> <td>nan            </td> <td>Female</td> <td>20  </td> <td>Undergraduate </td> <td>LTSC UNDECID</td> <td>LTSC    </td> <td>Black or African American</td> <td>Hispanic No </td> <td>US Citizen </td> <td>Resident    </td>\n",
       "        </tr>\n",
       "    </tbody>\n",
       "        <tr>\n",
       "            <td>2021</td> <td>Fall</td> <td>ANSC243 </td> <td>101    </td> <td>nan            </td> <td>nan            </td> <td>nan            </td> <td>Female</td> <td>21  </td> <td>Undergraduate </td> <td>LTSC        </td> <td>LTSC    </td> <td>Hispanic                 </td> <td>Hispanic Yes</td> <td>US Citizen </td> <td>Resident    </td>\n",
       "        </tr>\n",
       "    </tbody>\n",
       "        <tr>\n",
       "            <td>2021</td> <td>Fall</td> <td>ANSC243 </td> <td>101    </td> <td>nan            </td> <td>nan            </td> <td>nan            </td> <td>Female</td> <td>21  </td> <td>Undergraduate </td> <td>LINGUISTICS </td> <td>ARHU    </td> <td>Asian                    </td> <td>Hispanic No </td> <td>US Citizen </td> <td>Resident    </td>\n",
       "        </tr>\n",
       "    </tbody>\n",
       "        <tr>\n",
       "            <td>2021</td> <td>Fall</td> <td>ANSC243 </td> <td>101    </td> <td>nan            </td> <td>nan            </td> <td>nan            </td> <td>Female</td> <td>20  </td> <td>Undergraduate </td> <td>ANIMAL SCI  </td> <td>AGNR    </td> <td>White                    </td> <td>Hispanic No </td> <td>US Citizen </td> <td>Non-resident</td>\n",
       "        </tr>\n",
       "    </tbody>\n",
       "        <tr>\n",
       "            <td>2021</td> <td>Fall</td> <td>ANSC243 </td> <td>101    </td> <td>nan            </td> <td>nan            </td> <td>nan            </td> <td>Female</td> <td>21  </td> <td>Undergraduate </td> <td>ANIMAL SCI  </td> <td>AGNR    </td> <td>White                    </td> <td>Hispanic No </td> <td>US Citizen </td> <td>Resident    </td>\n",
       "        </tr>\n",
       "    </tbody>\n",
       "        <tr>\n",
       "            <td>2021</td> <td>Fall</td> <td>CMLT398M</td> <td>101    </td> <td>MITH301        </td> <td>ENGL378M       </td> <td>LASC348C       </td> <td>Female</td> <td>20  </td> <td>Undergraduate </td> <td>IAP         </td> <td>LTSC    </td> <td>Two or More              </td> <td>Hispanic No </td> <td>US Citizen </td> <td>Resident    </td>\n",
       "        </tr>\n",
       "    </tbody>\n",
       "        <tr>\n",
       "            <td>2021</td> <td>Fall</td> <td>ENGL378M</td> <td>101    </td> <td>MITH301        </td> <td>CMLT398M       </td> <td>LASC348C       </td> <td>Female</td> <td>19  </td> <td>Undergraduate </td> <td>ENGLISH     </td> <td>ARHU    </td> <td>Hispanic                 </td> <td>Hispanic Yes</td> <td>US Citizen </td> <td>Resident    </td>\n",
       "        </tr>\n",
       "    </tbody>\n",
       "</table>\n",
       "<p>... (170 rows omitted)</p>"
      ],
      "text/plain": [
       "Year | Term | Course   | Section | Cross listing 1 | Cross listing 2 | Cross listing 3 | Gender | Age  | Student Status | Major        | College  | Race                      | Ethnicity    | Citizenship | Residency\n",
       "2021 | Fall | ANSC243  | 101     | nan             | nan             | nan             | Female | 27   | Undergraduate  | ANIMAL SCI   | AGNR     | Two or More               | Hispanic No  | US Citizen  | Resident\n",
       "2021 | Fall | ANSC243  | 101     | nan             | nan             | nan             | Female | 19   | Undergraduate  | LTSC UNDECID | LTSC     | Hispanic                  | Hispanic Yes | US Citizen  | Resident\n",
       "2021 | Fall | ANSC243  | 101     | nan             | nan             | nan             | Female | 21   | Undergraduate  | ANIMAL SCI   | AGNR     | White                     | Hispanic No  | US Citizen  | Non-resident\n",
       "2021 | Fall | ANSC243  | 101     | nan             | nan             | nan             | Female | 20   | Undergraduate  | LTSC UNDECID | LTSC     | Black or African American | Hispanic No  | US Citizen  | Resident\n",
       "2021 | Fall | ANSC243  | 101     | nan             | nan             | nan             | Female | 21   | Undergraduate  | LTSC         | LTSC     | Hispanic                  | Hispanic Yes | US Citizen  | Resident\n",
       "2021 | Fall | ANSC243  | 101     | nan             | nan             | nan             | Female | 21   | Undergraduate  | LINGUISTICS  | ARHU     | Asian                     | Hispanic No  | US Citizen  | Resident\n",
       "2021 | Fall | ANSC243  | 101     | nan             | nan             | nan             | Female | 20   | Undergraduate  | ANIMAL SCI   | AGNR     | White                     | Hispanic No  | US Citizen  | Non-resident\n",
       "2021 | Fall | ANSC243  | 101     | nan             | nan             | nan             | Female | 21   | Undergraduate  | ANIMAL SCI   | AGNR     | White                     | Hispanic No  | US Citizen  | Resident\n",
       "2021 | Fall | CMLT398M | 101     | MITH301         | ENGL378M        | LASC348C        | Female | 20   | Undergraduate  | IAP          | LTSC     | Two or More               | Hispanic No  | US Citizen  | Resident\n",
       "2021 | Fall | ENGL378M | 101     | MITH301         | CMLT398M        | LASC348C        | Female | 19   | Undergraduate  | ENGLISH      | ARHU     | Hispanic                  | Hispanic Yes | US Citizen  | Resident\n",
       "... (170 rows omitted)"
      ]
     },
     "execution_count": 474,
     "metadata": {},
     "output_type": "execute_result"
    }
   ],
   "source": [
    "Twenty_TwentyOne_Fall_F = tbl_5.where('Gender', are.equal_to('Female'))\n",
    "Twenty_TwentyOne_Fall_F"
   ]
  },
  {
   "cell_type": "code",
   "execution_count": 475,
   "metadata": {},
   "outputs": [
    {
     "name": "stdout",
     "output_type": "stream",
     "text": [
      "109\n",
      "180\n",
      "289\n"
     ]
    }
   ],
   "source": [
    "Twenty_TwentyOne_Fall_M_Total= Twenty_TwentyOne_Fall_M.num_rows\n",
    "Twenty_TwentyOne_Fall_F_Total= Twenty_TwentyOne_Fall_F.num_rows\n",
    "Twenty_TwentyOne_Fall_Total = Twenty_TwentyOne_Fall_M_Total + Twenty_TwentyOne_Fall_F_Total\n",
    "print(Twenty_TwentyOne_Fall_M_Total)\n",
    "print(Twenty_TwentyOne_Fall_F_Total)\n",
    "print(Twenty_TwentyOne_Fall_Total)"
   ]
  },
  {
   "cell_type": "markdown",
   "metadata": {},
   "source": [
    "109 Males total enrolled F21, 180 Females total enrolled F21, 289 total enrolled F21"
   ]
  },
  {
   "cell_type": "code",
   "execution_count": 476,
   "metadata": {},
   "outputs": [
    {
     "name": "stdout",
     "output_type": "stream",
     "text": [
      "37.71626297577855 %\n"
     ]
    }
   ],
   "source": [
    "Percent_M_Enrolled_F21 = (Twenty_TwentyOne_Fall_M_Total/Twenty_TwentyOne_Fall_Total)*100\n",
    "print(Percent_M_Enrolled_F21, '%')"
   ]
  },
  {
   "cell_type": "code",
   "execution_count": 477,
   "metadata": {},
   "outputs": [
    {
     "name": "stdout",
     "output_type": "stream",
     "text": [
      "62.28373702422145 %\n"
     ]
    }
   ],
   "source": [
    "Percent_F_Enrolled_F21 = (Twenty_TwentyOne_Fall_F_Total/Twenty_TwentyOne_Fall_Total)*100\n",
    "print(Percent_F_Enrolled_F21, '%')"
   ]
  },
  {
   "cell_type": "markdown",
   "metadata": {},
   "source": [
    "Winter 2022"
   ]
  },
  {
   "cell_type": "code",
   "execution_count": 478,
   "metadata": {},
   "outputs": [
    {
     "data": {
      "text/html": [
       "<table border=\"1\" class=\"dataframe\">\n",
       "    <thead>\n",
       "        <tr>\n",
       "            <th>Year</th> <th>Term</th> <th>Course</th> <th>Section</th> <th>Cross listing 1</th> <th>Cross listing 2</th> <th>Cross listing 3</th> <th>Gender</th> <th>Age</th> <th>Student Status</th> <th>Major </th> <th>College </th> <th>Race</th> <th>Ethnicity</th> <th>Citizenship</th> <th>Residency</th>\n",
       "        </tr>\n",
       "    </thead>\n",
       "    <tbody>\n",
       "        <tr>\n",
       "            <td>2022</td> <td>Winter</td> <td>ARCH678D</td> <td>GC01   </td> <td>nan            </td> <td>nan            </td> <td>nan            </td> <td>Male  </td> <td>23  </td> <td>Graduate      </td> <td>ARCHITECTURE</td> <td>ARCH    </td> <td>Hispanic                 </td> <td>Hispanic Yes    </td> <td>US Citizen    </td> <td>Resident    </td>\n",
       "        </tr>\n",
       "    </tbody>\n",
       "        <tr>\n",
       "            <td>2022</td> <td>Winter</td> <td>ARCH678D</td> <td>GC01   </td> <td>nan            </td> <td>nan            </td> <td>nan            </td> <td>Female</td> <td>27  </td> <td>Graduate      </td> <td>ARCHITECTURE</td> <td>ARCH    </td> <td>Hispanic                 </td> <td>Hispanic Yes    </td> <td>US Citizen    </td> <td>Resident    </td>\n",
       "        </tr>\n",
       "    </tbody>\n",
       "        <tr>\n",
       "            <td>2022</td> <td>Winter</td> <td>ARCH678D</td> <td>GC01   </td> <td>nan            </td> <td>nan            </td> <td>nan            </td> <td>Female</td> <td>22  </td> <td>Graduate      </td> <td>ARCHITECTURE</td> <td>ARCH    </td> <td>White                    </td> <td>Hispanic No     </td> <td>US Citizen    </td> <td>Resident    </td>\n",
       "        </tr>\n",
       "    </tbody>\n",
       "        <tr>\n",
       "            <td>2022</td> <td>Winter</td> <td>ARCH678D</td> <td>GC01   </td> <td>nan            </td> <td>nan            </td> <td>nan            </td> <td>Female</td> <td>22  </td> <td>Graduate      </td> <td>ARCHITECTURE</td> <td>ARCH    </td> <td>White                    </td> <td>Hispanic No     </td> <td>US Citizen    </td> <td>Resident    </td>\n",
       "        </tr>\n",
       "    </tbody>\n",
       "        <tr>\n",
       "            <td>2022</td> <td>Winter</td> <td>EDHI788U</td> <td>WB11   </td> <td>nan            </td> <td>nan            </td> <td>nan            </td> <td>Male  </td> <td>27  </td> <td>Graduate      </td> <td>MUSIC       </td> <td>ARHU    </td> <td>White                    </td> <td>Hispanic No     </td> <td>US Citizen    </td> <td>Non-resident</td>\n",
       "        </tr>\n",
       "    </tbody>\n",
       "        <tr>\n",
       "            <td>2022</td> <td>Winter</td> <td>RDEV689C</td> <td>GC01   </td> <td>nan            </td> <td>nan            </td> <td>nan            </td> <td>Male  </td> <td>30  </td> <td>Graduate      </td> <td>BMBA RDEV   </td> <td>BMGT    </td> <td>Unknown                  </td> <td>Hispanic Unknown</td> <td>US Citizen    </td> <td>Resident    </td>\n",
       "        </tr>\n",
       "    </tbody>\n",
       "        <tr>\n",
       "            <td>2022</td> <td>Winter</td> <td>EDHI788U</td> <td>WB11   </td> <td>nan            </td> <td>nan            </td> <td>nan            </td> <td>Female</td> <td>22  </td> <td>Graduate      </td> <td>HESI HIEP   </td> <td>EDUC    </td> <td>Asian                    </td> <td>Hispanic No     </td> <td>Non US citizen</td> <td>Non-resident</td>\n",
       "        </tr>\n",
       "    </tbody>\n",
       "        <tr>\n",
       "            <td>2022</td> <td>Winter</td> <td>EDHI488U</td> <td>WB11   </td> <td>nan            </td> <td>nan            </td> <td>nan            </td> <td>Female</td> <td>22  </td> <td>Graduate      </td> <td>TCH POL LDR </td> <td>EDUC    </td> <td>Black or African American</td> <td>Hispanic No     </td> <td>US Citizen    </td> <td>Non-resident</td>\n",
       "        </tr>\n",
       "    </tbody>\n",
       "        <tr>\n",
       "            <td>2022</td> <td>Winter</td> <td>EDHI788U</td> <td>WB11   </td> <td>nan            </td> <td>nan            </td> <td>nan            </td> <td>Female</td> <td>25  </td> <td>Graduate      </td> <td>HESI HISA   </td> <td>EDUC    </td> <td>Hispanic                 </td> <td>Hispanic Yes    </td> <td>US Citizen    </td> <td>Non-resident</td>\n",
       "        </tr>\n",
       "    </tbody>\n",
       "        <tr>\n",
       "            <td>2022</td> <td>Winter</td> <td>EDHI788U</td> <td>WB11   </td> <td>nan            </td> <td>nan            </td> <td>nan            </td> <td>Female</td> <td>25  </td> <td>Graduate      </td> <td>TCH POL LDR </td> <td>EDUC    </td> <td>White                    </td> <td>Hispanic No     </td> <td>US Citizen    </td> <td>Non-resident</td>\n",
       "        </tr>\n",
       "    </tbody>\n",
       "</table>\n",
       "<p>... (73 rows omitted)</p>"
      ],
      "text/plain": [
       "Year | Term   | Course   | Section | Cross listing 1 | Cross listing 2 | Cross listing 3 | Gender | Age  | Student Status | Major        | College  | Race                      | Ethnicity        | Citizenship    | Residency\n",
       "2022 | Winter | ARCH678D | GC01    | nan             | nan             | nan             | Male   | 23   | Graduate       | ARCHITECTURE | ARCH     | Hispanic                  | Hispanic Yes     | US Citizen     | Resident\n",
       "2022 | Winter | ARCH678D | GC01    | nan             | nan             | nan             | Female | 27   | Graduate       | ARCHITECTURE | ARCH     | Hispanic                  | Hispanic Yes     | US Citizen     | Resident\n",
       "2022 | Winter | ARCH678D | GC01    | nan             | nan             | nan             | Female | 22   | Graduate       | ARCHITECTURE | ARCH     | White                     | Hispanic No      | US Citizen     | Resident\n",
       "2022 | Winter | ARCH678D | GC01    | nan             | nan             | nan             | Female | 22   | Graduate       | ARCHITECTURE | ARCH     | White                     | Hispanic No      | US Citizen     | Resident\n",
       "2022 | Winter | EDHI788U | WB11    | nan             | nan             | nan             | Male   | 27   | Graduate       | MUSIC        | ARHU     | White                     | Hispanic No      | US Citizen     | Non-resident\n",
       "2022 | Winter | RDEV689C | GC01    | nan             | nan             | nan             | Male   | 30   | Graduate       | BMBA RDEV    | BMGT     | Unknown                   | Hispanic Unknown | US Citizen     | Resident\n",
       "2022 | Winter | EDHI788U | WB11    | nan             | nan             | nan             | Female | 22   | Graduate       | HESI HIEP    | EDUC     | Asian                     | Hispanic No      | Non US citizen | Non-resident\n",
       "2022 | Winter | EDHI488U | WB11    | nan             | nan             | nan             | Female | 22   | Graduate       | TCH POL LDR  | EDUC     | Black or African American | Hispanic No      | US Citizen     | Non-resident\n",
       "2022 | Winter | EDHI788U | WB11    | nan             | nan             | nan             | Female | 25   | Graduate       | HESI HISA    | EDUC     | Hispanic                  | Hispanic Yes     | US Citizen     | Non-resident\n",
       "2022 | Winter | EDHI788U | WB11    | nan             | nan             | nan             | Female | 25   | Graduate       | TCH POL LDR  | EDUC     | White                     | Hispanic No      | US Citizen     | Non-resident\n",
       "... (73 rows omitted)"
      ]
     },
     "execution_count": 478,
     "metadata": {},
     "output_type": "execute_result"
    }
   ],
   "source": [
    "tbl_6 = Table.read_table('../data/Data_OIA.xlsx - Winter 2022.csv')\n",
    "tbl_6"
   ]
  },
  {
   "cell_type": "code",
   "execution_count": 479,
   "metadata": {
    "scrolled": true
   },
   "outputs": [
    {
     "data": {
      "text/html": [
       "<table border=\"1\" class=\"dataframe\">\n",
       "    <thead>\n",
       "        <tr>\n",
       "            <th>Year</th> <th>Term</th> <th>Course</th> <th>Section</th> <th>Cross listing 1</th> <th>Cross listing 2</th> <th>Cross listing 3</th> <th>Gender</th> <th>Age</th> <th>Student Status</th> <th>Major </th> <th>College </th> <th>Race</th> <th>Ethnicity</th> <th>Citizenship</th> <th>Residency</th>\n",
       "        </tr>\n",
       "    </thead>\n",
       "    <tbody>\n",
       "        <tr>\n",
       "            <td>2022</td> <td>Winter</td> <td>ARCH678D</td> <td>GC01   </td> <td>nan            </td> <td>nan            </td> <td>nan            </td> <td>Male  </td> <td>23  </td> <td>Graduate      </td> <td>ARCHITECTURE</td> <td>ARCH    </td> <td>Hispanic</td> <td>Hispanic Yes    </td> <td>US Citizen </td> <td>Resident    </td>\n",
       "        </tr>\n",
       "    </tbody>\n",
       "        <tr>\n",
       "            <td>2022</td> <td>Winter</td> <td>EDHI788U</td> <td>WB11   </td> <td>nan            </td> <td>nan            </td> <td>nan            </td> <td>Male  </td> <td>27  </td> <td>Graduate      </td> <td>MUSIC       </td> <td>ARHU    </td> <td>White   </td> <td>Hispanic No     </td> <td>US Citizen </td> <td>Non-resident</td>\n",
       "        </tr>\n",
       "    </tbody>\n",
       "        <tr>\n",
       "            <td>2022</td> <td>Winter</td> <td>RDEV689C</td> <td>GC01   </td> <td>nan            </td> <td>nan            </td> <td>nan            </td> <td>Male  </td> <td>30  </td> <td>Graduate      </td> <td>BMBA RDEV   </td> <td>BMGT    </td> <td>Unknown </td> <td>Hispanic Unknown</td> <td>US Citizen </td> <td>Resident    </td>\n",
       "        </tr>\n",
       "    </tbody>\n",
       "        <tr>\n",
       "            <td>2022</td> <td>Winter</td> <td>LARC489N</td> <td>GC01   </td> <td>HONR338B       </td> <td>HONR348N       </td> <td>nan            </td> <td>Male  </td> <td>18  </td> <td>Undergraduate </td> <td>LANDSCP MGMT</td> <td>AGNR    </td> <td>Hispanic</td> <td>Hispanic Yes    </td> <td>US Citizen </td> <td>Resident    </td>\n",
       "        </tr>\n",
       "    </tbody>\n",
       "        <tr>\n",
       "            <td>2022</td> <td>Winter</td> <td>ENGL391 </td> <td>GC02   </td> <td>nan            </td> <td>nan            </td> <td>nan            </td> <td>Male  </td> <td>19  </td> <td>Undergraduate </td> <td>COMPUTER SCI</td> <td>CMNS    </td> <td>Asian   </td> <td>Hispanic No     </td> <td>US Citizen </td> <td>Resident    </td>\n",
       "        </tr>\n",
       "    </tbody>\n",
       "        <tr>\n",
       "            <td>2022</td> <td>Winter</td> <td>ENGL391 </td> <td>GC01   </td> <td>nan            </td> <td>nan            </td> <td>nan            </td> <td>Male  </td> <td>20  </td> <td>Undergraduate </td> <td>PHYSICS     </td> <td>CMNS    </td> <td>Asian   </td> <td>Hispanic No     </td> <td>US Citizen </td> <td>Resident    </td>\n",
       "        </tr>\n",
       "    </tbody>\n",
       "        <tr>\n",
       "            <td>2022</td> <td>Winter</td> <td>ENGL391 </td> <td>GC02   </td> <td>nan            </td> <td>nan            </td> <td>nan            </td> <td>Male  </td> <td>20  </td> <td>Undergraduate </td> <td>INFO SCI    </td> <td>INFO    </td> <td>Asian   </td> <td>Hispanic No     </td> <td>US Citizen </td> <td>Non-resident</td>\n",
       "        </tr>\n",
       "    </tbody>\n",
       "        <tr>\n",
       "            <td>2022</td> <td>Winter</td> <td>ENGL391 </td> <td>GC01   </td> <td>nan            </td> <td>nan            </td> <td>nan            </td> <td>Male  </td> <td>20  </td> <td>Undergraduate </td> <td>LTSC        </td> <td>LTSC    </td> <td>White   </td> <td>Hispanic No     </td> <td>US Citizen </td> <td>Resident    </td>\n",
       "        </tr>\n",
       "    </tbody>\n",
       "        <tr>\n",
       "            <td>2022</td> <td>Winter</td> <td>ARCH478D</td> <td>GC01   </td> <td>nan            </td> <td>nan            </td> <td>nan            </td> <td>Male  </td> <td>21  </td> <td>Undergraduate </td> <td>ARCH BA     </td> <td>ARCH    </td> <td>Hispanic</td> <td>Hispanic Yes    </td> <td>US Citizen </td> <td>Resident    </td>\n",
       "        </tr>\n",
       "    </tbody>\n",
       "        <tr>\n",
       "            <td>2022</td> <td>Winter</td> <td>ENGL391 </td> <td>GC02   </td> <td>nan            </td> <td>nan            </td> <td>nan            </td> <td>Male  </td> <td>21  </td> <td>Undergraduate </td> <td>INFO SYS    </td> <td>BMGT    </td> <td>Asian   </td> <td>Hispanic No     </td> <td>US Citizen </td> <td>Resident    </td>\n",
       "        </tr>\n",
       "    </tbody>\n",
       "</table>\n",
       "<p>... (23 rows omitted)</p>"
      ],
      "text/plain": [
       "Year | Term   | Course   | Section | Cross listing 1 | Cross listing 2 | Cross listing 3 | Gender | Age  | Student Status | Major        | College  | Race     | Ethnicity        | Citizenship | Residency\n",
       "2022 | Winter | ARCH678D | GC01    | nan             | nan             | nan             | Male   | 23   | Graduate       | ARCHITECTURE | ARCH     | Hispanic | Hispanic Yes     | US Citizen  | Resident\n",
       "2022 | Winter | EDHI788U | WB11    | nan             | nan             | nan             | Male   | 27   | Graduate       | MUSIC        | ARHU     | White    | Hispanic No      | US Citizen  | Non-resident\n",
       "2022 | Winter | RDEV689C | GC01    | nan             | nan             | nan             | Male   | 30   | Graduate       | BMBA RDEV    | BMGT     | Unknown  | Hispanic Unknown | US Citizen  | Resident\n",
       "2022 | Winter | LARC489N | GC01    | HONR338B        | HONR348N        | nan             | Male   | 18   | Undergraduate  | LANDSCP MGMT | AGNR     | Hispanic | Hispanic Yes     | US Citizen  | Resident\n",
       "2022 | Winter | ENGL391  | GC02    | nan             | nan             | nan             | Male   | 19   | Undergraduate  | COMPUTER SCI | CMNS     | Asian    | Hispanic No      | US Citizen  | Resident\n",
       "2022 | Winter | ENGL391  | GC01    | nan             | nan             | nan             | Male   | 20   | Undergraduate  | PHYSICS      | CMNS     | Asian    | Hispanic No      | US Citizen  | Resident\n",
       "2022 | Winter | ENGL391  | GC02    | nan             | nan             | nan             | Male   | 20   | Undergraduate  | INFO SCI     | INFO     | Asian    | Hispanic No      | US Citizen  | Non-resident\n",
       "2022 | Winter | ENGL391  | GC01    | nan             | nan             | nan             | Male   | 20   | Undergraduate  | LTSC         | LTSC     | White    | Hispanic No      | US Citizen  | Resident\n",
       "2022 | Winter | ARCH478D | GC01    | nan             | nan             | nan             | Male   | 21   | Undergraduate  | ARCH BA      | ARCH     | Hispanic | Hispanic Yes     | US Citizen  | Resident\n",
       "2022 | Winter | ENGL391  | GC02    | nan             | nan             | nan             | Male   | 21   | Undergraduate  | INFO SYS     | BMGT     | Asian    | Hispanic No      | US Citizen  | Resident\n",
       "... (23 rows omitted)"
      ]
     },
     "execution_count": 479,
     "metadata": {},
     "output_type": "execute_result"
    }
   ],
   "source": [
    "Twenty_TwentyTwo_Winter_M = tbl_6.where(\"Gender\", are.equal_to('Male'))\n",
    "Twenty_TwentyTwo_Winter_M\n"
   ]
  },
  {
   "cell_type": "code",
   "execution_count": 480,
   "metadata": {},
   "outputs": [
    {
     "data": {
      "text/html": [
       "<table border=\"1\" class=\"dataframe\">\n",
       "    <thead>\n",
       "        <tr>\n",
       "            <th>Year</th> <th>Term</th> <th>Course</th> <th>Section</th> <th>Cross listing 1</th> <th>Cross listing 2</th> <th>Cross listing 3</th> <th>Gender</th> <th>Age</th> <th>Student Status</th> <th>Major </th> <th>College </th> <th>Race</th> <th>Ethnicity</th> <th>Citizenship</th> <th>Residency</th>\n",
       "        </tr>\n",
       "    </thead>\n",
       "    <tbody>\n",
       "        <tr>\n",
       "            <td>2022</td> <td>Winter</td> <td>ARCH678D</td> <td>GC01   </td> <td>nan            </td> <td>nan            </td> <td>nan            </td> <td>Female</td> <td>27  </td> <td>Graduate      </td> <td>ARCHITECTURE</td> <td>ARCH    </td> <td>Hispanic                 </td> <td>Hispanic Yes</td> <td>US Citizen    </td> <td>Resident    </td>\n",
       "        </tr>\n",
       "    </tbody>\n",
       "        <tr>\n",
       "            <td>2022</td> <td>Winter</td> <td>ARCH678D</td> <td>GC01   </td> <td>nan            </td> <td>nan            </td> <td>nan            </td> <td>Female</td> <td>22  </td> <td>Graduate      </td> <td>ARCHITECTURE</td> <td>ARCH    </td> <td>White                    </td> <td>Hispanic No </td> <td>US Citizen    </td> <td>Resident    </td>\n",
       "        </tr>\n",
       "    </tbody>\n",
       "        <tr>\n",
       "            <td>2022</td> <td>Winter</td> <td>ARCH678D</td> <td>GC01   </td> <td>nan            </td> <td>nan            </td> <td>nan            </td> <td>Female</td> <td>22  </td> <td>Graduate      </td> <td>ARCHITECTURE</td> <td>ARCH    </td> <td>White                    </td> <td>Hispanic No </td> <td>US Citizen    </td> <td>Resident    </td>\n",
       "        </tr>\n",
       "    </tbody>\n",
       "        <tr>\n",
       "            <td>2022</td> <td>Winter</td> <td>EDHI788U</td> <td>WB11   </td> <td>nan            </td> <td>nan            </td> <td>nan            </td> <td>Female</td> <td>22  </td> <td>Graduate      </td> <td>HESI HIEP   </td> <td>EDUC    </td> <td>Asian                    </td> <td>Hispanic No </td> <td>Non US citizen</td> <td>Non-resident</td>\n",
       "        </tr>\n",
       "    </tbody>\n",
       "        <tr>\n",
       "            <td>2022</td> <td>Winter</td> <td>EDHI488U</td> <td>WB11   </td> <td>nan            </td> <td>nan            </td> <td>nan            </td> <td>Female</td> <td>22  </td> <td>Graduate      </td> <td>TCH POL LDR </td> <td>EDUC    </td> <td>Black or African American</td> <td>Hispanic No </td> <td>US Citizen    </td> <td>Non-resident</td>\n",
       "        </tr>\n",
       "    </tbody>\n",
       "        <tr>\n",
       "            <td>2022</td> <td>Winter</td> <td>EDHI788U</td> <td>WB11   </td> <td>nan            </td> <td>nan            </td> <td>nan            </td> <td>Female</td> <td>25  </td> <td>Graduate      </td> <td>HESI HISA   </td> <td>EDUC    </td> <td>Hispanic                 </td> <td>Hispanic Yes</td> <td>US Citizen    </td> <td>Non-resident</td>\n",
       "        </tr>\n",
       "    </tbody>\n",
       "        <tr>\n",
       "            <td>2022</td> <td>Winter</td> <td>EDHI788U</td> <td>WB11   </td> <td>nan            </td> <td>nan            </td> <td>nan            </td> <td>Female</td> <td>25  </td> <td>Graduate      </td> <td>TCH POL LDR </td> <td>EDUC    </td> <td>White                    </td> <td>Hispanic No </td> <td>US Citizen    </td> <td>Non-resident</td>\n",
       "        </tr>\n",
       "    </tbody>\n",
       "        <tr>\n",
       "            <td>2022</td> <td>Winter</td> <td>EDHI788U</td> <td>WB11   </td> <td>nan            </td> <td>nan            </td> <td>nan            </td> <td>Female</td> <td>26  </td> <td>Graduate      </td> <td>TCH POL LDR </td> <td>EDUC    </td> <td>White                    </td> <td>Hispanic No </td> <td>US Citizen    </td> <td>Non-resident</td>\n",
       "        </tr>\n",
       "    </tbody>\n",
       "        <tr>\n",
       "            <td>2022</td> <td>Winter</td> <td>EDHI788U</td> <td>WB11   </td> <td>nan            </td> <td>nan            </td> <td>nan            </td> <td>Female</td> <td>28  </td> <td>Graduate      </td> <td>HESI HIED   </td> <td>EDUC    </td> <td>White                    </td> <td>Hispanic No </td> <td>US Citizen    </td> <td>Resident    </td>\n",
       "        </tr>\n",
       "    </tbody>\n",
       "        <tr>\n",
       "            <td>2022</td> <td>Winter</td> <td>LARC489N</td> <td>GC01   </td> <td>HONR338B       </td> <td>HONR348N       </td> <td>nan            </td> <td>Female</td> <td>40  </td> <td>Graduate      </td> <td>ADV SPEC STU</td> <td>GRAD    </td> <td>White                    </td> <td>Hispanic No </td> <td>US Citizen    </td> <td>Resident    </td>\n",
       "        </tr>\n",
       "    </tbody>\n",
       "</table>\n",
       "<p>... (40 rows omitted)</p>"
      ],
      "text/plain": [
       "Year | Term   | Course   | Section | Cross listing 1 | Cross listing 2 | Cross listing 3 | Gender | Age  | Student Status | Major        | College  | Race                      | Ethnicity    | Citizenship    | Residency\n",
       "2022 | Winter | ARCH678D | GC01    | nan             | nan             | nan             | Female | 27   | Graduate       | ARCHITECTURE | ARCH     | Hispanic                  | Hispanic Yes | US Citizen     | Resident\n",
       "2022 | Winter | ARCH678D | GC01    | nan             | nan             | nan             | Female | 22   | Graduate       | ARCHITECTURE | ARCH     | White                     | Hispanic No  | US Citizen     | Resident\n",
       "2022 | Winter | ARCH678D | GC01    | nan             | nan             | nan             | Female | 22   | Graduate       | ARCHITECTURE | ARCH     | White                     | Hispanic No  | US Citizen     | Resident\n",
       "2022 | Winter | EDHI788U | WB11    | nan             | nan             | nan             | Female | 22   | Graduate       | HESI HIEP    | EDUC     | Asian                     | Hispanic No  | Non US citizen | Non-resident\n",
       "2022 | Winter | EDHI488U | WB11    | nan             | nan             | nan             | Female | 22   | Graduate       | TCH POL LDR  | EDUC     | Black or African American | Hispanic No  | US Citizen     | Non-resident\n",
       "2022 | Winter | EDHI788U | WB11    | nan             | nan             | nan             | Female | 25   | Graduate       | HESI HISA    | EDUC     | Hispanic                  | Hispanic Yes | US Citizen     | Non-resident\n",
       "2022 | Winter | EDHI788U | WB11    | nan             | nan             | nan             | Female | 25   | Graduate       | TCH POL LDR  | EDUC     | White                     | Hispanic No  | US Citizen     | Non-resident\n",
       "2022 | Winter | EDHI788U | WB11    | nan             | nan             | nan             | Female | 26   | Graduate       | TCH POL LDR  | EDUC     | White                     | Hispanic No  | US Citizen     | Non-resident\n",
       "2022 | Winter | EDHI788U | WB11    | nan             | nan             | nan             | Female | 28   | Graduate       | HESI HIED    | EDUC     | White                     | Hispanic No  | US Citizen     | Resident\n",
       "2022 | Winter | LARC489N | GC01    | HONR338B        | HONR348N        | nan             | Female | 40   | Graduate       | ADV SPEC STU | GRAD     | White                     | Hispanic No  | US Citizen     | Resident\n",
       "... (40 rows omitted)"
      ]
     },
     "execution_count": 480,
     "metadata": {},
     "output_type": "execute_result"
    }
   ],
   "source": [
    "Twenty_TwentyTwo_Winter_F = tbl_6.where(\"Gender\", are.equal_to('Female'))\n",
    "Twenty_TwentyTwo_Winter_F"
   ]
  },
  {
   "cell_type": "code",
   "execution_count": 481,
   "metadata": {},
   "outputs": [
    {
     "name": "stdout",
     "output_type": "stream",
     "text": [
      "33\n",
      "50\n",
      "83\n"
     ]
    }
   ],
   "source": [
    "Twenty_TwentyTwo_Winter_M_Total=Twenty_TwentyTwo_Winter_M.num_rows\n",
    "Twenty_TwentyTwo_Winter_F_Total= Twenty_TwentyTwo_Winter_F.num_rows\n",
    "Twenty_TwentyTwo_Winter_Total= Twenty_TwentyTwo_Winter_M_Total + Twenty_TwentyTwo_Winter_F_Total\n",
    "print(Twenty_TwentyTwo_Winter_M_Total)\n",
    "print(Twenty_TwentyTwo_Winter_F_Total)\n",
    "print(Twenty_TwentyTwo_Winter_Total)"
   ]
  },
  {
   "cell_type": "markdown",
   "metadata": {},
   "source": [
    "33 Males enrolled W22, 50 Females enrolled W22, 83 total enrolled W22"
   ]
  },
  {
   "cell_type": "code",
   "execution_count": 482,
   "metadata": {},
   "outputs": [
    {
     "name": "stdout",
     "output_type": "stream",
     "text": [
      "39.75903614457831 %\n"
     ]
    }
   ],
   "source": [
    "Percent_M_Enrolled_W22=(Twenty_TwentyTwo_Winter_M_Total/Twenty_TwentyTwo_Winter_Total)*100\n",
    "print(Percent_M_Enrolled_W22, '%')"
   ]
  },
  {
   "cell_type": "code",
   "execution_count": 483,
   "metadata": {},
   "outputs": [
    {
     "name": "stdout",
     "output_type": "stream",
     "text": [
      "60.24096385542169 %\n"
     ]
    }
   ],
   "source": [
    "Percent_F_Enrolled_W22=(Twenty_TwentyTwo_Winter_F_Total/Twenty_TwentyTwo_Winter_Total)*100\n",
    "print(Percent_F_Enrolled_W22, '%')"
   ]
  },
  {
   "cell_type": "code",
   "execution_count": 484,
   "metadata": {},
   "outputs": [
    {
     "data": {
      "text/html": [
       "<table border=\"1\" class=\"dataframe\">\n",
       "    <thead>\n",
       "        <tr>\n",
       "            <th>Year</th> <th>Term</th> <th>Course</th> <th>Section</th> <th>Cross listing 1</th> <th>Cross listing 2</th> <th>Cross listing 3</th> <th>Gender</th> <th>Age</th> <th>Student Status</th> <th>Major </th> <th>College </th> <th>Race</th> <th>Ethnicity</th> <th>Citizenship</th> <th>Residency</th>\n",
       "        </tr>\n",
       "    </thead>\n",
       "    <tbody>\n",
       "        <tr>\n",
       "            <td>2022</td> <td>Spring</td> <td>ARCH601</td> <td>101    </td> <td>nan            </td> <td>nan            </td> <td>nan            </td> <td>Female</td> <td>22  </td> <td>Graduate      </td> <td>ARCH/COMM PL</td> <td>ARCH    </td> <td>Asian      </td> <td>Hispanic No </td> <td>US Citizen    </td> <td>Resident    </td>\n",
       "        </tr>\n",
       "    </tbody>\n",
       "        <tr>\n",
       "            <td>2022</td> <td>Spring</td> <td>ARCH601</td> <td>101    </td> <td>nan            </td> <td>nan            </td> <td>nan            </td> <td>Male  </td> <td>27  </td> <td>Graduate      </td> <td>ARCHITECTURE</td> <td>ARCH    </td> <td>Asian      </td> <td>Hispanic No </td> <td>US Citizen    </td> <td>Resident    </td>\n",
       "        </tr>\n",
       "    </tbody>\n",
       "        <tr>\n",
       "            <td>2022</td> <td>Spring</td> <td>ARCH601</td> <td>101    </td> <td>nan            </td> <td>nan            </td> <td>nan            </td> <td>Male  </td> <td>25  </td> <td>Graduate      </td> <td>ARCHITECTURE</td> <td>ARCH    </td> <td>Asian      </td> <td>Hispanic No </td> <td>US Citizen    </td> <td>Resident    </td>\n",
       "        </tr>\n",
       "    </tbody>\n",
       "        <tr>\n",
       "            <td>2022</td> <td>Spring</td> <td>ARCH601</td> <td>101    </td> <td>nan            </td> <td>nan            </td> <td>nan            </td> <td>Female</td> <td>27  </td> <td>Graduate      </td> <td>ARCHITECTURE</td> <td>ARCH    </td> <td>Hispanic   </td> <td>Hispanic Yes</td> <td>US Citizen    </td> <td>Resident    </td>\n",
       "        </tr>\n",
       "    </tbody>\n",
       "        <tr>\n",
       "            <td>2022</td> <td>Spring</td> <td>ARCH601</td> <td>101    </td> <td>nan            </td> <td>nan            </td> <td>nan            </td> <td>Male  </td> <td>23  </td> <td>Graduate      </td> <td>ARCHITECTURE</td> <td>ARCH    </td> <td>Hispanic   </td> <td>Hispanic Yes</td> <td>US Citizen    </td> <td>Resident    </td>\n",
       "        </tr>\n",
       "    </tbody>\n",
       "        <tr>\n",
       "            <td>2022</td> <td>Spring</td> <td>ARCH601</td> <td>101    </td> <td>nan            </td> <td>nan            </td> <td>nan            </td> <td>Female</td> <td>26  </td> <td>Graduate      </td> <td>ARCHITECTURE</td> <td>ARCH    </td> <td>Two or More</td> <td>Hispanic No </td> <td>US Citizen    </td> <td>Resident    </td>\n",
       "        </tr>\n",
       "    </tbody>\n",
       "        <tr>\n",
       "            <td>2022</td> <td>Spring</td> <td>ARCH601</td> <td>101    </td> <td>nan            </td> <td>nan            </td> <td>nan            </td> <td>Female</td> <td>22  </td> <td>Graduate      </td> <td>ARCHITECTURE</td> <td>ARCH    </td> <td>White      </td> <td>Hispanic No </td> <td>US Citizen    </td> <td>Resident    </td>\n",
       "        </tr>\n",
       "    </tbody>\n",
       "        <tr>\n",
       "            <td>2022</td> <td>Spring</td> <td>ARCH601</td> <td>101    </td> <td>nan            </td> <td>nan            </td> <td>nan            </td> <td>Male  </td> <td>24  </td> <td>Graduate      </td> <td>ARCHITECTURE</td> <td>ARCH    </td> <td>White      </td> <td>Hispanic No </td> <td>US Citizen    </td> <td>Resident    </td>\n",
       "        </tr>\n",
       "    </tbody>\n",
       "        <tr>\n",
       "            <td>2022</td> <td>Spring</td> <td>AREC360</td> <td>101    </td> <td>nan            </td> <td>nan            </td> <td>nan            </td> <td>Female</td> <td>21  </td> <td>Undergraduate </td> <td>AGR&RES ECON</td> <td>AGNR    </td> <td>Asian      </td> <td>Hispanic No </td> <td>Non US citizen</td> <td>Non-Resident</td>\n",
       "        </tr>\n",
       "    </tbody>\n",
       "        <tr>\n",
       "            <td>2022</td> <td>Spring</td> <td>AREC360</td> <td>101    </td> <td>nan            </td> <td>nan            </td> <td>nan            </td> <td>Male  </td> <td>20  </td> <td>Undergraduate </td> <td>PHILPOLIECON</td> <td>ARHU    </td> <td>Two or More</td> <td>Hispanic No </td> <td>US Citizen    </td> <td>Resident    </td>\n",
       "        </tr>\n",
       "    </tbody>\n",
       "</table>\n",
       "<p>... (326 rows omitted)</p>"
      ],
      "text/plain": [
       "Year | Term   | Course  | Section | Cross listing 1 | Cross listing 2 | Cross listing 3 | Gender | Age  | Student Status | Major        | College  | Race        | Ethnicity    | Citizenship    | Residency\n",
       "2022 | Spring | ARCH601 | 101     | nan             | nan             | nan             | Female | 22   | Graduate       | ARCH/COMM PL | ARCH     | Asian       | Hispanic No  | US Citizen     | Resident\n",
       "2022 | Spring | ARCH601 | 101     | nan             | nan             | nan             | Male   | 27   | Graduate       | ARCHITECTURE | ARCH     | Asian       | Hispanic No  | US Citizen     | Resident\n",
       "2022 | Spring | ARCH601 | 101     | nan             | nan             | nan             | Male   | 25   | Graduate       | ARCHITECTURE | ARCH     | Asian       | Hispanic No  | US Citizen     | Resident\n",
       "2022 | Spring | ARCH601 | 101     | nan             | nan             | nan             | Female | 27   | Graduate       | ARCHITECTURE | ARCH     | Hispanic    | Hispanic Yes | US Citizen     | Resident\n",
       "2022 | Spring | ARCH601 | 101     | nan             | nan             | nan             | Male   | 23   | Graduate       | ARCHITECTURE | ARCH     | Hispanic    | Hispanic Yes | US Citizen     | Resident\n",
       "2022 | Spring | ARCH601 | 101     | nan             | nan             | nan             | Female | 26   | Graduate       | ARCHITECTURE | ARCH     | Two or More | Hispanic No  | US Citizen     | Resident\n",
       "2022 | Spring | ARCH601 | 101     | nan             | nan             | nan             | Female | 22   | Graduate       | ARCHITECTURE | ARCH     | White       | Hispanic No  | US Citizen     | Resident\n",
       "2022 | Spring | ARCH601 | 101     | nan             | nan             | nan             | Male   | 24   | Graduate       | ARCHITECTURE | ARCH     | White       | Hispanic No  | US Citizen     | Resident\n",
       "2022 | Spring | AREC360 | 101     | nan             | nan             | nan             | Female | 21   | Undergraduate  | AGR&RES ECON | AGNR     | Asian       | Hispanic No  | Non US citizen | Non-Resident\n",
       "2022 | Spring | AREC360 | 101     | nan             | nan             | nan             | Male   | 20   | Undergraduate  | PHILPOLIECON | ARHU     | Two or More | Hispanic No  | US Citizen     | Resident\n",
       "... (326 rows omitted)"
      ]
     },
     "execution_count": 484,
     "metadata": {},
     "output_type": "execute_result"
    }
   ],
   "source": [
    "tbl_7= Table.read_table('../data/Data_OIA.xlsx - Spring 2022.csv')\n",
    "tbl_7"
   ]
  },
  {
   "cell_type": "code",
   "execution_count": 485,
   "metadata": {},
   "outputs": [
    {
     "data": {
      "text/html": [
       "<table border=\"1\" class=\"dataframe\">\n",
       "    <thead>\n",
       "        <tr>\n",
       "            <th>Year</th> <th>Term</th> <th>Course</th> <th>Section</th> <th>Cross listing 1</th> <th>Cross listing 2</th> <th>Cross listing 3</th> <th>Gender</th> <th>Age</th> <th>Student Status</th> <th>Major </th> <th>College </th> <th>Race</th> <th>Ethnicity</th> <th>Citizenship</th> <th>Residency</th>\n",
       "        </tr>\n",
       "    </thead>\n",
       "    <tbody>\n",
       "        <tr>\n",
       "            <td>2022</td> <td>Spring</td> <td>ARCH601</td> <td>101    </td> <td>nan            </td> <td>nan            </td> <td>nan            </td> <td>Male  </td> <td>27  </td> <td>Graduate      </td> <td>ARCHITECTURE</td> <td>ARCH    </td> <td>Asian      </td> <td>Hispanic No </td> <td>US Citizen </td> <td>Resident    </td>\n",
       "        </tr>\n",
       "    </tbody>\n",
       "        <tr>\n",
       "            <td>2022</td> <td>Spring</td> <td>ARCH601</td> <td>101    </td> <td>nan            </td> <td>nan            </td> <td>nan            </td> <td>Male  </td> <td>25  </td> <td>Graduate      </td> <td>ARCHITECTURE</td> <td>ARCH    </td> <td>Asian      </td> <td>Hispanic No </td> <td>US Citizen </td> <td>Resident    </td>\n",
       "        </tr>\n",
       "    </tbody>\n",
       "        <tr>\n",
       "            <td>2022</td> <td>Spring</td> <td>ARCH601</td> <td>101    </td> <td>nan            </td> <td>nan            </td> <td>nan            </td> <td>Male  </td> <td>23  </td> <td>Graduate      </td> <td>ARCHITECTURE</td> <td>ARCH    </td> <td>Hispanic   </td> <td>Hispanic Yes</td> <td>US Citizen </td> <td>Resident    </td>\n",
       "        </tr>\n",
       "    </tbody>\n",
       "        <tr>\n",
       "            <td>2022</td> <td>Spring</td> <td>ARCH601</td> <td>101    </td> <td>nan            </td> <td>nan            </td> <td>nan            </td> <td>Male  </td> <td>24  </td> <td>Graduate      </td> <td>ARCHITECTURE</td> <td>ARCH    </td> <td>White      </td> <td>Hispanic No </td> <td>US Citizen </td> <td>Resident    </td>\n",
       "        </tr>\n",
       "    </tbody>\n",
       "        <tr>\n",
       "            <td>2022</td> <td>Spring</td> <td>AREC360</td> <td>101    </td> <td>nan            </td> <td>nan            </td> <td>nan            </td> <td>Male  </td> <td>20  </td> <td>Undergraduate </td> <td>PHILPOLIECON</td> <td>ARHU    </td> <td>Two or More</td> <td>Hispanic No </td> <td>US Citizen </td> <td>Resident    </td>\n",
       "        </tr>\n",
       "    </tbody>\n",
       "        <tr>\n",
       "            <td>2022</td> <td>Spring</td> <td>AREC360</td> <td>101    </td> <td>nan            </td> <td>nan            </td> <td>nan            </td> <td>Male  </td> <td>21  </td> <td>Undergraduate </td> <td>COMM        </td> <td>ARHU    </td> <td>White      </td> <td>Hispanic No </td> <td>US Citizen </td> <td>Resident    </td>\n",
       "        </tr>\n",
       "    </tbody>\n",
       "        <tr>\n",
       "            <td>2022</td> <td>Spring</td> <td>AREC360</td> <td>101    </td> <td>nan            </td> <td>nan            </td> <td>nan            </td> <td>Male  </td> <td>20  </td> <td>Undergraduate </td> <td>FINANCE     </td> <td>BMGT    </td> <td>White      </td> <td>Hispanic No </td> <td>US Citizen </td> <td>Non-Resident</td>\n",
       "        </tr>\n",
       "    </tbody>\n",
       "        <tr>\n",
       "            <td>2022</td> <td>Spring</td> <td>AREC360</td> <td>101    </td> <td>nan            </td> <td>nan            </td> <td>nan            </td> <td>Male  </td> <td>21  </td> <td>Undergraduate </td> <td>CMSC MACHINE</td> <td>CMNS    </td> <td>White      </td> <td>Hispanic No </td> <td>US Citizen </td> <td>Resident    </td>\n",
       "        </tr>\n",
       "    </tbody>\n",
       "        <tr>\n",
       "            <td>2022</td> <td>Spring</td> <td>AREC360</td> <td>101    </td> <td>nan            </td> <td>nan            </td> <td>nan            </td> <td>Male  </td> <td>23  </td> <td>Undergraduate </td> <td>COMPUTER SCI</td> <td>CMNS    </td> <td>Asian      </td> <td>Hispanic No </td> <td>US Citizen </td> <td>Resident    </td>\n",
       "        </tr>\n",
       "    </tbody>\n",
       "        <tr>\n",
       "            <td>2022</td> <td>Spring</td> <td>AREC360</td> <td>101    </td> <td>nan            </td> <td>nan            </td> <td>nan            </td> <td>Male  </td> <td>20  </td> <td>Undergraduate </td> <td>ENGR-CIVIL  </td> <td>ENGR    </td> <td>Asian      </td> <td>Hispanic No </td> <td>US Citizen </td> <td>Resident    </td>\n",
       "        </tr>\n",
       "    </tbody>\n",
       "</table>\n",
       "<p>... (151 rows omitted)</p>"
      ],
      "text/plain": [
       "Year | Term   | Course  | Section | Cross listing 1 | Cross listing 2 | Cross listing 3 | Gender | Age  | Student Status | Major        | College  | Race        | Ethnicity    | Citizenship | Residency\n",
       "2022 | Spring | ARCH601 | 101     | nan             | nan             | nan             | Male   | 27   | Graduate       | ARCHITECTURE | ARCH     | Asian       | Hispanic No  | US Citizen  | Resident\n",
       "2022 | Spring | ARCH601 | 101     | nan             | nan             | nan             | Male   | 25   | Graduate       | ARCHITECTURE | ARCH     | Asian       | Hispanic No  | US Citizen  | Resident\n",
       "2022 | Spring | ARCH601 | 101     | nan             | nan             | nan             | Male   | 23   | Graduate       | ARCHITECTURE | ARCH     | Hispanic    | Hispanic Yes | US Citizen  | Resident\n",
       "2022 | Spring | ARCH601 | 101     | nan             | nan             | nan             | Male   | 24   | Graduate       | ARCHITECTURE | ARCH     | White       | Hispanic No  | US Citizen  | Resident\n",
       "2022 | Spring | AREC360 | 101     | nan             | nan             | nan             | Male   | 20   | Undergraduate  | PHILPOLIECON | ARHU     | Two or More | Hispanic No  | US Citizen  | Resident\n",
       "2022 | Spring | AREC360 | 101     | nan             | nan             | nan             | Male   | 21   | Undergraduate  | COMM         | ARHU     | White       | Hispanic No  | US Citizen  | Resident\n",
       "2022 | Spring | AREC360 | 101     | nan             | nan             | nan             | Male   | 20   | Undergraduate  | FINANCE      | BMGT     | White       | Hispanic No  | US Citizen  | Non-Resident\n",
       "2022 | Spring | AREC360 | 101     | nan             | nan             | nan             | Male   | 21   | Undergraduate  | CMSC MACHINE | CMNS     | White       | Hispanic No  | US Citizen  | Resident\n",
       "2022 | Spring | AREC360 | 101     | nan             | nan             | nan             | Male   | 23   | Undergraduate  | COMPUTER SCI | CMNS     | Asian       | Hispanic No  | US Citizen  | Resident\n",
       "2022 | Spring | AREC360 | 101     | nan             | nan             | nan             | Male   | 20   | Undergraduate  | ENGR-CIVIL   | ENGR     | Asian       | Hispanic No  | US Citizen  | Resident\n",
       "... (151 rows omitted)"
      ]
     },
     "execution_count": 485,
     "metadata": {},
     "output_type": "execute_result"
    }
   ],
   "source": [
    "Twenty_TwentyTwo_Spring_M = tbl_7.where('Gender', are.equal_to('Male'))\n",
    "Twenty_TwentyTwo_Spring_M"
   ]
  },
  {
   "cell_type": "code",
   "execution_count": 486,
   "metadata": {},
   "outputs": [
    {
     "data": {
      "text/html": [
       "<table border=\"1\" class=\"dataframe\">\n",
       "    <thead>\n",
       "        <tr>\n",
       "            <th>Year</th> <th>Term</th> <th>Course</th> <th>Section</th> <th>Cross listing 1</th> <th>Cross listing 2</th> <th>Cross listing 3</th> <th>Gender</th> <th>Age</th> <th>Student Status</th> <th>Major </th> <th>College </th> <th>Race</th> <th>Ethnicity</th> <th>Citizenship</th> <th>Residency</th>\n",
       "        </tr>\n",
       "    </thead>\n",
       "    <tbody>\n",
       "        <tr>\n",
       "            <td>2022</td> <td>Spring</td> <td>ARCH601</td> <td>101    </td> <td>nan            </td> <td>nan            </td> <td>nan            </td> <td>Female</td> <td>22  </td> <td>Graduate      </td> <td>ARCH/COMM PL</td> <td>ARCH    </td> <td>Asian      </td> <td>Hispanic No </td> <td>US Citizen    </td> <td>Resident    </td>\n",
       "        </tr>\n",
       "    </tbody>\n",
       "        <tr>\n",
       "            <td>2022</td> <td>Spring</td> <td>ARCH601</td> <td>101    </td> <td>nan            </td> <td>nan            </td> <td>nan            </td> <td>Female</td> <td>27  </td> <td>Graduate      </td> <td>ARCHITECTURE</td> <td>ARCH    </td> <td>Hispanic   </td> <td>Hispanic Yes</td> <td>US Citizen    </td> <td>Resident    </td>\n",
       "        </tr>\n",
       "    </tbody>\n",
       "        <tr>\n",
       "            <td>2022</td> <td>Spring</td> <td>ARCH601</td> <td>101    </td> <td>nan            </td> <td>nan            </td> <td>nan            </td> <td>Female</td> <td>26  </td> <td>Graduate      </td> <td>ARCHITECTURE</td> <td>ARCH    </td> <td>Two or More</td> <td>Hispanic No </td> <td>US Citizen    </td> <td>Resident    </td>\n",
       "        </tr>\n",
       "    </tbody>\n",
       "        <tr>\n",
       "            <td>2022</td> <td>Spring</td> <td>ARCH601</td> <td>101    </td> <td>nan            </td> <td>nan            </td> <td>nan            </td> <td>Female</td> <td>22  </td> <td>Graduate      </td> <td>ARCHITECTURE</td> <td>ARCH    </td> <td>White      </td> <td>Hispanic No </td> <td>US Citizen    </td> <td>Resident    </td>\n",
       "        </tr>\n",
       "    </tbody>\n",
       "        <tr>\n",
       "            <td>2022</td> <td>Spring</td> <td>AREC360</td> <td>101    </td> <td>nan            </td> <td>nan            </td> <td>nan            </td> <td>Female</td> <td>21  </td> <td>Undergraduate </td> <td>AGR&RES ECON</td> <td>AGNR    </td> <td>Asian      </td> <td>Hispanic No </td> <td>Non US citizen</td> <td>Non-Resident</td>\n",
       "        </tr>\n",
       "    </tbody>\n",
       "        <tr>\n",
       "            <td>2022</td> <td>Spring</td> <td>AREC360</td> <td>101    </td> <td>nan            </td> <td>nan            </td> <td>nan            </td> <td>Female</td> <td>20  </td> <td>Undergraduate </td> <td>PHILPOLIECON</td> <td>ARHU    </td> <td>White      </td> <td>Hispanic No </td> <td>US Citizen    </td> <td>Resident    </td>\n",
       "        </tr>\n",
       "    </tbody>\n",
       "        <tr>\n",
       "            <td>2022</td> <td>Spring</td> <td>AREC360</td> <td>101    </td> <td>nan            </td> <td>nan            </td> <td>nan            </td> <td>Female</td> <td>20  </td> <td>Undergraduate </td> <td>FINANCE     </td> <td>BMGT    </td> <td>Asian      </td> <td>Hispanic No </td> <td>US Citizen    </td> <td>Resident    </td>\n",
       "        </tr>\n",
       "    </tbody>\n",
       "        <tr>\n",
       "            <td>2022</td> <td>Spring</td> <td>AREC360</td> <td>101    </td> <td>nan            </td> <td>nan            </td> <td>nan            </td> <td>Female</td> <td>21  </td> <td>Undergraduate </td> <td>CRIM-JUSTICE</td> <td>BSOS    </td> <td>White      </td> <td>Hispanic No </td> <td>US Citizen    </td> <td>Non-Resident</td>\n",
       "        </tr>\n",
       "    </tbody>\n",
       "        <tr>\n",
       "            <td>2022</td> <td>Spring</td> <td>AREC360</td> <td>101    </td> <td>nan            </td> <td>nan            </td> <td>nan            </td> <td>Female</td> <td>22  </td> <td>Undergraduate </td> <td>GVPT INTLREL</td> <td>BSOS    </td> <td>White      </td> <td>Hispanic No </td> <td>US Citizen    </td> <td>Resident    </td>\n",
       "        </tr>\n",
       "    </tbody>\n",
       "        <tr>\n",
       "            <td>2022</td> <td>Spring</td> <td>AREC360</td> <td>101    </td> <td>nan            </td> <td>nan            </td> <td>nan            </td> <td>Female</td> <td>22  </td> <td>Undergraduate </td> <td>BIO SCI:PHNB</td> <td>CMNS    </td> <td>Asian      </td> <td>Hispanic No </td> <td>US Citizen    </td> <td>Resident    </td>\n",
       "        </tr>\n",
       "    </tbody>\n",
       "</table>\n",
       "<p>... (165 rows omitted)</p>"
      ],
      "text/plain": [
       "Year | Term   | Course  | Section | Cross listing 1 | Cross listing 2 | Cross listing 3 | Gender | Age  | Student Status | Major        | College  | Race        | Ethnicity    | Citizenship    | Residency\n",
       "2022 | Spring | ARCH601 | 101     | nan             | nan             | nan             | Female | 22   | Graduate       | ARCH/COMM PL | ARCH     | Asian       | Hispanic No  | US Citizen     | Resident\n",
       "2022 | Spring | ARCH601 | 101     | nan             | nan             | nan             | Female | 27   | Graduate       | ARCHITECTURE | ARCH     | Hispanic    | Hispanic Yes | US Citizen     | Resident\n",
       "2022 | Spring | ARCH601 | 101     | nan             | nan             | nan             | Female | 26   | Graduate       | ARCHITECTURE | ARCH     | Two or More | Hispanic No  | US Citizen     | Resident\n",
       "2022 | Spring | ARCH601 | 101     | nan             | nan             | nan             | Female | 22   | Graduate       | ARCHITECTURE | ARCH     | White       | Hispanic No  | US Citizen     | Resident\n",
       "2022 | Spring | AREC360 | 101     | nan             | nan             | nan             | Female | 21   | Undergraduate  | AGR&RES ECON | AGNR     | Asian       | Hispanic No  | Non US citizen | Non-Resident\n",
       "2022 | Spring | AREC360 | 101     | nan             | nan             | nan             | Female | 20   | Undergraduate  | PHILPOLIECON | ARHU     | White       | Hispanic No  | US Citizen     | Resident\n",
       "2022 | Spring | AREC360 | 101     | nan             | nan             | nan             | Female | 20   | Undergraduate  | FINANCE      | BMGT     | Asian       | Hispanic No  | US Citizen     | Resident\n",
       "2022 | Spring | AREC360 | 101     | nan             | nan             | nan             | Female | 21   | Undergraduate  | CRIM-JUSTICE | BSOS     | White       | Hispanic No  | US Citizen     | Non-Resident\n",
       "2022 | Spring | AREC360 | 101     | nan             | nan             | nan             | Female | 22   | Undergraduate  | GVPT INTLREL | BSOS     | White       | Hispanic No  | US Citizen     | Resident\n",
       "2022 | Spring | AREC360 | 101     | nan             | nan             | nan             | Female | 22   | Undergraduate  | BIO SCI:PHNB | CMNS     | Asian       | Hispanic No  | US Citizen     | Resident\n",
       "... (165 rows omitted)"
      ]
     },
     "execution_count": 486,
     "metadata": {},
     "output_type": "execute_result"
    }
   ],
   "source": [
    "Twenty_TwentyTwo_Spring_F = tbl_7.where('Gender', are.equal_to('Female'))\n",
    "Twenty_TwentyTwo_Spring_F"
   ]
  },
  {
   "cell_type": "code",
   "execution_count": 487,
   "metadata": {},
   "outputs": [
    {
     "name": "stdout",
     "output_type": "stream",
     "text": [
      "161\n",
      "175\n",
      "336\n"
     ]
    }
   ],
   "source": [
    "Twenty_TwentyTwo_Spring_M_Total=Twenty_TwentyTwo_Spring_M.num_rows\n",
    "Twenty_TwentyTwo_Spring_F_Total=Twenty_TwentyTwo_Spring_F.num_rows\n",
    "Twenty_TwentyTwo_Spring_Total = Twenty_TwentyTwo_Spring_M_Total + Twenty_TwentyTwo_Spring_F_Total\n",
    "print(Twenty_TwentyTwo_Spring_M_Total)\n",
    "print(Twenty_TwentyTwo_Spring_F_Total)\n",
    "print(Twenty_TwentyTwo_Spring_Total)"
   ]
  },
  {
   "cell_type": "markdown",
   "metadata": {},
   "source": [
    "161 Males total enrolled S22, 175 Females total enrolled S22, 336 Total Enrolled S22"
   ]
  },
  {
   "cell_type": "code",
   "execution_count": 488,
   "metadata": {},
   "outputs": [
    {
     "name": "stdout",
     "output_type": "stream",
     "text": [
      "47.91666666666667 %\n"
     ]
    }
   ],
   "source": [
    "Percent_M_Enrolled_SP22= (Twenty_TwentyTwo_Spring_M_Total/Twenty_TwentyTwo_Spring_Total)*100\n",
    "print(Percent_M_Enrolled_SP22,'%')"
   ]
  },
  {
   "cell_type": "code",
   "execution_count": 489,
   "metadata": {},
   "outputs": [
    {
     "name": "stdout",
     "output_type": "stream",
     "text": [
      "52.083333333333336 %\n"
     ]
    }
   ],
   "source": [
    "Percent_F_Enrolled_SP22=(Twenty_TwentyTwo_Spring_F_Total/Twenty_TwentyTwo_Spring_Total)*100\n",
    "print(Percent_F_Enrolled_SP22, '%')"
   ]
  },
  {
   "cell_type": "code",
   "execution_count": 490,
   "metadata": {},
   "outputs": [
    {
     "data": {
      "text/html": [
       "<table border=\"1\" class=\"dataframe\">\n",
       "    <thead>\n",
       "        <tr>\n",
       "            <th>Year</th> <th>Term</th> <th>Course</th> <th>Section</th> <th>Cross listing 1</th> <th>Cross listing 2</th> <th>Cross listing 3</th> <th>Gender</th> <th>Age</th> <th>Student Status</th> <th>Major </th> <th>College </th> <th>Race</th> <th>Ethnicity</th> <th>Citizenship</th> <th>Residency</th>\n",
       "        </tr>\n",
       "    </thead>\n",
       "    <tbody>\n",
       "        <tr>\n",
       "            <td>2022</td> <td>Summer</td> <td>ENGL391</td> <td>GC01   </td> <td>nan            </td> <td>nan            </td> <td>nan            </td> <td>Male  </td> <td>20  </td> <td>Undergraduate </td> <td>INFO SYS    </td> <td>BMGT    </td> <td>Asian      </td> <td>Hispanic No</td> <td>US Citizen </td> <td>Resident    </td>\n",
       "        </tr>\n",
       "    </tbody>\n",
       "        <tr>\n",
       "            <td>2022</td> <td>Summer</td> <td>ENGL391</td> <td>GC01   </td> <td>nan            </td> <td>nan            </td> <td>nan            </td> <td>Female</td> <td>21  </td> <td>Undergraduate </td> <td>NFSC DIET   </td> <td>AGNR    </td> <td>White      </td> <td>Hispanic No</td> <td>US Citizen </td> <td>Resident    </td>\n",
       "        </tr>\n",
       "    </tbody>\n",
       "        <tr>\n",
       "            <td>2022</td> <td>Summer</td> <td>ENGL391</td> <td>GC01   </td> <td>nan            </td> <td>nan            </td> <td>nan            </td> <td>Male  </td> <td>20  </td> <td>Undergraduate </td> <td>MARKETING   </td> <td>BMGT    </td> <td>White      </td> <td>Hispanic No</td> <td>US Citizen </td> <td>Resident    </td>\n",
       "        </tr>\n",
       "    </tbody>\n",
       "        <tr>\n",
       "            <td>2022</td> <td>Summer</td> <td>ENGL391</td> <td>GC01   </td> <td>nan            </td> <td>nan            </td> <td>nan            </td> <td>Female</td> <td>21  </td> <td>Undergraduate </td> <td>BIO ENGR    </td> <td>ENGR    </td> <td>Asian      </td> <td>Hispanic No</td> <td>US Citizen </td> <td>Resident    </td>\n",
       "        </tr>\n",
       "    </tbody>\n",
       "        <tr>\n",
       "            <td>2022</td> <td>Summer</td> <td>ENGL391</td> <td>GC01   </td> <td>nan            </td> <td>nan            </td> <td>nan            </td> <td>Female</td> <td>21  </td> <td>Undergraduate </td> <td>NEURO MOLEC </td> <td>CMNS    </td> <td>Asian      </td> <td>Hispanic No</td> <td>US Citizen </td> <td>Resident    </td>\n",
       "        </tr>\n",
       "    </tbody>\n",
       "        <tr>\n",
       "            <td>2022</td> <td>Summer</td> <td>ENGL391</td> <td>GC01   </td> <td>nan            </td> <td>nan            </td> <td>nan            </td> <td>Male  </td> <td>19  </td> <td>Undergraduate </td> <td>THEATRE     </td> <td>ARHU    </td> <td>White      </td> <td>Hispanic No</td> <td>US Citizen </td> <td>Non-resident</td>\n",
       "        </tr>\n",
       "    </tbody>\n",
       "        <tr>\n",
       "            <td>2022</td> <td>Summer</td> <td>ENGL391</td> <td>GC01   </td> <td>nan            </td> <td>nan            </td> <td>nan            </td> <td>Male  </td> <td>26  </td> <td>Undergraduate </td> <td>CMSC DATASCI</td> <td>CMNS    </td> <td>Two or More</td> <td>Hispanic No</td> <td>US Citizen </td> <td>Resident    </td>\n",
       "        </tr>\n",
       "    </tbody>\n",
       "        <tr>\n",
       "            <td>2022</td> <td>Summer</td> <td>ENGL391</td> <td>GC01   </td> <td>nan            </td> <td>nan            </td> <td>nan            </td> <td>Male  </td> <td>31  </td> <td>Undergraduate </td> <td>LINGUISTICS </td> <td>ARHU    </td> <td>Asian      </td> <td>Hispanic No</td> <td>US Citizen </td> <td>Resident    </td>\n",
       "        </tr>\n",
       "    </tbody>\n",
       "        <tr>\n",
       "            <td>2022</td> <td>Summer</td> <td>ENGL391</td> <td>GC01   </td> <td>nan            </td> <td>nan            </td> <td>nan            </td> <td>Male  </td> <td>19  </td> <td>Undergraduate </td> <td>CHEMISTRY   </td> <td>CMNS    </td> <td>White      </td> <td>Hispanic No</td> <td>US Citizen </td> <td>Resident    </td>\n",
       "        </tr>\n",
       "    </tbody>\n",
       "        <tr>\n",
       "            <td>2022</td> <td>Summer</td> <td>ENGL391</td> <td>GC01   </td> <td>nan            </td> <td>nan            </td> <td>nan            </td> <td>Male  </td> <td>18  </td> <td>Undergraduate </td> <td>ENGR-AEROSP </td> <td>ENGR    </td> <td>White      </td> <td>Hispanic No</td> <td>US Citizen </td> <td>Resident    </td>\n",
       "        </tr>\n",
       "    </tbody>\n",
       "</table>\n",
       "<p>... (35 rows omitted)</p>"
      ],
      "text/plain": [
       "Year | Term   | Course  | Section | Cross listing 1 | Cross listing 2 | Cross listing 3 | Gender | Age  | Student Status | Major        | College  | Race        | Ethnicity   | Citizenship | Residency\n",
       "2022 | Summer | ENGL391 | GC01    | nan             | nan             | nan             | Male   | 20   | Undergraduate  | INFO SYS     | BMGT     | Asian       | Hispanic No | US Citizen  | Resident\n",
       "2022 | Summer | ENGL391 | GC01    | nan             | nan             | nan             | Female | 21   | Undergraduate  | NFSC DIET    | AGNR     | White       | Hispanic No | US Citizen  | Resident\n",
       "2022 | Summer | ENGL391 | GC01    | nan             | nan             | nan             | Male   | 20   | Undergraduate  | MARKETING    | BMGT     | White       | Hispanic No | US Citizen  | Resident\n",
       "2022 | Summer | ENGL391 | GC01    | nan             | nan             | nan             | Female | 21   | Undergraduate  | BIO ENGR     | ENGR     | Asian       | Hispanic No | US Citizen  | Resident\n",
       "2022 | Summer | ENGL391 | GC01    | nan             | nan             | nan             | Female | 21   | Undergraduate  | NEURO MOLEC  | CMNS     | Asian       | Hispanic No | US Citizen  | Resident\n",
       "2022 | Summer | ENGL391 | GC01    | nan             | nan             | nan             | Male   | 19   | Undergraduate  | THEATRE      | ARHU     | White       | Hispanic No | US Citizen  | Non-resident\n",
       "2022 | Summer | ENGL391 | GC01    | nan             | nan             | nan             | Male   | 26   | Undergraduate  | CMSC DATASCI | CMNS     | Two or More | Hispanic No | US Citizen  | Resident\n",
       "2022 | Summer | ENGL391 | GC01    | nan             | nan             | nan             | Male   | 31   | Undergraduate  | LINGUISTICS  | ARHU     | Asian       | Hispanic No | US Citizen  | Resident\n",
       "2022 | Summer | ENGL391 | GC01    | nan             | nan             | nan             | Male   | 19   | Undergraduate  | CHEMISTRY    | CMNS     | White       | Hispanic No | US Citizen  | Resident\n",
       "2022 | Summer | ENGL391 | GC01    | nan             | nan             | nan             | Male   | 18   | Undergraduate  | ENGR-AEROSP  | ENGR     | White       | Hispanic No | US Citizen  | Resident\n",
       "... (35 rows omitted)"
      ]
     },
     "execution_count": 490,
     "metadata": {},
     "output_type": "execute_result"
    }
   ],
   "source": [
    "tbl_8 = Table.read_table('../data/Data_OIA.xlsx - Summer 2022.csv')\n",
    "tbl_8"
   ]
  },
  {
   "cell_type": "code",
   "execution_count": 491,
   "metadata": {},
   "outputs": [
    {
     "data": {
      "text/html": [
       "<table border=\"1\" class=\"dataframe\">\n",
       "    <thead>\n",
       "        <tr>\n",
       "            <th>Year</th> <th>Term</th> <th>Course</th> <th>Section</th> <th>Cross listing 1</th> <th>Cross listing 2</th> <th>Cross listing 3</th> <th>Gender</th> <th>Age</th> <th>Student Status</th> <th>Major </th> <th>College </th> <th>Race</th> <th>Ethnicity</th> <th>Citizenship</th> <th>Residency</th>\n",
       "        </tr>\n",
       "    </thead>\n",
       "    <tbody>\n",
       "        <tr>\n",
       "            <td>2022</td> <td>Summer</td> <td>ENGL391</td> <td>GC01   </td> <td>nan            </td> <td>nan            </td> <td>nan            </td> <td>Male  </td> <td>20  </td> <td>Undergraduate </td> <td>INFO SYS    </td> <td>BMGT    </td> <td>Asian                    </td> <td>Hispanic No </td> <td>US Citizen </td> <td>Resident    </td>\n",
       "        </tr>\n",
       "    </tbody>\n",
       "        <tr>\n",
       "            <td>2022</td> <td>Summer</td> <td>ENGL391</td> <td>GC01   </td> <td>nan            </td> <td>nan            </td> <td>nan            </td> <td>Male  </td> <td>20  </td> <td>Undergraduate </td> <td>MARKETING   </td> <td>BMGT    </td> <td>White                    </td> <td>Hispanic No </td> <td>US Citizen </td> <td>Resident    </td>\n",
       "        </tr>\n",
       "    </tbody>\n",
       "        <tr>\n",
       "            <td>2022</td> <td>Summer</td> <td>ENGL391</td> <td>GC01   </td> <td>nan            </td> <td>nan            </td> <td>nan            </td> <td>Male  </td> <td>19  </td> <td>Undergraduate </td> <td>THEATRE     </td> <td>ARHU    </td> <td>White                    </td> <td>Hispanic No </td> <td>US Citizen </td> <td>Non-resident</td>\n",
       "        </tr>\n",
       "    </tbody>\n",
       "        <tr>\n",
       "            <td>2022</td> <td>Summer</td> <td>ENGL391</td> <td>GC01   </td> <td>nan            </td> <td>nan            </td> <td>nan            </td> <td>Male  </td> <td>26  </td> <td>Undergraduate </td> <td>CMSC DATASCI</td> <td>CMNS    </td> <td>Two or More              </td> <td>Hispanic No </td> <td>US Citizen </td> <td>Resident    </td>\n",
       "        </tr>\n",
       "    </tbody>\n",
       "        <tr>\n",
       "            <td>2022</td> <td>Summer</td> <td>ENGL391</td> <td>GC01   </td> <td>nan            </td> <td>nan            </td> <td>nan            </td> <td>Male  </td> <td>31  </td> <td>Undergraduate </td> <td>LINGUISTICS </td> <td>ARHU    </td> <td>Asian                    </td> <td>Hispanic No </td> <td>US Citizen </td> <td>Resident    </td>\n",
       "        </tr>\n",
       "    </tbody>\n",
       "        <tr>\n",
       "            <td>2022</td> <td>Summer</td> <td>ENGL391</td> <td>GC01   </td> <td>nan            </td> <td>nan            </td> <td>nan            </td> <td>Male  </td> <td>19  </td> <td>Undergraduate </td> <td>CHEMISTRY   </td> <td>CMNS    </td> <td>White                    </td> <td>Hispanic No </td> <td>US Citizen </td> <td>Resident    </td>\n",
       "        </tr>\n",
       "    </tbody>\n",
       "        <tr>\n",
       "            <td>2022</td> <td>Summer</td> <td>ENGL391</td> <td>GC01   </td> <td>nan            </td> <td>nan            </td> <td>nan            </td> <td>Male  </td> <td>18  </td> <td>Undergraduate </td> <td>ENGR-AEROSP </td> <td>ENGR    </td> <td>White                    </td> <td>Hispanic No </td> <td>US Citizen </td> <td>Resident    </td>\n",
       "        </tr>\n",
       "    </tbody>\n",
       "        <tr>\n",
       "            <td>2022</td> <td>Summer</td> <td>ENGL391</td> <td>GC01   </td> <td>nan            </td> <td>nan            </td> <td>nan            </td> <td>Male  </td> <td>21  </td> <td>Undergraduate </td> <td>ECONOMICS   </td> <td>BSOS    </td> <td>White                    </td> <td>Hispanic No </td> <td>G4         </td> <td>Resident    </td>\n",
       "        </tr>\n",
       "    </tbody>\n",
       "        <tr>\n",
       "            <td>2022</td> <td>Summer</td> <td>ENGL391</td> <td>GC01   </td> <td>nan            </td> <td>nan            </td> <td>nan            </td> <td>Male  </td> <td>23  </td> <td>Undergraduate </td> <td>ART HISTORY </td> <td>ARHU    </td> <td>Hispanic                 </td> <td>Hispanic Yes</td> <td>US Citizen </td> <td>Resident    </td>\n",
       "        </tr>\n",
       "    </tbody>\n",
       "        <tr>\n",
       "            <td>2022</td> <td>Summer</td> <td>ENGL391</td> <td>GC01   </td> <td>nan            </td> <td>nan            </td> <td>nan            </td> <td>Male  </td> <td>22  </td> <td>Undergraduate </td> <td>GEO SCIENCES</td> <td>BSOS    </td> <td>Black or African American</td> <td>Hispanic No </td> <td>US Citizen </td> <td>Non-resident</td>\n",
       "        </tr>\n",
       "    </tbody>\n",
       "</table>\n",
       "<p>... (15 rows omitted)</p>"
      ],
      "text/plain": [
       "Year | Term   | Course  | Section | Cross listing 1 | Cross listing 2 | Cross listing 3 | Gender | Age  | Student Status | Major        | College  | Race                      | Ethnicity    | Citizenship | Residency\n",
       "2022 | Summer | ENGL391 | GC01    | nan             | nan             | nan             | Male   | 20   | Undergraduate  | INFO SYS     | BMGT     | Asian                     | Hispanic No  | US Citizen  | Resident\n",
       "2022 | Summer | ENGL391 | GC01    | nan             | nan             | nan             | Male   | 20   | Undergraduate  | MARKETING    | BMGT     | White                     | Hispanic No  | US Citizen  | Resident\n",
       "2022 | Summer | ENGL391 | GC01    | nan             | nan             | nan             | Male   | 19   | Undergraduate  | THEATRE      | ARHU     | White                     | Hispanic No  | US Citizen  | Non-resident\n",
       "2022 | Summer | ENGL391 | GC01    | nan             | nan             | nan             | Male   | 26   | Undergraduate  | CMSC DATASCI | CMNS     | Two or More               | Hispanic No  | US Citizen  | Resident\n",
       "2022 | Summer | ENGL391 | GC01    | nan             | nan             | nan             | Male   | 31   | Undergraduate  | LINGUISTICS  | ARHU     | Asian                     | Hispanic No  | US Citizen  | Resident\n",
       "2022 | Summer | ENGL391 | GC01    | nan             | nan             | nan             | Male   | 19   | Undergraduate  | CHEMISTRY    | CMNS     | White                     | Hispanic No  | US Citizen  | Resident\n",
       "2022 | Summer | ENGL391 | GC01    | nan             | nan             | nan             | Male   | 18   | Undergraduate  | ENGR-AEROSP  | ENGR     | White                     | Hispanic No  | US Citizen  | Resident\n",
       "2022 | Summer | ENGL391 | GC01    | nan             | nan             | nan             | Male   | 21   | Undergraduate  | ECONOMICS    | BSOS     | White                     | Hispanic No  | G4          | Resident\n",
       "2022 | Summer | ENGL391 | GC01    | nan             | nan             | nan             | Male   | 23   | Undergraduate  | ART HISTORY  | ARHU     | Hispanic                  | Hispanic Yes | US Citizen  | Resident\n",
       "2022 | Summer | ENGL391 | GC01    | nan             | nan             | nan             | Male   | 22   | Undergraduate  | GEO SCIENCES | BSOS     | Black or African American | Hispanic No  | US Citizen  | Non-resident\n",
       "... (15 rows omitted)"
      ]
     },
     "execution_count": 491,
     "metadata": {},
     "output_type": "execute_result"
    }
   ],
   "source": [
    "Twenty_TwentyTwo_Summer_M = tbl_8.where('Gender', are.equal_to('Male'))\n",
    "Twenty_TwentyTwo_Summer_M"
   ]
  },
  {
   "cell_type": "code",
   "execution_count": 492,
   "metadata": {},
   "outputs": [
    {
     "data": {
      "text/html": [
       "<table border=\"1\" class=\"dataframe\">\n",
       "    <thead>\n",
       "        <tr>\n",
       "            <th>Year</th> <th>Term</th> <th>Course</th> <th>Section</th> <th>Cross listing 1</th> <th>Cross listing 2</th> <th>Cross listing 3</th> <th>Gender</th> <th>Age</th> <th>Student Status</th> <th>Major </th> <th>College </th> <th>Race</th> <th>Ethnicity</th> <th>Citizenship</th> <th>Residency</th>\n",
       "        </tr>\n",
       "    </thead>\n",
       "    <tbody>\n",
       "        <tr>\n",
       "            <td>2022</td> <td>Summer</td> <td>ENGL391</td> <td>GC01   </td> <td>nan            </td> <td>nan            </td> <td>nan            </td> <td>Female</td> <td>21  </td> <td>Undergraduate </td> <td>NFSC DIET   </td> <td>AGNR    </td> <td>White   </td> <td>Hispanic No </td> <td>US Citizen </td> <td>Resident    </td>\n",
       "        </tr>\n",
       "    </tbody>\n",
       "        <tr>\n",
       "            <td>2022</td> <td>Summer</td> <td>ENGL391</td> <td>GC01   </td> <td>nan            </td> <td>nan            </td> <td>nan            </td> <td>Female</td> <td>21  </td> <td>Undergraduate </td> <td>BIO ENGR    </td> <td>ENGR    </td> <td>Asian   </td> <td>Hispanic No </td> <td>US Citizen </td> <td>Resident    </td>\n",
       "        </tr>\n",
       "    </tbody>\n",
       "        <tr>\n",
       "            <td>2022</td> <td>Summer</td> <td>ENGL391</td> <td>GC01   </td> <td>nan            </td> <td>nan            </td> <td>nan            </td> <td>Female</td> <td>21  </td> <td>Undergraduate </td> <td>NEURO MOLEC </td> <td>CMNS    </td> <td>Asian   </td> <td>Hispanic No </td> <td>US Citizen </td> <td>Resident    </td>\n",
       "        </tr>\n",
       "    </tbody>\n",
       "        <tr>\n",
       "            <td>2022</td> <td>Summer</td> <td>ENGL391</td> <td>GC01   </td> <td>nan            </td> <td>nan            </td> <td>nan            </td> <td>Female</td> <td>22  </td> <td>Undergraduate </td> <td>ENGLISH     </td> <td>ARHU    </td> <td>Hispanic</td> <td>Hispanic Yes</td> <td>US Citizen </td> <td>Resident    </td>\n",
       "        </tr>\n",
       "    </tbody>\n",
       "        <tr>\n",
       "            <td>2022</td> <td>Summer</td> <td>ENGL391</td> <td>GC01   </td> <td>nan            </td> <td>nan            </td> <td>nan            </td> <td>Female</td> <td>21  </td> <td>Undergraduate </td> <td>ENGLISH     </td> <td>ARHU    </td> <td>White   </td> <td>Hispanic No </td> <td>US Citizen </td> <td>Resident    </td>\n",
       "        </tr>\n",
       "    </tbody>\n",
       "        <tr>\n",
       "            <td>2022</td> <td>Summer</td> <td>ENGL391</td> <td>GC01   </td> <td>nan            </td> <td>nan            </td> <td>nan            </td> <td>Female</td> <td>24  </td> <td>Undergraduate </td> <td>PSYCHOLOGY  </td> <td>BSOS    </td> <td>White   </td> <td>Hispanic No </td> <td>US Citizen </td> <td>Non-resident</td>\n",
       "        </tr>\n",
       "    </tbody>\n",
       "        <tr>\n",
       "            <td>2022</td> <td>Summer</td> <td>ENGL391</td> <td>GC01   </td> <td>nan            </td> <td>nan            </td> <td>nan            </td> <td>Female</td> <td>19  </td> <td>Undergraduate </td> <td>LTSC        </td> <td>LTSC    </td> <td>Asian   </td> <td>Hispanic No </td> <td>US Citizen </td> <td>Resident    </td>\n",
       "        </tr>\n",
       "    </tbody>\n",
       "        <tr>\n",
       "            <td>2022</td> <td>Summer</td> <td>ENGL391</td> <td>GC02   </td> <td>nan            </td> <td>nan            </td> <td>nan            </td> <td>Female</td> <td>23  </td> <td>Undergraduate </td> <td>ART STUDIO  </td> <td>ARHU    </td> <td>Hispanic</td> <td>Hispanic Yes</td> <td>US Citizen </td> <td>Resident    </td>\n",
       "        </tr>\n",
       "    </tbody>\n",
       "        <tr>\n",
       "            <td>2022</td> <td>Summer</td> <td>ENGL391</td> <td>GC02   </td> <td>nan            </td> <td>nan            </td> <td>nan            </td> <td>Female</td> <td>22  </td> <td>Undergraduate </td> <td>LINGUISTICS </td> <td>ARHU    </td> <td>Asian   </td> <td>Hispanic No </td> <td>US Citizen </td> <td>Resident    </td>\n",
       "        </tr>\n",
       "    </tbody>\n",
       "        <tr>\n",
       "            <td>2022</td> <td>Summer</td> <td>ENGL391</td> <td>GC02   </td> <td>nan            </td> <td>nan            </td> <td>nan            </td> <td>Female</td> <td>20  </td> <td>Undergraduate </td> <td>ECONOMICS-BS</td> <td>BSOS    </td> <td>White   </td> <td>Hispanic No </td> <td>US Citizen </td> <td>Resident    </td>\n",
       "        </tr>\n",
       "    </tbody>\n",
       "</table>\n",
       "<p>... (10 rows omitted)</p>"
      ],
      "text/plain": [
       "Year | Term   | Course  | Section | Cross listing 1 | Cross listing 2 | Cross listing 3 | Gender | Age  | Student Status | Major        | College  | Race     | Ethnicity    | Citizenship | Residency\n",
       "2022 | Summer | ENGL391 | GC01    | nan             | nan             | nan             | Female | 21   | Undergraduate  | NFSC DIET    | AGNR     | White    | Hispanic No  | US Citizen  | Resident\n",
       "2022 | Summer | ENGL391 | GC01    | nan             | nan             | nan             | Female | 21   | Undergraduate  | BIO ENGR     | ENGR     | Asian    | Hispanic No  | US Citizen  | Resident\n",
       "2022 | Summer | ENGL391 | GC01    | nan             | nan             | nan             | Female | 21   | Undergraduate  | NEURO MOLEC  | CMNS     | Asian    | Hispanic No  | US Citizen  | Resident\n",
       "2022 | Summer | ENGL391 | GC01    | nan             | nan             | nan             | Female | 22   | Undergraduate  | ENGLISH      | ARHU     | Hispanic | Hispanic Yes | US Citizen  | Resident\n",
       "2022 | Summer | ENGL391 | GC01    | nan             | nan             | nan             | Female | 21   | Undergraduate  | ENGLISH      | ARHU     | White    | Hispanic No  | US Citizen  | Resident\n",
       "2022 | Summer | ENGL391 | GC01    | nan             | nan             | nan             | Female | 24   | Undergraduate  | PSYCHOLOGY   | BSOS     | White    | Hispanic No  | US Citizen  | Non-resident\n",
       "2022 | Summer | ENGL391 | GC01    | nan             | nan             | nan             | Female | 19   | Undergraduate  | LTSC         | LTSC     | Asian    | Hispanic No  | US Citizen  | Resident\n",
       "2022 | Summer | ENGL391 | GC02    | nan             | nan             | nan             | Female | 23   | Undergraduate  | ART STUDIO   | ARHU     | Hispanic | Hispanic Yes | US Citizen  | Resident\n",
       "2022 | Summer | ENGL391 | GC02    | nan             | nan             | nan             | Female | 22   | Undergraduate  | LINGUISTICS  | ARHU     | Asian    | Hispanic No  | US Citizen  | Resident\n",
       "2022 | Summer | ENGL391 | GC02    | nan             | nan             | nan             | Female | 20   | Undergraduate  | ECONOMICS-BS | BSOS     | White    | Hispanic No  | US Citizen  | Resident\n",
       "... (10 rows omitted)"
      ]
     },
     "execution_count": 492,
     "metadata": {},
     "output_type": "execute_result"
    }
   ],
   "source": [
    "Twenty_TwentyTwo_Summer_F = tbl_8.where('Gender', are.equal_to('Female'))\n",
    "Twenty_TwentyTwo_Summer_F "
   ]
  },
  {
   "cell_type": "code",
   "execution_count": 493,
   "metadata": {},
   "outputs": [
    {
     "name": "stdout",
     "output_type": "stream",
     "text": [
      "25\n",
      "20\n",
      "45\n"
     ]
    }
   ],
   "source": [
    "Twenty_TwentyTwo_Summer_M_Total= Twenty_TwentyTwo_Summer_M.num_rows\n",
    "Twenty_TwentyTwo_Summer_F_Total = Twenty_TwentyTwo_Summer_F.num_rows\n",
    "Twenty_TwentyTwo_Summer_Total = Twenty_TwentyTwo_Summer_M_Total + Twenty_TwentyTwo_Summer_F_Total\n",
    "\n",
    "print(Twenty_TwentyTwo_Summer_M_Total)\n",
    "print(Twenty_TwentyTwo_Summer_F_Total)\n",
    "print(Twenty_TwentyTwo_Summer_Total)"
   ]
  },
  {
   "cell_type": "markdown",
   "metadata": {},
   "source": [
    "25 Males enrolled Summer 22, 20 Females enrolled Summer 22, 45 enrolled total Summer 22"
   ]
  },
  {
   "cell_type": "code",
   "execution_count": 494,
   "metadata": {},
   "outputs": [
    {
     "name": "stdout",
     "output_type": "stream",
     "text": [
      "55.55555555555556 %\n"
     ]
    }
   ],
   "source": [
    "Percent_M_Enrolled_S22= (Twenty_TwentyTwo_Summer_M_Total/Twenty_TwentyTwo_Summer_Total)*100\n",
    "print(Percent_M_Enrolled_S22,'%')"
   ]
  },
  {
   "cell_type": "code",
   "execution_count": 495,
   "metadata": {},
   "outputs": [
    {
     "name": "stdout",
     "output_type": "stream",
     "text": [
      "44.44444444444444 %\n"
     ]
    }
   ],
   "source": [
    "Percent_F_Enrolled_S22=(Twenty_TwentyTwo_Summer_F_Total/Twenty_TwentyTwo_Summer_Total)*100\n",
    "print(Percent_F_Enrolled_S22,'%')"
   ]
  },
  {
   "cell_type": "code",
   "execution_count": 496,
   "metadata": {
    "scrolled": true
   },
   "outputs": [
    {
     "name": "stdout",
     "output_type": "stream",
     "text": [
      "summer 2021 enrollment > than summer 2022\n"
     ]
    }
   ],
   "source": [
    "if(Twenty_TwentyTwo_Summer_Total >Twenty_TwentyOne_Summer_Total): print(\"summer 2022 enrollment is: \",Twenty_TwentyTwo_Summer_Total, \"summer 2021 enrollment is: \",Twenty_TwentyOne_Summer_Total )\n",
    "else: print(\"summer 2021 enrollment > than summer 2022\")"
   ]
  },
  {
   "cell_type": "markdown",
   "metadata": {},
   "source": [
    "percentages arrays"
   ]
  },
  {
   "cell_type": "code",
   "execution_count": 497,
   "metadata": {},
   "outputs": [
    {
     "data": {
      "text/plain": [
       "array(['Male', 'Female'], dtype='<U6')"
      ]
     },
     "execution_count": 497,
     "metadata": {},
     "output_type": "execute_result"
    }
   ],
   "source": [
    "Enrollment_Classification = make_array(\"Male\", \"Female\")\n",
    "Enrollment_Classification"
   ]
  },
  {
   "cell_type": "code",
   "execution_count": 498,
   "metadata": {},
   "outputs": [
    {
     "data": {
      "text/plain": [
       "array([42.33576642, 57.66423358])"
      ]
     },
     "execution_count": 498,
     "metadata": {},
     "output_type": "execute_result"
    }
   ],
   "source": [
    "F20_Array = make_array(42.33576642335766, 57.66423357664233)\n",
    "F20_Array"
   ]
  },
  {
   "cell_type": "code",
   "execution_count": 499,
   "metadata": {},
   "outputs": [
    {
     "data": {
      "text/plain": [
       "array([46.55172414, 53.44827586])"
      ]
     },
     "execution_count": 499,
     "metadata": {},
     "output_type": "execute_result"
    }
   ],
   "source": [
    "W21_Array = make_array(46.55172413793103, 53.44827586206896)\n",
    "W21_Array"
   ]
  },
  {
   "cell_type": "code",
   "execution_count": 500,
   "metadata": {},
   "outputs": [
    {
     "data": {
      "text/plain": [
       "array([26.5625, 73.4375])"
      ]
     },
     "execution_count": 500,
     "metadata": {},
     "output_type": "execute_result"
    }
   ],
   "source": [
    "SP21_Array = make_array(26.5625,73.4375)\n",
    "SP21_Array"
   ]
  },
  {
   "cell_type": "code",
   "execution_count": 501,
   "metadata": {},
   "outputs": [
    {
     "data": {
      "text/plain": [
       "array([26.5625, 73.4375])"
      ]
     },
     "execution_count": 501,
     "metadata": {},
     "output_type": "execute_result"
    }
   ],
   "source": [
    "S21_Array = make_array(26.5625,73.4375)\n",
    "S21_Array"
   ]
  },
  {
   "cell_type": "code",
   "execution_count": 502,
   "metadata": {},
   "outputs": [
    {
     "data": {
      "text/plain": [
       "array([37.71626298, 62.28373702])"
      ]
     },
     "execution_count": 502,
     "metadata": {},
     "output_type": "execute_result"
    }
   ],
   "source": [
    "F21_Array= make_array(37.71626297577855, 62.28373702422145)\n",
    "F21_Array"
   ]
  },
  {
   "cell_type": "code",
   "execution_count": 503,
   "metadata": {},
   "outputs": [
    {
     "data": {
      "text/plain": [
       "array([39.75903614, 60.24096386])"
      ]
     },
     "execution_count": 503,
     "metadata": {},
     "output_type": "execute_result"
    }
   ],
   "source": [
    "W22_Array = make_array(39.75903614457831, 60.24096385542169)\n",
    "W22_Array"
   ]
  },
  {
   "cell_type": "code",
   "execution_count": 504,
   "metadata": {},
   "outputs": [
    {
     "data": {
      "text/plain": [
       "array([47.91666667, 52.08333333])"
      ]
     },
     "execution_count": 504,
     "metadata": {},
     "output_type": "execute_result"
    }
   ],
   "source": [
    "SP22_Array = make_array(47.91666666666667, 52.083333333333336)\n",
    "SP22_Array"
   ]
  },
  {
   "cell_type": "code",
   "execution_count": 505,
   "metadata": {},
   "outputs": [
    {
     "data": {
      "text/plain": [
       "array([55.55555556, 44.44444444])"
      ]
     },
     "execution_count": 505,
     "metadata": {},
     "output_type": "execute_result"
    }
   ],
   "source": [
    "S22_Array = make_array(55.55555555555556,44.44444444444444)\n",
    "S22_Array"
   ]
  },
  {
   "cell_type": "code",
   "execution_count": 506,
   "metadata": {},
   "outputs": [
    {
     "data": {
      "text/html": [
       "<table border=\"1\" class=\"dataframe\">\n",
       "    <thead>\n",
       "        <tr>\n",
       "            <th>Gender</th> <th>Fall 2020</th>\n",
       "        </tr>\n",
       "    </thead>\n",
       "    <tbody>\n",
       "        <tr>\n",
       "            <td>Male  </td> <td>42.3358  </td>\n",
       "        </tr>\n",
       "    </tbody>\n",
       "        <tr>\n",
       "            <td>Female</td> <td>57.6642  </td>\n",
       "        </tr>\n",
       "    </tbody>\n",
       "</table>"
      ],
      "text/plain": [
       "Gender | Fall 2020\n",
       "Male   | 42.3358\n",
       "Female | 57.6642"
      ]
     },
     "execution_count": 506,
     "metadata": {},
     "output_type": "execute_result"
    }
   ],
   "source": [
    "Fall_20 = Table().with_columns(\"Gender\", Enrollment_Classification, \"Fall 2020\", F20_Array)\n",
    "Fall_20"
   ]
  },
  {
   "cell_type": "code",
   "execution_count": 507,
   "metadata": {},
   "outputs": [
    {
     "data": {
      "image/png": "[encoded data removed]",
      "text/plain": [
       "<matplotlib.figure.Figure at 0x7f7baf11cb00>"
      ]
     },
     "metadata": {},
     "output_type": "display_data"
    }
   ],
   "source": [
    "Fall_20.barh(\"Gender\", \"Fall 2020\")"
   ]
  },
  {
   "cell_type": "code",
   "execution_count": 508,
   "metadata": {},
   "outputs": [
    {
     "data": {
      "text/html": [
       "<table border=\"1\" class=\"dataframe\">\n",
       "    <thead>\n",
       "        <tr>\n",
       "            <th>Gender</th> <th>Winter 2021</th>\n",
       "        </tr>\n",
       "    </thead>\n",
       "    <tbody>\n",
       "        <tr>\n",
       "            <td>Male  </td> <td>46.5517    </td>\n",
       "        </tr>\n",
       "    </tbody>\n",
       "        <tr>\n",
       "            <td>Female</td> <td>53.4483    </td>\n",
       "        </tr>\n",
       "    </tbody>\n",
       "</table>"
      ],
      "text/plain": [
       "Gender | Winter 2021\n",
       "Male   | 46.5517\n",
       "Female | 53.4483"
      ]
     },
     "execution_count": 508,
     "metadata": {},
     "output_type": "execute_result"
    }
   ],
   "source": [
    "Winter_21 = Table().with_columns(\"Gender\", Enrollment_Classification, \"Winter 2021\", W21_Array)\n",
    "Winter_21"
   ]
  },
  {
   "cell_type": "code",
   "execution_count": 509,
   "metadata": {},
   "outputs": [
    {
     "data": {
      "image/png": "[encoded data removed]",
      "text/plain": [
       "<matplotlib.figure.Figure at 0x7f7baf1b3be0>"
      ]
     },
     "metadata": {},
     "output_type": "display_data"
    }
   ],
   "source": [
    "Winter_21.barh(\"Gender\", \"Winter 2021\")"
   ]
  },
  {
   "cell_type": "code",
   "execution_count": 510,
   "metadata": {},
   "outputs": [
    {
     "data": {
      "text/html": [
       "<table border=\"1\" class=\"dataframe\">\n",
       "    <thead>\n",
       "        <tr>\n",
       "            <th>Gender</th> <th>Spring 2021</th>\n",
       "        </tr>\n",
       "    </thead>\n",
       "    <tbody>\n",
       "        <tr>\n",
       "            <td>Male  </td> <td>26.5625    </td>\n",
       "        </tr>\n",
       "    </tbody>\n",
       "        <tr>\n",
       "            <td>Female</td> <td>73.4375    </td>\n",
       "        </tr>\n",
       "    </tbody>\n",
       "</table>"
      ],
      "text/plain": [
       "Gender | Spring 2021\n",
       "Male   | 26.5625\n",
       "Female | 73.4375"
      ]
     },
     "execution_count": 510,
     "metadata": {},
     "output_type": "execute_result"
    }
   ],
   "source": [
    "Spring_21 = Table().with_columns(\"Gender\", Enrollment_Classification, \"Spring 2021\", SP21_Array)\n",
    "Spring_21"
   ]
  },
  {
   "cell_type": "code",
   "execution_count": 511,
   "metadata": {},
   "outputs": [
    {
     "data": {
      "image/png": "[encoded data removed]",
      "text/plain": [
       "<matplotlib.figure.Figure at 0x7f7baf27ebe0>"
      ]
     },
     "metadata": {},
     "output_type": "display_data"
    }
   ],
   "source": [
    "Spring_21.barh(\"Gender\", \"Spring 2021\")"
   ]
  },
  {
   "cell_type": "code",
   "execution_count": 512,
   "metadata": {},
   "outputs": [
    {
     "data": {
      "text/html": [
       "<table border=\"1\" class=\"dataframe\">\n",
       "    <thead>\n",
       "        <tr>\n",
       "            <th>Gender</th> <th>Summer 2021</th>\n",
       "        </tr>\n",
       "    </thead>\n",
       "    <tbody>\n",
       "        <tr>\n",
       "            <td>Male  </td> <td>26.5625    </td>\n",
       "        </tr>\n",
       "    </tbody>\n",
       "        <tr>\n",
       "            <td>Female</td> <td>73.4375    </td>\n",
       "        </tr>\n",
       "    </tbody>\n",
       "</table>"
      ],
      "text/plain": [
       "Gender | Summer 2021\n",
       "Male   | 26.5625\n",
       "Female | 73.4375"
      ]
     },
     "execution_count": 512,
     "metadata": {},
     "output_type": "execute_result"
    }
   ],
   "source": [
    "Summer_21 = Table().with_column(\"Gender\", Enrollment_Classification, \"Summer 2021\", S21_Array)\n",
    "Summer_21"
   ]
  },
  {
   "cell_type": "code",
   "execution_count": 513,
   "metadata": {},
   "outputs": [
    {
     "data": {
      "image/png": "[encoded data removed]",
      "text/plain": [
       "<matplotlib.figure.Figure at 0x7f7bb1c75cf8>"
      ]
     },
     "metadata": {},
     "output_type": "display_data"
    }
   ],
   "source": [
    "Summer_21.barh(\"Gender\", \"Summer 2021\")"
   ]
  },
  {
   "cell_type": "code",
   "execution_count": 514,
   "metadata": {},
   "outputs": [
    {
     "data": {
      "text/html": [
       "<table border=\"1\" class=\"dataframe\">\n",
       "    <thead>\n",
       "        <tr>\n",
       "            <th>Gender</th> <th>Fall 2021</th>\n",
       "        </tr>\n",
       "    </thead>\n",
       "    <tbody>\n",
       "        <tr>\n",
       "            <td>Male  </td> <td>37.7163  </td>\n",
       "        </tr>\n",
       "    </tbody>\n",
       "        <tr>\n",
       "            <td>Female</td> <td>62.2837  </td>\n",
       "        </tr>\n",
       "    </tbody>\n",
       "</table>"
      ],
      "text/plain": [
       "Gender | Fall 2021\n",
       "Male   | 37.7163\n",
       "Female | 62.2837"
      ]
     },
     "execution_count": 514,
     "metadata": {},
     "output_type": "execute_result"
    }
   ],
   "source": [
    "Fall_21 = Table().with_columns(\"Gender\", Enrollment_Classification, \"Fall 2021\", F21_Array)\n",
    "Fall_21"
   ]
  },
  {
   "cell_type": "code",
   "execution_count": 515,
   "metadata": {},
   "outputs": [
    {
     "data": {
      "image/png": "[encoded data removed]",
      "text/plain": [
       "<matplotlib.figure.Figure at 0x7f7bae9e7208>"
      ]
     },
     "metadata": {},
     "output_type": "display_data"
    }
   ],
   "source": [
    "Fall_21.barh(\"Gender\", \"Fall 2021\")"
   ]
  },
  {
   "cell_type": "code",
   "execution_count": 516,
   "metadata": {},
   "outputs": [
    {
     "data": {
      "text/html": [
       "<table border=\"1\" class=\"dataframe\">\n",
       "    <thead>\n",
       "        <tr>\n",
       "            <th>Gender</th> <th>Winter 2022</th>\n",
       "        </tr>\n",
       "    </thead>\n",
       "    <tbody>\n",
       "        <tr>\n",
       "            <td>Male  </td> <td>39.759     </td>\n",
       "        </tr>\n",
       "    </tbody>\n",
       "        <tr>\n",
       "            <td>Female</td> <td>60.241     </td>\n",
       "        </tr>\n",
       "    </tbody>\n",
       "</table>"
      ],
      "text/plain": [
       "Gender | Winter 2022\n",
       "Male   | 39.759\n",
       "Female | 60.241"
      ]
     },
     "execution_count": 516,
     "metadata": {},
     "output_type": "execute_result"
    }
   ],
   "source": [
    "Winter_22 = Table(). with_columns(\"Gender\", Enrollment_Classification, \"Winter 2022\", W22_Array)\n",
    "Winter_22"
   ]
  },
  {
   "cell_type": "code",
   "execution_count": 517,
   "metadata": {},
   "outputs": [
    {
     "data": {
      "image/png": "[encoded data removed]",
      "text/plain": [
       "<matplotlib.figure.Figure at 0x7f7bb1c52b70>"
      ]
     },
     "metadata": {},
     "output_type": "display_data"
    }
   ],
   "source": [
    "Winter_22.barh(\"Gender\", \"Winter 2022\")"
   ]
  },
  {
   "cell_type": "code",
   "execution_count": 518,
   "metadata": {},
   "outputs": [
    {
     "data": {
      "text/html": [
       "<table border=\"1\" class=\"dataframe\">\n",
       "    <thead>\n",
       "        <tr>\n",
       "            <th>Gender</th> <th>Spring 2022</th>\n",
       "        </tr>\n",
       "    </thead>\n",
       "    <tbody>\n",
       "        <tr>\n",
       "            <td>Male  </td> <td>47.9167    </td>\n",
       "        </tr>\n",
       "    </tbody>\n",
       "        <tr>\n",
       "            <td>Female</td> <td>52.0833    </td>\n",
       "        </tr>\n",
       "    </tbody>\n",
       "</table>"
      ],
      "text/plain": [
       "Gender | Spring 2022\n",
       "Male   | 47.9167\n",
       "Female | 52.0833"
      ]
     },
     "execution_count": 518,
     "metadata": {},
     "output_type": "execute_result"
    }
   ],
   "source": [
    "Spring_22 = Table().with_columns(\"Gender\", Enrollment_Classification, \"Spring 2022\", SP22_Array)\n",
    "Spring_22"
   ]
  },
  {
   "cell_type": "code",
   "execution_count": 519,
   "metadata": {},
   "outputs": [
    {
     "data": {
      "image/png": "[encoded data removed]",
      "text/plain": [
       "<matplotlib.figure.Figure at 0x7f7baf1d8f98>"
      ]
     },
     "metadata": {},
     "output_type": "display_data"
    }
   ],
   "source": [
    "Spring_22.barh(\"Gender\", \"Spring 2022\")"
   ]
  },
  {
   "cell_type": "code",
   "execution_count": 520,
   "metadata": {},
   "outputs": [
    {
     "data": {
      "text/html": [
       "<table border=\"1\" class=\"dataframe\">\n",
       "    <thead>\n",
       "        <tr>\n",
       "            <th>Gender</th> <th>Summer 2022</th>\n",
       "        </tr>\n",
       "    </thead>\n",
       "    <tbody>\n",
       "        <tr>\n",
       "            <td>Male  </td> <td>55.5556    </td>\n",
       "        </tr>\n",
       "    </tbody>\n",
       "        <tr>\n",
       "            <td>Female</td> <td>44.4444    </td>\n",
       "        </tr>\n",
       "    </tbody>\n",
       "</table>"
      ],
      "text/plain": [
       "Gender | Summer 2022\n",
       "Male   | 55.5556\n",
       "Female | 44.4444"
      ]
     },
     "execution_count": 520,
     "metadata": {},
     "output_type": "execute_result"
    }
   ],
   "source": [
    "Summer_22 = Table().with_columns(\"Gender\", Enrollment_Classification, \"Summer 2022\", S22_Array)\n",
    "Summer_22"
   ]
  },
  {
   "cell_type": "code",
   "execution_count": 521,
   "metadata": {},
   "outputs": [
    {
     "data": {
      "image/png": "[encoded data removed]",
      "text/plain": [
       "<matplotlib.figure.Figure at 0x7f7bb1c52978>"
      ]
     },
     "metadata": {},
     "output_type": "display_data"
    }
   ],
   "source": [
    "Summer_22.barh(\"Gender\", \"Summer 2022\")"
   ]
  },
  {
   "cell_type": "code",
   "execution_count": null,
   "metadata": {},
   "outputs": [],
   "source": []
  },
  {
   "cell_type": "code",
   "execution_count": null,
   "metadata": {},
   "outputs": [],
   "source": []
  },
  {
   "cell_type": "code",
   "execution_count": null,
   "metadata": {},
   "outputs": [],
   "source": []
  },
  {
   "cell_type": "code",
   "execution_count": null,
   "metadata": {},
   "outputs": [],
   "source": []
  }
 ],
 "metadata": {
  "kernelspec": {
   "display_name": "Python 3",
   "language": "python",
   "name": "python3"
  },
  "language_info": {
   "codemirror_mode": {
    "name": "ipython",
    "version": 3
   },
   "file_extension": ".py",
   "mimetype": "text/x-python",
   "name": "python",
   "nbconvert_exporter": "python",
   "pygments_lexer": "ipython3",
   "version": "3.6.5"
  }
 },
 "nbformat": 4,
 "nbformat_minor": 2
}
